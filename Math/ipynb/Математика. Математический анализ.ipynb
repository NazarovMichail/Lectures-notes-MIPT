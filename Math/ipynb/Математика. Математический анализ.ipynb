{
 "cells": [
  {
   "cell_type": "markdown",
   "metadata": {},
   "source": [
    "#  <a id=1>Математический анализ\n",
    "<img src='img/plot.gif' width=1000>\n",
    "\n",
    "\n",
    "## <a id=cont>Содержание</a>\n",
    "- [Дифференцирование функций одной переменной](#1)\n",
    "- [Правила дифференцирования](#2)\n",
    "- [Частные производные и градиенты](#3)\n",
    "- [Градиенты векторнозначных функций. Якобианы](#4)\n",
    "- [Градиенты матриц](#5)\n",
    "- [Тождества для вычисления градиентов](#6)\n",
    "- [Автоматическое дифференцирование](#7)\n",
    "- [Производные высших порядков](#8)\n",
    "- [Ряды Тейлора для нескольких переменных](#9)\n",
    "\n"
   ]
  },
  {
   "cell_type": "markdown",
   "metadata": {},
   "source": [
    "___\n",
    "## <a id =1>Дифференцирование функций одной переменной</a>\n",
    "`Разностное отношение` - тангенс угла наклона секущей, проходящей через две точки графика $x_0$ и $x_0 + \\delta x$ :\n",
    "\n",
    "### $\\frac{\\delta y}{\\delta x} = \\frac{f(x + \\delta x) - f(x)}{\\delta x}$\n",
    "\n",
    "`Производная` функции в точке $x$ - предел:\n",
    "\n",
    "### $ \\frac{d y}{d x} = \\lim \\limits_{h \\rightarrow 0} \\frac{f(x + h) - f(x)}{h}$\n"
   ]
  },
  {
   "cell_type": "code",
   "execution_count": 1,
   "metadata": {},
   "outputs": [
    {
     "name": "stdout",
     "output_type": "stream",
     "text": [
      "Производная функции x**4 - x**2 + 3:\n",
      " 4*x**3 - 2*x \n",
      " в точке 3:\n",
      "102\n"
     ]
    }
   ],
   "source": [
    "import sympy as sp\n",
    "\n",
    "x = sp.Symbol('x')\n",
    "f = x**4 - x**2 + 3\n",
    "\n",
    "dy_dx = sp.diff(f,x)\n",
    "x0 = 3\n",
    "value = dy_dx.subs(x,x0)\n",
    "\n",
    "print(f'Производная функции {f}:\\n {dy_dx} \\n в точке {x0}:\\n{value}')"
   ]
  },
  {
   "cell_type": "markdown",
   "metadata": {},
   "source": [
    "___\n",
    "`Многочлен Тейлора` степени $n$:\n",
    "\n",
    "#### $T_n(x) = \\sum \\limits^{n} \\frac{f^{(k)}(x_0)}{k!}(x - x_0)^k$, где\n",
    "- $f^{(k)}(x_0)$ : $k$-я производная функции $f$ в точке $x_0$\n",
    "- $\\frac{f^{(k)}(x_0)}{k!}$ : коэффициенты многочлена\n",
    "\n",
    "`Ряд Тейлора` - представление функции $f$ в виде `бесконечной` суммы,   \n",
    "члены суммы определены через `производные` функции $f$ в точке $x_0$:\n",
    "\n",
    "#### $T_{\\infty}(x) = \\sum \\limits^{\\infty}\\frac{f^{(k)}(x_0)}{k!}(x - x_0)^k$"
   ]
  },
  {
   "cell_type": "markdown",
   "metadata": {},
   "source": [
    "___\n",
    "### _`ПРИМЕР`_\n",
    "\n",
    "Для функции:\n",
    "\n",
    "$f(x) = sin(x) + cos(x)$\n",
    "\n",
    "1) `Производные` функции в точке $x_0 = 0$:\n",
    "\n",
    "- $f(0) = sin(0) + cos(0) = 1$\n",
    "- $f'(0) = cos(0) - sin(0) = 1$\n",
    "- $f''(0) = -sin(0) - cos(0) = -1$\n",
    "- $f^{(3)}(0) = -cos(0) + sin(0) = -1$\n",
    "- $f^{(4)}(0) = sin(0) + cos(0)  = 1= f(0)$\n",
    "\n",
    "2) `Разложение` в ряд Тейлора:\n",
    "\n",
    "$T_{\\infty}(x) = \\sum \\limits^{\\infty}\\frac{f^{(k)}(x_0)}{k!}(x - x_0)^k =$\n",
    "\n",
    "$1 + x - \\frac{1}{2!}x^2 - \\frac{1}{3!}x^3 + \\frac{1}{4!}x^4 + \\frac{1}{5!} - ...$\n",
    "\n",
    "Многочлены тейлора более высоких порядков все точнее и на большем участке приближают к исходной функции\n",
    "\n",
    "<img src='img/teilor.jpg' width=400>\n"
   ]
  },
  {
   "cell_type": "markdown",
   "metadata": {},
   "source": [
    "___\n",
    "## <a id =2>Правила дифференцирования</a>\n",
    "\n",
    "<img src='img/diff.jpg' width=600>\n"
   ]
  },
  {
   "cell_type": "markdown",
   "metadata": {},
   "source": [
    "___\n",
    "### _`ПРИМЕР`_\n",
    "Для функции $h(x)$:\n",
    "\n",
    "$h(x) = (2x + 1)^4 = g(f(x)) $\n",
    "\n",
    "`Производная`:\n",
    "\n",
    "$h'(x) = (g \\circ f)' (x) = g'(f(x)) \\cdot f'(x)$\n",
    "- $f(x) = 2x + 1$\n",
    "    - $f'(x) = 2$\n",
    "- $g(f) = f^4$\n",
    "    -  $g'(f) = 4f^3$\n",
    "\n",
    "- $h'(x) = g'(f) \\cdot f'(x) = (4f^3) \\cdot 2 = 8(2x + 1)^3 $\n"
   ]
  },
  {
   "cell_type": "markdown",
   "metadata": {},
   "source": [
    "___\n",
    "## <a id =3>Частные производные и градиенты</a>\n",
    "\n",
    "`Градиент` (матрица Якоби функции $f$):\n",
    "\n",
    "#### $\\nabla f = \\frac{df}{d\\hat{x}} = [ \\frac{\\partial f}{\\partial x_1}  \\frac{\\partial f}{\\partial x_2} ... \\frac{\\partial f}{\\partial x_n}]$, где\n",
    "\n",
    "- $n$ : кол-во переменных\n",
    "- $\\hat{x}$ : вектор $x = \\begin  {pmatrix}x_1\\\\ \\vdots \\\\x_n\\\\ \\end{pmatrix}$"
   ]
  },
  {
   "cell_type": "markdown",
   "metadata": {},
   "source": [
    "___\n",
    "### _`ПРИМЕР`_\n",
    "\n",
    "Для функции $f (x_1, x_2) = x_1^2x_2 + x_1 x_2^3$\n",
    "\n",
    "- `Частная производная` относительно $x_1$ и $x_2$:\n",
    "\n",
    "    - $ \\frac{\\partial f(x_1, x_2)}{\\partial x_1} = 2x_1x_2 + x_2^3 $\n",
    "    \n",
    "    - $ \\frac{\\partial f(x_1, x_2)}{\\partial x_2} = x_1^2 + 3x_1x_2^2 $\n",
    "\n",
    "- `Градиент`:\n",
    "    -  $\\nabla f(x_1, x_2) = [ \\frac{\\partial f(x_1, x_2)}{\\partial x_1} \\ \\ \\ \\frac{\\partial f(x_1, x_2)}{\\partial x_2}] = [2x_1x_2 + x_2^3 \\ \\ \\ x_1^2 + 3x_1x_2^2]$\n",
    "___"
   ]
  },
  {
   "cell_type": "code",
   "execution_count": 2,
   "metadata": {},
   "outputs": [
    {
     "name": "stdout",
     "output_type": "stream",
     "text": [
      "Градиент :[2*x1*x2 + x2**3 ; x1**2 + 3*x1*x2**2]\n"
     ]
    }
   ],
   "source": [
    "x1, x2 = sp.symbols('x1 x2')\n",
    "f = (x1**2)*x2 + x1*x2**3\n",
    "\n",
    "diff_x1 = sp.diff(f, x1)\n",
    "diff_x2 = sp.diff(f, x2)\n",
    "\n",
    "print(f'Градиент :[{diff_x1} ; {diff_x2}]')\n",
    "\n"
   ]
  },
  {
   "cell_type": "markdown",
   "metadata": {},
   "source": [
    "`Правила взятия частных производных`\n",
    "\n",
    "<img src='img/partdiff.jpg' width=600>\n",
    "\n",
    "`Градиенты функции` \n",
    "\n",
    "| Переменные функции $f$| Градиент |\n",
    "|:---:|:---:|\n",
    "| Числа $(x_1,... x_n)$| $ \\frac{d f}{d x} = [ \\frac{\\partial f}{\\partial x_1} \\ \\ \\ \\frac{\\partial f}{\\partial x_2} \\ \\ \\ ... \\frac{\\partial f}{\\partial x_n}]$ |\n",
    "| Функции с одной пременной $(x_1(t),... x_n(t))$ | $\\frac{df}{dt} = [ \\frac{\\partial f}{\\partial x_1} \\ \\ \\ ...\\ \\ \\   \\frac{\\partial f}{\\partial x_n} ] \\cdot  \\begin  {bmatrix}\\frac{\\partial x_1(t)}{\\partial t} \\\\ \\vdots \\\\\\frac{\\partial x_n(t)}{\\partial t} \\end{bmatrix} =  \\frac{\\partial f}{\\partial x_1} \\cdot \\frac{\\partial x_1(t)}{\\partial t} + ... + \\frac{\\partial f}{\\partial x_n} \\cdot \\frac{\\partial x_n(t)}{\\partial t}$\n",
    "| Функции с несколькими переменными $(x_1(s,t),... x_n(s, t))$ | $\\frac{df}{(s, t)} = [ \\frac{\\partial f}{\\partial x_1} \\ \\ \\  ... \\ \\ \\ \\frac{\\partial f}{\\partial x_n} ] \\cdot  \\begin  {bmatrix}\\frac{\\partial x_1(s)}{\\partial s} & \\frac{\\partial x_1(t)}{\\partial t} \\\\ \\vdots & \\vdots \\\\\\frac{\\partial x_n(s)}{\\partial s} & \\frac{\\partial x_n(t)}{\\partial t}\\end{bmatrix}$\n",
    "\n"
   ]
  },
  {
   "cell_type": "markdown",
   "metadata": {},
   "source": [
    "___\n",
    "## <a id =4>Градиенты векторнозначных функций. Якобианы</a>\n",
    "\n",
    "`Векторнозначная функция` $\\=f$ - вектор из функций, принимающих вещественные значения\n",
    "\n",
    "$\\=f = \\begin  {bmatrix}f_1\\\\ \\vdots \\\\f_n\\\\ \\end{bmatrix}$\n",
    "\n",
    "`Градиент` векторнозначной функции:\n",
    "\n",
    "#### $\\frac{d \\=f(x)}{d x} = [ \\frac{\\partial \\=f(x)}{\\partial x_1}  \\ \\ \\ ... \\ \\  \\frac{\\partial \\=f(x)}{\\partial x_n } ] = \\begin  {bmatrix}\\frac{\\partial f_1(x)}{\\partial x_1} & \\dots & \\frac{\\partial f_1(x)}{\\partial x_n} \\\\ \\vdots & \\ & \\vdots \\\\\\frac{\\partial f_m(x)}{\\partial x_1} & \\dots & \\frac{\\partial f_m(t)}{\\partial x_n}\\end{bmatrix}$\n",
    "\n",
    "`Матрица Якоби` - матрица всех частных производных первого порядка векторнозначной функции $\\=f$:\n",
    "\n",
    "#### $J = \\nabla_x \\=f = \\frac{d \\=f(x)}{d x} = [ \\frac{\\partial \\=f(x)}{\\partial x_1}  \\ \\ \\ ... \\ \\  \\frac{\\partial \\=f(x)}{\\partial x_n } ] = \\begin  {bmatrix}\\frac{\\partial f_1(x)}{\\partial x_1} & \\dots & \\frac{\\partial f_1(x)}{\\partial x_n} \\\\ \\vdots & \\ & \\vdots \\\\\\frac{\\partial f_m(x)}{\\partial x_1} & \\dots & \\frac{\\partial f_m(x)}{\\partial x_n}\\end{bmatrix}$\n",
    "\n",
    "- Матрица Якоби описывает преобразование координат и является точнм, если преобразование координат линейно.   \n",
    "Если преобразование координат не линейно, то матрица  Якоби локально приближает его \n",
    "\n",
    "- Абсолютная величина якобиана $|det J|$ - множитель, на который изменится площадь или объем при замене координат"
   ]
  },
  {
   "cell_type": "markdown",
   "metadata": {},
   "source": [
    "___\n",
    "### _`ПРИМЕР`_\n",
    "\n",
    "`Функция` линейной модели:\n",
    "\n",
    "$\\=y = \\Phi \\cdot\\Theta$, где\n",
    "- $\\Phi$ : признаки\n",
    "- $\\Theta$ : вектор параметров\n",
    "- $\\=y$ : вектор наблюдений\n",
    "\n",
    "`Кадратичная функция потерь`:\n",
    "\n",
    "$L(e) = ||\\=e||^2 = (\\sqrt{\\=e^T \\cdot \\=e})^2 = \\=e^T \\cdot \\=e$ : `квадрат` нормы вектора, где\n",
    "- $\\=e = \\=y - \\Phi \\cdot\\Theta$ : вектор разности между наблюдаемыми значениями и значениями модели\n",
    "\n",
    "Необходимо определить как `меняется` функция потерь $L$   \n",
    "при `изменении` значений вектора параметров $\\Theta$ т.е найти:\n",
    "\n",
    "#### $\\frac{\\partial L}{\\partial \\Theta}$ :\n",
    "- #### $\\frac{\\partial L}{\\partial \\Theta} = \\frac{\\partial L}{\\partial \\=e} \\cdot \\frac{\\partial \\=e}{\\partial \\Theta}$\n",
    "    - #### $\\frac{\\partial L}{\\partial \\=e} = 2 \\=e^T$\n",
    "    - #### $\\frac{\\partial \\=e}{\\partial \\Theta} =  - \\Phi$\n",
    "#### $\\frac{\\partial L}{\\partial \\Theta} = -2 \\=e^T \\cdot \\Phi = -2(y^T - \\Theta^T \\cdot \\Phi^T) \\cdot \\Phi$"
   ]
  },
  {
   "cell_type": "markdown",
   "metadata": {},
   "source": [
    "___\n",
    "## <a id =5>Градиенты матриц</a>\n",
    "\n",
    "`Градиент матрицы` относительно вектора -  многомерный массив (тензор) частных производных.\n",
    "\n",
    "___\n",
    "### _`ПРИМЕР`_\n",
    "\n",
    "Градиент матрицы $A \\in R^{4 \\times 2}$   \n",
    "относительно вектора $x \\in R^{3}$   \n",
    "\n",
    "<img src='img/diffA1.jpg' width=300>\n",
    "\n",
    "- Преобразование матрицы в вектор\n",
    "\n",
    "    - $A\\in R^{4 \\times 2} \\rightarrow \\~A\\in R^{8}$\n",
    "    \n",
    "    - $\\begin  {bmatrix} A_{11} &A_{12}\\\\ \\vdots  & \\vdots \\\\A_{41} &  A_{42}\\end{bmatrix} \\rightarrow \\begin  {bmatrix} A_{11} \\\\ \\vdots  \\\\ A_{81}\\end{bmatrix}$\n",
    "- Вычисление градиента:\n",
    "    - #### $\\frac{\\partial \\~A}{\\partial x} = [ \\frac{\\partial \\~A(x)}{\\partial x_1}  \\ \\ \\ ... \\ \\  \\frac{\\partial \\~A(x)}{\\partial x_n } ] = \\begin  {bmatrix}\\frac{\\partial \\~A_{11}(x)}{\\partial x_1} & \\dots & \\frac{\\partial \\~A_{11}(x)}{\\partial x_n} \\\\ \\vdots & \\ & \\vdots \\\\\\frac{\\partial \\~A_{18}(x)}{\\partial x_1} & \\dots & \\frac{\\partial \\~A_{18}(x)}{\\partial x_3}\\end{bmatrix} \\in R^{8 \\times 3}$\n",
    "- Изменение размерности:\n",
    "    - $\\begin  {bmatrix}\\frac{\\partial \\~A_{11}(x)}{\\partial x_1} & \\dots & \\frac{\\partial \\~A_{11}(x)}{\\partial x_n} \\\\ \\vdots & \\ & \\vdots \\\\\\frac{\\partial \\~A_{18}(x)}{\\partial x_1} & \\dots & \\frac{\\partial \\~A_{18}(x)}{\\partial x_3}\\end{bmatrix} \\in R^{8 \\times 3} \\rightarrow \\begin  {bmatrix} \\frac{\\partial A_{11}(x)}{\\partial x} &\\frac{\\partial A_{12}(x)}{\\partial x}\\\\ \\vdots  & \\vdots \\\\ \\frac{\\partial A_{41}(x)}{\\partial x} & \\frac{\\partial A_{42}(x)}{\\partial x}\\end{bmatrix} \\in R^{4 \\times 2 \\times 3}$\n",
    "\n",
    "<img src='img/diffA2.jpg' width=700>\n"
   ]
  },
  {
   "cell_type": "markdown",
   "metadata": {},
   "source": [
    "___\n",
    "## <a id =6>Тождества для вычисления градиентов</a>\n",
    "\n",
    "| $\\nabla $ | = |\n",
    "|:---:|:---:|\n",
    "| $\\frac{\\partial f(X)^T}{\\partial X}$ | $(\\frac{\\partial f(X)}{\\partial X})^T$ |\n",
    "| $\\frac{\\partial f(X)^{-1}}{\\partial X}$ | $ - f(X)^{-1} \\cdot (\\frac{\\partial f(X)}{\\partial X}) \\cdot f(X)^{-1} $ |\n",
    "| $\\frac{\\partial a^T \\cdot X^{-1} \\cdot b}{\\partial X}$ | $ - (X^{-1})^T \\cdot a \\cdot b^T \\cdot (X^{-1})^T $ |\n",
    "| $\\frac{\\partial a^T \\cdot X \\cdot b}{\\partial X}$ | $ a \\cdot b^T $ |\n",
    "| $\\frac{\\partial x^T \\cdot B \\cdot x}{\\partial x}$ | $ x^T \\cdot (B+B^T) $ |\n",
    "| $\\frac{\\partial x^T \\cdot a}{\\partial x}$ | $ a^T $ |\n",
    "| $\\frac{\\partial a^T \\cdot x}{\\partial x}$ | $ a^T $ |\n",
    "\n"
   ]
  },
  {
   "cell_type": "markdown",
   "metadata": {},
   "source": [
    "___\n",
    "## <a id =7>Автоматическое дифференцирование</a>\n",
    "\n",
    "`Автоматическое дифференцирование` - последовательное применение элементарных арифметических операций и функций, применяя [цепное правило](#3), для нахождения численного значения градиента\n",
    "\n",
    "Для графа перехода от входов $x$ к выходам $y$:\n",
    "\n",
    "$\\boxed{x} \\rightarrow \\boxed{a} \\rightarrow \\boxed{b} \\rightarrow \\boxed{y}$, где\n",
    "\n",
    "- $a$ и $b$ : промежуточные значения\n",
    "\n",
    "Производная:\n",
    "- `Обратного` порядка:\n",
    "\n",
    "#### $\\frac{dy}{dx} = (\\frac{dy}{db} \\cdot \\frac{db}{da}) \\cdot \\frac{da}{dx} $\n",
    "\n",
    "- `Прямого` порядка:\n",
    "\n",
    "#### $\\frac{dy}{dx} = \\frac{dy}{db} \\cdot( \\frac{db}{da} \\cdot \\frac{da}{dx} )$"
   ]
  },
  {
   "cell_type": "markdown",
   "metadata": {},
   "source": [
    "___\n",
    "### _`ПРИМЕР`_\n",
    "\n",
    "Функцию:\n",
    "\n",
    "$f(x) = \\sqrt{x^2 + exp(x^2)} + \\cos{(x^2 + exp(x^2))}$\n",
    "\n",
    "Можно представить как совокупность элементарных функций:\n",
    "\n",
    "| Переменная| Промежуточная функция | Производная промежуточной функции|\n",
    "|:---:|:---:|:---:|\n",
    "| $a$| $x^2$  |  $\\frac{\\partial a}{\\partial x} = 2x$|\n",
    "| $b$ | $exp(a)$ |   $\\frac{\\partial b}{\\partial a} = \\exp (a)$|\n",
    "| $c$ | $a + b$ |    $\\frac{\\partial c}{\\partial a} = \\frac{\\partial c}{\\partial b} = 1$|\n",
    "| $d$| $\\sqrt c$ |    $\\frac{\\partial d}{\\partial c} = \\frac{1}{2\\sqrt c} $| \n",
    "| $e$ | $\\cos {(c)}$ |  $\\frac{\\partial e}{\\partial c} = -\\sin (c)$|\n",
    "| $f$ | $d + e$ |  $\\frac{\\partial f}{\\partial d} = \\frac{\\partial f}{\\partial e} = 1$|\n",
    "\n",
    "Поток данных и вычисления для получения функции $f$:\n",
    "\n",
    "<img src='img/autodiff.jpg' width=600>\n",
    "\n",
    "Производная $\\frac{\\partial f}{\\partial x}$ двигаясь от выхода к входу:\n",
    "\n",
    "| Формула производной | Подстановка производных промежуточных функций |\n",
    "|:---:|:---:|\n",
    "| $\\frac{\\partial f}{\\partial c} = \\frac{\\partial f}{\\partial d} \\cdot \\frac{\\partial d}{\\partial c} + \\frac{\\partial f}{\\partial e} \\cdot \\frac{\\partial e}{\\partial c} $  | $1 \\cdot \\frac{1}{2\\sqrt c} + 1 \\cdot (-\\sin (c))$ |\n",
    "| $\\frac{\\partial f}{\\partial b} = \\frac{\\partial f}{\\partial c} \\cdot \\frac{\\partial c}{\\partial b}$ | $\\frac{\\partial f}{\\partial c} \\cdot 1 $ |\n",
    "|$\\frac{\\partial f}{\\partial a} = \\frac{\\partial f}{\\partial b} \\cdot \\frac{\\partial b}{\\partial a} + \\frac{\\partial f}{\\partial c} \\cdot \\frac{\\partial c}{\\partial a} $  | $\\frac{\\partial f}{\\partial b} \\cdot \\exp (a) + \\frac{\\partial f}{\\partial c} \\cdot 1 $|\n",
    "| $\\frac{\\partial f}{\\partial x} = \\frac{\\partial f}{\\partial a} \\cdot \\frac{\\partial a}{\\partial x}$ | $  \\frac{\\partial f}{\\partial a} \\cdot 2x$ |\n",
    "\n",
    "\n",
    "\n"
   ]
  },
  {
   "cell_type": "markdown",
   "metadata": {},
   "source": [
    "___\n",
    "## <a id =8>Производные высших порядков</a>\n",
    "\n",
    "Для функции $f(x,y)$:\n",
    "\n",
    "- $\\frac{\\partial^2 f}{\\partial x^2}$ : `вторая` частная производная $f$ относительно $x$\n",
    "\n",
    "- $\\frac{\\partial^2 f}{\\partial y \\partial x}$ : `частная` производная , полученная дифференцированием $f$ `сначала` относительно $x$, а `затем` относительно  $y$\n",
    "\n",
    "`Матрица Гессе` - матрица всех частных производных  второго порядка, которая характеризует `выпуклость` функции в окрестности $(x,y)$\n",
    "\n",
    "Для $f(x,y)$:\n",
    "\n",
    "#### $H = \\nabla^2 f(x,y)= \\begin  {bmatrix} \\frac{\\partial^2 f}{\\partial x^2} & \\frac{\\partial^2 f}{\\partial x \\partial y} \\\\ \\ \\\\ \\frac{\\partial^2 f}{\\partial x \\partial y}  &  \\frac{\\partial^2 f}{\\partial y^2}\\end{bmatrix}$\n",
    "\n"
   ]
  },
  {
   "cell_type": "markdown",
   "metadata": {},
   "source": [
    "___\n",
    "## <a id =9>Ряды Тейлора для нескольких переменных</a>\n",
    "\n",
    "`Ряд Тейлора от нескольких переменных`:\n",
    "\n",
    "$ f(x) = \\sum \\frac{D^k_x f(\\tilde{x_0})}{k!} \\cdot(x - \\tilde{x_0})^k$, где\n",
    "- $D^k_x f(\\tilde{x_0})$ : значение $k$-ой полной производной функции $f$ относительно $x$ в точке $\\tilde{x_0}$\n",
    "- $(x - \\tilde{x_0})^k$ : тензор порядка $k$ ($k$-мерный массив)\n",
    "\n",
    "`Тензорное произведение`:\n",
    "- $x^2 = x \\otimes x = x \\cdot x^T$ : матрица\n",
    "- $x^3 = x \\otimes x \\otimes x $ : тензор порядка 3 (трехмерная матрица)\n"
   ]
  },
  {
   "cell_type": "markdown",
   "metadata": {},
   "source": [
    "___\n",
    "### _`ПРИМЕР`_\n",
    "\n",
    "Для `функции`:\n",
    "\n",
    "$ x^2 + 2xy +y^3$\n",
    "\n",
    "в `точке`: $\\tilde{x_0} = (x_0, y_0) = (1,2)$\n",
    "\n",
    "Разложение в `ряд Тейлора`:\n",
    "\n",
    "- линейная комбинация многочленов до 3 степени:\n",
    "\n",
    "    - $\\boxed{ f(x) = f(x_0, y_0) + \\frac{D^1_{x,y} f(x_0, y_0)}{1!} \\cdot(x - \\tilde{x_0})^1 + \\frac{D^2_{x,y} f(x_0, y_0)}{2!} \\cdot(x - \\tilde{x_0})^2 + \\frac{D^3_{x,y} f(x_0, y_0)}{3!} \\cdot(x - \\tilde{x_0})^3}$\n",
    "\n",
    "### $\\boxed{0}$. `Свободный` член:  \n",
    "\n",
    "$\\boxed{ f(x_0, y_0) = f(1,2) = 13}$\n",
    "\n",
    "### $\\boxed{1}$. `Первая` производная\n",
    "\n",
    "$\\boxed{ \\frac{\\partial f}{\\partial x} = 2x + 2y }$ :\n",
    "- $ \\frac{\\partial f}{\\partial x}(1, 2) = 6 $\n",
    "\n",
    "$\\boxed{ \\frac{\\partial f}{\\partial y} = 2x + 3y^2 }$ :\n",
    "- $\\frac{\\partial f}{\\partial y}(1, 2) = 14$\n",
    "\n",
    "$\\boxed {\\frac{D^1_x f(x_0, y_0)}{1!} \\cdot(x - \\tilde{x_0})^1 = D^1_x f(x_0, y_0) \\cdot(x - \\tilde{x_0})}$ :\n",
    "\n",
    "- $D^1_{x,y} f(x_0, y_0)\\cdot(x - \\tilde{x_0}) = D^1_{x,y} f(1, 2)\\cdot \\begin {bmatrix} x - 1\\\\y - 2 \\end {bmatrix} = [\\frac{\\partial f}{\\partial x} \\ \\ \\ \\frac{\\partial f}{\\partial y}] \\cdot \\begin {bmatrix} x - 1\\\\y - 2 \\end {bmatrix}= [6 \\ \\ \\ 14] \\cdot \\begin {bmatrix} x - 1\\\\y - 2 \\end {bmatrix} = 6(x-1)+14(y-2)$\n",
    "\n",
    "### $\\boxed{2}$. `Вторая` производная\n",
    "\n",
    "$\\boxed{ \\frac{\\partial^2 f}{\\partial x^2}} = 2$ : \n",
    "- $\\frac{\\partial^2 f}{\\partial x^2}(1,2) = 2$\n",
    "\n",
    "$\\boxed{ \\frac{\\partial^2 f}{\\partial y^2}} = 6y$ : \n",
    "- $\\frac{\\partial^2 f}{\\partial y^2}(1,2) = 12$\n",
    "\n",
    "$\\boxed{ \\frac{\\partial^2 f}{\\partial x \\partial y}} = 2$ : \n",
    "- $\\frac{\\partial^2 f}{\\partial x \\partial y}(1,2) = 2$\n",
    "\n",
    "$\\boxed{ \\frac{\\partial^2 f}{\\partial y \\partial x}} = 2$ : \n",
    "- $\\frac{\\partial^2 f}{\\partial y \\partial x}(1,2) = 2$\n",
    "\n",
    "$\\boxed { H = \\begin  {bmatrix} \\frac{\\partial^2 f}{\\partial x^2} & \\frac{\\partial^2 f}{\\partial x \\partial y} \\\\ \\ \\\\ \\frac{\\partial^2 f}{\\partial x \\partial y}  &  \\frac{\\partial^2 f}{\\partial y^2}\\end{bmatrix} }$ :\n",
    "- $H(1,2) = \\begin  {bmatrix} 2 & 2 \\\\ 2 &  6y\\end{bmatrix} $\n",
    "\n",
    "$\\boxed {\\frac{D^2_{x,y} f(x_0, y_0)}{2!} \\cdot(x - \\tilde{x_0})^2 = \\frac{1}{2}(x - \\tilde{x_0})^T \\cdot H(x_0, y_0) \\cdot (x - \\tilde{x_0})}$ : \n",
    "\n",
    "- $ \\frac{1}{2}(x - \\tilde{x_0})^T \\cdot H(x_0, y_0) \\cdot (x - \\tilde{x_0}) = \\frac{1}{2}[x-1 \\ \\ \\ y-2] \\cdot \\begin  {bmatrix} 2 & 2 \\\\ 2 &  6y\\end{bmatrix} \\cdot \\begin {bmatrix} x - 1\\\\y - 2 \\end {bmatrix} = (x-1)^2 + 2(x-1)(y-2) +6(y-2)^2$\n",
    "\n",
    "### $\\boxed{3}$. Производная `третьего` порядка\n",
    "\n",
    "$\\boxed{ D^3_{x,y} f(x_0, y_0) = [ \\frac{\\partial H}{\\partial x} \\ \\ \\ \\frac{\\partial H}{\\partial y} ] }$ - тензор, состоящий из 2-х матриц:\n",
    "- #### $\\frac{\\partial H}{\\partial x} = \\begin  {bmatrix} \\frac{\\partial^3 f}{\\partial x^3} & \\frac{\\partial^3 f}{\\partial x^2 \\partial y} \\\\ \\ \\\\ \\frac{\\partial^3 f}{\\partial x \\partial y \\partial x }  &  \\frac{\\partial^3 f}{\\partial x\\partial y^2}\\end{bmatrix} $ :\n",
    "\n",
    "    -  $\\frac{\\partial^3 f}{\\partial x^3} = \\frac{\\partial^3 f}{\\partial x^2 \\partial y} = \\frac{\\partial^3 f}{\\partial x \\partial y \\partial x } =  \\frac{\\partial^3 f}{\\partial x\\partial y^2} = 0 $ :\n",
    "\n",
    "        - $\\frac{\\partial H}{\\partial x} = \\begin  {bmatrix} 0 & 0 \\\\ 0 &  0\\end{bmatrix} $\n",
    "\n",
    "- #### $\\frac{\\partial H}{\\partial y} = \\begin  {bmatrix} \\frac{\\partial^3 f}{\\partial y \\partial x^2} & \\frac{\\partial^3 f}{\\partial y \\partial x \\partial y} \\\\ \\ \\\\ \\frac{\\partial^3 f}{ \\partial y^2 \\partial x }  &  \\frac{\\partial^3 f}{\\partial y^3}\\end{bmatrix} $ :\n",
    "\n",
    "    - $ \\frac{\\partial^3 f}{\\partial y \\partial x^2} = \\frac{\\partial^3 f}{\\partial y \\partial x \\partial y} = \\frac{\\partial^3 f}{ \\partial y^2 \\partial x } = 0 $\n",
    "\n",
    "    -  $ \\frac{\\partial^3 f}{\\partial y^3} = \\frac{\\partial^3 f}{\\partial y^3} (1,2) = 6$ :\n",
    "    \n",
    "        - $\\frac{\\partial H}{\\partial y} =  \\begin  {bmatrix} 0 & 0 \\\\ 0 &  6\\end{bmatrix} $\n",
    "\n",
    "$\\boxed {\\frac{D^3_{x,y} f(x_0, y_0)}{3!} \\cdot(x - \\tilde{x_0})^3}$ :\n",
    "- $\\frac{D^3_{x,y} f(x_0, y_0)}{3!} = \\frac{1}{6}[\\begin  {bmatrix} 0 & 0 \\\\ 0 &  0\\end{bmatrix} \\ \\ \\ \\begin  {bmatrix} 0 & 0 \\\\ 0 &  6\\end{bmatrix} ] = [\\begin  {bmatrix} 0 & 0 \\\\ 0 &  0\\end{bmatrix} \\ \\ \\ \\begin  {bmatrix} 0 & 0 \\\\ 0 &  1\\end{bmatrix} ]$\n",
    "- $[\\begin  {bmatrix} 0 & 0 \\\\ 0 &  0\\end{bmatrix} \\ \\ \\ \\begin  {bmatrix} 0 & 0 \\\\ 0 &  1\\end{bmatrix} ] \\cdot (x - \\tilde{x_0})^3 $ :\n",
    "    - $[x-1 \\ \\ \\ y-2] \\cdot [\\begin  {bmatrix} 0 & 0 \\\\ 0 &  0\\end{bmatrix} \\ \\ \\ \\begin  {bmatrix} 0 & 0 \\\\ 0 &  1\\end{bmatrix} ] \\cdot \\begin {bmatrix} x - 1\\\\y - 2 \\end {bmatrix} \\cdot \\begin {bmatrix} x - 1\\\\y - 2 \\end {bmatrix} = [[0 \\ \\ \\ 0 ] [0 \\ \\ \\ (y -2)]] \\cdot \\begin {bmatrix} x - 1\\\\y - 2 \\end {bmatrix} \\cdot \\begin {bmatrix} x - 1\\\\ (y - 2) \\end {bmatrix} = [0 \\ \\ \\ (y -2 )^2] \\cdot \\begin {bmatrix} x - 1\\\\ (y - 2) \\end {bmatrix} = (y -2 )^3$ \n",
    "\n",
    "### $\\boxed{4}$. `Ряд Тейлора`:\n",
    "\n",
    "$f(x) = 13 + 6(x-1)+14(y-2)+(x-1)^2 + 6(y-2)^2 +2(x-1)(y-2) + (y-2)^3$\n"
   ]
  },
  {
   "cell_type": "markdown",
   "metadata": {},
   "source": [
    "___\n",
    "___\n",
    "## $\\uArr$ [К содержанию](#cont)"
   ]
  }
 ],
 "metadata": {
  "kernelspec": {
   "display_name": "Python 3",
   "language": "python",
   "name": "python3"
  },
  "language_info": {
   "codemirror_mode": {
    "name": "ipython",
    "version": 3
   },
   "file_extension": ".py",
   "mimetype": "text/x-python",
   "name": "python",
   "nbconvert_exporter": "python",
   "pygments_lexer": "ipython3",
   "version": "3.11.1"
  }
 },
 "nbformat": 4,
 "nbformat_minor": 2
}
