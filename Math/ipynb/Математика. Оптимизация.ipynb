{
 "cells": [
  {
   "cell_type": "markdown",
   "metadata": {},
   "source": [
    "\n",
    "#  <a id=s>Непрерывная оптимизация\n",
    "<img src='img/opt.gif' width=600>\n",
    "\n",
    "## <a id=cont>Содержание</a>\n",
    "- [Градиентный спуск](#1)\n",
    "- [Градиентный спуск с импульсом](#2)\n",
    "- [Стохастический градиентный спуск](#3)\n",
    "- [Метод множителей Лагранжа](#4)\n"
   ]
  },
  {
   "cell_type": "markdown",
   "metadata": {},
   "source": [
    "____\n",
    "## <a id=1>Градиентный спуск</a>\n",
    "\n",
    "`Градиент` - вектор с началом в данной точке, указывающий наибольшее возрастание значения функции.   \n",
    "Градиент `ортогонален` линиям, вдоль которых функция сохраняет определеннное значение (`контурным линиям`)\n",
    "\n",
    "`Градиентный спуск` - оптимизационный алгоритм для нахождения локального минимума функции (функция должна быть дифференцируема).   \n",
    "При градиентном спуске делаются шаги, `пропорциональные` отрицательному значению, равному по модулю `градиенту` функции в данной точке.\\\n",
    "\n",
    "Значение функции в точке $x_1$ меньше или равно значению функции в исходной точке $x_0$ :\n",
    "\n",
    "$f(x_1) \\leq f(x_0)$, при\n",
    "- $x_1 = x_0 - \\gamma \\cdot (\\nabla f (x_0))^T$, где\n",
    "    - $\\gamma$ : выбранное некоторое число $\\geq 0$, являющееся `шагом` градиентного спуска"
   ]
  },
  {
   "cell_type": "markdown",
   "metadata": {},
   "source": [
    "___\n",
    "### _`ПРИМЕР > Градиентный спуск`_\n",
    "\n",
    "<img src='img/graddesc.jpg' width=500>\n",
    "\n",
    "_Для функции_ :\n",
    "\n",
    "$f(\\=x) = 0.5 \\cdot \\=x^T \\cdot \\begin {bmatrix} 2 & 1 \\\\ 1 & 20 \\end {bmatrix} \\cdot \\=x - \\begin {bmatrix} 5 \\\\ 3 \\end {bmatrix} \\cdot \\=x$\n",
    "\n",
    "_С градиентом_ :\n",
    "\n",
    "$\\nabla f(\\=x) = \\=x^T \\cdot \\begin {bmatrix} 2 & 1 \\\\ 1 & 20 \\end {bmatrix} - \\begin {bmatrix} 5 \\\\ 3 \\end {bmatrix} $\n",
    "\n",
    "_Минимум функции $f(\\=x)$ :_\n",
    "\n",
    "$min f(\\=x) = f(\\begin {bmatrix} 2.11 \\\\ 0.05 \\end {bmatrix}) \\approx -6.13$"
   ]
  },
  {
   "cell_type": "code",
   "execution_count": 82,
   "metadata": {},
   "outputs": [
    {
     "name": "stdout",
     "output_type": "stream",
     "text": [
      "Значение функции: 22.44 в текущей точке -> [-1.98  1.21]\n",
      "Значение функции: 11.98 в текущей точке -> [-1.32 -0.42]\n",
      "Значение функции: 5.58 в текущей точке -> [-0.64  0.66]\n",
      "Значение функции: 1.55 в текущей точке -> [-0.16 -0.16]\n",
      "Значение функции: -1.03 в текущей точке -> [0.31 0.38]\n",
      "Значение функции: -2.72 в текущей точке -> [ 0.65 -0.04]\n",
      "Значение функции: -3.85 в текущей точке -> [0.97 0.22]\n",
      "Значение функции: -4.60 в текущей точке -> [1.21 0.02]\n",
      "Значение функции: -5.12 в текущей точке -> [1.43 0.14]\n",
      "Значение функции: -5.47 в текущей точке -> [1.6  0.03]\n",
      "Значение функции: -5.71 в текущей точке -> [1.75 0.09]\n",
      "Значение функции: -5.88 в текущей точке -> [1.87 0.04]\n",
      "Значение функции: -5.99 в текущей точке -> [1.97 0.07]\n",
      "Значение функции: -6.07 в текущей точке -> [2.06 0.04]\n",
      "Значение функции: -6.13 в текущей точке -> [2.13 0.05]\n",
      "min f(x) = -6.13\n"
     ]
    }
   ],
   "source": [
    "import numpy as np\n",
    "\n",
    "x_0 = np.array((-3,-1))\n",
    "f = lambda arr : 0.5 * arr @ np.array(((2,1), (1,20))) @ arr - np.array((5,3)) @ arr\n",
    "grad = lambda arr : arr @ np.array(((2,1), (1,20))) - np.array((5,3))\n",
    "gamma = 0.085\n",
    "\n",
    "def gradient_descend(start_x, grad, gamma):\n",
    "    next_x = start_x - gamma * grad(start_x)\n",
    "    return next_x\n",
    "lst1=[]\n",
    "for it in range(15):\n",
    "    lst1.append(f(x_0))\n",
    "    x_0 = gradient_descend(start_x=x_0,grad=grad, gamma=gamma)\n",
    "    print(f'Значение функции: {f(x_0):.2f} в текущей точке -> {np.round(x_0,2)}')\n",
    "print(f'min f(x) = {f(x_0):.2f}')"
   ]
  },
  {
   "cell_type": "markdown",
   "metadata": {},
   "source": [
    "____\n",
    "`Размер шага` $\\gamma$ можно изменять на каждой итерации в зависимости от локальных свойств :\n",
    "- `Отменить` и `уменьшить` размер шага, если :\n",
    "    - после шага градиента значение функции `увеличилось`\n",
    "- `Отменить` и `увеличить` размер шага, если :\n",
    "    - после шага градиента значение функции `уменьшилось`"
   ]
  },
  {
   "cell_type": "markdown",
   "metadata": {},
   "source": [
    "____\n",
    "## <a id=2>Градиентный спуск с импульсом</a>\n",
    "\n",
    "`Градиентный спуск с импульсом` - метод, который определяет следующее обновление значений как линейную комбинацию текущего и предыдущего градиентов :\n",
    "\n",
    "$x_{i+1} = x_i - \\gamma_i \\cdot (\\nabla f (x_i))^T + \\alpha \\cdot \\triangle x_i$, где\n",
    "- $\\triangle x_i = x_i - x_{i-1}$\n",
    "- $\\alpha \\in [0,1]$ : выбранное некоторое число (`постоянная импульса`) \n",
    "\n",
    "Этот метод позволяет `гасить` колебания и позволяет `выходить` из седловых точек с небольшим градиентом.\n",
    "\n",
    "Больший, по сравнению с градиентным спуском без импульса, `интервал` шага обучения будет находить `минимум` функции."
   ]
  },
  {
   "cell_type": "markdown",
   "metadata": {},
   "source": [
    "___\n",
    "Градиентный спуск `без импульса`"
   ]
  },
  {
   "cell_type": "code",
   "execution_count": 101,
   "metadata": {},
   "outputs": [],
   "source": [
    "x_0 = np.array((-3,-1))\n",
    "f = lambda arr : 0.5 * arr @ np.array(((2,1), (1,20))) @ arr - np.array((5,3)) @ arr\n",
    "grad = lambda arr : arr @ np.array(((2,1), (1,20))) - np.array((5,3))\n",
    "gamma = 0.095\n",
    "\n",
    "def gradient_descend(start_x, grad, gamma):\n",
    "    next_x = start_x - gamma * grad(start_x)\n",
    "    return next_x\n",
    "lst1=[]\n",
    "for it in range(15):\n",
    "    lst1.append(f(x_0))\n",
    "    x_0 = gradient_descend(start_x=x_0,grad=grad, gamma=gamma)"
   ]
  },
  {
   "cell_type": "markdown",
   "metadata": {},
   "source": [
    "Градиентный спуск `с импульсом`"
   ]
  },
  {
   "cell_type": "code",
   "execution_count": 102,
   "metadata": {},
   "outputs": [],
   "source": [
    "x_0 = np.array((-3,-1))\n",
    "f = lambda arr : 0.5 * arr @ np.array(((2,1), (1,20))) @ arr - np.array((5,3)) @ arr\n",
    "grad = lambda arr : arr @ np.array(((2,1), (1,20))) - np.array((5,3))\n",
    "gamma = 0.095\n",
    "\n",
    "def gradient_descend(start_x, grad, gamma):\n",
    "    next_x = start_x - gamma * grad(start_x)\n",
    "    return next_x\n",
    "\n",
    "lst2 = []\n",
    "delta_x = 0\n",
    "for it in range(15):\n",
    "    lst2.append(f(x_0))\n",
    "    prev_x = x_0\n",
    "    x_0 = gradient_descend(start_x=x_0,grad=grad, gamma=gamma) + 0.1*delta_x\n",
    "    delta_x = x_0 - prev_x\n"
   ]
  },
  {
   "cell_type": "code",
   "execution_count": 108,
   "metadata": {},
   "outputs": [
    {
     "data": {
      "text/plain": [
       "<matplotlib.legend.Legend at 0x1a102bdf5d0>"
      ]
     },
     "execution_count": 108,
     "metadata": {},
     "output_type": "execute_result"
    },
    {
     "data": {
      "image/png": "[encoded data removed]",
      "text/plain": [
       "<Figure size 640x480 with 1 Axes>"
      ]
     },
     "metadata": {},
     "output_type": "display_data"
    }
   ],
   "source": [
    "import matplotlib.pyplot as plt\n",
    "\n",
    "plt.plot(lst1,label='Без импульса')\n",
    "plt.plot(lst2,label='С импульсом')\n",
    "plt.xlabel('Итерации')\n",
    "plt.ylabel('Значение функции')\n",
    "plt.legend()"
   ]
  },
  {
   "cell_type": "markdown",
   "metadata": {},
   "source": [
    "____\n",
    "## <a id=3>Стохастический градиентный спуск</a>\n",
    "\n",
    "`Стохастический градиентный спуск` (SGD) - метод градиентного спуска, в котором для вычисления градиента на каждой итерации используется `один случайный пример` или небольшая `подвыборка` (батч) :\n",
    "\n",
    "$\\nabla f(x) = \\frac{1}{B} \\sum \\nabla L(x, \\Theta_i)$, где :\n",
    "- $L(x, \\Theta_i)$ : градиент функции потерь\n",
    "- $\\Theta_i$ : i-тый пример (подвыборка данных)\n",
    "- $B$ : кол-во примеров в батче (в классическом смысле 1)\n",
    "\n",
    "<img src='img/SGD.gif'>\n",
    "\n",
    "- <a style='color:red'>**Обычный градиентный спуск**</a>\n",
    "- <a style='color:blue'>**Стохастический градиентный спуск**</a>"
   ]
  },
  {
   "cell_type": "markdown",
   "metadata": {},
   "source": [
    "____\n",
    "## <a id=4>Метод множителей Лагранжа</a>\n",
    "\n",
    "`Метод множителей Лагранжа` - метод нахождения экстремумов функции $f(x)$ в области ограничивающих функций $g_i(x) = 0$\n",
    "\n",
    "<img src='img/lagrange.png' width=400>\n",
    "\n",
    "- Составляется `функция Лагранжа` :\n",
    "\n",
    "    - $L(x, \\lambda) = \\lambda_0 \\cdot f(x) + ... \\lambda_i \\cdot g_i(x)$\n",
    "\n",
    "- Составляется и решается `СЛАУ` из\n",
    "    - частных производных функции $L(x, \\lambda)$ по $x_j$ приравненных к нулю\n",
    "    - ограничивающих функций приравненных к нулю :\n",
    "\n",
    "    $ \\begin {cases} \\frac{\\partial L}{\\partial x_j} = 0 \\\\\n",
    "    g_i(x) = 0 \\end {cases}$\n",
    "\n",
    "- Решения СЛАУ $(a)$- экстремальные точки функции $f(x)$ в области ограничивающих функций $g_i(x) = 0$, при $\\lambda \\neq 0$\n",
    "\n",
    "- Найденные точки проверяются на экстремльность :\n",
    "    - $L''(a, \\lambda) > 0 $ - точка `минимума`\n",
    "    - $L''(a, \\lambda) < 0 $ - точка `максимума`\n",
    "\n"
   ]
  },
  {
   "cell_type": "markdown",
   "metadata": {},
   "source": [
    "___\n",
    "### _`ПРИМЕР > Метод множителей Лагранжа`_\n",
    "\n",
    "Найти экстремумы функции :\n",
    "\n",
    "$f(x,y) = 4x+3y$\n",
    "\n",
    "<img src='img/lagrex1.gif' width=400>\n",
    "\n",
    "\n",
    "на множестве, заданном функцией :\n",
    "\n",
    "$x^2 + y^2 = 1$\n",
    "\n",
    "<img src='img/lagrex2.gif' width=400>\n",
    "<img src='img/lagrex3.gif' width=400>\n",
    "\n",
    "- `Функция Лагранжа` :\n",
    "\n",
    "    - $\\boxed{ L(x, \\lambda) = \\lambda_0 \\cdot f(x) + ... \\lambda_i \\cdot g_i(x) }$ :\n",
    "    \n",
    "        - $ L(x,y, \\lambda) = \\lambda_0 \\cdot (4x + 3y) + \\lambda_1 \\cdot (x^2 + y^2 - 1)$\n",
    "\n",
    "- `Частные производные` :\n",
    "    - $\\frac{\\partial L}{\\partial x} = 4\\lambda_0 + 2 \\lambda_1x$\n",
    "    \n",
    "    - $\\frac{\\partial L}{\\partial y} = 3\\lambda_0 + 2 \\lambda_1y$\n",
    "\n",
    "- `СЛАУ` :\n",
    "    - $ \\begin {cases} 4\\lambda_0 + 2 \\lambda_1x = 0 \\\\\n",
    "    3\\lambda_0 + 2 \\lambda_1y = 0 \\\\\n",
    "    x^2 + y^2 - 1 =0 \\end {cases}$\n",
    "\n",
    "- `Возможно 2 случая` :\n",
    "    - При $\\boxed{ \\lambda_0 = 0}$\n",
    "        - $ \\begin {cases} 2 \\lambda_1x = 0 \\\\\n",
    "     2 \\lambda_1y = 0 \\\\\n",
    "    x^2 + y^2 - 1 =0 \\end {cases}$\n",
    "        - Есть решения только при $\\lambda_1 = 0$, следовательно $\\lambda = \\begin {bmatrix} \\lambda_0 \\\\ \\lambda_1 \\end {bmatrix} = \\begin {bmatrix} 0 \\\\ 0 \\end {bmatrix}$, что значит :\n",
    "        - `Точек экстремума нет`\n",
    "    - Либо $\\boxed{\\lambda_0 \\neq 0}$ и  $\\lambda_0 $ можно принять равное 1\n",
    "        - $ \\begin {cases} 4 + 2 \\lambda_1x = 0 \\\\\n",
    "     3 + 2 \\lambda_1y = 0 \\\\\n",
    "    x^2 + y^2 - 1 =0 \\end {cases}$\n",
    "            - $x = - \\frac{2}{\\lambda_1}$\n",
    "            - $y = - \\frac{3}{2\\lambda_1}$\n",
    "                - $\\frac{4}{\\lambda^2_1} + \\frac{9}{4\\lambda^2_1} = \\frac{25}{4\\lambda^2_1} = 1$\n",
    "                    - $\\lambda_1 = \\pm \\frac{5}{2} $\n",
    "                        - $\\boxed{(x,y) = (\\frac{4}{5} ; \\frac{3}{5})}$\n",
    "                        - $\\boxed{(x,y) = (-\\frac{4}{5} ; -\\frac{3}{5})}$\n",
    "\n",
    "- `Максимум` и `минимум`:\n",
    "    - $f(\\frac{4}{5} ; \\frac{3}{5}) = 5$ : глобальный `максимум`\n",
    "    - $f(-\\frac{4}{5} ;- \\frac{3}{5}) = -5$ : глобальный `минимум`\n",
    "\n"
   ]
  }
 ],
 "metadata": {
  "kernelspec": {
   "display_name": "Python 3",
   "language": "python",
   "name": "python3"
  },
  "language_info": {
   "name": "python",
   "version": "3.11.1"
  }
 },
 "nbformat": 4,
 "nbformat_minor": 2
}
