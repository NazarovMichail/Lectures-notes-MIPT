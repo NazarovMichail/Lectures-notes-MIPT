{
 "cells": [
  {
   "cell_type": "markdown",
   "metadata": {},
   "source": [
    "___\n",
    "# `Статистика`\n",
    "___\n",
    "## <h2 id='cont' style='color:lightblue'>Содержание</h2a>\n",
    "- [Меры центральной тенденции](#metr)  \n",
    "   - Межквартильный размах\n",
    "   - Выбросы\n",
    "   - Ассиметрия\n",
    "   - Эксцесс\n",
    "- [Выборочная и генеральная совокупность](#gen)\n",
    "   - Объем выборки\n",
    "   - Доверительный интервал\n",
    "- [Тестирование гипотез](#h)\n",
    "   - Гипотеза о нормальности распределения\n",
    "   - Гипотеза о равенстве дисперсий\n",
    "   - Гипотеза о равенстве средних\n",
    "   - Гипотеза о корреляции данных\n",
    "\n"
   ]
  },
  {
   "cell_type": "markdown",
   "metadata": {},
   "source": [
    "___\n",
    "## <h2 id='metr' style='color:violet'>Импорт библиотек и датасета</h2>\n",
    "___\n",
    "___"
   ]
  },
  {
   "cell_type": "code",
   "execution_count": 1,
   "metadata": {},
   "outputs": [],
   "source": [
    "import numpy as np\n",
    "import pandas as pd\n",
    "import matplotlib.pyplot as plt\n",
    "import scipy.stats as st\n"
   ]
  },
  {
   "cell_type": "code",
   "execution_count": 2,
   "metadata": {},
   "outputs": [
    {
     "data": {
      "text/html": [
       "<div>\n",
       "<style scoped>\n",
       "    .dataframe tbody tr th:only-of-type {\n",
       "        vertical-align: middle;\n",
       "    }\n",
       "\n",
       "    .dataframe tbody tr th {\n",
       "        vertical-align: top;\n",
       "    }\n",
       "\n",
       "    .dataframe thead th {\n",
       "        text-align: right;\n",
       "    }\n",
       "</style>\n",
       "<table border=\"1\" class=\"dataframe\">\n",
       "  <thead>\n",
       "    <tr style=\"text-align: right;\">\n",
       "      <th></th>\n",
       "      <th>country</th>\n",
       "      <th>food_category</th>\n",
       "      <th>consumption</th>\n",
       "      <th>co2_emmission</th>\n",
       "    </tr>\n",
       "  </thead>\n",
       "  <tbody>\n",
       "    <tr>\n",
       "      <th>0</th>\n",
       "      <td>Argentina</td>\n",
       "      <td>Pork</td>\n",
       "      <td>10.51</td>\n",
       "      <td>37.20</td>\n",
       "    </tr>\n",
       "    <tr>\n",
       "      <th>1</th>\n",
       "      <td>Argentina</td>\n",
       "      <td>Poultry</td>\n",
       "      <td>38.66</td>\n",
       "      <td>41.53</td>\n",
       "    </tr>\n",
       "  </tbody>\n",
       "</table>\n",
       "</div>"
      ],
      "text/plain": [
       "     country food_category  consumption  co2_emmission\n",
       "0  Argentina          Pork        10.51          37.20\n",
       "1  Argentina       Poultry        38.66          41.53"
      ]
     },
     "metadata": {},
     "output_type": "display_data"
    },
    {
     "data": {
      "text/html": [
       "<div>\n",
       "<style scoped>\n",
       "    .dataframe tbody tr th:only-of-type {\n",
       "        vertical-align: middle;\n",
       "    }\n",
       "\n",
       "    .dataframe tbody tr th {\n",
       "        vertical-align: top;\n",
       "    }\n",
       "\n",
       "    .dataframe thead th {\n",
       "        text-align: right;\n",
       "    }\n",
       "</style>\n",
       "<table border=\"1\" class=\"dataframe\">\n",
       "  <thead>\n",
       "    <tr style=\"text-align: right;\">\n",
       "      <th></th>\n",
       "      <th>gender</th>\n",
       "      <th>race/ethnicity</th>\n",
       "      <th>parental level of education</th>\n",
       "      <th>lunch</th>\n",
       "      <th>test preparation course</th>\n",
       "      <th>math score</th>\n",
       "      <th>reading score</th>\n",
       "      <th>writing score</th>\n",
       "    </tr>\n",
       "  </thead>\n",
       "  <tbody>\n",
       "    <tr>\n",
       "      <th>0</th>\n",
       "      <td>female</td>\n",
       "      <td>group B</td>\n",
       "      <td>bachelor's degree</td>\n",
       "      <td>standard</td>\n",
       "      <td>none</td>\n",
       "      <td>72</td>\n",
       "      <td>72</td>\n",
       "      <td>74</td>\n",
       "    </tr>\n",
       "    <tr>\n",
       "      <th>1</th>\n",
       "      <td>female</td>\n",
       "      <td>group C</td>\n",
       "      <td>some college</td>\n",
       "      <td>standard</td>\n",
       "      <td>completed</td>\n",
       "      <td>69</td>\n",
       "      <td>90</td>\n",
       "      <td>88</td>\n",
       "    </tr>\n",
       "  </tbody>\n",
       "</table>\n",
       "</div>"
      ],
      "text/plain": [
       "   gender race/ethnicity parental level of education     lunch  \\\n",
       "0  female        group B           bachelor's degree  standard   \n",
       "1  female        group C                some college  standard   \n",
       "\n",
       "  test preparation course  math score  reading score  writing score  \n",
       "0                    none          72             72             74  \n",
       "1               completed          69             90             88  "
      ]
     },
     "metadata": {},
     "output_type": "display_data"
    }
   ],
   "source": [
    "df = pd.read_csv('data\\consumption.csv')\n",
    "display(df.head(2))\n",
    "data = pd.read_csv('data\\students_performance.csv ')\n",
    "display(data.head(2))\n"
   ]
  },
  {
   "cell_type": "markdown",
   "metadata": {},
   "source": [
    "___\n",
    "## <h2 id='metr' style='color:violet'>Меры центральной тенденции</h2>\n",
    "___\n",
    "___"
   ]
  },
  {
   "cell_type": "markdown",
   "metadata": {},
   "source": [
    "- ### `Межквартильный размах` (IQR)  \n",
    "\n",
    "### $IQR = x_{0.75} - x_{0.25}$"
   ]
  },
  {
   "cell_type": "code",
   "execution_count": 3,
   "metadata": {},
   "outputs": [
    {
     "data": {
      "image/png": "[encoded data removed]",
      "text/plain": [
       "<Figure size 640x480 with 1 Axes>"
      ]
     },
     "metadata": {},
     "output_type": "display_data"
    }
   ],
   "source": [
    "iqr = df['consumption'].quantile(0.75) - df['consumption'].quantile(0.25)\n",
    "iqr\n",
    "\n",
    "plt.boxplot(df['consumption'])\n",
    "plt.show()\n"
   ]
  },
  {
   "cell_type": "markdown",
   "metadata": {},
   "source": [
    "___\n",
    "- ### `Выбросы`  \n",
    "### $X_{outliner} = \\{ x_{0.25} - 1.5 \\cdot IQR; x_{0.75} + 1.5 \\cdot IQR \\}$"
   ]
  },
  {
   "cell_type": "code",
   "execution_count": 4,
   "metadata": {},
   "outputs": [
    {
     "data": {
      "image/png": "[encoded data removed]",
      "text/plain": [
       "<Figure size 640x480 with 1 Axes>"
      ]
     },
     "metadata": {},
     "output_type": "display_data"
    }
   ],
   "source": [
    "low_outliner = df['consumption'].quantile(0.25) - iqr\n",
    "high_outliner = df['consumption'].quantile(0.75) + iqr\n",
    "df_whithout_outliner = df[ (df['consumption'] > low_outliner) & (df['consumption'] < high_outliner) ]\n",
    "plt.boxplot(df_whithout_outliner['consumption'])\n",
    "plt.show()\n"
   ]
  },
  {
   "cell_type": "markdown",
   "metadata": {},
   "source": [
    "___\n",
    "- ### `Асимметрия`  \n",
    "\n",
    "Отклонение хвостов влево (-) или вправо(+) от идеальной модели нормального распределения.  \n",
    "\n",
    "### $ a_s = \\frac {\\sum(x_i - x_{mean})^3}{\\sigma^3} $\n"
   ]
  },
  {
   "cell_type": "code",
   "execution_count": 5,
   "metadata": {},
   "outputs": [
    {
     "data": {
      "text/plain": [
       "1.3717970059594626"
      ]
     },
     "execution_count": 5,
     "metadata": {},
     "output_type": "execute_result"
    }
   ],
   "source": [
    "a_s = df_whithout_outliner['consumption'].skew()\n",
    "a_s\n"
   ]
  },
  {
   "cell_type": "markdown",
   "metadata": {},
   "source": [
    "___\n",
    "- ### `Эксцесс`  \n",
    "Отклонение вершины вверх (+) или вниз(-) от идеальной модели нормального распределения.  \n",
    "\n",
    "\n",
    "### $ e_s = \\frac {\\sum(x_i - x_{mean})^4}{\\sigma^4}-3 $"
   ]
  },
  {
   "cell_type": "code",
   "execution_count": 6,
   "metadata": {},
   "outputs": [
    {
     "data": {
      "text/plain": [
       "1.1119262322672498"
      ]
     },
     "execution_count": 6,
     "metadata": {},
     "output_type": "execute_result"
    }
   ],
   "source": [
    "e_s = df_whithout_outliner['consumption'].kurtosis()\n",
    "e_s\n"
   ]
  },
  {
   "cell_type": "code",
   "execution_count": 7,
   "metadata": {},
   "outputs": [
    {
     "name": "stderr",
     "output_type": "stream",
     "text": [
      "C:\\Users\\nazar\\AppData\\Local\\Temp\\ipykernel_22140\\1069220354.py:1: SettingWithCopyWarning: \n",
      "A value is trying to be set on a copy of a slice from a DataFrame.\n",
      "Try using .loc[row_indexer,col_indexer] = value instead\n",
      "\n",
      "See the caveats in the documentation: https://pandas.pydata.org/pandas-docs/stable/user_guide/indexing.html#returning-a-view-versus-a-copy\n",
      "  df_whithout_outliner['stded_cons'] = (df_whithout_outliner['consumption'] - df_whithout_outliner['consumption'].mean())/df_whithout_outliner['consumption'].std()\n"
     ]
    },
    {
     "data": {
      "image/png": "[encoded data removed]",
      "text/plain": [
       "<Figure size 1000x500 with 1 Axes>"
      ]
     },
     "metadata": {},
     "output_type": "display_data"
    },
    {
     "data": {
      "text/plain": [
       "1.3717970059594629"
      ]
     },
     "execution_count": 7,
     "metadata": {},
     "output_type": "execute_result"
    }
   ],
   "source": [
    "df_whithout_outliner['stded_cons'] = (df_whithout_outliner['consumption'] - df_whithout_outliner['consumption'].mean())/df_whithout_outliner['consumption'].std()\n",
    "df_whithout_outliner\n",
    "fig = plt.figure(figsize=(10,5))\n",
    "plt.hist(df_whithout_outliner['stded_cons'], bins=70, edgecolor='black', label='распределение выборки')\n",
    "\n",
    "norm_arr = np.random.normal(size=1460)\n",
    "plt.hist(norm_arr, bins=70, alpha=0.5, edgecolor='black',label='номальное распределение')\n",
    "\n",
    "plt.axvline(df_whithout_outliner['stded_cons'].mean(), c='r')\n",
    "plt.axvline(norm_arr.mean(), c='r', linestyle='--', )\n",
    "plt.legend()\n",
    "plt.show()\n",
    "\n",
    "a_s = df_whithout_outliner['stded_cons'].skew()\n",
    "a_s\n"
   ]
  },
  {
   "cell_type": "markdown",
   "metadata": {},
   "source": [
    "___\n",
    "## <h2 id='gen' style='color:violet'>Выборка и генереальная совокупность</h2>\n",
    "___\n",
    "___"
   ]
  },
  {
   "cell_type": "markdown",
   "metadata": {},
   "source": [
    "### Формула расчета `необходимого объема выборки`  \n",
    "\n",
    "### $ n = \\frac{Z^2 \\cdot p \\cdot q}{\\triangle^2} $\n",
    "- $Z$ :  коэффициент, зависящий от доверительного уровня\n",
    "- $p$ : доля респондентов с наличием целевого признака\n",
    "- $q$ : доля респондентов без целевого признака\n",
    "- $\\triangle$ : предельная ошибка выборки"
   ]
  },
  {
   "cell_type": "code",
   "execution_count": 8,
   "metadata": {},
   "outputs": [
    {
     "name": "stdout",
     "output_type": "stream",
     "text": [
      "Необходимое количество элементов в выборке: 600.2279407334571\n"
     ]
    }
   ],
   "source": [
    "confidence_level = 0.95\n",
    "Z = st.norm.ppf(confidence_level + (1 - confidence_level)/2)\n",
    "p =0.5\n",
    "q = 0.5\n",
    "delta = 0.04\n",
    "print(f'Необходимое количество элементов в выборке: {((Z**2)*p*q)/delta**2}')\n"
   ]
  },
  {
   "cell_type": "markdown",
   "metadata": {},
   "source": [
    "___\n",
    "- ### `Доверительный интервал для среднего`\n",
    "Интервал, в котором находится среднее значение генеральной совокупности с заданной точностью.  \n",
    "`НАДЕЖНОСТЬ` (`статистическая значимость`= 1 - `НАДЕЖНОСТЬ`) - вероятность того, что среднее значение генеральной совокупности лежит в доверительном интервале (чем ближе к 1, тем выше точность оценки)  \n",
    "\n",
    "- Выборка `< 30 наблюдений`:\n",
    "\n",
    "### $ CI_{mean} = \\{\\mu - \\frac {t\\cdot \\sigma}{\\sqrt {n}} ; \\mu + \\frac {t\\cdot \\sigma}{\\sqrt {n}}\\}$, $t$ - коэффициент Стьюдента\n"
   ]
  },
  {
   "cell_type": "code",
   "execution_count": 9,
   "metadata": {},
   "outputs": [
    {
     "data": {
      "text/plain": [
       "(44.93123157777254, 49.4081017555608)"
      ]
     },
     "execution_count": 9,
     "metadata": {},
     "output_type": "execute_result"
    }
   ],
   "source": [
    "alpha = 0.90\n",
    "freedom_degree = len(df['consumption'].loc[:29])-1\n",
    "df_mean = df['consumption'].loc[:29].mean()\n",
    "\n",
    "CI = st.t.interval(confidence=alpha, df=freedom_degree , loc=df_mean, scale=st.sem(df['consumption']))\n",
    "CI\n"
   ]
  },
  {
   "cell_type": "markdown",
   "metadata": {},
   "source": [
    "- Выборка `> 30 наблюдений`:\n",
    "\n",
    "### $ CI_{mean} = \\{\\mu - \\frac {z\\cdot \\sigma}{\\sqrt {n}} ; \\mu + \\frac {z\\cdot \\sigma}{\\sqrt {n}}\\}$ , $z$ - коэффициент нормального распределения"
   ]
  },
  {
   "cell_type": "code",
   "execution_count": 10,
   "metadata": {},
   "outputs": [
    {
     "data": {
      "text/plain": [
       "(25.943470446434564, 30.277340742376634)"
      ]
     },
     "execution_count": 10,
     "metadata": {},
     "output_type": "execute_result"
    }
   ],
   "source": [
    "alpha = 0.90\n",
    "df_mean = df['consumption'].mean()\n",
    "\n",
    "CI = st.norm.interval(confidence=alpha, loc=df_mean, scale=st.sem(df['consumption']))\n",
    "CI\n"
   ]
  },
  {
   "cell_type": "markdown",
   "metadata": {},
   "source": [
    "___\n",
    "## <h2 id='h' style='color:violet'>Тестирование гипотез</h2>\n",
    "___\n",
    "___\n",
    "`p-value` -  вероятность, что полученное оценочное значение относится к $H_0$.  \n",
    "\n",
    "Если `p-value >` уровня значимости - $H_0$ не отвергается  \n",
    "Если `p-value <` уровня значимости - $H_0$ отвергается   "
   ]
  },
  {
   "cell_type": "markdown",
   "metadata": {},
   "source": [
    "___\n",
    "### Гипотеза о `нормальности распределения`\n",
    "- $H_0 :$ распределение выборки нормальное\n",
    "- $H_1 :$ распределение выборки ненормальное\n",
    "___\n",
    "Параметры теста **Шапиро-Уиллока**\n",
    "- pvalue : вероятность, что данные выборки распределены нормально\n",
    "- stats : стремится к 1 при нормальном распределениии данных выборки\n"
   ]
  },
  {
   "cell_type": "code",
   "execution_count": 11,
   "metadata": {},
   "outputs": [
    {
     "name": "stdout",
     "output_type": "stream",
     "text": [
      "Распределение данных выборки ненормальное\n"
     ]
    }
   ],
   "source": [
    "from scipy.stats import shapiro\n",
    "\n",
    "significance_level = 0.05\n",
    "\n",
    "stats, pvalue = shapiro(df['consumption'])\n",
    "if pvalue > significance_level:\n",
    "    print(f'Распределение данных выборки нормальное')\n",
    "elif pvalue < significance_level:\n",
    "    print(f'Распределение данных выборки ненормальное')\n"
   ]
  },
  {
   "cell_type": "markdown",
   "metadata": {},
   "source": [
    "___\n",
    "### Гипотеза о `равенстве дисперсий`\n",
    "- $H_0 :$ дисперсии обеих выборок одинаковы\n",
    "- $H_1 :$ дисперсии обеих выборок различны\n",
    "___\n",
    "Параметры теста **Левена**\n",
    "- pvalue : вероятность, что дисперсии для обеих выборок одинаковы\n",
    "- stats : стремится к 1 при больших различиях дисперсий"
   ]
  },
  {
   "cell_type": "code",
   "execution_count": 12,
   "metadata": {},
   "outputs": [
    {
     "name": "stdout",
     "output_type": "stream",
     "text": [
      "Дисперсии обеих выборок различны , p-value:0.000, stats=74.69\n"
     ]
    }
   ],
   "source": [
    "from scipy.stats import levene\n",
    "\n",
    "selection_1 = df['consumption'].iloc[:len(df['consumption'])//2]\n",
    "selection_2 = df['consumption'].iloc[len(df['consumption'])//2 :]\n",
    "significance_level = 0.05\n",
    "\n",
    "stats, pvalue = levene(selection_1, selection_2, center='mean')\n",
    "if pvalue > significance_level:\n",
    "    print(f'Дисперсии обеих выборок одинаковы, p-value:{pvalue}')\n",
    "elif pvalue < significance_level:\n",
    "    print(f'Дисперсии обеих выборок различны , p-value:{pvalue:.3f}, stats={stats:.2f}')\n"
   ]
  },
  {
   "cell_type": "markdown",
   "metadata": {},
   "source": [
    "___\n",
    "### Гипотеза о `равенстве средних`\n",
    "\n",
    "- $H_0 :$ средние обеих выборок одинаковы\n",
    "- $H_1 :$ средние обеих выборок различны\n",
    "___\n",
    "Условия примененеия **Т-теста Стьюдента**:\n",
    "- Данные обеих выборок `независимы`\n",
    "- Обе выборки имеют близкое к нормальному распределению\n",
    "- Дисперсии одинаковы для обеих выборок  \n",
    "\n",
    "Параметры **Т-теста Стьюдента**\n",
    "- pvalue : вероятность, что средние для обеих выборок одинаковы"
   ]
  },
  {
   "cell_type": "code",
   "execution_count": 13,
   "metadata": {},
   "outputs": [
    {
     "name": "stdout",
     "output_type": "stream",
     "text": [
      "65.714 66.464\n"
     ]
    },
    {
     "data": {
      "image/png": "[encoded data removed]",
      "text/plain": [
       "<Figure size 1000x500 with 1 Axes>"
      ]
     },
     "metadata": {},
     "output_type": "display_data"
    }
   ],
   "source": [
    "selection_1 = data['math score'].iloc[: len(data['math score'])// 2]\n",
    "selection_2 = data['math score'].iloc[len(data['math score'])// 2: ]\n",
    "\n",
    "s1_mean = selection_1.mean()\n",
    "s2_mean = selection_2.mean()\n",
    "print(s1_mean, s2_mean)\n",
    "\n",
    "plt.figure(figsize=(10,5))\n",
    "plt.hist(selection_1, bins=50, edgecolor='black', label='selection 1')\n",
    "plt.hist(selection_2, bins=50, edgecolor='black', alpha=0.5, label='selection 2')\n",
    "plt.axvline(s1_mean, linestyle='--', c='r', label='mean')\n",
    "plt.legend();\n"
   ]
  },
  {
   "cell_type": "markdown",
   "metadata": {},
   "source": [
    "- Проверка на нормальность распределений выборок"
   ]
  },
  {
   "cell_type": "code",
   "execution_count": 14,
   "metadata": {},
   "outputs": [
    {
     "name": "stdout",
     "output_type": "stream",
     "text": [
      "У Selection 1 Распределение нормальное !\n",
      "У Selection 2 Распределение нормальное !\n"
     ]
    }
   ],
   "source": [
    "from scipy.stats import shapiro\n",
    "\n",
    "alpha = 0.05\n",
    "stats, pvalue = shapiro(selection_1)\n",
    "if pvalue > alpha:\n",
    "    print('У Selection 1 Распределение не нормальное!')\n",
    "elif pvalue < alpha:\n",
    "    print('У Selection 1 Распределение нормальное !')\n",
    "\n",
    "alpha = 0.05\n",
    "stats, pvalue = shapiro(selection_2)\n",
    "if pvalue > alpha:\n",
    "    print('У Selection 2 Распределение не нормальное!')\n",
    "elif pvalue < alpha:\n",
    "    print('У Selection 2 Распределение нормальное !')\n"
   ]
  },
  {
   "cell_type": "markdown",
   "metadata": {},
   "source": [
    "- Проверка на равенство дисперсий выборок"
   ]
  },
  {
   "cell_type": "code",
   "execution_count": 15,
   "metadata": {},
   "outputs": [
    {
     "name": "stdout",
     "output_type": "stream",
     "text": [
      "У выборок дисперсии равны!\n"
     ]
    }
   ],
   "source": [
    "from scipy.stats import levene\n",
    "\n",
    "alpha = 0.05\n",
    "stats, pvalue = levene(selection_1, selection_2)\n",
    "if pvalue > alpha:\n",
    "    print('У выборок дисперсии равны!')\n",
    "elif pvalue < alpha:\n",
    "    print('У выборок дисперсии не равны!')\n"
   ]
  },
  {
   "cell_type": "markdown",
   "metadata": {},
   "source": [
    "- Т-тест Стьюдента"
   ]
  },
  {
   "cell_type": "code",
   "execution_count": 16,
   "metadata": {},
   "outputs": [
    {
     "name": "stdout",
     "output_type": "stream",
     "text": [
      "У выборок средние равны!, p-value=0.434\n"
     ]
    }
   ],
   "source": [
    "from scipy.stats import ttest_ind\n",
    "\n",
    "alpha = 0.05\n",
    "stats, pvalue = ttest_ind(selection_1, selection_2)\n",
    "if pvalue > alpha:\n",
    "    print(f'У выборок средние равны!, p-value={pvalue:.3f}')\n",
    "elif pvalue < alpha:\n",
    "    print(f'У выборок средние не равны!, p-value={pvalue}')\n"
   ]
  },
  {
   "cell_type": "markdown",
   "metadata": {},
   "source": [
    "___\n",
    "Условия применения **Парного т-теста Стьюдента**:\n",
    "- Данные обеих выборок - одни и те же элементы выборки до и после измененений\n",
    "- Обе выборки имеют близкое к нормальному распределению\n",
    "- Дисперсии одинаковы для обеих выборок  \n",
    "\n",
    "Параметры **Парного т-теста Стьюдента**\n",
    "- pvalue : вероятность, что средние для обеих выборок одинаковы"
   ]
  },
  {
   "cell_type": "code",
   "execution_count": 17,
   "metadata": {},
   "outputs": [
    {
     "name": "stdout",
     "output_type": "stream",
     "text": [
      "65.714 64.68\n",
      "Средние выборок равны, p-value=0.4221457388151748\n"
     ]
    },
    {
     "data": {
      "text/plain": [
       "TtestResult(statistic=-0.8033659719119332, pvalue=0.4221457388151748, df=499)"
      ]
     },
     "execution_count": 17,
     "metadata": {},
     "output_type": "execute_result"
    }
   ],
   "source": [
    "from scipy.stats import ttest_rel\n",
    "\n",
    "func = lambda x: np.random.randint(-50,50,size=len(selection_1))+x\n",
    "selection_2 = func(selection_1)\n",
    "\n",
    "mean_s1 = selection_1.mean()\n",
    "mean_s2 = selection_2.mean()\n",
    "print(mean_s1, mean_s2)\n",
    "\n",
    "alpha = 0.05\n",
    "stats, pvalue = ttest_rel(selection_2, selection_1)\n",
    "\n",
    "if pvalue > alpha:\n",
    "    print(f'Средние выборок равны, p-value={pvalue}')\n",
    "elif pvalue < alpha:\n",
    "    print(f'Средние выборок не равны, p-value={pvalue}')\n",
    "ttest_rel(selection_2, selection_1)\n"
   ]
  },
  {
   "cell_type": "markdown",
   "metadata": {},
   "source": [
    "___\n",
    "Условия применения **теста Манна-Уиттни**:\n",
    "- Данные обеих выборок независимы\n",
    "- У выборок `не нормальное` распределение\n",
    "- Дисперсии `не одинаковы` для обеих выборок  \n",
    "\n",
    "Параметры **теста Манна-Уиттни**\n",
    "- pvalue : вероятность, что средние для обеих выборок одинаковы"
   ]
  },
  {
   "cell_type": "code",
   "execution_count": 18,
   "metadata": {},
   "outputs": [
    {
     "name": "stdout",
     "output_type": "stream",
     "text": [
      "У выборок средние не равны!, p-value=0.000\n"
     ]
    }
   ],
   "source": [
    "from scipy.stats import mannwhitneyu\n",
    "\n",
    "sel_1 = df['consumption'].iloc[:len(df['consumption'])//2]\n",
    "sel_2 = df['consumption'].iloc[len(df['consumption'])//2 :]\n",
    "\n",
    "stats, pvalue = mannwhitneyu(sel_1, sel_2)\n",
    "if pvalue > alpha:\n",
    "    print(f'У выборок средние равны!, p-value={pvalue:.3f}')\n",
    "elif pvalue < alpha:\n",
    "    print(f'У выборок средние не равны!, p-value={pvalue:.3f}')\n"
   ]
  },
  {
   "cell_type": "markdown",
   "metadata": {},
   "source": [
    "___\n",
    "### Гипотеза о `корреляции данных`\n",
    "\n",
    "- $H_0 :$ данные выборок независимы\n",
    "- $H_1 :$ данные выборок зависимы\n",
    "___\n",
    "Условия примененеия **теста Пирсона**:\n",
    "\n",
    "- Обе выборки имеют близкое к `нормальному распределению`\n",
    "- `Дисперсии одинаковы` для обеих выборок  \n",
    "\n",
    "Параметры **теста Пирсона**\n",
    "- pvalue : вероятность, что данные выборок независимы"
   ]
  },
  {
   "cell_type": "code",
   "execution_count": 19,
   "metadata": {},
   "outputs": [
    {
     "name": "stdout",
     "output_type": "stream",
     "text": [
      "Данные выборок зависимы, p-value=2.7098714379643378e-08\n"
     ]
    },
    {
     "data": {
      "image/png": "[encoded data removed]",
      "text/plain": [
       "<Figure size 1000x500 with 1 Axes>"
      ]
     },
     "metadata": {},
     "output_type": "display_data"
    }
   ],
   "source": [
    "from scipy.stats import pearsonr\n",
    "\n",
    "x = np.array([46, 92, 40, 88, 94, 20, 10, 4, 98, 52, 35, 90])\n",
    "func = lambda x: (x**2)+x*5\n",
    "y = func(x)\n",
    "plt.figure(figsize=(10,5))\n",
    "plt.scatter(x,y)\n",
    "\n",
    "alpha = 0.05\n",
    "stats, pvalue = pearsonr(x,y)\n",
    "if pvalue > alpha:\n",
    "    print(f'Данные выборок независимы, p-value={pvalue}')\n",
    "elif pvalue < alpha:\n",
    "    print(f'Данные выборок зависимы, p-value={pvalue}')\n"
   ]
  },
  {
   "cell_type": "markdown",
   "metadata": {},
   "source": [
    "___\n",
    "Условия примененеия **теста Спирмана**:\n",
    "\n",
    "- Распределение обеих выборок `не известно`\n",
    "- `Не известна` равна ли дисперсия обеих выборок\n",
    "\n",
    "Параметры **теста Пирсона**\n",
    "- pvalue : вероятность, что данные выборок независимы"
   ]
  },
  {
   "cell_type": "code",
   "execution_count": 20,
   "metadata": {},
   "outputs": [
    {
     "name": "stdout",
     "output_type": "stream",
     "text": [
      "Данные выборок зависимы, p-value=0.0\n"
     ]
    }
   ],
   "source": [
    "from scipy.stats import spearmanr\n",
    "\n",
    "stats, pvalue = spearmanr(x,y)\n",
    "if pvalue > alpha:\n",
    "    print(f'Данные выборок независимы, p-value={pvalue}')\n",
    "elif pvalue < alpha:\n",
    "    print(f'Данные выборок зависимы, p-value={pvalue}')\n"
   ]
  },
  {
   "cell_type": "markdown",
   "metadata": {},
   "source": [
    "___\n",
    "## [Содержание](#cont)"
   ]
  }
 ],
 "metadata": {
  "kernelspec": {
   "display_name": "Python 3",
   "language": "python",
   "name": "python3"
  },
  "language_info": {
   "codemirror_mode": {
    "name": "ipython",
    "version": 3
   },
   "file_extension": ".py",
   "mimetype": "text/x-python",
   "name": "python",
   "nbconvert_exporter": "python",
   "pygments_lexer": "ipython3",
   "version": "3.11.1"
  }
 },
 "nbformat": 4,
 "nbformat_minor": 2
}
