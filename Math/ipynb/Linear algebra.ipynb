{
 "cells": [
  {
   "cell_type": "markdown",
   "metadata": {},
   "source": [
    "___\n",
    "# `Линейная  алгебра`\n",
    "<img src='data/img/linal.jpg' width='500'></img>\n",
    "___\n",
    "## <a id='s'>Содержание</a>\n",
    "## `Векторы`\n",
    "-  [Нормы](#norm)\n",
    "- [Скалярное произведение](#dot)\n",
    "- [Гиперплоскость](#hyp)\n",
    "- [Векторное произведение](#cross)\n",
    "- [Расстояние между векторами](#dist)\n",
    "## `Матрицы`\n",
    "- [Обратная матрица](#inv)\n",
    "- [Мультиколлинеарность](#mult)\n",
    "    - [Ранг матрицы](#rank)\n",
    "    - [Определитель](#det)\n",
    "\n",
    "\n"
   ]
  },
  {
   "cell_type": "markdown",
   "metadata": {},
   "source": [
    "___\n",
    "##### Импорт библиотек"
   ]
  },
  {
   "cell_type": "code",
   "execution_count": 2,
   "metadata": {},
   "outputs": [],
   "source": [
    "import numpy as np\n",
    "import matplotlib.pyplot as plt\n"
   ]
  },
  {
   "cell_type": "markdown",
   "metadata": {},
   "source": [
    "___\n",
    "# `Векторы`\n",
    "___"
   ]
  },
  {
   "cell_type": "markdown",
   "metadata": {},
   "source": [
    "___\n",
    "## <a id='norm'>$$Нормы \\  векторов$$</a>\n",
    "___"
   ]
  },
  {
   "cell_type": "markdown",
   "metadata": {},
   "source": [
    "___\n",
    "## `L1-норма` (манхэттенская метрика) \n",
    "Сумма всех модулей координат\n",
    "\n",
    " $ || v ||_1 = (\\sum{|v|^1})^{\\frac{1}{1}} $\n",
    " ___"
   ]
  },
  {
   "cell_type": "code",
   "execution_count": 3,
   "metadata": {},
   "outputs": [
    {
     "data": {
      "text/plain": [
       "9.0"
      ]
     },
     "execution_count": 3,
     "metadata": {},
     "output_type": "execute_result"
    }
   ],
   "source": [
    "v = np.array([5,4])\n",
    "np.linalg.norm(v, ord=1)\n"
   ]
  },
  {
   "cell_type": "markdown",
   "metadata": {},
   "source": [
    "___\n",
    "## `L2-норма` (длина вектора)\n",
    "Частный случай метрики Минковского для 2-х мерного пространства\n",
    "\n",
    " $ || v ||_2 = (\\sqrt{\\sum{v^2}}) $\n",
    " ___"
   ]
  },
  {
   "cell_type": "code",
   "execution_count": 4,
   "metadata": {},
   "outputs": [
    {
     "data": {
      "text/plain": [
       "6.4031242374328485"
      ]
     },
     "execution_count": 4,
     "metadata": {},
     "output_type": "execute_result"
    }
   ],
   "source": [
    "np.linalg.norm(v, ord=2)\n"
   ]
  },
  {
   "cell_type": "markdown",
   "metadata": {},
   "source": [
    "___\n",
    "## `Метрика Минковского` ($R^d$) \n",
    "\n",
    "\n",
    " $ || v ||_n = (\\sum{|v|^n})^{\\frac{1}{n}} $\n",
    " ___"
   ]
  },
  {
   "cell_type": "code",
   "execution_count": 5,
   "metadata": {},
   "outputs": [
    {
     "data": {
      "text/plain": [
       "5.360220495669696"
      ]
     },
     "execution_count": 5,
     "metadata": {},
     "output_type": "execute_result"
    }
   ],
   "source": [
    "v = np.array([5,4,3,2,1])\n",
    "\n",
    "np.linalg.norm(v, ord=5)\n"
   ]
  },
  {
   "cell_type": "markdown",
   "metadata": {},
   "source": [
    "___\n",
    "## <a id='dot'>$$Скалярное \\ произведение \\  векторов$$</a>\n",
    "$ v1 \\cdot v2 = число$\n",
    "___"
   ]
  },
  {
   "cell_type": "code",
   "execution_count": 6,
   "metadata": {},
   "outputs": [
    {
     "data": {
      "text/plain": [
       "13"
      ]
     },
     "execution_count": 6,
     "metadata": {},
     "output_type": "execute_result"
    }
   ],
   "source": [
    "v1 = np.array([1,4])\n",
    "v2 = np.array([5,2])\n",
    "\n",
    "np.dot(v1,v2)\n"
   ]
  },
  {
   "cell_type": "markdown",
   "metadata": {},
   "source": [
    "___\n",
    "- ### `Длина вектора` через скалярное произведение\n",
    "\n",
    "$ \\sqrt{v1 \\cdot v1} = длина \\ v1$"
   ]
  },
  {
   "cell_type": "code",
   "execution_count": 7,
   "metadata": {},
   "outputs": [
    {
     "data": {
      "text/plain": [
       "4.123105625617661"
      ]
     },
     "execution_count": 7,
     "metadata": {},
     "output_type": "execute_result"
    }
   ],
   "source": [
    "np.dot(v1, v1)**0.5\n"
   ]
  },
  {
   "cell_type": "markdown",
   "metadata": {},
   "source": [
    "___\n",
    "- ### `Угол` между векторами\n",
    "\n",
    "$ cosw = \\frac{(v1, v2)}{||v1|| * ||v2||}$"
   ]
  },
  {
   "cell_type": "code",
   "execution_count": 8,
   "metadata": {},
   "outputs": [
    {
     "data": {
      "text/plain": [
       "33.54613768005881"
      ]
     },
     "execution_count": 8,
     "metadata": {},
     "output_type": "execute_result"
    }
   ],
   "source": [
    "cos = np.cos(np.dot(v1,v2)/ ((np.dot(v1,v1)**0.5)*(np.dot(v2,v2)**0.5)))\n",
    "angle_radian = np.arccos(cos)\n",
    "angle_degrees = np.rad2deg(angle_radian)\n",
    "angle_degrees\n"
   ]
  },
  {
   "cell_type": "markdown",
   "metadata": {},
   "source": [
    "___\n",
    "- ### `Проекция` вектора\n",
    "\n",
    "$ v1_{v2} = \\frac{v1 \\cdot v2}{v1 \\cdot v1} * v2 $"
   ]
  },
  {
   "cell_type": "code",
   "execution_count": 9,
   "metadata": {},
   "outputs": [
    {
     "data": {
      "text/plain": [
       "array([2.24137931, 0.89655172])"
      ]
     },
     "execution_count": 9,
     "metadata": {},
     "output_type": "execute_result"
    }
   ],
   "source": [
    "v1_proj_v2 = (np.dot(v1,v2) / (np.dot(v2,v2)**0.5)**2 )* v2\n",
    "v1_proj_v2\n"
   ]
  },
  {
   "cell_type": "markdown",
   "metadata": {},
   "source": [
    "- ### `Длина` спроецированного вектора\n",
    "\n",
    "$ ||v1_{v2}|| = \\frac{|v1 \\cdot v2|}{||v2||} $"
   ]
  },
  {
   "cell_type": "code",
   "execution_count": 22,
   "metadata": {},
   "outputs": [
    {
     "data": {
      "text/plain": [
       "2.4140393963016744"
      ]
     },
     "execution_count": 22,
     "metadata": {},
     "output_type": "execute_result"
    }
   ],
   "source": [
    "norm_v1_proj_v2 = (v1 @ v2) / np.sqrt( v2 @ v2)\n",
    "norm_v1_proj_v2"
   ]
  },
  {
   "cell_type": "code",
   "execution_count": 11,
   "metadata": {},
   "outputs": [
    {
     "data": {
      "text/plain": [
       "<matplotlib.legend.Legend at 0x1e77fa03690>"
      ]
     },
     "execution_count": 11,
     "metadata": {},
     "output_type": "execute_result"
    },
    {
     "data": {
      "image/png": "[encoded data removed]",
      "text/plain": [
       "<Figure size 640x480 with 1 Axes>"
      ]
     },
     "metadata": {},
     "output_type": "display_data"
    }
   ],
   "source": [
    "v1_1 = plt.arrow(0,0,v1[0],v1[1])\n",
    "v2_1 = plt.arrow(0,0,v2[0],v2[1])\n",
    "proj = plt.arrow(0,0,v1_proj_v2[0],v1_proj_v2[1])\n",
    "dashed = plt.arrow(v1_proj_v2[0], v1_proj_v2[1], -1.2,3)\n",
    "plt.xlim((0,10))\n",
    "plt.ylim((0,10))\n",
    "v1_1.set_label('v1')\n",
    "v1_1.set_color('black')\n",
    "v2_1.set_color('blue')\n",
    "v2_1.set_label('v2')\n",
    "proj.set_linewidth(2)\n",
    "proj.set_color('red')\n",
    "proj.set_label('projection')\n",
    "dashed.set_linestyle(':')\n",
    "plt.grid()\n",
    "plt.title('Проекция вектора v1 на вектор v2')\n",
    "plt.legend()\n"
   ]
  },
  {
   "cell_type": "markdown",
   "metadata": {},
   "source": [
    "___\n",
    "## <center><a id='hyp'>Гиперплоскость</a>\n",
    "\n",
    "Множество всех точек, векторы которых ортогональны вектору-перпендикуляру гиперплоскости  $\\rightarrow$  \n",
    "$  \\rightarrow тк,\\ w \\cdot X = 0$, то угол между векторами $ w \\ и \\ X = 90\\degree $\n",
    "\n",
    "Уравнение гиперплоскости:  \n",
    "\n",
    "$w_1X_1 + w_2X_2 ... w_nX_n + b = 0$  \n",
    "\n",
    "или   \n",
    " \n",
    "$ (w, X) + b = 0 $ ,\n",
    "- $b$ : свободный член, определяющий смещение гиперплоскости относительно вектора-перепндикуляра\n",
    "- $w$ : вектор $(w_1, w_2...w_n)$ перпендикулярный кажой точке лежащей в плоскости\n",
    "    - $w_n$ :  коэффициенты, определяющие направление нормали к гиперплоскости\n",
    "- $X$ : векторы в координатном пространстве\n",
    "    - $X_n$ : координаты точки в пространстве\n",
    "\n",
    "<img src='data/img/hyperplane.png'>  \n",
    "\n",
    "Объекты <a >синего класса</a> описываются уравнением:  \n",
    "$ (w, X) + b > 0 $\n",
    "\n",
    "Объекты <a style='color:red'>красного класса</a> описываются уравнением:  \n",
    "$ (w, X) + b < 0 $\n",
    "\n",
    "<img src='data/img/wx.png'>"
   ]
  },
  {
   "cell_type": "markdown",
   "metadata": {},
   "source": [
    "___\n",
    "## <a id='cross'>$$ Векторное\\ произведение \\  векторов$$</a>\n",
    "Определяет третий вектор, перпендикулярный двум векторам\n",
    "___"
   ]
  },
  {
   "cell_type": "code",
   "execution_count": 12,
   "metadata": {},
   "outputs": [
    {
     "data": {
      "text/plain": [
       "array([-3,  6, -3])"
      ]
     },
     "execution_count": 12,
     "metadata": {},
     "output_type": "execute_result"
    }
   ],
   "source": [
    "v1_3 = np.array([1, 2, 3])\n",
    "v2_3 = np.array([4, 5, 6])\n",
    "\n",
    "np.cross(v1_3,v2_3)\n"
   ]
  },
  {
   "cell_type": "markdown",
   "metadata": {},
   "source": [
    "___\n",
    "## <a id='dist'>$$Расстояние \\ между \\  векторами$$</a>\n",
    "___"
   ]
  },
  {
   "cell_type": "markdown",
   "metadata": {},
   "source": [
    "___\n",
    "## `L1-расстояние` \n",
    "\n",
    "Сумма `абсолютных значений` разности координат\n",
    "\n",
    " $ | v1 - v2 |_1 = \\sum{|v1 - v2|}$  \n",
    " \n",
    "<img src='data/img/L1.png'></img>\n",
    " ___"
   ]
  },
  {
   "cell_type": "code",
   "execution_count": 13,
   "metadata": {},
   "outputs": [
    {
     "data": {
      "text/plain": [
       "6"
      ]
     },
     "execution_count": 13,
     "metadata": {},
     "output_type": "execute_result"
    }
   ],
   "source": [
    "sum(abs(v1 - v2))\n"
   ]
  },
  {
   "cell_type": "markdown",
   "metadata": {},
   "source": [
    "___\n",
    "## `L2-расстояние` \n",
    "Длина вектора между концами векторов\n",
    "\n",
    " $ | v1 - v2 |_2 = (\\sqrt{\\sum{(v1 - v2)^2}}) $\n",
    "\n",
    "<img src='data/img/L2.png'></img>\n",
    " ___"
   ]
  },
  {
   "cell_type": "code",
   "execution_count": 14,
   "metadata": {},
   "outputs": [
    {
     "data": {
      "text/plain": [
       "4.47213595499958"
      ]
     },
     "execution_count": 14,
     "metadata": {},
     "output_type": "execute_result"
    }
   ],
   "source": [
    "np.linalg.norm(v1- v2)\n"
   ]
  },
  {
   "cell_type": "markdown",
   "metadata": {},
   "source": [
    "___\n",
    "## `Косинусное расстояние` (cosine distance)\n",
    "Угол между векторами\n",
    "\n",
    " $ cosine \\ distance(v1, v2 ) = 1 - \\frac {(v1 \\cdot v2)} {(|v1| * |v2| )}$\n",
    "\n",
    "<img src='data/img/cos.png'></img>\n",
    " ___"
   ]
  },
  {
   "cell_type": "code",
   "execution_count": 15,
   "metadata": {},
   "outputs": [
    {
     "data": {
      "text/plain": [
       "0.41450944615564145"
      ]
     },
     "execution_count": 15,
     "metadata": {},
     "output_type": "execute_result"
    }
   ],
   "source": [
    "1 - np.dot(v1,v2) / ((np.dot(v1,v1)**0.5) * (np.dot(v2,v2)**0.5))\n"
   ]
  },
  {
   "cell_type": "markdown",
   "metadata": {},
   "source": [
    "___\n",
    "# `Матрицы`\n",
    "___"
   ]
  },
  {
   "cell_type": "markdown",
   "metadata": {},
   "source": [
    "___\n",
    "## <a id='inv'>$$Обратная \\  матрица$$</a>\n",
    "\n",
    "`Обратная матрица` - матрица, при умножении которой на `исходную матрицу` даёт `единичную матрицу`\n",
    "\n",
    "## $E = M^{-1} \\cdot M$\n",
    "___"
   ]
  },
  {
   "cell_type": "code",
   "execution_count": 16,
   "metadata": {},
   "outputs": [
    {
     "data": {
      "text/plain": [
       "array([[1.00000000e+00, 0.00000000e+00],\n",
       "       [1.11022302e-16, 1.00000000e+00]])"
      ]
     },
     "execution_count": 16,
     "metadata": {},
     "output_type": "execute_result"
    }
   ],
   "source": [
    "M = np.array([[1,2], [3,4]])\n",
    "\n",
    "M_inv = np.linalg.inv(M)\n",
    "E = M_inv.dot(M)\n",
    "E\n"
   ]
  },
  {
   "cell_type": "markdown",
   "metadata": {},
   "source": [
    "___\n",
    "## <a id='mult'>$$Мультиколлинеарность$$</a>\n",
    "\n",
    "Явление, когда матрица признаков содержит `линейно зависимые` пременные  \n",
    "\n",
    "Признаки мультиколлинеарности:\n",
    "- Низкий ранг матрицы приизнаков\n",
    "- Определитель матрицы признаков = 0\n",
    "___"
   ]
  },
  {
   "cell_type": "markdown",
   "metadata": {},
   "source": [
    "___\n",
    "### <a id='rank'>Ранг матрицы</a>"
   ]
  },
  {
   "cell_type": "code",
   "execution_count": 17,
   "metadata": {},
   "outputs": [
    {
     "data": {
      "text/plain": [
       "2"
      ]
     },
     "execution_count": 17,
     "metadata": {},
     "output_type": "execute_result"
    }
   ],
   "source": [
    "np.linalg.matrix_rank(M)\n"
   ]
  },
  {
   "cell_type": "markdown",
   "metadata": {},
   "source": [
    "___\n",
    "### <a id='det'>Определитель матрицы</a>"
   ]
  },
  {
   "cell_type": "code",
   "execution_count": 18,
   "metadata": {},
   "outputs": [
    {
     "data": {
      "text/plain": [
       "-2.0000000000000004"
      ]
     },
     "execution_count": 18,
     "metadata": {},
     "output_type": "execute_result"
    }
   ],
   "source": [
    "np.linalg.det(M)\n"
   ]
  },
  {
   "cell_type": "markdown",
   "metadata": {},
   "source": [
    "___\n",
    "## <a id='mult'>$$Собственные \\ значения \\ и \\ собственные \\ вектора$$</a>\n",
    "\n",
    "`Cобственное значение` квадратной матрицы M - `число λ` такое,  что система уравнений  \n",
    " $ M \\cdot x = \\lambda \\cdot x$   \n",
    "имеет ненулевое решение $x$. \n",
    "\n",
    "Это решение называется `собственным вектором` матрицы М  \n",
    "\n",
    "___"
   ]
  },
  {
   "cell_type": "code",
   "execution_count": 19,
   "metadata": {},
   "outputs": [
    {
     "name": "stdout",
     "output_type": "stream",
     "text": [
      "[ 3. -1.]\n",
      "[[ 0.70710678 -0.70710678]\n",
      " [ 0.70710678  0.70710678]]\n"
     ]
    },
    {
     "data": {
      "text/plain": [
       "EigResult(eigenvalues=array([ 3., -1.]), eigenvectors=array([[ 0.70710678, -0.70710678],\n",
       "       [ 0.70710678,  0.70710678]]))"
      ]
     },
     "execution_count": 19,
     "metadata": {},
     "output_type": "execute_result"
    }
   ],
   "source": [
    "M = np.array([[1,2],[2,1]])\n",
    "\n",
    "eigen = np.linalg.eig(M)\n",
    "print(eigen[0])\n",
    "print(eigen[1])\n",
    "eigen"
   ]
  },
  {
   "cell_type": "markdown",
   "metadata": {},
   "source": [
    "___\n",
    "___\n",
    "## <a id='mult'>$$Решение \\ СЛАУ$$</a>\n",
    "### $A \\cdot x = B$ : \n",
    "- A - матрица коэффициентов при x\n",
    "- B - ответы уравнений (вектор свободных членов)\n",
    "### $x = A^{-1} \\cdot B$\n",
    "- x - вектор решений СЛАУ"
   ]
  },
  {
   "cell_type": "code",
   "execution_count": 20,
   "metadata": {},
   "outputs": [
    {
     "data": {
      "text/plain": [
       "array([ 5.,  3., -2.])"
      ]
     },
     "execution_count": 20,
     "metadata": {},
     "output_type": "execute_result"
    }
   ],
   "source": [
    "A = np.array([[1, 1, 1],\n",
    "              [0, 2, 5],\n",
    "              [2, 5, -1]])\n",
    "B = np.array([6, -4, 27])\n",
    "np.linalg.solve(A,B)\n"
   ]
  },
  {
   "cell_type": "markdown",
   "metadata": {},
   "source": [
    "___\n",
    "# $\\uparrow$ [Содержание](#s) $\\uparrow$"
   ]
  }
 ],
 "metadata": {
  "kernelspec": {
   "display_name": "Python 3",
   "language": "python",
   "name": "python3"
  },
  "language_info": {
   "codemirror_mode": {
    "name": "ipython",
    "version": 3
   },
   "file_extension": ".py",
   "mimetype": "text/x-python",
   "name": "python",
   "nbconvert_exporter": "python",
   "pygments_lexer": "ipython3",
   "version": "3.11.1"
  }
 },
 "nbformat": 4,
 "nbformat_minor": 2
}
