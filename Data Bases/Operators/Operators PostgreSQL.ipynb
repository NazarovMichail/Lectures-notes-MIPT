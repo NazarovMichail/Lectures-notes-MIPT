{
 "cells": [
  {
   "cell_type": "markdown",
   "metadata": {},
   "source": [
    "# `Основные операторы PostgreSQL`\n",
    "\n",
    "<img src='data/img/pglogo.png' width=700>\n",
    "\n",
    "____\n",
    "\n",
    "### <a id=0>Содержание</a>\n",
    "- [Исходные данные](#1)\n",
    "- [Задача](#2)\n",
    "- [Решения](#2)\n"
   ]
  },
  {
   "cell_type": "markdown",
   "metadata": {},
   "source": [
    "___\n",
    "## <center> <a id=1>Исходные данные</a>"
   ]
  },
  {
   "cell_type": "markdown",
   "metadata": {},
   "source": [
    "Дано два csv-файла с данными о клиентах :\n",
    "\n",
    "- `customer.csv`\n",
    "\n",
    "|Поле |Описание |\n",
    "|:--|:--|\n",
    "|customer_id  |id клиента |\n",
    "| first_name  | \tимя клиента |\n",
    "| last_name  | \tфамилия клиента |\n",
    "| gender  |пол  |\n",
    "|  DOB | \tдата рождения |\n",
    "| job_title  | профессия |\n",
    "| job_industry_category |\tсфера деятельности  |\n",
    "| wealth_segment  |\tсегмент благосостояния  |\n",
    "|deceased_indicator   | \tфлаг актуального клиента |\n",
    "| owns_car | флаг наличия автомобиля |\n",
    "|address   | \tадрес проживания |\n",
    "| postcode  |\tпочтовый индекс  |\n",
    "| state  | штат |\n",
    "|country   | страна проживания |\n",
    "| property_valuation |  оценка имущества|\n",
    "\n",
    "- `transaction.csv`\n",
    "\n",
    "|Поле |Описание |\n",
    "|:--|:--|\n",
    "|transaction_id | id транзакции|\n",
    "|product_id | \tid продукта|\n",
    "|customer_id | id клиента|\n",
    "|transaction_date |\tдата транзакции |\n",
    "|online_order |флаг онлайн-заказа |\n",
    "| order_status| \tстатус транзакции|\n",
    "|brand | бренд|\n",
    "| product_line| \tлинейка продуктов|\n",
    "| product_class|\tкласс продукта |\n",
    "|product_size | \tразмер продукта|\n",
    "|list_price |\tцена |\n",
    "|standard_cost |\tстандартная стоимость |\n"
   ]
  },
  {
   "cell_type": "markdown",
   "metadata": {},
   "source": [
    "___\n",
    "## <center> <a id=2>Задача</a>\n",
    "\n",
    "$\\boxed{1}$ Создать таблицы со следующими структурами и загрузить данные из csv-файлов\n",
    "\n",
    "$\\boxed{2}$ Выполнить следующие запросы :\n",
    "\n",
    "- Вывести все уникальные бренды, у которых стандартная стоимость выше 1500 долларов.\n",
    "\n",
    "-  Вывести все подтвержденные транзакции за период '2017-04-01' по '2017-04-09' включительно.\n",
    "- Вывести все профессии у клиентов из сферы IT или Financial Services, которые начинаются с фразы 'Senior'.\n",
    "- Вывести все бренды, которые закупают клиенты, работающие в сфере Financial Services.\n",
    "- Вывести 10 клиентов, которые оформили онлайн-заказ продукции из брендов 'Giant Bicycles', 'Norco Bicycles', 'Trek Bicycles'.\n",
    "- Вывести всех клиентов, у которых нет транзакций.\n",
    "-  Вывести всех клиентов из IT, у которых транзакции с максимальной стандартной стоимостью.\n",
    "- Вывести всех клиентов из сферы IT и Health, у которых есть подтвержденные транзакции за период '2017-07-07' по '2017-07-17'."
   ]
  },
  {
   "cell_type": "markdown",
   "metadata": {},
   "source": [
    "___\n",
    "## <center> <a id=3>Решение</a>"
   ]
  },
  {
   "cell_type": "markdown",
   "metadata": {},
   "source": [
    "___\n",
    "###  <a id=3>Создание таблиц</a>"
   ]
  },
  {
   "cell_type": "code",
   "execution_count": null,
   "metadata": {
    "vscode": {
     "languageId": "sql"
    }
   },
   "outputs": [],
   "source": [
    "create table customer (\n",
    "\"customer_id\" int4,\n",
    "\"first_name\" varchar(50),\n",
    "\"last_name\" varchar(50),\n",
    "\"gender\" varchar(30),\n",
    "\"DOB\" varchar(50),\n",
    "\"job_title\" varchar(50) ,\n",
    "\"job_industry_category\" varchar(50) ,\n",
    "\"wealth_segment\"  varchar(50),\n",
    "\"deceased_indicator\"  varchar(50),\n",
    "\"owns_car\"  varchar(30),\n",
    "\"address\"  varchar(50),\n",
    "\"postcode\"  varchar(30),\n",
    "\"state\"  varchar(30),\n",
    "\"country\"  varchar(30),\n",
    "\"property_valuation\"  int4\n",
    ");\n",
    "\n",
    "create table transaction (\n",
    "\"transaction_id\"  int4,\n",
    "\"product_id\"  int4,\n",
    "\"customer_id\"  int4,\n",
    "\"transaction_date\"  varchar(30),\n",
    "\"online_order\"  varchar(30),\n",
    "\"order_status\"  varchar(30),\n",
    "\"brand\"  varchar(30),\n",
    "\"product_line\"  varchar(30),\n",
    "\"product_class\"  varchar(30),\n",
    "\"product_size\"  varchar(30),\n",
    "\"list_price\"  float4,\n",
    "\"standard_cost\"  float4\n",
    ");"
   ]
  },
  {
   "cell_type": "markdown",
   "metadata": {},
   "source": [
    "___\n",
    "### <a id=4>Выполнение запросов</a>"
   ]
  },
  {
   "cell_type": "markdown",
   "metadata": {},
   "source": [
    "- Вывести все уникальные бренды, у которых стандартная стоимость выше 1500 долларов."
   ]
  },
  {
   "cell_type": "code",
   "execution_count": null,
   "metadata": {
    "vscode": {
     "languageId": "sql"
    }
   },
   "outputs": [],
   "source": [
    "select distinct brand from transaction\n",
    "where standard_cost > 1500;"
   ]
  },
  {
   "cell_type": "markdown",
   "metadata": {},
   "source": [
    "- Вывести все подтвержденные транзакции за период '2017-04-01' по '2017-04-09' включительно."
   ]
  },
  {
   "cell_type": "code",
   "execution_count": null,
   "metadata": {
    "vscode": {
     "languageId": "sql"
    }
   },
   "outputs": [],
   "source": [
    "select * from transaction\n",
    "where transaction_date in \n",
    "(select transaction_date from transaction where transaction_date ::date between '01.04.2017' and '09.04.2017' ) \n",
    "and order_status = 'Approved'"
   ]
  },
  {
   "cell_type": "markdown",
   "metadata": {},
   "source": [
    "- Вывести все профессии у клиентов из сферы IT или Financial Services, которые начинаются с фразы 'Senior'."
   ]
  },
  {
   "cell_type": "code",
   "execution_count": null,
   "metadata": {
    "vscode": {
     "languageId": "sql"
    }
   },
   "outputs": [],
   "source": [
    "select distinct job_title from customer\n",
    "where (job_industry_category = 'IT' or job_industry_category = 'Financial Services')\n",
    "and job_title like 'Senior%'"
   ]
  },
  {
   "cell_type": "markdown",
   "metadata": {},
   "source": [
    "- Вывести все бренды, которые закупают клиенты, работающие в сфере Financial Services"
   ]
  },
  {
   "cell_type": "code",
   "execution_count": null,
   "metadata": {
    "vscode": {
     "languageId": "sql"
    }
   },
   "outputs": [],
   "source": [
    "select distinct brand from transaction\n",
    "where customer_id in\n",
    "(select customer_id from customer\n",
    "where job_industry_category = 'Financial Services')"
   ]
  },
  {
   "cell_type": "markdown",
   "metadata": {},
   "source": [
    "- Вывести 10 клиентов, которые оформили онлайн-заказ продукции из брендов 'Giant Bicycles', 'Norco Bicycles', 'Trek Bicycles'."
   ]
  },
  {
   "cell_type": "code",
   "execution_count": null,
   "metadata": {
    "vscode": {
     "languageId": "sql"
    }
   },
   "outputs": [],
   "source": [
    "select * from customer\n",
    "where customer.customer_id in \n",
    "(select customer_id from transaction\n",
    "where (brand = 'Giant Bicycles' or brand = 'Norco Bicycles' or brand =  'Trek Bicycles') and online_order = 'True' )\n",
    "limit 10"
   ]
  },
  {
   "cell_type": "markdown",
   "metadata": {},
   "source": [
    "- Вывести всех клиентов, у которых нет транзакций."
   ]
  },
  {
   "cell_type": "markdown",
   "metadata": {},
   "source": [
    "Через `вложенный запрос` :"
   ]
  },
  {
   "cell_type": "code",
   "execution_count": null,
   "metadata": {
    "vscode": {
     "languageId": "sql"
    }
   },
   "outputs": [],
   "source": [
    "select * from customer\n",
    "where customer_id not in\n",
    "(select distinct customer_id from transaction )"
   ]
  },
  {
   "cell_type": "markdown",
   "metadata": {},
   "source": [
    "Через `left join` :"
   ]
  },
  {
   "cell_type": "code",
   "execution_count": null,
   "metadata": {
    "vscode": {
     "languageId": "sql"
    }
   },
   "outputs": [],
   "source": [
    "select * from customer c \n",
    "left join \"transaction\" t \n",
    "on c.customer_id = t.customer_id \n",
    "where t.customer_id is null "
   ]
  },
  {
   "cell_type": "markdown",
   "metadata": {},
   "source": [
    "- Вывести всех клиентов из IT, у которых транзакции с максимальной стандартной стоимостью."
   ]
  },
  {
   "cell_type": "markdown",
   "metadata": {},
   "source": [
    "Через `вложенный запрос` :"
   ]
  },
  {
   "cell_type": "code",
   "execution_count": null,
   "metadata": {
    "vscode": {
     "languageId": "sql"
    }
   },
   "outputs": [],
   "source": [
    "select * from customer\n",
    "where job_industry_category = 'IT'\n",
    "and customer_id in\n",
    "(select  customer_id from transaction\n",
    "where  standard_cost in (select  standard_cost from transaction\n",
    "where standard_cost notnull \n",
    "order by standard_cost desc\n",
    "limit 1) )"
   ]
  },
  {
   "cell_type": "markdown",
   "metadata": {},
   "source": [
    "Через `left join` :"
   ]
  },
  {
   "cell_type": "code",
   "execution_count": null,
   "metadata": {
    "vscode": {
     "languageId": "sql"
    }
   },
   "outputs": [],
   "source": [
    "select * from customer c \n",
    "left join \"transaction\" t \n",
    "on c.customer_id = t.customer_id \n",
    "where t.standard_cost = (select  standard_cost from transaction\n",
    "where standard_cost notnull \n",
    "order by standard_cost desc\n",
    "limit 1) and c.job_industry_category = 'IT'"
   ]
  },
  {
   "cell_type": "markdown",
   "metadata": {},
   "source": [
    "- Вывести всех клиентов из сферы IT и Health, у которых есть подтвержденные транзакции за период '2017-07-07' по '2017-07-17'."
   ]
  },
  {
   "cell_type": "code",
   "execution_count": null,
   "metadata": {
    "vscode": {
     "languageId": "sql"
    }
   },
   "outputs": [],
   "source": [
    "select  distinct c.*  from customer c \n",
    "left join \"transaction\" t \n",
    "on  c.customer_id = t.customer_id \n",
    "where  (c.job_industry_category = 'IT' or c.job_industry_category = 'Health')\n",
    "and t.order_status = 'Approved' \n",
    "and t.transaction_date ::date between '07.07.2017' and '17.07.2017'"
   ]
  }
 ],
 "metadata": {
  "language_info": {
   "name": "python"
  }
 },
 "nbformat": 4,
 "nbformat_minor": 2
}
