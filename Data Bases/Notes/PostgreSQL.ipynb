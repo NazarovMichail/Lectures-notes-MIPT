{
 "cells": [
  {
   "cell_type": "markdown",
   "metadata": {},
   "source": [
    "# `PostgreSQL`\n",
    "\n",
    "<img src='img/pglogo.png' width=500>\n",
    "\n",
    "https://www.enterprisedb.com/downloads/postgres-postgresql-downloads\n",
    "\n",
    "pip install psycopg2"
   ]
  },
  {
   "cell_type": "markdown",
   "metadata": {},
   "source": [
    "___\n",
    "## <center> <a>Метакоманды PostgresSQL</a>\n",
    "\n",
    "|Команда | Описание|\n",
    "|:--|:--|\n",
    "|`\\l`|Вывод списка баз данных|\n",
    "|`\\c` _название БД_|Подключение к базе данных|\n",
    "|`\\dt`|Получить список всех таблиц в базе данных|\n",
    "|`\\dg`|Получить список всех пользователей и ролей|"
   ]
  },
  {
   "cell_type": "markdown",
   "metadata": {},
   "source": [
    "___\n",
    "## <center> <a>Типы данных PostgreSQL</a>\n",
    "\n",
    "`Числовые типы данных`\n",
    "\n",
    "|Тип | Псевдоним |Описание| \n",
    "|:--|:--|:--|\n",
    "| serial | | автоинкрементирующееся числовое значение, используется для определения идентификаторов строки  |\n",
    "| smallint |int2 |хранит числа от -32 768 до +32 767|\n",
    "|  integer |int, int4 |  хранит числа от -2 147 483 648 до +2 147 483 647 |\n",
    "| bigint  |int8   |хранит числа от -9 223 372 036 854 775 808 до +9 223 372 036 854 775 807|\n",
    "| numeric  |  decimal |хранит числа с фиксированной точностью, которые могут иметь до 131 072 знаков в целой части и до 16 383 знаков после запятой |\n",
    "| real  |  float4 |хранит числа с плавающей точкой из диапазона от 1E-37 до 1E+37|\n",
    "| double precision  |  float8 |хранит числа с плавающей точкой из диапазона от 1E-307 до 1E+308|\n",
    "\n",
    "`Символьные  типы данных`\n",
    "\n",
    "|Тип | Псевдоним |Описание| \n",
    "|:--|:--|:--|\n",
    "| character(n)|char(n) | строка из `фиксированного` количества символов|\n",
    "|character varying(n) |varchar(n) | строку из `переменной` длины|\n",
    "| text| |текст произвольной длины. |\n",
    "\n",
    "`Дата и время`\n",
    "\n",
    "|Тип |Описание| \n",
    "|:--|:--|\n",
    "| timestamp|  Для дат самое нижнее значение — 4713 г. до н. э., самое верхнее значение — 294 276 г. н. э.|\n",
    "|date | дата от 4713 г. до н. э. до 5 874 897 г. н | \n",
    "|time |  время с точностью до 1 микросекунды без указания часового пояса, от 00:00:00 до 24:00:00| \n",
    "| interval| временной интервал| \n",
    "\n",
    "- `boolean` : логический тип (true/false)"
   ]
  },
  {
   "cell_type": "markdown",
   "metadata": {},
   "source": [
    "___\n",
    "## <center> <a>Логические операторы</a>\n",
    "\n",
    "`Логические операторы`\n",
    "\n",
    "|Оператор |Используется| \n",
    "|:--|:--|\n",
    "| ALL| сравнение значения со всеми значениями в другом наборе|\n",
    "|AND |Допускает существование множества условий в инструкции WHERE--|\n",
    "|ANY |сравнение значения с любым применимым значением в списке в соответствии с условием |\n",
    "|BETWEEN |поиск значений, находящихся в пределах набора значений, с учетом минимального и максимального значения |\n",
    "|EXISTS |проверка, существует ли в указанной таблице строка, которая соответствует определенному критерию |\n",
    "|IN | сравнение значения со списком уникальных литеральных значений|\n",
    "|LIKE |  сравнение значения с аналогичными значениями с помощью подстановочных операторов|\n",
    "| NOT| Меняет на противоположный смысл логического оператора, с которым используется|\n",
    "|OR | объединение нескольких условий в инструкции WHERE|\n",
    "|IS NULL | сравнение значения со значением NULL|\n",
    "|UNIQUE |  проверка каждой строки в указанной таблице на уникальность|"
   ]
  },
  {
   "cell_type": "markdown",
   "metadata": {},
   "source": [
    "___\n",
    "## <center> <a>Операторы времени</a>\n",
    "\n",
    "`Операторы времени`\n",
    "\n",
    "|Функция |Возвращаемый тип данных| Описание|\n",
    "|:--|:--|:--|\n",
    "|CURRENT_DATE|DATE|Возвращает текущую дату |\n",
    "|CURRENT_TIME |TIMESTAMPTZ | Возвращает текущее время|\n",
    "|CURRENT_TIMESTAMP | TIMESTAMPTZ| Возвращает текущую дату и время с указанием часового пояса, в котором начинается текущая транзакция|\n",
    "| DATE_PART|DOUBLE PRECISION\t |Возвращает значение временной метки или интервала — например, год, месяц, день и т. д. |\n",
    "| DATE_TRUNC| TIMESTAMP|Возвращает временную метку, усеченную с заданной точностью |\n",
    "| EXTRACT|DOUBLE PRECISION\t | Аналогично DATE_PART() |\n",
    "|NOW |TIMESTAMPTZ|Возвращает дату и время с указанием часового пояса, в котором начинается текущая транзакция |\n",
    "\n",
    "`Арифметика операторов времени`\n",
    "|Арифметика операторов |Возвращаемый тип данных| Описание|\n",
    "|:--|:--|:--|\n",
    "|date + integer |date | Добавление количества дней к дате|\n",
    "| date + interval|timestamp | Добавление интервала к дате|\n",
    "|date + time |timestamp | Добавление времени суток к дате|\n",
    "|interval + interval  |interval | Добавление интервалов|\n",
    "|timestamp + interval  |timestamp | Добавление интервала к метке времени|\n",
    "|time + interval | time|Добавление интервала ко времени |\n",
    "| date - date|integer | Вычитаем даты, получая количество прошедших дней|\n",
    "|date - integer |date | Вычитание количества дней из даты|\n",
    "|date - interval | timestamp|Вычитание интервала из даты |\n",
    "| time - time| interval| Вычитание времени|\n",
    "|time - interval  |time | Вычитание интервала из времени|\n",
    "| timestamp - interval| timestamp| Вычитание интервала из метки времени|\n",
    "| interval - interval |interval |Вычитание интервалов |\n",
    "|timestamp - timestamp |interval | Вычитание временных меток (преобразование 24-часовых интервалов в дни, аналогично justify_hours())|\n",
    "\n",
    "`Временные константы`\n",
    "|Константа |Описание|\n",
    "|:--|:--|\n",
    "| epoch | возвращает нулевое время отчета Unix-систем |\n",
    "| infinity | возвращает дату, которая, находится позже любой другой даты |\n",
    "|today,  now | возвращают текущую дату |\n",
    "| current_date, current_timestamp | возвращают текущую дату |\n",
    "| tomorrow | возвращает дату завтрашнего дня |\n",
    "| yesterday | возвращает дату вчерашнего дня |\n",
    "\n",
    "`date_trunc` - округляет дату\n",
    "\n",
    "- microseconds — до микросекунд;\n",
    "- second — до секунд;\n",
    "- minute — до минут;\n",
    "- hour — до часов;\n",
    "- day — до дней;\n",
    "- week — до недели;\n",
    "- month — до месяца;\n",
    "- quarter — до квартала;\n",
    "- year — до года;\n",
    "- decade — до десятилетия;\n",
    "\n",
    "\n"
   ]
  },
  {
   "cell_type": "code",
   "execution_count": null,
   "metadata": {
    "vscode": {
     "languageId": "sql"
    }
   },
   "outputs": [],
   "source": [
    "select \n",
    "\tdate_trunc('month', transaction_date ::date)\n",
    "from \"transaction\" t "
   ]
  },
  {
   "cell_type": "markdown",
   "metadata": {},
   "source": [
    "___\n",
    "## <center> <a>Операторы выбора данных</a>\n",
    "\n",
    "Порядок операторов:\n",
    "\n",
    "<img src='img/select order.png' width=700>"
   ]
  },
  {
   "cell_type": "markdown",
   "metadata": {},
   "source": [
    "$\\boxed{\\text{LIMIT}}$ - ограничение кол-ва записей"
   ]
  },
  {
   "cell_type": "code",
   "execution_count": null,
   "metadata": {
    "vscode": {
     "languageId": "sql"
    }
   },
   "outputs": [],
   "source": [
    "select * from transaction\n",
    "limit 2"
   ]
  },
  {
   "cell_type": "markdown",
   "metadata": {},
   "source": [
    "$\\boxed{\\text{WHERE}}$ - выбор по условию"
   ]
  },
  {
   "cell_type": "code",
   "execution_count": 24,
   "metadata": {
    "vscode": {
     "languageId": "sql"
    }
   },
   "outputs": [],
   "source": [
    "select * from transaction\n",
    "where product_class = 'low' and  list_price > 100"
   ]
  },
  {
   "cell_type": "markdown",
   "metadata": {},
   "source": [
    "$\\boxed{\\text{Агрегатная ф-ция}}$ - $\\boxed{\\text{GROUP BY}}$ - $\\boxed{\\text{HAVING}}$ - объединение записей с одинаковыми свойствами и применяет агрегатные функции"
   ]
  },
  {
   "cell_type": "code",
   "execution_count": null,
   "metadata": {
    "vscode": {
     "languageId": "sql"
    }
   },
   "outputs": [],
   "source": [
    "select brand, count(*) as Количество  from transaction\n",
    "group by brand\n",
    "having count(*)  > 2"
   ]
  },
  {
   "cell_type": "markdown",
   "metadata": {},
   "source": [
    "$\\boxed{\\text{ORDER BY}}$ - выбор столбца для сортировки"
   ]
  },
  {
   "cell_type": "code",
   "execution_count": 25,
   "metadata": {
    "vscode": {
     "languageId": "sql"
    }
   },
   "outputs": [],
   "source": [
    "select * from transaction\n",
    "where product_class = 'low' and  list_price > 100 \n",
    "order by list_price"
   ]
  },
  {
   "cell_type": "markdown",
   "metadata": {},
   "source": [
    "$\\boxed{\\text{LIKE}}$ - выбор значения по шаблону\n",
    "\n",
    "- % : заменяет все символы\n",
    "- _ : заменяет один символ"
   ]
  },
  {
   "cell_type": "code",
   "execution_count": null,
   "metadata": {
    "vscode": {
     "languageId": "sql"
    }
   },
   "outputs": [],
   "source": [
    "select * from transaction \n",
    "where product_id ::varchar like '%0'"
   ]
  },
  {
   "cell_type": "markdown",
   "metadata": {},
   "source": [
    "$\\boxed{\\text{DISTINCT}}$ - выбор уникальных значений"
   ]
  },
  {
   "cell_type": "code",
   "execution_count": null,
   "metadata": {
    "vscode": {
     "languageId": "sql"
    }
   },
   "outputs": [],
   "source": [
    "select distinct customer_id from transaction"
   ]
  },
  {
   "cell_type": "markdown",
   "metadata": {},
   "source": [
    "$\\boxed{\\text{CASE}}$ -  $\\boxed{\\text{WHEN}}$ - $\\boxed{\\text{THEN}}$ - $\\boxed{\\text{END}}$ - создание колонки со значениями по условию"
   ]
  },
  {
   "cell_type": "code",
   "execution_count": null,
   "metadata": {
    "vscode": {
     "languageId": "sql"
    }
   },
   "outputs": [],
   "source": [
    "select list_price \n",
    ",case\n",
    "    when list_price < 100\n",
    "    then '1'\n",
    "    when list_price > 1000\n",
    "    then '3'\n",
    "    else '2'\n",
    "end new_column\n",
    "from transaction"
   ]
  },
  {
   "cell_type": "markdown",
   "metadata": {},
   "source": [
    "___\n",
    "## <center> <a>Подзапросы</a>\n",
    "\n",
    "$\\boxed{\\text{Правила написания подзапросов}}$\n",
    "\n",
    "- Подзапросы  заключены в `круглые скобки`\n",
    "- У подзапроса может быть только `один столбец` в предложении SELECT, если в основном запросе `нет нескольких столбцов` для подзапроса для сравнения его выбранных столбцов.\n",
    "- ORDER BY `нельзя использовать` в подзапросе\n",
    "- Оператор BETWEEN не может использоваться `с подзапросом`, но может использоваться `в подзапросе`"
   ]
  },
  {
   "cell_type": "markdown",
   "metadata": {},
   "source": [
    "$\\boxed{\\text{SELECT по подзапросу}}$"
   ]
  },
  {
   "cell_type": "code",
   "execution_count": null,
   "metadata": {
    "vscode": {
     "languageId": "sql"
    }
   },
   "outputs": [],
   "source": [
    "select * from transaction\n",
    "where customer_id in \n",
    "(select  customer_id from transaction\n",
    "where list_price > 1000)"
   ]
  },
  {
   "cell_type": "markdown",
   "metadata": {},
   "source": [
    "$\\boxed{\\text{INSERT по подзапросу}}$"
   ]
  },
  {
   "cell_type": "code",
   "execution_count": null,
   "metadata": {
    "vscode": {
     "languageId": "sql"
    }
   },
   "outputs": [],
   "source": [
    "insert into transaction_BKP\n",
    "select * from transaction\n",
    "where transaction_id in \n",
    "(select transaction_id from transaction)"
   ]
  },
  {
   "cell_type": "markdown",
   "metadata": {},
   "source": [
    "$\\boxed{\\text{UPDATE по подзапросу}}$"
   ]
  },
  {
   "cell_type": "code",
   "execution_count": null,
   "metadata": {
    "vscode": {
     "languageId": "sql"
    }
   },
   "outputs": [],
   "source": [
    "update transaction_BKP\n",
    "set standard_cost = standard_cost * 2\n",
    "where transaction_id in \n",
    "(select transaction_id from transaction\n",
    "where transaction_id < 10)"
   ]
  },
  {
   "cell_type": "markdown",
   "metadata": {},
   "source": [
    "$\\boxed{\\text{DELETE по подзапросу}}$"
   ]
  },
  {
   "cell_type": "code",
   "execution_count": null,
   "metadata": {
    "vscode": {
     "languageId": "sql"
    }
   },
   "outputs": [],
   "source": [
    "delete from transaction_BKP\n",
    "where transaction_id in \n",
    "(select transaction_id from transaction_BKP\n",
    "where transaction_id < 10)"
   ]
  },
  {
   "cell_type": "markdown",
   "metadata": {},
   "source": [
    "___\n",
    "## <center> <a>Множественное объединение</a>\n",
    "\n",
    "`Правила множественного объединения` :\n",
    "\n",
    "- Число столбцов во всех запросах должно быть `одинаковым`\n",
    "- Столбцы должны иметь `одинаковый тип`\n",
    "- Название полей  берется из названий полей `первого запроса`."
   ]
  },
  {
   "cell_type": "markdown",
   "metadata": {},
   "source": [
    "$\\boxed{\\text{UNION}}$ - объединяет запросы с `одинаковой` структурой, `удаляя` дубликаты"
   ]
  },
  {
   "cell_type": "code",
   "execution_count": null,
   "metadata": {
    "vscode": {
     "languageId": "sql"
    }
   },
   "outputs": [],
   "source": [
    "SELECT FirstName, LastName, 'Employee' AS Type -- столбец Employee заменен на Type\n",
    "FROM employees\n",
    "UNION\n",
    "SELECT FirstName, LastName, 'Customer'\n",
    "FROM customers\n",
    "ORDER BY FirstName, LastName;\n",
    "-- данные из столбца Customer, в итоговом запросе, добавятся в Type"
   ]
  },
  {
   "cell_type": "markdown",
   "metadata": {},
   "source": [
    "$\\boxed{\\text{UNION ALL}}$ - объединяет запросы с `одинаковой` структурой, `не удаляя` дубликаты"
   ]
  },
  {
   "cell_type": "code",
   "execution_count": null,
   "metadata": {
    "vscode": {
     "languageId": "sql"
    }
   },
   "outputs": [],
   "source": [
    "select * from transaction_1\n",
    "union all\n",
    "select * from transaction_2"
   ]
  },
  {
   "cell_type": "markdown",
   "metadata": {},
   "source": [
    "___\n",
    "## <center> <a>Объединение таблиц</a>\n",
    "\n",
    "<img src='img/joins.png'>"
   ]
  },
  {
   "cell_type": "markdown",
   "metadata": {},
   "source": [
    "- $\\boxed{\\text{LEFT JOIN}}$ - возвращаются все элементы из таблицы А и элементы из В, которые есть в А.\n",
    "\n",
    "- $\\boxed{\\text{INNER JOIN}}$ - возвращаются те строки, которые находятся и в таблице А, и в таблице В\n",
    "\n",
    "- $\\boxed{\\text{FULL OUTER JOIN}}$ - возвращаются все строки из таблиц А и В"
   ]
  },
  {
   "cell_type": "code",
   "execution_count": null,
   "metadata": {
    "vscode": {
     "languageId": "sql"
    }
   },
   "outputs": [],
   "source": [
    "select  customer.customer_id,transaction_date, transaction_id, list_price from customer\n",
    "left join transaction \n",
    "on customer.customer_id = transaction.customer_id"
   ]
  },
  {
   "cell_type": "markdown",
   "metadata": {},
   "source": [
    "___\n",
    "## <center> <a>Группировка данных</a>\n",
    "\n",
    "$\\boxed{\\text{Агрегатная ф-ция}}$ - $\\boxed{\\text{GROUP BY}}$ - $\\boxed{\\text{HAVING}}$ - объединение записей с одинаковыми свойствами и применяет агрегатные функции\n",
    "\n",
    "Число строк сокращается и становится равной кол-ву образованных групп\n",
    "\n",
    "`Агрегатные` функции :\n",
    "\n",
    "- `count`() : кол-во строк\n",
    "- `sum`() : суммаа значений\n",
    "- `min`() : минимальное значение\n",
    "- `max`() : максимальное значение\n",
    "- `avg`() : среднее значение\n"
   ]
  },
  {
   "cell_type": "code",
   "execution_count": null,
   "metadata": {
    "vscode": {
     "languageId": "sql"
    }
   },
   "outputs": [],
   "source": [
    "SELECT transaction_date\n",
    ", count(*)\n",
    ", min(list_price)\n",
    ", max(list_price)\n",
    ", sum(list_price)\n",
    ", avg(list_price)\n",
    "FROM transaction\n",
    "where product_class = 'low'\n",
    "group by transaction_date\n",
    "having count(*) < 50\n",
    "order by min(list_price), max(list_price)"
   ]
  },
  {
   "cell_type": "markdown",
   "metadata": {},
   "source": [
    "___\n",
    "## <center> <a>Оконные функции</a>\n",
    "\n",
    "Функция , которая создает новый столбец с вычисленными значениями по определенному столбцу (группе столбцов) таблицы, не меняя кол-во строк таблицы\n",
    "\n",
    "$\\boxed{\\text{Оконная ф-ция}}$ - $\\boxed{\\text{OVER}}$ -  $\\Big (\\boxed{\\text{PARTITION BY}}\\Big )$\n",
    "\n",
    "`Ранжирующие оконные` функции :\n",
    "\n",
    "- `ROW_NUMBER` : порядковая нумерация строк\n",
    "- `NTILE` : вводится кол-во групп при определении функции и общее кол-во строк разбивается на это кол-во групп\n",
    "- `RANK` : нумерует по значению, при совпадающих значениях назначает одинаковый ранг, следующий ранг выводит исходя из кол-ва одинаковых значений\n",
    "    - `Кол-во строк` для расчета функции определяется после `PARTITION BY`\n",
    "    - `Значения` для ранжирования определяются после `ORDER BY`\n",
    "- `DENSE_RANK` : нумерует по значению, следующий ранг после повторного, выводит вне зависимости от кол-ва одинаковых значений\n"
   ]
  },
  {
   "cell_type": "code",
   "execution_count": null,
   "metadata": {
    "vscode": {
     "languageId": "sql"
    }
   },
   "outputs": [],
   "source": [
    "SELECT transaction_date, customer_id\n",
    ",row_number() over (partition by customer_id order by transaction_date)\n",
    ",rank() over (partition by customer_id order by transaction_date)\n",
    ",dense_rank () over (partition by customer_id order by transaction_date)\n",
    ",ntile (2) over (partition by customer_id order by transaction_date)\n",
    "FROM transaction\n",
    "where customer_id between 1 and 3"
   ]
  },
  {
   "cell_type": "markdown",
   "metadata": {},
   "source": [
    "`Агрегатные` функции :\n",
    "\n",
    "- `count`() : кол-во строк\n",
    "- `sum`() : суммаа значений\n",
    "- `min`() : минимальное значение\n",
    "- `max`() : максимальное значение\n",
    "- `avg`() : среднее значение\n",
    "\n",
    "При указания ORDER BY считаются `по-порядку` значения агрегатных функций \n",
    "\n",
    "ЕСЛИ ORDER BY не указан, то функции считаются по всему окну и все значения одинаковы"
   ]
  },
  {
   "cell_type": "code",
   "execution_count": null,
   "metadata": {
    "vscode": {
     "languageId": "sql"
    }
   },
   "outputs": [],
   "source": [
    "SELECT transaction_date, customer_id, list_price \n",
    ",count(list_price) over (partition by customer_id order by transaction_date)\n",
    ",sum(list_price) over (partition by customer_id order by transaction_date)\n",
    ",min (list_price) over (partition by customer_id order by transaction_date)\n",
    ",avg (list_price) over (partition by customer_id order by transaction_date)\n",
    "FROM transaction\n",
    "where customer_id = 3"
   ]
  },
  {
   "cell_type": "markdown",
   "metadata": {},
   "source": [
    "Функции `смещения`:\n",
    "\n",
    "- `LAG`() : выводится предыдущее значение в столбце, (можно задать кол-во значений назад)\n",
    "- `LEAD`() : выводится следующее значение в столбце, (можно задать кол-во значений вперед)\n",
    "- `FIRST_VALUE`() : первое значение в столбце для окна\n",
    "- `LAST_VALUE`() : последнее значение в столбце для окна\n",
    "    - Для последнего значения в окне : `range between current row and unbounded following`"
   ]
  },
  {
   "cell_type": "code",
   "execution_count": null,
   "metadata": {
    "vscode": {
     "languageId": "sql"
    }
   },
   "outputs": [],
   "source": [
    "SELECT transaction_date, customer_id, list_price \n",
    ",lag(list_price, 2) over (partition by customer_id order by transaction_date)\n",
    ",lead(list_price, 2) over (partition by customer_id order by transaction_date)\n",
    ",first_value  (list_price) over (partition by customer_id order by transaction_date)\n",
    ",last_value  (list_price) over (partition by customer_id order by transaction_date range between current row and unbounded following)\n",
    "FROM transaction\n",
    "where customer_id = 3 or customer_id = 2"
   ]
  },
  {
   "cell_type": "markdown",
   "metadata": {},
   "source": [
    "`Аналитические` функции :\n",
    "\n",
    "- `CUME_DIST` : кумулятивное распределение значений (0 - 1)\n",
    "- `PERCENT_RANK` :  относительный ранг значений (0 - 1)\n",
    "- `PERCENTILE_CONT` : вычисляет процентиль на основе постоянного распределения значения столбца.\n",
    "- `PERCENTILE_DISC` : вычисляет заданный процентиль для отсортированных значений в наборе данных."
   ]
  },
  {
   "cell_type": "code",
   "execution_count": null,
   "metadata": {
    "vscode": {
     "languageId": "sql"
    }
   },
   "outputs": [],
   "source": [
    "SELECT transaction_date, customer_id, list_price \n",
    ",cume_dist () over (partition by customer_id order by transaction_date)\n",
    ",percent_rank () over (partition by customer_id order by transaction_date)\n",
    "FROM transaction\n",
    "where customer_id = 3 or customer_id = 2"
   ]
  },
  {
   "cell_type": "code",
   "execution_count": null,
   "metadata": {
    "vscode": {
     "languageId": "sql"
    }
   },
   "outputs": [],
   "source": [
    "select  \n",
    "\tpercentile_cont(0.5) within group (order by t.list_price) \n",
    "\t, percentile_disc(0.5) within group (order by t.list_price)\n",
    "from \"transaction\" t "
   ]
  },
  {
   "cell_type": "markdown",
   "metadata": {},
   "source": [
    "___\n",
    "## <center> <a>Временные таблицы</a>"
   ]
  },
  {
   "cell_type": "markdown",
   "metadata": {},
   "source": [
    "`Табличное выражения (CTE)`\n",
    "\n",
    "$\\boxed{\\text{WITH}}$ - $\\text{название}$ -$\\boxed{\\text{AS}}$ - $\\Big (\\text{запрос}\\Big )$"
   ]
  },
  {
   "cell_type": "code",
   "execution_count": null,
   "metadata": {
    "vscode": {
     "languageId": "sql"
    }
   },
   "outputs": [],
   "source": [
    "with table_name as(\n",
    "select t.customer_id, t.list_price\n",
    "from \"transaction\" t \n",
    ")\n",
    "select * from table_name"
   ]
  },
  {
   "cell_type": "markdown",
   "metadata": {},
   "source": [
    "`Представление (view)`\n",
    "\n",
    "$\\boxed{\\text{CREATE}}$ - $\\boxed{\\text{VIEW}}$ - $\\text{название}$ - $\\boxed{\\text{AS}}$ - ${\\text{запрос}}$"
   ]
  },
  {
   "cell_type": "code",
   "execution_count": null,
   "metadata": {
    "vscode": {
     "languageId": "sql"
    }
   },
   "outputs": [],
   "source": [
    "create view view_name as \n",
    "select t.customer_id, t.list_price\n",
    "from \"transaction\" t; \n",
    "\n",
    "select * from view_name"
   ]
  },
  {
   "cell_type": "markdown",
   "metadata": {},
   "source": [
    "`Временная таблица (temporary table)`\n",
    "\n",
    "$\\boxed{\\text{CREATE}}$ - $\\boxed{\\text{TEMP}}$ - $\\boxed{\\text{TABLE}}$ -  $\\text{название}$ - $\\boxed{\\text{AS}}$ - ${\\text{запрос}}$"
   ]
  },
  {
   "cell_type": "code",
   "execution_count": null,
   "metadata": {
    "vscode": {
     "languageId": "sql"
    }
   },
   "outputs": [],
   "source": [
    "create temp table temp_table_name as\n",
    "select t.customer_id, t.list_price\n",
    "from \"transaction\" t;\n",
    "\n",
    "select * from temp_table_name"
   ]
  },
  {
   "cell_type": "markdown",
   "metadata": {},
   "source": [
    "___\n",
    "## <center> <a>План запроса</a>\n",
    "\n",
    "$\\boxed{\\text{EXPLAIN}}$ - ${\\text{запрос}}$\n",
    "- `без скобок` : минимальная информация и сам план запроса\n",
    "- `(ANALYSE)` :  разбивка по времени планирования и времени выполнения\n",
    "- `(ANALYSE, BUFFERS)` : получение числа строк, читаемых из кэша и диска\n",
    "- `(ANALYSE, BUFFERS, VERBOSE)` : более подробное получение числа строк, читаемых из кэша и диска\n",
    "- `(ANALYSE,BUFFERS,VERBOSE,FORMAT JSON)` : выводит план в нужном формате, в данном случае — JSON"
   ]
  },
  {
   "cell_type": "code",
   "execution_count": null,
   "metadata": {
    "vscode": {
     "languageId": "sql"
    }
   },
   "outputs": [],
   "source": [
    "explain(ANALYSE, BUFFERS, VERBOSE)\n",
    "select * from \"transaction\" t2   \n",
    "where list_price  = (select  max(list_price)  from \"transaction\" t)"
   ]
  },
  {
   "cell_type": "markdown",
   "metadata": {},
   "source": [
    "___\n",
    "## <center><a>Работа в Python</a>\n",
    "\n",
    "____\n",
    "### <a>Подключение к БД</a>\n",
    "\n",
    "$\\boxed{.connect}$\n",
    "|Параметр |Описание| \n",
    "|:--|:--|\n",
    "|dbname | имя базы данных|\n",
    "|user |имя пользователя |\n",
    "|password | пароль пользователя|\n",
    "|host |хост/адрес сервера |\n",
    "|port |порт (если не указано, то используется порт по умолчанию — 5432) |"
   ]
  },
  {
   "cell_type": "code",
   "execution_count": 1,
   "metadata": {},
   "outputs": [],
   "source": [
    "import psycopg2 as pg\n",
    "\n",
    "conn=pg.connect(\n",
    "    dbname='postgres',\n",
    "      user='postgres',\n",
    "        password= '19435504',\n",
    "          host='localhost',\n",
    "          port='5432' )\n",
    "\n",
    "cursor=conn.cursor()"
   ]
  },
  {
   "cell_type": "markdown",
   "metadata": {},
   "source": [
    "____\n",
    "### Методы объекта <a> connection</a>\n",
    "|Метод |Описание| \n",
    "|:--|:--|\n",
    "|cursor() | Запросы к БД |\n",
    "|commit() | Подтверждение запроса|\n",
    "|rollback() | Откатить совершенный запрос|\n",
    "|close() | Закрыть подключение|"
   ]
  },
  {
   "cell_type": "markdown",
   "metadata": {},
   "source": [
    "____\n",
    "### Методы объекта <a>cursor</a>\n",
    "\n",
    "|Метод |Описание| \n",
    "|:--|:--|\n",
    "|execute() | Выполнение инструкции |\n",
    "| executemany()| Выполняет параметризированную инструкцию|\n",
    "| callproc()|Выполняет хранимую функцию |\n",
    "|fetchone() | Возвращает следующую строку из полученного из БД набора строк в виде кортежа|\n",
    "|fetchmany() |Возвращает набор строк в виде списка |\n",
    "|fetchall() | Возвращает все (оставшиеся) строки в виде списка|\n",
    "|scroll() |перемещает курсор в наборе на позицию value |\n",
    " \n"
   ]
  },
  {
   "cell_type": "markdown",
   "metadata": {},
   "source": [
    "____\n",
    "### <center><a>Работа с данными</a>"
   ]
  },
  {
   "cell_type": "markdown",
   "metadata": {},
   "source": [
    "____\n",
    "### <a>Создание данных</a>\n",
    "\n",
    "$\\boxed{\\text{Создание таблицы}}$"
   ]
  },
  {
   "cell_type": "code",
   "execution_count": 86,
   "metadata": {},
   "outputs": [],
   "source": [
    "cursor.execute(\n",
    "    '''\n",
    "create table \n",
    "if not exists \n",
    "table_name(\n",
    "key serial , name varchar, amount float\n",
    ")\n",
    "'''\n",
    ")\n",
    "conn.commit()"
   ]
  },
  {
   "cell_type": "markdown",
   "metadata": {},
   "source": [
    "$\\boxed{\\text{Создание объекта}}$"
   ]
  },
  {
   "cell_type": "code",
   "execution_count": 87,
   "metadata": {},
   "outputs": [],
   "source": [
    "cursor.execute(\n",
    "'''\n",
    "insert into table_name \n",
    "values(1, 'U1', 1.2), (2, 'U2', 2.1), (3, 'U3', 3.3)\n",
    "'''\n",
    "    )\n",
    "conn.commit()"
   ]
  },
  {
   "cell_type": "markdown",
   "metadata": {},
   "source": [
    "$\\boxed{\\text{Создание колонки}}$"
   ]
  },
  {
   "cell_type": "code",
   "execution_count": 88,
   "metadata": {},
   "outputs": [],
   "source": [
    "cursor.execute(\n",
    "'''\n",
    "alter table table_name\n",
    "add column added_column boolean\n",
    "'''\n",
    "    )\n",
    "conn.commit()"
   ]
  },
  {
   "cell_type": "markdown",
   "metadata": {},
   "source": [
    "____\n",
    "### <a>Изменение данных</a>\n",
    "\n",
    "$\\boxed{\\text{Изменение названия таблицы}}$"
   ]
  },
  {
   "cell_type": "code",
   "execution_count": 89,
   "metadata": {},
   "outputs": [],
   "source": [
    "cursor.execute(\n",
    "'''\n",
    "alter table table_name\n",
    "rename  to table_renamed\n",
    "'''\n",
    "    )\n",
    "conn.commit()"
   ]
  },
  {
   "cell_type": "markdown",
   "metadata": {},
   "source": [
    "$\\boxed{\\text{Изменение названия столбца}}$"
   ]
  },
  {
   "cell_type": "code",
   "execution_count": 92,
   "metadata": {},
   "outputs": [],
   "source": [
    "cursor.execute(\n",
    "'''\n",
    "alter table table_renamed\n",
    "rename  column added_column to renamed_column\n",
    "'''\n",
    "    )\n",
    "conn.commit()"
   ]
  },
  {
   "cell_type": "markdown",
   "metadata": {},
   "source": [
    "$\\boxed{\\text{Изменение объекта}}$"
   ]
  },
  {
   "cell_type": "code",
   "execution_count": 93,
   "metadata": {},
   "outputs": [],
   "source": [
    "cursor.execute(\n",
    "'''\n",
    "update table_renamed\n",
    "set renamed_column = true\n",
    "where key < 10\n",
    "'''\n",
    "    )\n",
    "conn.commit()"
   ]
  },
  {
   "cell_type": "markdown",
   "metadata": {},
   "source": [
    "$\\boxed{\\text{Изменение типа данных}}$"
   ]
  },
  {
   "cell_type": "code",
   "execution_count": 100,
   "metadata": {},
   "outputs": [],
   "source": [
    "cursor.execute(\n",
    "'''\n",
    "alter table table_renamed\n",
    "alter  column amount type int\n",
    "'''\n",
    "    )\n",
    "conn.commit()"
   ]
  },
  {
   "cell_type": "markdown",
   "metadata": {},
   "source": [
    "#### <a style='color:gray'>Создание таблицы для последующего удаления</a>"
   ]
  },
  {
   "cell_type": "code",
   "execution_count": 94,
   "metadata": {},
   "outputs": [],
   "source": [
    "cursor.execute(\n",
    "'''\n",
    "create table if not exists table_to_drop(info int)\n",
    "'''\n",
    "    )\n",
    "conn.commit()\n"
   ]
  },
  {
   "cell_type": "markdown",
   "metadata": {},
   "source": [
    "____\n",
    "### <a>Удаление данных</a>\n",
    "$\\boxed{\\text{Удаление таблицы}}$"
   ]
  },
  {
   "cell_type": "code",
   "execution_count": 96,
   "metadata": {},
   "outputs": [],
   "source": [
    "cursor.execute(\n",
    "'''\n",
    "drop table if exists table_to_drop\n",
    "'''\n",
    "    )\n",
    "conn.commit()"
   ]
  },
  {
   "cell_type": "markdown",
   "metadata": {},
   "source": [
    "$\\boxed{\\text{Удаление объекта}}$"
   ]
  },
  {
   "cell_type": "code",
   "execution_count": 101,
   "metadata": {},
   "outputs": [],
   "source": [
    "cursor.execute(\n",
    "'''\n",
    "delete from table_renamed\n",
    "where key=2\n",
    "'''\n",
    "    )\n",
    "conn.commit()"
   ]
  },
  {
   "cell_type": "markdown",
   "metadata": {},
   "source": [
    "`trancate table название таблицы` - удалить данные таблицы (с сохранением структуры таблицы)"
   ]
  },
  {
   "cell_type": "markdown",
   "metadata": {},
   "source": [
    "$\\boxed{\\text{Удаление столбца}}$"
   ]
  },
  {
   "cell_type": "code",
   "execution_count": 102,
   "metadata": {},
   "outputs": [],
   "source": [
    "cursor.execute(\n",
    "'''\n",
    "alter table table_renamed\n",
    "drop  column renamed_column\n",
    "'''\n",
    "    )\n",
    "conn.commit()"
   ]
  },
  {
   "cell_type": "markdown",
   "metadata": {},
   "source": [
    "____\n",
    "### <a>Извлечение данных</a>\n",
    "$\\boxed{\\text{Возвращение всех объектов таблицы}}$"
   ]
  },
  {
   "cell_type": "code",
   "execution_count": 2,
   "metadata": {},
   "outputs": [
    {
     "data": {
      "text/plain": [
       "[(1, 'U1', 1), (3, 'U3', 3)]"
      ]
     },
     "execution_count": 2,
     "metadata": {},
     "output_type": "execute_result"
    }
   ],
   "source": [
    "cursor.execute('select * from table_renamed')\n",
    "cursor.fetchall()\n"
   ]
  },
  {
   "cell_type": "markdown",
   "metadata": {},
   "source": [
    "____\n",
    "### <center> <a>Пользователи</a>"
   ]
  },
  {
   "cell_type": "markdown",
   "metadata": {},
   "source": [
    "____\n",
    "###  <a>Создание пользователей</a>"
   ]
  },
  {
   "cell_type": "code",
   "execution_count": 28,
   "metadata": {},
   "outputs": [],
   "source": [
    "cursor.execute(\n",
    "    '''create user new_user\n",
    "       password '123' '''\n",
    "    )\n",
    "\n",
    "conn.commit()\n"
   ]
  },
  {
   "cell_type": "markdown",
   "metadata": {},
   "source": [
    "____\n",
    "###  <a>Возвращение пользователей</a>"
   ]
  },
  {
   "cell_type": "code",
   "execution_count": 119,
   "metadata": {},
   "outputs": [
    {
     "data": {
      "text/plain": [
       "[('postgres', 10, True, True, True, True, '********', None, None),\n",
       " ('new_user', 16495, False, False, False, False, '********', None, None)]"
      ]
     },
     "execution_count": 119,
     "metadata": {},
     "output_type": "execute_result"
    }
   ],
   "source": [
    "cursor.execute(\n",
    "    '''select * from pg_catalog.pg_user '''\n",
    "    )\n",
    "cursor.fetchall()"
   ]
  },
  {
   "cell_type": "markdown",
   "metadata": {},
   "source": [
    "____\n",
    "###  <a>Удаление пользователей</a>"
   ]
  },
  {
   "cell_type": "code",
   "execution_count": 27,
   "metadata": {},
   "outputs": [],
   "source": [
    "cursor.execute(\n",
    "    '''drop user new_user '''\n",
    "    )\n",
    "\n",
    "conn.commit()"
   ]
  },
  {
   "cell_type": "markdown",
   "metadata": {},
   "source": [
    "____\n",
    "###  <a>Создание прав пользователей</a>\n",
    "\n",
    "$\\boxed{\\text{Список прав}}$"
   ]
  },
  {
   "cell_type": "code",
   "execution_count": 121,
   "metadata": {},
   "outputs": [],
   "source": [
    "cursor.execute(\n",
    "    '''grant \n",
    "    select, update, insert, delete\n",
    "    on  table_renamed\n",
    "    to new_user'''\n",
    "    )\n",
    "conn.commit()\n"
   ]
  },
  {
   "cell_type": "markdown",
   "metadata": {},
   "source": [
    "$\\boxed{\\text{Все права для таблицы}}$"
   ]
  },
  {
   "cell_type": "code",
   "execution_count": 3,
   "metadata": {},
   "outputs": [],
   "source": [
    "cursor.execute(\n",
    "    '''grant \n",
    "    all privileges\n",
    "    on  table_renamed\n",
    "    to new_user'''\n",
    "    )\n",
    "conn.commit()\n"
   ]
  },
  {
   "cell_type": "markdown",
   "metadata": {},
   "source": [
    "$\\boxed{\\text{Все права для схемы таблиц}}$\n"
   ]
  },
  {
   "cell_type": "code",
   "execution_count": 24,
   "metadata": {},
   "outputs": [],
   "source": [
    "cursor.execute(\n",
    "    '''grant \n",
    "    all privileges\n",
    "    on  all tables in schema public\n",
    "    to new_user'''\n",
    "    )\n",
    "conn.commit()"
   ]
  },
  {
   "cell_type": "markdown",
   "metadata": {},
   "source": [
    "$\\boxed{\\text{Все права для схемы таблиц с выдачей прав}}$"
   ]
  },
  {
   "cell_type": "code",
   "execution_count": 29,
   "metadata": {},
   "outputs": [],
   "source": [
    "cursor.execute(\n",
    "    '''grant \n",
    "    all privileges\n",
    "    on  all tables in schema public\n",
    "    to new_user\n",
    "    with grant option'''\n",
    "    )\n",
    "conn.commit()"
   ]
  },
  {
   "cell_type": "markdown",
   "metadata": {},
   "source": [
    "____\n",
    "###  <a>Откат прав пользователей</a>"
   ]
  },
  {
   "cell_type": "markdown",
   "metadata": {},
   "source": [
    "$\\boxed{\\text{Всех прав для таблицы}}$"
   ]
  },
  {
   "cell_type": "code",
   "execution_count": 26,
   "metadata": {},
   "outputs": [],
   "source": [
    "cursor.execute(\n",
    "    '''revoke all\n",
    "    on  table_renamed\n",
    "    from new_user'''\n",
    "    )\n",
    "conn.commit()"
   ]
  },
  {
   "cell_type": "markdown",
   "metadata": {},
   "source": [
    "$\\boxed{\\text{Всех прав для схемы таблиц}}$"
   ]
  },
  {
   "cell_type": "code",
   "execution_count": 25,
   "metadata": {},
   "outputs": [],
   "source": [
    "cursor.execute(\n",
    "    '''revoke all\n",
    "    on schema public\n",
    "    from new_user'''\n",
    "    )\n",
    "conn.commit()"
   ]
  }
 ],
 "metadata": {
  "kernelspec": {
   "display_name": "Python 3",
   "language": "python",
   "name": "python3"
  },
  "language_info": {
   "codemirror_mode": {
    "name": "ipython",
    "version": 3
   },
   "file_extension": ".py",
   "mimetype": "text/x-python",
   "name": "python",
   "nbconvert_exporter": "python",
   "pygments_lexer": "ipython3",
   "version": "3.11.1"
  }
 },
 "nbformat": 4,
 "nbformat_minor": 2
}
