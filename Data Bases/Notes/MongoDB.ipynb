{
 "cells": [
  {
   "cell_type": "markdown",
   "metadata": {},
   "source": [
    "# `MongoDB`\n",
    "\n",
    "<img src='img/mongologo.png' width=400>\n",
    "\n",
    "[Документация **pymongo**](https://pymongo.readthedocs.io/en/stable/)\n",
    "\n",
    "[Документация **mongoDB**](https://www.mongodb.com/)\n",
    "\n",
    "[Сравнение синтаксисов SQL и MongoDB ](https://www.mongodb.com/docs/manual/reference/sql-comparison/)\n",
    "___\n",
    "\n",
    "### <a>Содержание</a>\n",
    "- [Инструменты MongoDB](#1)\n",
    "- [MongoDB Compass](#2)\n",
    "- [MongoDB Shell](#3)\n",
    "- [MongoDB в Python](#4)\n"
   ]
  },
  {
   "cell_type": "markdown",
   "metadata": {},
   "source": [
    "___\n",
    "## <center><a id=1 style='color:violet'>Инструменты MongoDB</a>\n",
    "\n",
    "`Сервер`:\n",
    "\n",
    "- [**MongoDB Community Server**](https://www.mongodb.com/try/download/community) : бесплатный\n",
    "- MongoDB Enterprise Server : платный\n",
    "\n",
    "`Консольный клиент`:\n",
    "\n",
    "- [**MongoDB Shell**](https://www.mongodb.com/try/download/shell)\n",
    "\n",
    "`Графические клиенты` :\n",
    "\n",
    "- [**MongoDB Compass**](https://www.mongodb.com/products/tools/compass)\n",
    "- Studio 3T\n",
    "- NoSQLBooster\n",
    "\n",
    "`Драйверы` :\n",
    "\n",
    "- для Java\n",
    "- [**для Python**](https://www.mongodb.com/docs/drivers/pymongo/)\n",
    "- для Node.js\n",
    "\n",
    "`Облачный сервис` :\n",
    "- [**MongoDB Atlas**](https://www.mongodb.com/try)"
   ]
  },
  {
   "cell_type": "markdown",
   "metadata": {},
   "source": [
    "___\n",
    "## <center><a id=2 style='color:violet'>MongoDB Compass</a>"
   ]
  },
  {
   "cell_type": "markdown",
   "metadata": {},
   "source": [
    "### $\\boxed{ \\text{Установка, запуск клиента} }$\n",
    "\n",
    "- [MongoDB Community Server install](https://www.mongodb.com/try/download/community)\n",
    "    - Запуск **mongod.exe** (в установленной папке)\n",
    "        - Запуск **MongoDB Compass**"
   ]
  },
  {
   "cell_type": "markdown",
   "metadata": {},
   "source": [
    "___\n",
    "## <center><a id=3 style='color:violet'>MongoDB Shell</a>"
   ]
  },
  {
   "cell_type": "markdown",
   "metadata": {},
   "source": [
    "### $\\boxed{ \\text{Просмотр БД} }$"
   ]
  },
  {
   "cell_type": "code",
   "execution_count": null,
   "metadata": {
    "vscode": {
     "languageId": "shellscript"
    }
   },
   "outputs": [],
   "source": [
    "show dbs"
   ]
  },
  {
   "cell_type": "markdown",
   "metadata": {},
   "source": [
    "### $\\boxed{ \\text{Просмотр Коллекций БД} }$"
   ]
  },
  {
   "cell_type": "code",
   "execution_count": null,
   "metadata": {
    "vscode": {
     "languageId": "shellscript"
    }
   },
   "outputs": [],
   "source": [
    "show collections"
   ]
  },
  {
   "cell_type": "markdown",
   "metadata": {},
   "source": [
    "### $\\boxed{ \\text{Инфо о  БД / Коллекции} }$"
   ]
  },
  {
   "cell_type": "code",
   "execution_count": null,
   "metadata": {
    "vscode": {
     "languageId": "shellscript"
    }
   },
   "outputs": [],
   "source": [
    "db.stats()\n",
    "db.название коллекции.stats()"
   ]
  },
  {
   "cell_type": "markdown",
   "metadata": {},
   "source": [
    "### $\\boxed{ \\text{Создание БД} }$"
   ]
  },
  {
   "cell_type": "code",
   "execution_count": null,
   "metadata": {
    "vscode": {
     "languageId": "shellscript"
    }
   },
   "outputs": [],
   "source": [
    "use название БД"
   ]
  },
  {
   "cell_type": "markdown",
   "metadata": {},
   "source": [
    "### $\\boxed{ \\text{Создание Коллекции} }$"
   ]
  },
  {
   "cell_type": "code",
   "execution_count": null,
   "metadata": {
    "vscode": {
     "languageId": "shellscript"
    }
   },
   "outputs": [],
   "source": [
    "db.createCollection(\"название коллекции\")"
   ]
  },
  {
   "cell_type": "markdown",
   "metadata": {},
   "source": [
    "### $\\boxed{ \\text{Загрузка документа в коллекцию} }$"
   ]
  },
  {
   "cell_type": "code",
   "execution_count": null,
   "metadata": {
    "vscode": {
     "languageId": "shellscript"
    }
   },
   "outputs": [],
   "source": [
    "db.название коллекции.insertOne({\n",
    "    \"Name\" : \"Michail\",\n",
    "    \"Surname\" : \"Nazarov\",\n",
    "    \"Tags\" : [\"mongodb\", \"python\", \"ds\"] })"
   ]
  },
  {
   "cell_type": "markdown",
   "metadata": {},
   "source": [
    "### $\\boxed{ \\text{Удаление БД /  Коллекции} }$"
   ]
  },
  {
   "cell_type": "code",
   "execution_count": null,
   "metadata": {
    "vscode": {
     "languageId": "shellscript"
    }
   },
   "outputs": [],
   "source": [
    "db.dropDatabase()\n",
    "db.название коллекции.drop()\n"
   ]
  },
  {
   "cell_type": "markdown",
   "metadata": {},
   "source": [
    "___\n",
    "## <center><a id=4 style='color:violet'>MongoDB в Python</a>"
   ]
  },
  {
   "cell_type": "markdown",
   "metadata": {},
   "source": [
    "### $\\boxed{ \\text{Подключение к клиенту} }$"
   ]
  },
  {
   "cell_type": "code",
   "execution_count": 1,
   "metadata": {},
   "outputs": [],
   "source": [
    "from pymongo import MongoClient\n",
    "\n",
    "client = MongoClient(\"localhost\", 27017)"
   ]
  },
  {
   "cell_type": "markdown",
   "metadata": {},
   "source": [
    "### $\\boxed{ \\text{Инфо о  БД } }$"
   ]
  },
  {
   "cell_type": "code",
   "execution_count": 2,
   "metadata": {},
   "outputs": [
    {
     "data": {
      "text/plain": [
       "[{'name': 'HW-4', 'sizeOnDisk': 29667328, 'empty': False},\n",
       " {'name': 'admin', 'sizeOnDisk': 40960, 'empty': False},\n",
       " {'name': 'config', 'sizeOnDisk': 110592, 'empty': False},\n",
       " {'name': 'first_db', 'sizeOnDisk': 81920, 'empty': False},\n",
       " {'name': 'local', 'sizeOnDisk': 40960, 'empty': False}]"
      ]
     },
     "execution_count": 2,
     "metadata": {},
     "output_type": "execute_result"
    }
   ],
   "source": [
    "list(client.list_databases())"
   ]
  },
  {
   "cell_type": "markdown",
   "metadata": {},
   "source": [
    "### $\\boxed{ \\text{Создание БД} }$"
   ]
  },
  {
   "cell_type": "code",
   "execution_count": 4,
   "metadata": {},
   "outputs": [],
   "source": [
    "db = client.first_db"
   ]
  },
  {
   "cell_type": "markdown",
   "metadata": {},
   "source": [
    "### $\\boxed{ \\text{Инфо о  Коллекциях } }$"
   ]
  },
  {
   "cell_type": "code",
   "execution_count": 5,
   "metadata": {},
   "outputs": [
    {
     "data": {
      "text/plain": [
       "[{'name': 'first_collection',\n",
       "  'type': 'collection',\n",
       "  'options': {},\n",
       "  'info': {'readOnly': False,\n",
       "   'uuid': Binary(b'\\x03?&|o9Cy\\xbb\\xf4\\x08\\xdb\\x88\\x07\\x8b\\x8e', 4)},\n",
       "  'idIndex': {'v': 2, 'key': {'_id': 1}, 'name': '_id_'}},\n",
       " {'name': 'second_collection',\n",
       "  'type': 'collection',\n",
       "  'options': {},\n",
       "  'info': {'readOnly': False,\n",
       "   'uuid': Binary(b'L\\x99\\x912\\xe8\\x8f@\\xd9\\x9a\\xc4J\\xe9\\xd2T3(', 4)},\n",
       "  'idIndex': {'v': 2, 'key': {'_id': 1}, 'name': '_id_'}}]"
      ]
     },
     "execution_count": 5,
     "metadata": {},
     "output_type": "execute_result"
    }
   ],
   "source": [
    "list(db.list_collections())"
   ]
  },
  {
   "cell_type": "markdown",
   "metadata": {},
   "source": [
    "### $\\boxed{ \\text{Создание / Выбор  Коллекции} }$"
   ]
  },
  {
   "cell_type": "code",
   "execution_count": 6,
   "metadata": {},
   "outputs": [],
   "source": [
    "collection = db.first_collection"
   ]
  },
  {
   "cell_type": "markdown",
   "metadata": {},
   "source": [
    "### $\\boxed{ \\text{Загрузка документов в коллекцию} }$"
   ]
  },
  {
   "cell_type": "code",
   "execution_count": 28,
   "metadata": {},
   "outputs": [],
   "source": [
    "import datetime\n",
    "\n",
    "doc = {\n",
    "    \"Name\" : \"Michail\",\n",
    "    \"Surname\" : \"Nazarov\",\n",
    "    \"Tags\" : [\"mongodb\", \"python\", \"ds\"],\n",
    "    \"Date\" : datetime.datetime.now(tz=datetime.timezone.utc)\n",
    "    }"
   ]
  },
  {
   "cell_type": "markdown",
   "metadata": {},
   "source": [
    "- Загрузка одного документа\n",
    "    - `_id` : автоматически добавляет уникальный id документа"
   ]
  },
  {
   "cell_type": "code",
   "execution_count": 29,
   "metadata": {},
   "outputs": [],
   "source": [
    "collection_id = collection.insert_one(doc).inserted_id"
   ]
  },
  {
   "cell_type": "markdown",
   "metadata": {},
   "source": [
    "- Загрузка нескольких документов в списке :"
   ]
  },
  {
   "cell_type": "code",
   "execution_count": 85,
   "metadata": {},
   "outputs": [],
   "source": [
    "import datetime\n",
    "\n",
    "docs = [{\n",
    "    \"Name\" : \"Michail\",\n",
    "    \"Surname\" : \"Nazarov\",\n",
    "    \"Tags\" : [\"mongodb\", \"python\", \"ds\"],\n",
    "    \"Date\" : datetime.datetime.now(tz=datetime.timezone.utc),\n",
    "    \"Age\" : 37\n",
    "    },\n",
    "    {\n",
    "    \"Name\" : \"Matieu\",\n",
    "    \"Surname\" : \"Nazarov\",\n",
    "    \"Tags\" : [\"SQL\", \"python\", \"ds\"],\n",
    "    \"Date\" : datetime.datetime.now(tz=datetime.timezone.utc),\n",
    "    \"Age\" : 0\n",
    "    }\n",
    "        ]"
   ]
  },
  {
   "cell_type": "code",
   "execution_count": 86,
   "metadata": {},
   "outputs": [],
   "source": [
    "collection_id = collection.insert_many(docs)"
   ]
  },
  {
   "cell_type": "markdown",
   "metadata": {},
   "source": [
    "Проверка рез-та вставки данных : "
   ]
  },
  {
   "cell_type": "code",
   "execution_count": 64,
   "metadata": {},
   "outputs": [
    {
     "data": {
      "text/plain": [
       "True"
      ]
     },
     "execution_count": 64,
     "metadata": {},
     "output_type": "execute_result"
    }
   ],
   "source": [
    "collection_id.acknowledged"
   ]
  },
  {
   "cell_type": "markdown",
   "metadata": {},
   "source": [
    "### $\\boxed{ \\text{Выбор данных} }$"
   ]
  },
  {
   "cell_type": "markdown",
   "metadata": {},
   "source": [
    "- Точный выбор :"
   ]
  },
  {
   "cell_type": "code",
   "execution_count": 65,
   "metadata": {},
   "outputs": [
    {
     "data": {
      "text/plain": [
       "[{'_id': ObjectId('65cf3d624f859239bf486877'),\n",
       "  'Name': 'Michail',\n",
       "  'Surname': 'Nazarov',\n",
       "  'Tags': ['mongodb', 'python', 'ds'],\n",
       "  'Date': datetime.datetime(2024, 2, 16, 10, 48, 1, 75000)},\n",
       " {'_id': ObjectId('65cf4ba14f859239bf48687a'),\n",
       "  'Name': 'Michail',\n",
       "  'Surname': 'Nazarov',\n",
       "  'Tags': ['mongodb', 'python', 'ds'],\n",
       "  'Date': datetime.datetime(2024, 2, 16, 11, 48, 3, 305000)},\n",
       " {'_id': ObjectId('65cf4e9b4f859239bf48687c'),\n",
       "  'Name': 'Michail',\n",
       "  'Surname': 'Nazarov',\n",
       "  'Tags': ['mongodb', 'python', 'ds'],\n",
       "  'Date': datetime.datetime(2024, 2, 16, 12, 1, 28, 550000),\n",
       "  'Age': 37}]"
      ]
     },
     "execution_count": 65,
     "metadata": {},
     "output_type": "execute_result"
    }
   ],
   "source": [
    "list(collection.find({\"Name\" : \"Michail\"}))"
   ]
  },
  {
   "cell_type": "markdown",
   "metadata": {},
   "source": [
    "- Использование регулярных выражений"
   ]
  },
  {
   "cell_type": "code",
   "execution_count": 66,
   "metadata": {},
   "outputs": [
    {
     "data": {
      "text/plain": [
       "[{'_id': ObjectId('65cf3d624f859239bf486877'),\n",
       "  'Name': 'Michail',\n",
       "  'Surname': 'Nazarov',\n",
       "  'Tags': ['mongodb', 'python', 'ds'],\n",
       "  'Date': datetime.datetime(2024, 2, 16, 10, 48, 1, 75000)},\n",
       " {'_id': ObjectId('65cf4ba14f859239bf48687a'),\n",
       "  'Name': 'Michail',\n",
       "  'Surname': 'Nazarov',\n",
       "  'Tags': ['mongodb', 'python', 'ds'],\n",
       "  'Date': datetime.datetime(2024, 2, 16, 11, 48, 3, 305000)},\n",
       " {'_id': ObjectId('65cf4ba14f859239bf48687b'),\n",
       "  'Name': 'Matieu',\n",
       "  'Surname': 'Nazarov',\n",
       "  'Tags': ['SQL', 'python', 'ds'],\n",
       "  'Date': datetime.datetime(2024, 2, 16, 11, 48, 3, 305000)},\n",
       " {'_id': ObjectId('65cf4e9b4f859239bf48687c'),\n",
       "  'Name': 'Michail',\n",
       "  'Surname': 'Nazarov',\n",
       "  'Tags': ['mongodb', 'python', 'ds'],\n",
       "  'Date': datetime.datetime(2024, 2, 16, 12, 1, 28, 550000),\n",
       "  'Age': 37},\n",
       " {'_id': ObjectId('65cf4e9b4f859239bf48687d'),\n",
       "  'Name': 'Matieu',\n",
       "  'Surname': 'Nazarov',\n",
       "  'Tags': ['SQL', 'python', 'ds'],\n",
       "  'Date': datetime.datetime(2024, 2, 16, 12, 1, 28, 550000),\n",
       "  'Age': 0}]"
      ]
     },
     "execution_count": 66,
     "metadata": {},
     "output_type": "execute_result"
    }
   ],
   "source": [
    "list(collection.find({\"Surname\" : {\"$regex\":\"^N\"}}))"
   ]
  },
  {
   "cell_type": "markdown",
   "metadata": {},
   "source": [
    "- Использование логических выражений :\n",
    "    - \"<\"\n",
    "    - \">\" \n"
   ]
  },
  {
   "cell_type": "code",
   "execution_count": 80,
   "metadata": {},
   "outputs": [
    {
     "data": {
      "text/plain": [
       "[{'_id': ObjectId('65cf4e9b4f859239bf48687c'),\n",
       "  'Name': 'Michail',\n",
       "  'Surname': 'Nazarov',\n",
       "  'Tags': ['mongodb', 'python', 'ds'],\n",
       "  'Date': datetime.datetime(2024, 2, 16, 12, 1, 28, 550000),\n",
       "  'Age': 37}]"
      ]
     },
     "execution_count": 80,
     "metadata": {},
     "output_type": "execute_result"
    }
   ],
   "source": [
    "list(collection.find({\"Age\" : {\"$lt\": 1}}))\n",
    "list(collection.find({\"Age\" : {\"$gt\": 1}}))"
   ]
  },
  {
   "cell_type": "markdown",
   "metadata": {},
   "source": [
    "- Использование индекса массива :"
   ]
  },
  {
   "cell_type": "code",
   "execution_count": 14,
   "metadata": {},
   "outputs": [
    {
     "data": {
      "text/plain": [
       "[{'_id': ObjectId('65cf4ba14f859239bf48687b'),\n",
       "  'Name': 'Matieu',\n",
       "  'Surname': 'Nazarov',\n",
       "  'Tags': ['SQL', 'python', 'ds'],\n",
       "  'Date': datetime.datetime(2024, 2, 16, 11, 48, 3, 305000),\n",
       "  'SON': True}]"
      ]
     },
     "execution_count": 14,
     "metadata": {},
     "output_type": "execute_result"
    }
   ],
   "source": [
    "list(collection.find({\"Tags.1\" :\"python\" }).limit(1))"
   ]
  },
  {
   "cell_type": "markdown",
   "metadata": {},
   "source": [
    "- Выбрать часть документа :"
   ]
  },
  {
   "cell_type": "code",
   "execution_count": 18,
   "metadata": {},
   "outputs": [
    {
     "data": {
      "text/plain": [
       "[{'Surname': 'Nazarov'}]"
      ]
     },
     "execution_count": 18,
     "metadata": {},
     "output_type": "execute_result"
    }
   ],
   "source": [
    "list(collection.find({\"Tags.1\" :\"python\" }, projection = {\"Surname\" : True, '_id' : False}).limit(1))"
   ]
  },
  {
   "cell_type": "markdown",
   "metadata": {},
   "source": [
    "### $\\boxed{ \\text{Создание новых полей} }$"
   ]
  },
  {
   "cell_type": "code",
   "execution_count": 81,
   "metadata": {},
   "outputs": [
    {
     "data": {
      "text/plain": [
       "<pymongo.results.UpdateResult at 0x1d0a4d0ae00>"
      ]
     },
     "execution_count": 81,
     "metadata": {},
     "output_type": "execute_result"
    }
   ],
   "source": [
    "collection.update_many({\"Name\" : \"Matieu\"}, {\"$set\" : {\"SON\" : True}})"
   ]
  },
  {
   "cell_type": "markdown",
   "metadata": {},
   "source": [
    "### $\\boxed{ \\text{Удаление записей} }$"
   ]
  },
  {
   "cell_type": "code",
   "execution_count": 82,
   "metadata": {},
   "outputs": [],
   "source": [
    "delete_doc = collection.delete_many({\"Name\" : \"Michail\"})"
   ]
  },
  {
   "cell_type": "markdown",
   "metadata": {},
   "source": [
    "- Кол-ву удаленных записей"
   ]
  },
  {
   "cell_type": "code",
   "execution_count": 83,
   "metadata": {},
   "outputs": [
    {
     "data": {
      "text/plain": [
       "3"
      ]
     },
     "execution_count": 83,
     "metadata": {},
     "output_type": "execute_result"
    }
   ],
   "source": [
    "delete_doc.deleted_count"
   ]
  },
  {
   "cell_type": "markdown",
   "metadata": {},
   "source": [
    "### $\\boxed{ \\text{Группировка} }$"
   ]
  },
  {
   "cell_type": "code",
   "execution_count": 97,
   "metadata": {},
   "outputs": [],
   "source": [
    "result = client['first_db']['first_collection'].aggregate([\n",
    "    {\n",
    "        '$group': {\n",
    "            '_id': '$Name', \n",
    "            'Avg_age': {\n",
    "                '$avg': '$Age'\n",
    "            }\n",
    "        }\n",
    "    }, {\n",
    "        '$sort': {\n",
    "            'Avg_age': -1\n",
    "        }\n",
    "    }\n",
    "])"
   ]
  },
  {
   "cell_type": "markdown",
   "metadata": {},
   "source": [
    "- Вывод рез-та"
   ]
  },
  {
   "cell_type": "code",
   "execution_count": 98,
   "metadata": {},
   "outputs": [
    {
     "data": {
      "text/plain": [
       "[{'_id': 'Michail', 'Avg_age': 37.0}, {'_id': 'Matieu', 'Avg_age': 0.0}]"
      ]
     },
     "execution_count": 98,
     "metadata": {},
     "output_type": "execute_result"
    }
   ],
   "source": [
    "\n",
    "list(result)"
   ]
  },
  {
   "cell_type": "markdown",
   "metadata": {},
   "source": [
    "### $\\boxed{ \\text{Объединение коллекций} }$"
   ]
  },
  {
   "cell_type": "code",
   "execution_count": null,
   "metadata": {},
   "outputs": [],
   "source": [
    "joined_result = client['sample_mflix']['comments'].aggregate([\n",
    "    {\n",
    "        '$group': {\n",
    "            '_id': '$movie_id', \n",
    "            'count': {\n",
    "                '$count': {}\n",
    "            }\n",
    "        }\n",
    "    }])\n",
    "list(joined_result)"
   ]
  }
 ],
 "metadata": {
  "kernelspec": {
   "display_name": "Python 3",
   "language": "python",
   "name": "python3"
  },
  "language_info": {
   "codemirror_mode": {
    "name": "ipython",
    "version": 3
   },
   "file_extension": ".py",
   "mimetype": "text/x-python",
   "name": "python",
   "nbconvert_exporter": "python",
   "pygments_lexer": "ipython3",
   "version": "3.11.1"
  }
 },
 "nbformat": 4,
 "nbformat_minor": 2
}
