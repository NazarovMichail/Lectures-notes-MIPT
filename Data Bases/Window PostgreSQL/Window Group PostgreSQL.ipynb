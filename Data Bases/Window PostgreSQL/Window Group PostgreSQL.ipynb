{
 "cells": [
  {
   "cell_type": "markdown",
   "metadata": {},
   "source": [
    "# `Группировка данных и оконные функции  PostgreSQL`\n",
    "\n",
    "<img src='data/img/pglogo.png' width=700>\n",
    "\n",
    "____\n",
    "\n",
    "### <a id=0>Содержание</a>\n",
    "- [Исходные данные](#1)\n",
    "- [Задача](#2)\n",
    "- [Решения](#2)\n"
   ]
  },
  {
   "cell_type": "markdown",
   "metadata": {},
   "source": [
    "___\n",
    "## <center> <a id=1>Исходные данные</a>"
   ]
  },
  {
   "cell_type": "markdown",
   "metadata": {},
   "source": [
    "Дано два csv-файла с данными о клиентах :\n",
    "\n",
    "- `customer.csv`\n",
    "\n",
    "|Поле |Описание |\n",
    "|:--|:--|\n",
    "|customer_id  |id клиента |\n",
    "| first_name  | \tимя клиента |\n",
    "| last_name  | \tфамилия клиента |\n",
    "| gender  |пол  |\n",
    "|  DOB | \tдата рождения |\n",
    "| job_title  | профессия |\n",
    "| job_industry_category |\tсфера деятельности  |\n",
    "| wealth_segment  |\tсегмент благосостояния  |\n",
    "|deceased_indicator   | \tфлаг актуального клиента |\n",
    "| owns_car | флаг наличия автомобиля |\n",
    "|address   | \tадрес проживания |\n",
    "| postcode  |\tпочтовый индекс  |\n",
    "| state  | штат |\n",
    "|country   | страна проживания |\n",
    "| property_valuation |  оценка имущества|\n",
    "\n",
    "- `transaction.csv`\n",
    "\n",
    "|Поле |Описание |\n",
    "|:--|:--|\n",
    "|transaction_id | id транзакции|\n",
    "|product_id | \tid продукта|\n",
    "|customer_id | id клиента|\n",
    "|transaction_date |\tдата транзакции |\n",
    "|online_order |флаг онлайн-заказа |\n",
    "| order_status| \tстатус транзакции|\n",
    "|brand | бренд|\n",
    "| product_line| \tлинейка продуктов|\n",
    "| product_class|\tкласс продукта |\n",
    "|product_size | \tразмер продукта|\n",
    "|list_price |\tцена |\n",
    "|standard_cost |\tстандартная стоимость |\n"
   ]
  },
  {
   "cell_type": "markdown",
   "metadata": {},
   "source": [
    "___\n",
    "## <center> <a id=2>Задача</a>\n",
    "\n",
    "$\\boxed{1}$ Создать таблицы со следующими структурами и загрузить данные из csv-файлов\n",
    "\n",
    "$\\boxed{2}$ Выполнить следующие запросы :\n",
    "\n",
    "- Вывести распределение (количество) клиентов по сферам деятельности, отсортировав результат по убыванию количества.\n",
    "\n",
    "- Найти сумму транзакций за каждый месяц по сферам деятельности, отсортировав по месяцам и по сфере деятельности.\n",
    "\n",
    "- Вывести количество онлайн-заказов для всех брендов в рамках подтвержденных заказов клиентов из сферы IT.\n",
    "\n",
    "- Найти по всем клиентам сумму всех транзакций (list_price), максимум, минимум и количество транзакций, отсортировав результат по убыванию суммы транзакций и количества клиентов. Выполните двумя способами: используя только group by и используя только оконные функции. Сравните результат\n",
    "\n",
    "- Найти имена и фамилии клиентов с минимальной/максимальной суммой транзакций за весь период (сумма транзакций не может быть null). Напишите отдельные запросы для минимальной и максимальной суммы.\n",
    "\n",
    "- Вывести только самые первые транзакции клиентов. Решить с помощью оконных функций.\n",
    "\n",
    "- Вывести имена, фамилии и профессии клиентов, между транзакциями которых был максимальный интервал (интервал вычисляется в днях)"
   ]
  },
  {
   "cell_type": "markdown",
   "metadata": {},
   "source": [
    "___\n",
    "## <center> <a id=3>Решение</a>"
   ]
  },
  {
   "cell_type": "markdown",
   "metadata": {},
   "source": [
    "___\n",
    "###  <a id=3>Создание таблиц</a>"
   ]
  },
  {
   "cell_type": "code",
   "execution_count": null,
   "metadata": {
    "vscode": {
     "languageId": "sql"
    }
   },
   "outputs": [],
   "source": [
    "create table customer (\n",
    "\"customer_id\" int4,\n",
    "\"first_name\" varchar(50),\n",
    "\"last_name\" varchar(50),\n",
    "\"gender\" varchar(30),\n",
    "\"DOB\" varchar(50),\n",
    "\"job_title\" varchar(50) ,\n",
    "\"job_industry_category\" varchar(50) ,\n",
    "\"wealth_segment\"  varchar(50),\n",
    "\"deceased_indicator\"  varchar(50),\n",
    "\"owns_car\"  varchar(30),\n",
    "\"address\"  varchar(50),\n",
    "\"postcode\"  varchar(30),\n",
    "\"state\"  varchar(30),\n",
    "\"country\"  varchar(30),\n",
    "\"property_valuation\"  int4\n",
    ");\n",
    "\n",
    "create table transaction (\n",
    "\"transaction_id\"  int4,\n",
    "\"product_id\"  int4,\n",
    "\"customer_id\"  int4,\n",
    "\"transaction_date\"  varchar(30),\n",
    "\"online_order\"  varchar(30),\n",
    "\"order_status\"  varchar(30),\n",
    "\"brand\"  varchar(30),\n",
    "\"product_line\"  varchar(30),\n",
    "\"product_class\"  varchar(30),\n",
    "\"product_size\"  varchar(30),\n",
    "\"list_price\"  float4,\n",
    "\"standard_cost\"  float4\n",
    ");"
   ]
  },
  {
   "cell_type": "markdown",
   "metadata": {},
   "source": [
    "___\n",
    "### <a id=4>Выполнение запросов</a>"
   ]
  },
  {
   "cell_type": "markdown",
   "metadata": {},
   "source": [
    "___\n",
    "- Вывести распределение (количество) клиентов по сферам деятельности, отсортировав результат по убыванию количества"
   ]
  },
  {
   "cell_type": "code",
   "execution_count": null,
   "metadata": {
    "vscode": {
     "languageId": "sql"
    }
   },
   "outputs": [],
   "source": [
    "select job_industry_category , count(job_industry_category) customers_count \n",
    "from customer c \n",
    "group by job_industry_category\n",
    "order by count(job_industry_category)"
   ]
  },
  {
   "cell_type": "markdown",
   "metadata": {},
   "source": [
    "___\n",
    "- Найти сумму транзакций за каждый месяц по сферам деятельности, отсортировав по месяцам и по сфере деятельности."
   ]
  },
  {
   "cell_type": "code",
   "execution_count": null,
   "metadata": {
    "vscode": {
     "languageId": "sql"
    }
   },
   "outputs": [],
   "source": [
    "select \n",
    "    sum(list_price) as \"Transactions sum\"\n",
    "    ,date_trunc('month', transaction_date ::date) as month\n",
    "    , job_industry_category\n",
    "from  \"transaction\" t \n",
    "left join customer c\n",
    "on c.customer_id = t.customer_id \n",
    "where job_industry_category is not null\n",
    "group by month, job_industry_category\n",
    "order by month , job_industry_category"
   ]
  },
  {
   "cell_type": "markdown",
   "metadata": {},
   "source": [
    "___\n",
    "- Вывести количество онлайн-заказов для всех брендов в рамках подтвержденных заказов клиентов из сферы IT."
   ]
  },
  {
   "cell_type": "code",
   "execution_count": null,
   "metadata": {
    "vscode": {
     "languageId": "sql"
    }
   },
   "outputs": [],
   "source": [
    "select \n",
    "\tbrand , count(brand) \"Brand count for customers in IT\"\n",
    "from \"transaction\" t \n",
    "left join customer c \n",
    "on c.customer_id = t.customer_id \n",
    "where online_order = 'True' and job_industry_category = 'IT' and order_status = 'Approved'\n",
    "group by brand"
   ]
  },
  {
   "cell_type": "markdown",
   "metadata": {},
   "source": [
    "___\n",
    "- Найти по всем клиентам сумму всех транзакций (list_price), максимум, минимум и количество транзакций, отсортировав результат по убыванию суммы транзакций и количества клиентов. Выполните двумя способами: используя только group by и используя только оконные функции. Сравните результат"
   ]
  },
  {
   "cell_type": "markdown",
   "metadata": {},
   "source": [
    "Используя `GROUP BY` :"
   ]
  },
  {
   "cell_type": "code",
   "execution_count": null,
   "metadata": {
    "vscode": {
     "languageId": "sql"
    }
   },
   "outputs": [],
   "source": [
    "select \n",
    "customer_id\n",
    ",sum(list_price) \n",
    ", max(list_price)\n",
    ", min(list_price)\n",
    ", count(list_price) \n",
    "from \"transaction\" t \n",
    "group by customer_id \n",
    "order by sum(list_price) desc, count(list_price) desc"
   ]
  },
  {
   "cell_type": "markdown",
   "metadata": {},
   "source": [
    "Используя `оконные функции` :"
   ]
  },
  {
   "cell_type": "code",
   "execution_count": null,
   "metadata": {
    "vscode": {
     "languageId": "sql"
    }
   },
   "outputs": [],
   "source": [
    "select \n",
    "customer_id\n",
    ",sum(list_price) over (partition by customer_id) as \"SUM\"\n",
    ",max(list_price) over (partition by customer_id)\n",
    ",min(list_price) over (partition by customer_id)\n",
    ",count(list_price) over (partition by customer_id) as \"COUNT\"\n",
    "from \"transaction\" t \n",
    "order by \"SUM\" desc, \"COUNT\" desc\n"
   ]
  },
  {
   "cell_type": "markdown",
   "metadata": {},
   "source": [
    "___\n",
    "- Найти имена и фамилии клиентов с минимальной/максимальной суммой транзакций за весь период (сумма транзакций не может быть null). Напишите отдельные запросы для минимальной и максимальной суммы."
   ]
  },
  {
   "cell_type": "markdown",
   "metadata": {},
   "source": [
    "`Максимальная` сумма транзакций"
   ]
  },
  {
   "cell_type": "code",
   "execution_count": null,
   "metadata": {
    "vscode": {
     "languageId": "sql"
    }
   },
   "outputs": [],
   "source": [
    "with groupped as (select\n",
    "c.first_name as \"NAME\"\n",
    ", c.last_name as \"LAST\"\n",
    ", sum(t.list_price) as \"SUM_PRICE\"\n",
    "from \"transaction\" t \n",
    "left join customer c \n",
    "on t.customer_id = c.customer_id \n",
    "group by c.first_name, c.last_name\n",
    "order by \"SUM_PRICE\" desc )\n",
    "select \n",
    "\"NAME\"\n",
    ", \"LAST\"\n",
    ", \"SUM_PRICE\"\n",
    "from groupped\n",
    "where \"SUM_PRICE\" = (select \"SUM_PRICE\" from groupped limit 1)"
   ]
  },
  {
   "cell_type": "markdown",
   "metadata": {},
   "source": [
    "`Минимальная` сумма транзакций"
   ]
  },
  {
   "cell_type": "code",
   "execution_count": null,
   "metadata": {
    "vscode": {
     "languageId": "sql"
    }
   },
   "outputs": [],
   "source": [
    "with groupped as (select\n",
    "c.first_name as \"NAME\"\n",
    ", c.last_name as \"LAST\"\n",
    ", sum(t.list_price) as \"SUM_PRICE\"\n",
    "from \"transaction\" t \n",
    "left join customer c \n",
    "on t.customer_id = c.customer_id \n",
    "group by c.first_name, c.last_name\n",
    "order by \"SUM_PRICE\"  )\n",
    "select \n",
    "\"NAME\"\n",
    ", \"LAST\"\n",
    ", \"SUM_PRICE\"\n",
    "from groupped\n",
    "where \"SUM_PRICE\" = (select \"SUM_PRICE\" from groupped limit 1)"
   ]
  },
  {
   "cell_type": "markdown",
   "metadata": {},
   "source": [
    "___\n",
    "- Вывести только самые первые транзакции клиентов. Решить с помощью оконных функций."
   ]
  },
  {
   "cell_type": "markdown",
   "metadata": {},
   "source": [
    "$\\boxed{1}$ Создаем `представление` :"
   ]
  },
  {
   "cell_type": "code",
   "execution_count": null,
   "metadata": {
    "vscode": {
     "languageId": "sql"
    }
   },
   "outputs": [],
   "source": [
    "create view  table_view as\n",
    "select \n",
    "first_value (transaction_date) over (partition by customer_id order by transaction_date) as \"FIRST\"\n",
    ", *\n",
    "from \"transaction\" t "
   ]
  },
  {
   "cell_type": "markdown",
   "metadata": {},
   "source": [
    "$\\boxed{2}$ Используем `представление` для запроса:"
   ]
  },
  {
   "cell_type": "code",
   "execution_count": null,
   "metadata": {
    "vscode": {
     "languageId": "sql"
    }
   },
   "outputs": [],
   "source": [
    "select * from table_view\n",
    "where transaction_id in(select transaction_id from \"transaction\" where transaction_date = \"FIRST\")"
   ]
  },
  {
   "cell_type": "markdown",
   "metadata": {},
   "source": [
    "___\n",
    "- Вывести имена, фамилии и профессии клиентов, между транзакциями которых был максимальный интервал (интервал вычисляется в днях) "
   ]
  },
  {
   "cell_type": "markdown",
   "metadata": {},
   "source": [
    "$\\boxed{1}$ Создаем `временную таблицу` :"
   ]
  },
  {
   "cell_type": "code",
   "execution_count": null,
   "metadata": {
    "vscode": {
     "languageId": "sql"
    }
   },
   "outputs": [],
   "source": [
    "create temp table \"TEMP_TABLE\" as\n",
    "select \n",
    "c.first_name\n",
    ", c.last_name\n",
    ", c.job_title\n",
    ", t.transaction_date\n",
    ", t.customer_id\n",
    ", lead (transaction_date) over (partition by t.customer_id order by  t.transaction_date ::date) as \"NEXT\"\n",
    "from \"transaction\" t \n",
    "left join customer c \n",
    "on t.customer_id = c.customer_id"
   ]
  },
  {
   "cell_type": "markdown",
   "metadata": {},
   "source": [
    "$\\boxed{2}$ Создаем `табличное выражение` :"
   ]
  },
  {
   "cell_type": "code",
   "execution_count": null,
   "metadata": {
    "vscode": {
     "languageId": "sql"
    }
   },
   "outputs": [],
   "source": [
    "with \"CTE\" as (\n",
    "select\n",
    "first_name\n",
    ",last_name\n",
    ",job_title\n",
    ", (\"NEXT\" ::date - transaction_date ::date ) as \"INTER\"\n",
    ", \"NEXT\"\n",
    ", transaction_date\n",
    "from \"TEMP_TABLE\")\n",
    "select \n",
    "first_name\n",
    ",last_name\n",
    ",job_title from \"CTE\"\n",
    "where \"INTER\" = (select max(\"INTER\") from \"CTE\")"
   ]
  }
 ],
 "metadata": {
  "language_info": {
   "name": "python"
  }
 },
 "nbformat": 4,
 "nbformat_minor": 2
}
