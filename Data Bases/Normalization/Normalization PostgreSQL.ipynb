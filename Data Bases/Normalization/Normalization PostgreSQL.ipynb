{
 "cells": [
  {
   "cell_type": "markdown",
   "metadata": {},
   "source": [
    "# `Создание и нормализация базы данных`\n",
    "\n",
    "<img src='data/img/pglogo.png' width=700>\n",
    "\n",
    "____\n",
    "\n",
    "### <a id=0>Содержание</a>\n",
    "\n",
    "- [Нормализация базы данных](#1)\n",
    "- [Структура базы данных](#2)\n",
    "- [Подключение к базе данных](#3)\n",
    "- [Создание таблиц](#4)\n",
    "- [Загрузка данных](#5)\n",
    "- [Проблемы при загрузке данных](#4)\n"
   ]
  },
  {
   "cell_type": "markdown",
   "metadata": {},
   "source": [
    "___\n",
    "## <center> <a id=1>Нормализация базы данных</a>\n",
    "\n",
    "Изначально данные excel-файла находились в `1-й нормальной форме`, т.к.:\n",
    "\n",
    "- все атрибуты таблицы атомарны\n",
    "\n",
    "- все строки таблицы уникальны\n",
    "\n",
    "- отсутствовали  ключи для таблиц\n",
    "\n",
    "В процессе работы, база данных была приведена к `3-й нормальной форме`. Созданы таблицы, в которых каждый столбец зависит только от первичного ключа. \n",
    "\n",
    "|Таблица |Ключ |\n",
    "|:--|:--|\n",
    "|products |product_id |\n",
    "| transactions|transaction_id |\n",
    "| address| postcode|\n",
    "|customers |customer_id |\n",
    "\n",
    "Объекты каждой таблицы могут быть использованы отдельно от объектов других таблиц :\n",
    "\n",
    "В таблице `address`:\n",
    "\n",
    "- Ключом является postecode, т.к. данные столбца являются уникальными (из-за уникальности предполагаю, что в postcode заложены данные о всех географических данных, а не только почтовый индекс)\n",
    "\n",
    "- Данные отдельны от данных клиентов, т.к. адреса не зависят от клиентов и для каждого адреса может быть определено несколько клиентов \n",
    "\n",
    "\n",
    "В таблице `customers`:\n",
    "\n",
    "- Данные, характеризующие покупателей\n",
    "\n",
    "В таблице `transactions`:\n",
    "\n",
    "- Данные о покупках покупателей конкретных товаров \n",
    "\n",
    "В таблице `products`:\n",
    "\n",
    "- Данные о товарах и их характеристиках\n",
    "\n",
    "\n",
    "\n"
   ]
  },
  {
   "cell_type": "markdown",
   "metadata": {},
   "source": [
    "___\n",
    "## <center> <a id=2>Структура базы данных</a>\n",
    "\n",
    "<img src='data/img/sceme.png'>\n",
    "\n",
    "[Ссылка на сайт ](https://dbdiagram.io/d)"
   ]
  },
  {
   "cell_type": "markdown",
   "metadata": {},
   "source": [
    "<center>"
   ]
  },
  {
   "cell_type": "markdown",
   "metadata": {},
   "source": [
    "___\n",
    "## <center> <a id=3>Подключение к базе данных</a>"
   ]
  },
  {
   "cell_type": "code",
   "execution_count": 1,
   "metadata": {},
   "outputs": [],
   "source": [
    "import psycopg2 as pg\n",
    "from config import password\n",
    "\n",
    "\n",
    "conn=pg.connect(\n",
    "    dbname='transactions_customers',\n",
    "        user='postgres',\n",
    "          password=password,\n",
    "            host='localhost',\n",
    "                port='5432' )\n",
    "\n",
    "cursor=conn.cursor()"
   ]
  },
  {
   "cell_type": "markdown",
   "metadata": {},
   "source": [
    "___\n",
    "## <center> <a id=4>Создание таблиц</a>"
   ]
  },
  {
   "cell_type": "code",
   "execution_count": 2,
   "metadata": {},
   "outputs": [],
   "source": [
    "cursor.execute(''' \n",
    "CREATE TABLE \"transactions\" (\n",
    "  \"transaction_id\" integer PRIMARY KEY,\n",
    "  \"product_id\" integer,\n",
    "  \"customer_id\" integer,\n",
    "  \"transaction_date\" timestamp,\n",
    "  \"online_order\" boolean,\n",
    "  \"order_status\" varchar\n",
    ");\n",
    "\n",
    "CREATE TABLE \"customers\" (\n",
    "  \"customer_id\" integer PRIMARY KEY,\n",
    "  \"first_name\" varchar,\n",
    "  \"last_name\" varchar,\n",
    "  \"gender\" varchar,\n",
    "  \"DOB\" timestamp,\n",
    "  \"job_title\" varchar,\n",
    "  \"job_industry_category\" varchar,\n",
    "  \"wealth_segment\" varchar,\n",
    "  \"deceased_indicator\" varchar,\n",
    "  \"owns_car\" varchar,\n",
    "  \"property_valuation\" integer,\n",
    "  \"postcode\" integer\n",
    ");\n",
    "\n",
    "CREATE TABLE \"address\" (\n",
    "  \"postecode\" integer PRIMARY KEY,\n",
    "  \"addres\" varchar,\n",
    "  \"state\" text,\n",
    "  \"country\" varchar\n",
    ");\n",
    "\n",
    "CREATE TABLE \"products\" (\n",
    "  \"product_id\" integer PRIMARY KEY,\n",
    "  \"brand\" varchar,\n",
    "  \"product_line\" varchar,\n",
    "  \"product_class\" varchar,\n",
    "  \"product_size\" varchar,\n",
    "  \"list_price\" float,\n",
    "  \"standard_cost\" float\n",
    ");\n",
    "\n",
    "ALTER TABLE \"customers\" ADD FOREIGN KEY (\"postcode\") REFERENCES \"address\" (\"postecode\");\n",
    "\n",
    "ALTER TABLE \"transactions\" ADD FOREIGN KEY (\"customer_id\") REFERENCES \"customers\" (\"customer_id\");\n",
    "\n",
    "ALTER TABLE \"transactions\" ADD FOREIGN KEY (\"product_id\") REFERENCES \"products\" (\"product_id\");\n",
    "\n",
    "               ''')\n",
    "\n",
    "conn.commit()\n"
   ]
  },
  {
   "cell_type": "markdown",
   "metadata": {},
   "source": [
    "___\n",
    "## <center> <a id=5>Загрузка данных</a>\n",
    "\n",
    "Загрузка данных осуществлялась как через `DBeaver`, так и при помощи `Python`, в <a style='color:red'>**целях расширения навыков**</a> \n",
    "\n",
    "Приведены шаги загрузки данных для таблицы address, аналогично были загружены данные для остальных таблиц"
   ]
  },
  {
   "cell_type": "markdown",
   "metadata": {},
   "source": [
    "### Загрузка в таблицу `address`:\n",
    "\n",
    "- $\\boxed{1}$ Импорт данных в таблицу при помощи контекстного меню DBeaver :\n",
    "\n",
    "<img src='data/img/deabeaver_import/import data.png'>\n",
    "\n",
    "- $\\boxed{2}$ Выбор файла csv для загрузки :\n",
    "\n",
    "<img src='data/img/deabeaver_import/select file.png'>\n",
    "\n",
    "- $\\boxed{3}$ Совмещение столбцов файла и столбцов таблицы при необходимости :\n",
    "\n",
    "<img src='data/img/deabeaver_import/columns.png'>\n",
    "\n",
    "- $\\boxed{4}$ Просмотр загруженных данных :\n",
    "\n",
    "<img src='data/img/deabeaver_import/tabledata.png'>\n"
   ]
  },
  {
   "cell_type": "code",
   "execution_count": null,
   "metadata": {},
   "outputs": [],
   "source": [
    "f = open(r'data/import data/address_import.csv', 'r')\n",
    "cursor.copy_from(f, 'address', sep=',')\n",
    "f.close()\n",
    "\n",
    "conn.commit()"
   ]
  },
  {
   "cell_type": "markdown",
   "metadata": {},
   "source": [
    "### Загрузка в таблицу `customers`\n",
    "\n",
    "<img src='data/img/customers.png'>"
   ]
  },
  {
   "cell_type": "code",
   "execution_count": null,
   "metadata": {},
   "outputs": [],
   "source": [
    "f = open(r'data/import data/customers_import.csv', 'r')\n",
    "cursor.copy_from(f, 'customers', sep=',')\n",
    "f.close()\n",
    "\n",
    "conn.commit()"
   ]
  },
  {
   "cell_type": "markdown",
   "metadata": {},
   "source": [
    "### Загрузка в таблицу `products`\n",
    "\n",
    "<img src='data/img/products.png'>"
   ]
  },
  {
   "cell_type": "code",
   "execution_count": 54,
   "metadata": {},
   "outputs": [],
   "source": [
    "f = open(r'data/import data/product_import.csv', 'r')\n",
    "cursor.copy_from(f, 'products', sep=',')\n",
    "f.close()\n",
    "\n",
    "conn.commit()\n"
   ]
  },
  {
   "cell_type": "markdown",
   "metadata": {},
   "source": [
    "### Загрузка в таблицу `transactions`\n",
    "\n",
    "<img src='data/img/transactions.png'>"
   ]
  },
  {
   "cell_type": "code",
   "execution_count": 61,
   "metadata": {},
   "outputs": [],
   "source": [
    "f = open(r'data/import data/transaction_import.csv', 'r')\n",
    "cursor.copy_from(f, 'transactions', sep=',')\n",
    "f.close()\n",
    "\n",
    "conn.commit()"
   ]
  },
  {
   "cell_type": "markdown",
   "metadata": {},
   "source": [
    "\n",
    "___\n",
    "## <center> <a id=6>Проблемы при загрузке данных</a>\n",
    "- Для того, чтобы загрузить данные необходимо заполнить `пустые значения` в столбцах :\n",
    "\n",
    "    - last_name\n",
    "\n",
    "    - job_title\n",
    "\n",
    "- Тип данных `boolean` больше подходит для столбцов:\n",
    "    -  deceased_indicator \n",
    "\n",
    "    - owns_car\n",
    "\n",
    "- Было загружено 10 объектов т.к. :\n",
    "\n",
    "    - product_id `не уникален` для продуктов, не может быть ключом\n",
    "\n"
   ]
  }
 ],
 "metadata": {
  "kernelspec": {
   "display_name": "Python 3",
   "language": "python",
   "name": "python3"
  },
  "language_info": {
   "codemirror_mode": {
    "name": "ipython",
    "version": 3
   },
   "file_extension": ".py",
   "mimetype": "text/x-python",
   "name": "python",
   "nbconvert_exporter": "python",
   "pygments_lexer": "ipython3",
   "version": "3.11.1"
  }
 },
 "nbformat": 4,
 "nbformat_minor": 2
}
