{
 "cells": [
  {
   "cell_type": "markdown",
   "metadata": {},
   "source": [
    "# `Luigi`\n",
    "\n",
    "<img src='img/luigi.png'>\n",
    "\n",
    "\n",
    "[**Документация Luigi**](https://luigi.readthedocs.io/en/stable/running_luigi.html)\n",
    "\n",
    "[**GitHub Luigi**](https://github.com/spotify/luigi)\n",
    "\n",
    "```python \n",
    "pip install luigi \n",
    "```"
   ]
  },
  {
   "cell_type": "markdown",
   "metadata": {},
   "source": [
    "___\n",
    "## <center> <a id=1 >Создание задачи</a>\n",
    "\n",
    "- $\\boxed{1}$ `luigi.Task` : Наследуется класс `Task`\n",
    "\n",
    "- $\\boxed{2}$ def `run`(self) : Исполняемый код помещается в метод `run`\n",
    "- $\\boxed{3}$ `python -m` $\\boxed{название \\ файла}$ $\\boxed{название \\ задачи}$ `--local-scheduler`: Запускается пайплайн через консоль\n",
    "\n"
   ]
  },
  {
   "cell_type": "code",
   "execution_count": 2,
   "metadata": {},
   "outputs": [],
   "source": [
    "import luigi\n",
    "\n",
    "class MyTask(luigi.Task):\n",
    "    def run(self):\n",
    "        print('Some txt')\n",
    "\n",
    "\n",
    "if __name__ == '__main__':\n",
    "    luigi.run()\n"
   ]
  },
  {
   "cell_type": "markdown",
   "metadata": {},
   "source": [
    "___\n",
    "## <center> <a id=2 >Параметры задачи</a>\n",
    "\n",
    "Параметр позволяет использовать входящие данные\n",
    "- `IntParameter`\n",
    "- `FloatParameter`\n",
    "- `DateParameter`\n",
    "- `DateIntervalParameter`\n",
    "\n",
    "В командной строке парметр задается как аргумент с префиксом `--`\n",
    "\n",
    "`python -m` $\\boxed{название \\ файла}$ $\\boxed{название \\ задачи}$  `--`x 123 `--`y 456 `--local-scheduler`\n"
   ]
  },
  {
   "cell_type": "code",
   "execution_count": null,
   "metadata": {},
   "outputs": [],
   "source": [
    "import luigi\n",
    "\n",
    "class MyTask(luigi.Task):\n",
    "    x = luigi.IntParameter()\n",
    "    y = luigi.IntParameter(default=45)\n",
    "\n",
    "    def run(self):\n",
    "        print(self.x + self.y)\n",
    "\n",
    "if __name__ == '__main__':\n",
    "    luigi.run()"
   ]
  },
  {
   "cell_type": "code",
   "execution_count": null,
   "metadata": {},
   "outputs": [],
   "source": []
  },
  {
   "cell_type": "markdown",
   "metadata": {},
   "source": [
    "___\n",
    "## <center> <a id=3 >Проверка наличия файла</a>\n",
    "\n",
    "- $\\boxed{1}$ `luigi.Task` : Наследуется класс `Task`\n",
    "\n",
    "- $\\boxed{2}$ def `output`(self) : Метод в котором указыватся файл для проверки на наличие (Задача выполнена, если файл существует)\n",
    "\n",
    "    - - $\\boxed{3}$ `LocalTarget`: Определяет объект в виде файла на `локальной` машине\n"
   ]
  },
  {
   "cell_type": "code",
   "execution_count": null,
   "metadata": {},
   "outputs": [],
   "source": [
    "import luigi\n",
    "\n",
    "class MyTask(luigi.Task):\n",
    "    filename = \"file_to_check.txt\"\n",
    "\n",
    "    def run(self):                          #  Записываем текст в файл\n",
    "        with open(self.filename, 'w') as f:\n",
    "            f.write(\"Some text\")\n",
    "\n",
    "    def output(self):                       #  Проверяем на наличие\n",
    "        return luigi.LocalTarget(self.filename)\n",
    "\n",
    "if __name__ == '__main__':\n",
    "    luigi.run()"
   ]
  },
  {
   "cell_type": "markdown",
   "metadata": {},
   "source": [
    "___\n",
    "## <center> <a id=3 >Зависимости между задачами</a>\n",
    "\n",
    "- $\\boxed{1}$ `luigi.Task` : Наследуется класс `Task` для каждой задачи\n",
    "\n",
    "- $\\boxed{2}$ def `requires`(self) : В зависимой задаче определяется метод `requires`, в котором указывается задачи (только класс Task), которые должны быть выполнены перед зависимой\n",
    "\n",
    "- $\\boxed{3}$ Запускается :\n",
    "\n",
    "    - Первая задача:\n",
    "        - Выполняется только первая задача\n",
    "    - Вторая задача:\n",
    "        - Проверяется выполнение первой задачи:\n",
    "\n",
    "            - Если первая уже выполнена, то выполняется вторая\n",
    "            - Если первая не выполнена, то выполняется первая, а за ней выполняется вторая\n",
    "\n"
   ]
  },
  {
   "cell_type": "code",
   "execution_count": null,
   "metadata": {},
   "outputs": [],
   "source": [
    "import luigi\n",
    "\n",
    "class FirstTask(luigi.Task):\n",
    "    filename = 'first_file.txt'\n",
    "\n",
    "    def run(self):\n",
    "        with open(self.filename, 'w') as f:\n",
    "            f.write('first text')\n",
    "\n",
    "    def output(self):\n",
    "        return luigi.LocalTarget(self.filename)\n",
    "\n",
    "class SecondTask(luigi.Task):\n",
    "    filename = 'second_file.txt'\n",
    "\n",
    "    def run(self):\n",
    "        with open(self.filename, 'w') as f:\n",
    "            f.write('second text')\n",
    "\n",
    "    def requires(self):\n",
    "        return FirstTask()\n",
    "\n",
    "    def output(self):\n",
    "        return luigi.LocalTarget(self.filename)\n",
    "\n",
    "if __name__ == '__main__':\n",
    "    luigi.run()"
   ]
  },
  {
   "cell_type": "markdown",
   "metadata": {},
   "source": [
    "___\n",
    "## <center> <a id=4 >Динамические зависимости</a>\n",
    "\n",
    "Выполнение задачи MyTask будет приостановлено, пока не будет выполнена задача OtherTask. При этом объект other_target будет объектом класса Target."
   ]
  },
  {
   "cell_type": "code",
   "execution_count": null,
   "metadata": {},
   "outputs": [],
   "source": [
    "import luigi\n",
    "\n",
    "class MyTask(luigi.Task):\n",
    "    other_target = yield OtherTask()\n",
    "\n",
    "    f = other_target.open('r')"
   ]
  },
  {
   "cell_type": "markdown",
   "metadata": {},
   "source": [
    "___\n",
    "## <center> <a id=5 >Планировщик</a>\n",
    "\n",
    "- Запуск планировщика : luigid --background --pidfile <PATH_TO_PIDFILE> --logdir <PATH_TO_LOGDIR> --state-path <PATH_TO_STATEFILE>\n",
    "    - <PATH_TO_PIDFILE>, <PATH_TO_LOGDIR>, <PATH_TO_STATEFILE> : пути до технических файлов Luigi\n",
    "\n"
   ]
  }
 ],
 "metadata": {
  "kernelspec": {
   "display_name": "Python 3",
   "language": "python",
   "name": "python3"
  },
  "language_info": {
   "codemirror_mode": {
    "name": "ipython",
    "version": 3
   },
   "file_extension": ".py",
   "mimetype": "text/x-python",
   "name": "python",
   "nbconvert_exporter": "python",
   "pygments_lexer": "ipython3",
   "version": "3.11.1"
  }
 },
 "nbformat": 4,
 "nbformat_minor": 2
}
