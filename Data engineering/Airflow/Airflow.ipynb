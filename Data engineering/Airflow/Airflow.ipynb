{
 "cells": [
  {
   "cell_type": "markdown",
   "metadata": {},
   "source": [
    "<img src='img/i.webp'>\n",
    "\n",
    "`Цель проекта`: создать DAG в Apache Airflow, который будет по расписанию запускать расчет витрины активности клиентов по сумме и количеству их транзакций.\n"
   ]
  },
  {
   "cell_type": "markdown",
   "metadata": {},
   "source": [
    "___\n",
    "## <a id=100> Содержание</a>\n",
    "- [Исходные таблицы](#1)\n",
    "- [Сбор данных](#2)\n",
    "- [Установка Airflow с WSL](#3)\n",
    "- [DAG реализация](#4)\n",
    "- [Результат](#5)"
   ]
  },
  {
   "cell_type": "markdown",
   "metadata": {},
   "source": [
    "___\n",
    "## <center> <a id=1> Исходные таблицы</a>"
   ]
  },
  {
   "cell_type": "markdown",
   "metadata": {},
   "source": [
    "Содержимое таблицы `profit_table`:\n",
    "\n",
    "|Столбец |Описание |\n",
    "|-|-|\n",
    "|`id` |уникальный идентификатор клиента |\n",
    "|`sum_a` - `sum_j` | сумма транзакций по соответствующим продуктам a - j|\n",
    "|`count_a` - `count_j` |количество транзакций по соответствующим продуктам a - j|\n",
    "|`date` | дата транзакций|"
   ]
  },
  {
   "cell_type": "code",
   "execution_count": 7,
   "metadata": {},
   "outputs": [
    {
     "data": {
      "text/html": [
       "<div>\n",
       "<style scoped>\n",
       "    .dataframe tbody tr th:only-of-type {\n",
       "        vertical-align: middle;\n",
       "    }\n",
       "\n",
       "    .dataframe tbody tr th {\n",
       "        vertical-align: top;\n",
       "    }\n",
       "\n",
       "    .dataframe thead th {\n",
       "        text-align: right;\n",
       "    }\n",
       "</style>\n",
       "<table border=\"1\" class=\"dataframe\">\n",
       "  <thead>\n",
       "    <tr style=\"text-align: right;\">\n",
       "      <th></th>\n",
       "      <th>id</th>\n",
       "      <th>sum_a</th>\n",
       "      <th>sum_b</th>\n",
       "      <th>sum_c</th>\n",
       "      <th>sum_d</th>\n",
       "      <th>sum_e</th>\n",
       "      <th>sum_f</th>\n",
       "      <th>sum_g</th>\n",
       "      <th>sum_h</th>\n",
       "      <th>sum_i</th>\n",
       "      <th>...</th>\n",
       "      <th>count_b</th>\n",
       "      <th>count_c</th>\n",
       "      <th>count_d</th>\n",
       "      <th>count_e</th>\n",
       "      <th>count_f</th>\n",
       "      <th>count_g</th>\n",
       "      <th>count_h</th>\n",
       "      <th>count_i</th>\n",
       "      <th>count_j</th>\n",
       "      <th>date</th>\n",
       "    </tr>\n",
       "  </thead>\n",
       "  <tbody>\n",
       "    <tr>\n",
       "      <th>0</th>\n",
       "      <td>C00313K</td>\n",
       "      <td>0.00</td>\n",
       "      <td>8.77</td>\n",
       "      <td>0.0</td>\n",
       "      <td>0.0</td>\n",
       "      <td>0.0</td>\n",
       "      <td>0.0</td>\n",
       "      <td>0.0</td>\n",
       "      <td>0.0</td>\n",
       "      <td>0.0</td>\n",
       "      <td>...</td>\n",
       "      <td>1.0</td>\n",
       "      <td>0.0</td>\n",
       "      <td>0.0</td>\n",
       "      <td>0.0</td>\n",
       "      <td>0.0</td>\n",
       "      <td>0.0</td>\n",
       "      <td>0.0</td>\n",
       "      <td>0.0</td>\n",
       "      <td>0.0</td>\n",
       "      <td>2023-10-01</td>\n",
       "    </tr>\n",
       "    <tr>\n",
       "      <th>1</th>\n",
       "      <td>C11256K</td>\n",
       "      <td>1.28</td>\n",
       "      <td>0.00</td>\n",
       "      <td>0.0</td>\n",
       "      <td>0.0</td>\n",
       "      <td>0.0</td>\n",
       "      <td>0.0</td>\n",
       "      <td>0.0</td>\n",
       "      <td>0.0</td>\n",
       "      <td>0.0</td>\n",
       "      <td>...</td>\n",
       "      <td>0.0</td>\n",
       "      <td>0.0</td>\n",
       "      <td>0.0</td>\n",
       "      <td>0.0</td>\n",
       "      <td>0.0</td>\n",
       "      <td>0.0</td>\n",
       "      <td>0.0</td>\n",
       "      <td>0.0</td>\n",
       "      <td>0.0</td>\n",
       "      <td>2023-10-01</td>\n",
       "    </tr>\n",
       "  </tbody>\n",
       "</table>\n",
       "<p>2 rows × 22 columns</p>\n",
       "</div>"
      ],
      "text/plain": [
       "        id  sum_a  sum_b  sum_c  sum_d  sum_e  sum_f  sum_g  sum_h  sum_i  \\\n",
       "0  C00313K   0.00   8.77    0.0    0.0    0.0    0.0    0.0    0.0    0.0   \n",
       "1  C11256K   1.28   0.00    0.0    0.0    0.0    0.0    0.0    0.0    0.0   \n",
       "\n",
       "   ...  count_b  count_c  count_d  count_e  count_f  count_g  count_h  \\\n",
       "0  ...      1.0      0.0      0.0      0.0      0.0      0.0      0.0   \n",
       "1  ...      0.0      0.0      0.0      0.0      0.0      0.0      0.0   \n",
       "\n",
       "   count_i  count_j        date  \n",
       "0      0.0      0.0  2023-10-01  \n",
       "1      0.0      0.0  2023-10-01  \n",
       "\n",
       "[2 rows x 22 columns]"
      ]
     },
     "execution_count": 7,
     "metadata": {},
     "output_type": "execute_result"
    }
   ],
   "source": [
    "import pandas as pd\n",
    "\n",
    "df_profit = pd.read_csv('data/profit_table.csv')\n",
    "df_profit[:2]"
   ]
  },
  {
   "cell_type": "code",
   "execution_count": 2,
   "metadata": {},
   "outputs": [
    {
     "name": "stdout",
     "output_type": "stream",
     "text": [
      "<class 'pandas.core.frame.DataFrame'>\n",
      "RangeIndex: 1270564 entries, 0 to 1270563\n",
      "Data columns (total 22 columns):\n",
      " #   Column   Non-Null Count    Dtype  \n",
      "---  ------   --------------    -----  \n",
      " 0   id       1270564 non-null  object \n",
      " 1   sum_a    1270564 non-null  float64\n",
      " 2   sum_b    1270564 non-null  float64\n",
      " 3   sum_c    1270564 non-null  float64\n",
      " 4   sum_d    1270564 non-null  float64\n",
      " 5   sum_e    1270564 non-null  float64\n",
      " 6   sum_f    1270564 non-null  float64\n",
      " 7   sum_g    1270564 non-null  float64\n",
      " 8   sum_h    1270564 non-null  float64\n",
      " 9   sum_i    1270564 non-null  float64\n",
      " 10  sum_j    1270564 non-null  float64\n",
      " 11  count_a  1270564 non-null  float64\n",
      " 12  count_b  1270564 non-null  float64\n",
      " 13  count_c  1270564 non-null  float64\n",
      " 14  count_d  1270564 non-null  float64\n",
      " 15  count_e  1270564 non-null  float64\n",
      " 16  count_f  1270564 non-null  float64\n",
      " 17  count_g  1270564 non-null  float64\n",
      " 18  count_h  1270564 non-null  float64\n",
      " 19  count_i  1270564 non-null  float64\n",
      " 20  count_j  1270564 non-null  float64\n",
      " 21  date     1270564 non-null  object \n",
      "dtypes: float64(20), object(2)\n",
      "memory usage: 213.3+ MB\n"
     ]
    }
   ],
   "source": [
    "df_profit.info()"
   ]
  },
  {
   "cell_type": "markdown",
   "metadata": {},
   "source": [
    "Содержимое таблицы `flags_activity`:\n",
    "\n",
    "|Столбец |Описание |\n",
    "|-|-|\n",
    "|`id` |уникальный идентификатор клиента |\n",
    "|`flag_a` - `flag_j` | булево значение: 1 - если в предыдущие 3 месяца у клиента были ненулевая сумма и количество транзакций по продукту|"
   ]
  },
  {
   "cell_type": "code",
   "execution_count": 3,
   "metadata": {},
   "outputs": [
    {
     "data": {
      "text/html": [
       "<div>\n",
       "<style scoped>\n",
       "    .dataframe tbody tr th:only-of-type {\n",
       "        vertical-align: middle;\n",
       "    }\n",
       "\n",
       "    .dataframe tbody tr th {\n",
       "        vertical-align: top;\n",
       "    }\n",
       "\n",
       "    .dataframe thead th {\n",
       "        text-align: right;\n",
       "    }\n",
       "</style>\n",
       "<table border=\"1\" class=\"dataframe\">\n",
       "  <thead>\n",
       "    <tr style=\"text-align: right;\">\n",
       "      <th></th>\n",
       "      <th>id</th>\n",
       "      <th>flag_a</th>\n",
       "      <th>flag_b</th>\n",
       "      <th>flag_c</th>\n",
       "      <th>flag_d</th>\n",
       "      <th>flag_e</th>\n",
       "      <th>flag_f</th>\n",
       "      <th>flag_g</th>\n",
       "      <th>flag_h</th>\n",
       "      <th>flag_i</th>\n",
       "      <th>flag_j</th>\n",
       "    </tr>\n",
       "  </thead>\n",
       "  <tbody>\n",
       "    <tr>\n",
       "      <th>0</th>\n",
       "      <td>C00144K</td>\n",
       "      <td>1</td>\n",
       "      <td>0</td>\n",
       "      <td>0</td>\n",
       "      <td>0</td>\n",
       "      <td>0</td>\n",
       "      <td>0</td>\n",
       "      <td>0</td>\n",
       "      <td>0</td>\n",
       "      <td>0</td>\n",
       "      <td>0</td>\n",
       "    </tr>\n",
       "    <tr>\n",
       "      <th>1</th>\n",
       "      <td>C00194K</td>\n",
       "      <td>1</td>\n",
       "      <td>0</td>\n",
       "      <td>1</td>\n",
       "      <td>0</td>\n",
       "      <td>0</td>\n",
       "      <td>0</td>\n",
       "      <td>0</td>\n",
       "      <td>1</td>\n",
       "      <td>0</td>\n",
       "      <td>0</td>\n",
       "    </tr>\n",
       "  </tbody>\n",
       "</table>\n",
       "</div>"
      ],
      "text/plain": [
       "        id  flag_a  flag_b  flag_c  flag_d  flag_e  flag_f  flag_g  flag_h  \\\n",
       "0  C00144K       1       0       0       0       0       0       0       0   \n",
       "1  C00194K       1       0       1       0       0       0       0       1   \n",
       "\n",
       "   flag_i  flag_j  \n",
       "0       0       0  \n",
       "1       0       0  "
      ]
     },
     "execution_count": 3,
     "metadata": {},
     "output_type": "execute_result"
    }
   ],
   "source": [
    "df_activity = pd.read_csv('data/flags_activity.csv')\n",
    "df_activity[:2]"
   ]
  },
  {
   "cell_type": "code",
   "execution_count": 4,
   "metadata": {},
   "outputs": [
    {
     "name": "stdout",
     "output_type": "stream",
     "text": [
      "<class 'pandas.core.frame.DataFrame'>\n",
      "RangeIndex: 222166 entries, 0 to 222165\n",
      "Data columns (total 11 columns):\n",
      " #   Column  Non-Null Count   Dtype \n",
      "---  ------  --------------   ----- \n",
      " 0   id      222166 non-null  object\n",
      " 1   flag_a  222166 non-null  int64 \n",
      " 2   flag_b  222166 non-null  int64 \n",
      " 3   flag_c  222166 non-null  int64 \n",
      " 4   flag_d  222166 non-null  int64 \n",
      " 5   flag_e  222166 non-null  int64 \n",
      " 6   flag_f  222166 non-null  int64 \n",
      " 7   flag_g  222166 non-null  int64 \n",
      " 8   flag_h  222166 non-null  int64 \n",
      " 9   flag_i  222166 non-null  int64 \n",
      " 10  flag_j  222166 non-null  int64 \n",
      "dtypes: int64(10), object(1)\n",
      "memory usage: 18.6+ MB\n"
     ]
    }
   ],
   "source": [
    "df_activity.info()"
   ]
  },
  {
   "cell_type": "markdown",
   "metadata": {},
   "source": [
    "___\n",
    "## <center> <a id=2>Сбор данных</a>"
   ]
  },
  {
   "cell_type": "code",
   "execution_count": 26,
   "metadata": {},
   "outputs": [
    {
     "name": "stderr",
     "output_type": "stream",
     "text": [
      "100%|██████████| 10/10 [00:07<00:00,  1.31it/s]\n"
     ]
    }
   ],
   "source": [
    "import pandas as pd\n",
    "from tqdm import tqdm\n",
    "\n",
    "\n",
    "def transfrom(profit_table, date):\n",
    "    \"\"\" Собирает таблицу флагов активности по продуктам\n",
    "        на основании прибыли и количеству совершёных транзакций\n",
    "        \n",
    "        :param profit_table: таблица с суммой и кол-вом транзакций\n",
    "        :param date: дата расчёта флагоа активности\n",
    "        \n",
    "        :return df_tmp: pandas-датафрейм флагов за указанную дату\n",
    "    \"\"\"\n",
    "    start_date = pd.to_datetime(date) - pd.DateOffset(months=2)\n",
    "    end_date = pd.to_datetime(date) + pd.DateOffset(months=1)\n",
    "    date_list = pd.date_range(\n",
    "        start=start_date, end=end_date, freq='M'\n",
    "    ).strftime('%Y-%m-01')\n",
    "    \n",
    "    df_tmp = (\n",
    "        profit_table[profit_table['date'].isin(date_list)]\n",
    "        .drop('date', axis=1)\n",
    "        .groupby('id')\n",
    "        .sum()\n",
    "    )\n",
    "    \n",
    "    product_list = ['a', 'b', 'c', 'd', 'e', 'f', 'g', 'h', 'i', 'j']\n",
    "    for product in tqdm(product_list):\n",
    "        df_tmp[f'flag_{product}'] = (\n",
    "            df_tmp.apply(\n",
    "                lambda x: x[f'sum_{product}'] != 0 and x[f'count_{product}'] != 0,\n",
    "                axis=1\n",
    "            ).astype(int)\n",
    "        )\n",
    "        \n",
    "    df_tmp = df_tmp.filter(regex='flag').reset_index()\n",
    "    \n",
    "    return df_tmp\n",
    "\n",
    "date = '2024-03-01'\n",
    "flags_activity = transfrom(df_profit, date)\n",
    "flags_activity.to_csv(f'data/flags_activity_test.csv', index=False, mode='a')"
   ]
  },
  {
   "cell_type": "markdown",
   "metadata": {},
   "source": [
    "___\n",
    "## <center> <a id=3>Установка Airflow с WSL</a>\n",
    "\n",
    "[Youtube решение](https://www.youtube.com/watch?v=vmGng8uFvk8)"
   ]
  },
  {
   "cell_type": "markdown",
   "metadata": {},
   "source": [
    "### <center> <a>Установка PIP</a>"
   ]
  },
  {
   "cell_type": "markdown",
   "metadata": {},
   "source": [
    "- $\\boxed{1}$ Установка `PIP`"
   ]
  },
  {
   "cell_type": "code",
   "execution_count": null,
   "metadata": {
    "vscode": {
     "languageId": "powershell"
    }
   },
   "outputs": [],
   "source": [
    "sudo apt-get update"
   ]
  },
  {
   "cell_type": "code",
   "execution_count": null,
   "metadata": {
    "vscode": {
     "languageId": "powershell"
    }
   },
   "outputs": [],
   "source": [
    "sudo apt-get install build-essential python3-dev libpq-dev"
   ]
  },
  {
   "cell_type": "markdown",
   "metadata": {},
   "source": [
    "### <center> <a >Виртуальное окружение</a>\n"
   ]
  },
  {
   "cell_type": "markdown",
   "metadata": {},
   "source": [
    "- `Установка` пакета venv"
   ]
  },
  {
   "cell_type": "code",
   "execution_count": null,
   "metadata": {
    "vscode": {
     "languageId": "powershell"
    }
   },
   "outputs": [],
   "source": [
    "sudo apt-get install python3-venv"
   ]
  },
  {
   "cell_type": "markdown",
   "metadata": {},
   "source": [
    "- `Создание` окружения"
   ]
  },
  {
   "cell_type": "code",
   "execution_count": null,
   "metadata": {
    "vscode": {
     "languageId": "powershell"
    }
   },
   "outputs": [],
   "source": [
    "python3 -m venv .venv"
   ]
  },
  {
   "cell_type": "markdown",
   "metadata": {},
   "source": [
    "- `Активация` окружения"
   ]
  },
  {
   "cell_type": "code",
   "execution_count": null,
   "metadata": {
    "vscode": {
     "languageId": "powershell"
    }
   },
   "outputs": [],
   "source": [
    "source .venv/bin/activate"
   ]
  },
  {
   "cell_type": "markdown",
   "metadata": {},
   "source": [
    "### <center> <a >Установка Airflow</a>\n"
   ]
  },
  {
   "cell_type": "markdown",
   "metadata": {},
   "source": [
    "- $\\boxed{2}$ Установка `Apache Airflow`"
   ]
  },
  {
   "cell_type": "code",
   "execution_count": null,
   "metadata": {
    "vscode": {
     "languageId": "powershell"
    }
   },
   "outputs": [],
   "source": [
    "pip install apache-airflow"
   ]
  },
  {
   "cell_type": "markdown",
   "metadata": {},
   "source": [
    "- Назначение новой папки с конфигурацией"
   ]
  },
  {
   "cell_type": "code",
   "execution_count": null,
   "metadata": {
    "vscode": {
     "languageId": "powershell"
    }
   },
   "outputs": [],
   "source": [
    "export AIRFLOW_HOME=~/airflow"
   ]
  },
  {
   "cell_type": "markdown",
   "metadata": {},
   "source": [
    "- $\\boxed{3}$ Инициализация `Airflow DB`"
   ]
  },
  {
   "cell_type": "code",
   "execution_count": null,
   "metadata": {
    "vscode": {
     "languageId": "powershell"
    }
   },
   "outputs": [],
   "source": [
    "airflow db init"
   ]
  },
  {
   "cell_type": "markdown",
   "metadata": {},
   "source": [
    "- В файле `airflow.cfg` меняем путь к DAG-директории"
   ]
  },
  {
   "cell_type": "code",
   "execution_count": null,
   "metadata": {
    "vscode": {
     "languageId": "powershell"
    }
   },
   "outputs": [],
   "source": [
    "dags_folder = /home/nazarovmichail/airflowAirflow/dags\n",
    "\n",
    "load_examples = False"
   ]
  },
  {
   "cell_type": "markdown",
   "metadata": {},
   "source": [
    "- `Сброс` информации BD"
   ]
  },
  {
   "cell_type": "code",
   "execution_count": null,
   "metadata": {
    "vscode": {
     "languageId": "powershell"
    }
   },
   "outputs": [],
   "source": [
    "airflow db reset"
   ]
  },
  {
   "cell_type": "markdown",
   "metadata": {},
   "source": [
    "### <center> <a >Создание пользователя webserver Airflow</a>"
   ]
  },
  {
   "cell_type": "code",
   "execution_count": null,
   "metadata": {
    "vscode": {
     "languageId": "powershell"
    }
   },
   "outputs": [],
   "source": [
    "airflow users create --username admin --firstname nms --lastname nms --email nazarovmichails@gmail.com --role Admin --password admin"
   ]
  },
  {
   "cell_type": "markdown",
   "metadata": {},
   "source": [
    "### <center> <a >Запуск веб-сервера Airflow</a>"
   ]
  },
  {
   "cell_type": "markdown",
   "metadata": {},
   "source": [
    "- Запуск `веб-сервера Apache Airflow`:\n",
    "    - интерфейс для управления DAGами\n",
    "    - просмотр логов выполнения задач\n",
    "    - мониторинг прогресса выполнения"
   ]
  },
  {
   "cell_type": "code",
   "execution_count": null,
   "metadata": {
    "vscode": {
     "languageId": "powershell"
    }
   },
   "outputs": [],
   "source": [
    "airflow webserver --port 8888 "
   ]
  },
  {
   "cell_type": "markdown",
   "metadata": {},
   "source": [
    "- Просмотр запущенных процессов\n",
    "- Закрыть подключение"
   ]
  },
  {
   "cell_type": "code",
   "execution_count": null,
   "metadata": {
    "vscode": {
     "languageId": "powershell"
    }
   },
   "outputs": [],
   "source": [
    "sudo lsof -i tcp:8888"
   ]
  },
  {
   "cell_type": "code",
   "execution_count": null,
   "metadata": {
    "vscode": {
     "languageId": "powershell"
    }
   },
   "outputs": [],
   "source": [
    "kill -9 <название PID>"
   ]
  },
  {
   "cell_type": "markdown",
   "metadata": {},
   "source": [
    "### <center> <a >Планировщик</a>"
   ]
  },
  {
   "cell_type": "markdown",
   "metadata": {},
   "source": [
    "1. Отрываем новый терминал\n",
    "2. Активируем окружение\n",
    "3. Задаем путь к папке конфиграций\n",
    "4. Запуск планировщика"
   ]
  },
  {
   "cell_type": "code",
   "execution_count": null,
   "metadata": {
    "vscode": {
     "languageId": "powershell"
    }
   },
   "outputs": [],
   "source": [
    "source .venv/bin/activate"
   ]
  },
  {
   "cell_type": "code",
   "execution_count": null,
   "metadata": {
    "vscode": {
     "languageId": "powershell"
    }
   },
   "outputs": [],
   "source": [
    "export AIRFLOW_HOME=~/airflow"
   ]
  },
  {
   "cell_type": "code",
   "execution_count": null,
   "metadata": {
    "vscode": {
     "languageId": "powershell"
    }
   },
   "outputs": [],
   "source": [
    "airflow scheduler"
   ]
  },
  {
   "cell_type": "markdown",
   "metadata": {},
   "source": [
    "___\n",
    "## <center> <a id=4>DAG реализация</a>"
   ]
  },
  {
   "cell_type": "markdown",
   "metadata": {},
   "source": [
    "#### <center> <a id=6>Последовательные задачи</a>"
   ]
  },
  {
   "cell_type": "code",
   "execution_count": null,
   "metadata": {},
   "outputs": [],
   "source": [
    "import pandas as pd\n",
    "import time\n",
    "import datetime\n",
    "from tqdm import tqdm\n",
    "from airflow.decorators import dag, task\n",
    "\n",
    "\n",
    "default_args = {\n",
    "    'owner': 'Nazarov Michail'\n",
    "}\n",
    "\n",
    "@dag(default_args=default_args, dag_id='etl_pandas_dag', schedule=\"0 0 5 * *\", start_date=datetime.datetime(2024, 3, 31), tags=['etl'])\n",
    "def etl_task():\n",
    "    @task()\n",
    "    def extract():\n",
    "        extract_dir = '/home/nazarovmichail/airflow/extract data/'\n",
    "        df_profit = pd.read_csv(extract_dir + 'profit_table.csv')\n",
    "        return df_profit\n",
    "\n",
    "    @task()\n",
    "    def transform(df:pd.DataFrame, date:str) -> pd.DataFrame:\n",
    "\n",
    "        def transfrom_csv(profit_table, date):\n",
    "            \"\"\" Собирает таблицу флагов активности по продуктам\n",
    "        на основании прибыли и количеству совершёных транзакций\n",
    "        \n",
    "        :param profit_table: таблица с суммой и кол-вом транзакций\n",
    "        :param date: дата расчёта флагоа активности\n",
    "        \n",
    "        :return df_tmp: pandas-датафрейм флагов за указанную дату\n",
    "        \"\"\"\n",
    "            start_date = pd.to_datetime(date) - pd.DateOffset(months=2)\n",
    "            end_date = pd.to_datetime(date) + pd.DateOffset(months=1)\n",
    "            date_list = pd.date_range(\n",
    "                start=start_date, end=end_date, freq='M'\n",
    "            ).strftime('%Y-%m-01')\n",
    "            \n",
    "            df_tmp = (\n",
    "                profit_table[profit_table['date'].isin(date_list)]\n",
    "                .drop('date', axis=1)\n",
    "                .groupby('id')\n",
    "                .sum()\n",
    "            )\n",
    "            \n",
    "            product_list = ['a', 'b', 'c', 'd', 'e', 'f', 'g', 'h', 'i', 'j']\n",
    "            for product in tqdm(product_list):\n",
    "                df_tmp[f'flag_{product}'] = (\n",
    "                    df_tmp.apply(\n",
    "                        lambda x: x[f'sum_{product}'] != 0 and x[f'count_{product}'] != 0,\n",
    "                        axis=1\n",
    "                    ).astype(int)\n",
    "                )\n",
    "                \n",
    "            df_tmp = df_tmp.filter(regex='flag').reset_index()\n",
    "            \n",
    "            return df_tmp\n",
    "        df_tmp = transfrom_csv(df, date)\n",
    "        print(df_tmp)\n",
    "        return df_tmp\n",
    "\n",
    "    @task()\n",
    "    def load(df: pd.DataFrame, df_path):\n",
    "        df.to_csv(df_path, index=False, mode='a')\n",
    "\n",
    "    date = time.strftime(\"%Y-%m-%d\")\n",
    "    \n",
    "    df_extr = extract()\n",
    "    df_trans = transform(df_extr, date)\n",
    "    \n",
    "    extract_dir = '/home/nazarovmichail/airflow/load data/'\n",
    "    extract_df = 'flags_activity.csv'\n",
    "    df_path = extract_dir + extract_df\n",
    "    load(df_trans, df_path)\n",
    "\n",
    "etl_dag = etl_task()"
   ]
  },
  {
   "cell_type": "markdown",
   "metadata": {},
   "source": [
    "#### <center> <a id=6>Параллельные задачи</a>\n"
   ]
  },
  {
   "cell_type": "code",
   "execution_count": null,
   "metadata": {},
   "outputs": [],
   "source": [
    "import pandas as pd\n",
    "import os\n",
    "import time\n",
    "import datetime\n",
    "from airflow.decorators import dag, task, task_group\n",
    "from df_transform import transfrom_csv\n",
    "\n",
    "\n",
    "default_args = {\n",
    "    'owner': 'Nazarov Michail'\n",
    "}\n",
    "\n",
    "\n",
    "@dag(default_args=default_args,\n",
    "     dag_id='etl_pandas_parallel_dag',\n",
    "     schedule=\"0 0 5 * *\",\n",
    "     start_date=datetime.datetime(2024, 3, 31),\n",
    "     tags=['etl'])\n",
    "def etl_task():\n",
    "\n",
    "    date = time.strftime(\"%Y-%m-%d\")\n",
    "\n",
    "    extract_dir = '/home/nazarovmichail/airflow/extract data/'\n",
    "    extract_filename = 'profit_table.csv'\n",
    "    extract_filepath = extract_dir + extract_filename\n",
    "\n",
    "    transform_dir = '/home/nazarovmichail/airflow/transform data/'\n",
    "\n",
    "    load_dir = '/home/nazarovmichail/airflow/load data/'\n",
    "    load_filename = 'flags_activity.csv'\n",
    "    load_filepath = load_dir + load_filename\n",
    "\n",
    "    @task()\n",
    "    def extract(extract_filepath):\n",
    "\n",
    "        df_extracted = pd.read_csv(extract_filepath)\n",
    "        return df_extracted\n",
    "\n",
    "    @task()\n",
    "    def transform(df: pd.DataFrame,\n",
    "                  date: str,\n",
    "                  product: str,\n",
    "                  transform_dir: str) -> pd.DataFrame:\n",
    "\n",
    "        df_product = transfrom_csv(df, date, product)\n",
    "        transform_filename = f'{product}_transform_df.csv'\n",
    "        transform_filepath = transform_dir + transform_filename\n",
    "        df_product.to_csv(transform_filepath, index=False)\n",
    "\n",
    "        print(f'Done: {product}_transform_df.csv')\n",
    "\n",
    "    @task()\n",
    "    def load(transform_dir, load_filepath):\n",
    "\n",
    "        df_products_list = list(os.walk(transform_dir))\n",
    "        for ind, file in enumerate(sorted(df_products_list[0][2])):\n",
    "            if ind == 0:\n",
    "                df_load = pd.read_csv(transform_dir + file, index_col='id')\n",
    "            else:\n",
    "                df_product = pd.read_csv(transform_dir + file, index_col='id')\n",
    "                df_product.index = df_load.index\n",
    "                df_load = pd.concat((df_load, df_product), axis=1)\n",
    "\n",
    "        df_load.to_csv(load_filepath, mode='a')\n",
    "\n",
    "    @task_group()\n",
    "    def group_transform():\n",
    "        transform(df_extracted, date, 'a', transform_dir)\n",
    "        transform(df_extracted, date, 'b', transform_dir)\n",
    "        transform(df_extracted, date, 'c', transform_dir)\n",
    "        transform(df_extracted, date, 'd', transform_dir)\n",
    "        transform(df_extracted, date, 'e', transform_dir)\n",
    "        transform(df_extracted, date, 'f', transform_dir)\n",
    "        transform(df_extracted, date, 'g', transform_dir)\n",
    "        transform(df_extracted, date, 'h', transform_dir)\n",
    "        transform(df_extracted, date, 'i', transform_dir)\n",
    "        transform(df_extracted, date, 'j', transform_dir)\n",
    "\n",
    "    df_extracted = extract(extract_filepath)\n",
    "    group_transform().set_downstream(load(transform_dir, load_filepath))\n",
    "\n",
    "\n",
    "etl_dag = etl_task()\n"
   ]
  },
  {
   "cell_type": "markdown",
   "metadata": {},
   "source": [
    "___\n",
    "## <center> <a id=5>Результат</a>"
   ]
  },
  {
   "cell_type": "markdown",
   "metadata": {},
   "source": [
    "- Главная страница Airflow webserver"
   ]
  },
  {
   "cell_type": "markdown",
   "metadata": {},
   "source": [
    "<img src='img/DAG main.png'>"
   ]
  },
  {
   "cell_type": "markdown",
   "metadata": {},
   "source": [
    "- Граф для последовательных задач"
   ]
  },
  {
   "cell_type": "markdown",
   "metadata": {},
   "source": [
    "<img src='img/Sequential DAG graph.png'>\n"
   ]
  },
  {
   "cell_type": "markdown",
   "metadata": {},
   "source": [
    "- Граф для параллельных задач\n"
   ]
  },
  {
   "cell_type": "markdown",
   "metadata": {},
   "source": [
    "<img src='img/Parallel DAG graph.png'>\n"
   ]
  },
  {
   "cell_type": "markdown",
   "metadata": {},
   "source": [
    "- Календарь планировщика"
   ]
  },
  {
   "cell_type": "markdown",
   "metadata": {},
   "source": [
    "<img src='img/DAG calendar.png'>\n"
   ]
  },
  {
   "cell_type": "markdown",
   "metadata": {},
   "source": [
    "___\n",
    "### [Содержание](#100)"
   ]
  }
 ],
 "metadata": {
  "kernelspec": {
   "display_name": "Python 3",
   "language": "python",
   "name": "python3"
  },
  "language_info": {
   "codemirror_mode": {
    "name": "ipython",
    "version": 3
   },
   "file_extension": ".py",
   "mimetype": "text/x-python",
   "name": "python",
   "nbconvert_exporter": "python",
   "pygments_lexer": "ipython3",
   "version": "3.11.1"
  }
 },
 "nbformat": 4,
 "nbformat_minor": 2
}
