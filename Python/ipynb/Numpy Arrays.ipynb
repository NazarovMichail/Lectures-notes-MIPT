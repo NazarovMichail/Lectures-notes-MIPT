{
 "cells": [
  {
   "cell_type": "markdown",
   "id": "ba4b5e9c",
   "metadata": {},
   "source": [
    "# `Массивы` в библиотеке `numpy`\n",
    "<img src='data/numpylogo.png'></img>\n",
    "___\n",
    "\n"
   ]
  },
  {
   "cell_type": "markdown",
   "id": "24f8511e",
   "metadata": {},
   "source": [
    "> ## <h3 id='comp' style='color:cyan'> Оглавление</h3>\n",
    "- [Создание массивов](#create)\n",
    "- [Случайные элементы](#random)\n",
    "- [Срезы](#slice)\n",
    "- [Операции](#oper)\n",
    "  - [Линейная алгебра](#linalg)\n",
    "  - [Статистические функции](#stat)\n",
    "  - [Методы классических массивов](#classic)\n",
    "- [Информация о массивах](#info)\n",
    "- [Импорт/экспорт данных](#import)"
   ]
  },
  {
   "cell_type": "markdown",
   "id": "5e9d4a58",
   "metadata": {},
   "source": [
    "   ___\n",
    "   ***\n",
    "   ## <h1 id='create' style='color:violet'> Создание массивов</h1>\n",
    "   ---"
   ]
  },
  {
   "cell_type": "markdown",
   "id": "885e0604",
   "metadata": {},
   "source": [
    "numpy<span style='color:red'>**.array**</span> ( **iter** ) - _`Создает вектор`_ из итератора **iter**"
   ]
  },
  {
   "cell_type": "code",
   "execution_count": 1,
   "id": "09e60b83",
   "metadata": {},
   "outputs": [
    {
     "name": "stdout",
     "output_type": "stream",
     "text": [
      "Сложение векторов: [5 7 9]\n",
      "Умножение векторов: [ 4 10 18]\n",
      "Умножение вектора на число: [ 5 10 15]\n"
     ]
    }
   ],
   "source": [
    "import numpy as np\n",
    "\n",
    "lst1 = [1,2,3]\n",
    "tup2 = (4,5,6)\n",
    "\n",
    "vector_1 = np.array(lst1)\n",
    "vector_2 = np.array(tup2)\n",
    "number = 5\n",
    "\n",
    "print(f'Сложение векторов: {vector_1 + vector_2}')\n",
    "print(f'Умножение векторов: {vector_1 * vector_2}')\n",
    "print(f'Умножение вектора на число: {vector_1 * number}')\n"
   ]
  },
  {
   "cell_type": "markdown",
   "id": "07e54a6f",
   "metadata": {},
   "source": [
    "numpy<span style='color:red'>**.arange**</span> ( **n** ) - _`Создает вектор`_ из чисел от 0 до **n**"
   ]
  },
  {
   "cell_type": "code",
   "execution_count": 2,
   "id": "cfcc1acc",
   "metadata": {},
   "outputs": [
    {
     "name": "stdout",
     "output_type": "stream",
     "text": [
      "[0 1 2 3 4 5 6]\n"
     ]
    }
   ],
   "source": [
    "ar_range = np.arange(7)\n",
    "print(ar_range)\n"
   ]
  },
  {
   "cell_type": "markdown",
   "id": "d859a37b",
   "metadata": {},
   "source": [
    "numpy<span style='color:red'>**.linspace**</span> ( **start, finish, count** ) - _`Создает вектор`_ из чисел начиная от **start** до **finish**, количество интервалов **count**, параметр **retstep=True** возвращает шаг элементов"
   ]
  },
  {
   "cell_type": "code",
   "execution_count": 3,
   "id": "b59bdb8e",
   "metadata": {},
   "outputs": [
    {
     "name": "stdout",
     "output_type": "stream",
     "text": [
      "[ 0.  2.  4.  6.  8. 10.] \n",
      " Шаг:  2.0\n"
     ]
    }
   ],
   "source": [
    "ar_lin, step = np.linspace(0, 10, 6, retstep=True)\n",
    "print(ar_lin,'\\n','Шаг: ', step)\n"
   ]
  },
  {
   "cell_type": "markdown",
   "id": "62b40900",
   "metadata": {},
   "source": [
    "numpy<span style='color:red'>**.empty**</span> ( **(n, m)** ) - _`Создает пустую матрицу`_ кол-во строк: **n**, столбцов **m**"
   ]
  },
  {
   "cell_type": "code",
   "execution_count": 4,
   "id": "4baf92f5",
   "metadata": {},
   "outputs": [
    {
     "name": "stdout",
     "output_type": "stream",
     "text": [
      "[[6.23042070e-307 4.67296746e-307 1.69121096e-306 2.31420855e-306]\n",
      " [1.89146896e-307 7.56571288e-307 3.11525958e-307 1.24610723e-306]]\n"
     ]
    }
   ],
   "source": [
    "matrix_empty = np.empty((2,4))\n",
    "print(matrix_empty)\n"
   ]
  },
  {
   "cell_type": "markdown",
   "id": "06f48e61",
   "metadata": {},
   "source": [
    "numpy<span style='color:red'>**.zeros**</span> ( **(n, m)** ) - _`Создает матрицу, заполненную '0'`_ кол-во строк: **n**, столбцов **m**"
   ]
  },
  {
   "cell_type": "code",
   "execution_count": 5,
   "id": "413534ec",
   "metadata": {},
   "outputs": [
    {
     "name": "stdout",
     "output_type": "stream",
     "text": [
      "[[0. 0.]\n",
      " [0. 0.]\n",
      " [0. 0.]]\n"
     ]
    }
   ],
   "source": [
    "matrix_0 = np.zeros((3, 2))\n",
    "print(matrix_0)\n"
   ]
  },
  {
   "cell_type": "markdown",
   "id": "abe79506",
   "metadata": {},
   "source": [
    "numpy<span style='color:red'>**.eye**</span> **( n )**  - _`Создает единичную матрицу`_ размером: **n**"
   ]
  },
  {
   "cell_type": "code",
   "execution_count": 6,
   "id": "f8cc96d9",
   "metadata": {},
   "outputs": [
    {
     "name": "stdout",
     "output_type": "stream",
     "text": [
      "[[1. 0. 0.]\n",
      " [0. 1. 0.]\n",
      " [0. 0. 1.]]\n"
     ]
    }
   ],
   "source": [
    "E = np.eye(3)\n",
    "print(E)\n"
   ]
  },
  {
   "cell_type": "markdown",
   "id": "d8c37ed9",
   "metadata": {},
   "source": [
    "numpy<span style='color:red'>**.diag**</span> **( iter )**  - _`Создает диагональную матрицу`_ из элементов объекта: **iter**"
   ]
  },
  {
   "cell_type": "code",
   "execution_count": 7,
   "id": "9097f246",
   "metadata": {},
   "outputs": [
    {
     "name": "stdout",
     "output_type": "stream",
     "text": [
      "[[0 0 0 0 0]\n",
      " [0 1 0 0 0]\n",
      " [0 0 2 0 0]\n",
      " [0 0 0 3 0]\n",
      " [0 0 0 0 4]]\n"
     ]
    }
   ],
   "source": [
    "diagonal = np.diag(range(5))\n",
    "print(diagonal)\n"
   ]
  },
  {
   "cell_type": "markdown",
   "id": "4e323e8d",
   "metadata": {},
   "source": [
    "numpy<span style='color:red'>**.ones**</span> ( **(n, m)** ) - _`Создает матрицу, заполненную '1'`_ кол-во строк: **n**, столбцов **m**"
   ]
  },
  {
   "cell_type": "code",
   "execution_count": 8,
   "id": "3ba53758",
   "metadata": {},
   "outputs": [
    {
     "name": "stdout",
     "output_type": "stream",
     "text": [
      "[[1 1 1]\n",
      " [1 1 1]]\n"
     ]
    }
   ],
   "source": [
    "matrix_1 = np.ones((2,3), int)\n",
    "print(matrix_1)\n"
   ]
  },
  {
   "cell_type": "markdown",
   "id": "01048158",
   "metadata": {},
   "source": [
    "<span style='color:blue'>**.reshape**</span> **(n, m)** - Преобразует массив в _`матрицу`_  размером **n, m** , параметр **order='F'** заполняет элементы массива по столбцам, а не по строкам"
   ]
  },
  {
   "cell_type": "code",
   "execution_count": 9,
   "id": "81e8bc2f",
   "metadata": {},
   "outputs": [
    {
     "name": "stdout",
     "output_type": "stream",
     "text": [
      "[ 0  1  2  3  4  5  6  7  8  9 10 11]\n",
      "________________________________________\n",
      "\n",
      "[[ 0  1  2  3]\n",
      " [ 4  5  6  7]\n",
      " [ 8  9 10 11]]\n",
      "[[ 0  3  6  9]\n",
      " [ 1  4  7 10]\n",
      " [ 2  5  8 11]]\n"
     ]
    }
   ],
   "source": [
    "arr = np.arange(12)\n",
    "print(arr)\n",
    "\n",
    "print('_'*40,end='\\n'*2)\n",
    "\n",
    "M = arr.reshape(3,4)\n",
    "print(M)\n",
    "M = arr.reshape(3,4, order='F')\n",
    "\n",
    "print(M)\n"
   ]
  },
  {
   "cell_type": "markdown",
   "id": "3605b8a9",
   "metadata": {},
   "source": [
    "<span style='color:blue'>**.sort**</span> **(arr)** - `Сортирует` массив "
   ]
  },
  {
   "cell_type": "code",
   "execution_count": 10,
   "id": "61987633",
   "metadata": {},
   "outputs": [
    {
     "name": "stdout",
     "output_type": "stream",
     "text": [
      "[6 5 4 3 2]\n",
      "[2 3 4 5 6]\n"
     ]
    }
   ],
   "source": [
    "arr = np.array([6,5,4,3,2])\n",
    "sorted_arr = np.sort(arr)\n",
    "print(arr)\n",
    "print(sorted_arr)\n"
   ]
  },
  {
   "cell_type": "markdown",
   "id": "11e4caf1",
   "metadata": {},
   "source": [
    "numpy<span style='color:red'>**.concatenate**</span> ( **(arr1, arr2...)** ) - _`Объединяет` массивы "
   ]
  },
  {
   "cell_type": "code",
   "execution_count": 11,
   "id": "0ca5d8a0",
   "metadata": {},
   "outputs": [
    {
     "data": {
      "text/plain": [
       "array([1, 2, 3, 4, 5, 6, 7, 8, 9])"
      ]
     },
     "execution_count": 11,
     "metadata": {},
     "output_type": "execute_result"
    }
   ],
   "source": [
    "arr_1 = np.array([1,2,3])\n",
    "arr_2 = np.array([4,5,6])\n",
    "arr_3 = np.array([7,8,9])\n",
    "\n",
    "\n",
    "np.concatenate((arr_1, arr_2, arr_3))\n"
   ]
  },
  {
   "cell_type": "markdown",
   "id": "7dca4541",
   "metadata": {},
   "source": [
    "  ---\n",
    "   ## <h1 id='random' style='color:violet'> Массивы со случайными элементами</h1>   \n",
    "  ***\n"
   ]
  },
  {
   "cell_type": "markdown",
   "id": "e23a851d",
   "metadata": {},
   "source": [
    "numpy<span style='color:red'>**.random.random**</span> ( **(n, m)** ) - _`Создает матрицу , заполненную случайными числами от 0 до 1`_ кол-во строк: **n**, столбцов **m**  (в кортеже)  \n",
    "numpy<span style='color:red'>**.random.sample**</span> ( **(n, m)** ) - _`Создает матрицу , заполненную случайными числами от 0 до 1`_ кол-во строк: **n**, столбцов **m**  (в кортеже)  \n",
    "numpy<span style='color:red'>**.random.rand**</span> ( **n, m** ) - _`Создает матрицу , заполненную случайными числами от 0 до 1`_ кол-во строк: **n**, столбцов **m**  \n",
    "numpy<span style='color:red'>**.random.uniform**</span> ( **n, m**, **size=(r, c)** ) - _`Создает матрицу , заполненную случайными числами от n до m`_ кол-во строк: **r**, столбцов **c**"
   ]
  },
  {
   "cell_type": "code",
   "execution_count": 12,
   "id": "dd8322fd",
   "metadata": {},
   "outputs": [
    {
     "name": "stdout",
     "output_type": "stream",
     "text": [
      "[[0.89645674 0.39565918 0.11054847 0.33304119]\n",
      " [0.3834722  0.16573525 0.4800862  0.07636575]\n",
      " [0.02888738 0.10825328 0.03700334 0.69259739]] \n",
      "\n",
      "[[0.25303716 0.6461204 ]] \n",
      "\n",
      "[[0.0675439  0.32397032 0.1762755 ]\n",
      " [0.4055417  0.36979734 0.31143472]] \n",
      "\n",
      "[[-0.03902049  4.71977533 -0.9372094 ]\n",
      " [ 2.42318089 -8.85903463 -0.20530997]]\n"
     ]
    }
   ],
   "source": [
    "matrix_random = np.random.random((3, 4))\n",
    "matrix_sample = np.random.sample((1,2))\n",
    "matrix_rand = np.random.rand(2, 3)\n",
    "matrix_uniform = np.random.uniform(-10,10, size=(2,3))\n",
    "\n",
    "print(matrix_random,'\\n')\n",
    "print(matrix_sample,'\\n')\n",
    "print(matrix_rand,'\\n')\n",
    "print(matrix_uniform)\n"
   ]
  },
  {
   "cell_type": "markdown",
   "id": "da0b4a6f",
   "metadata": {},
   "source": [
    "numpy<span style='color:red'>**.random.randint**</span> **(k, l, size=(n, m)**  - _`Создает матрицу, заполненную случайными числами` от **k** до **l**_ , кол-во строк: **n**, столбцов **m**"
   ]
  },
  {
   "cell_type": "code",
   "execution_count": 13,
   "id": "87992d97",
   "metadata": {},
   "outputs": [
    {
     "name": "stdout",
     "output_type": "stream",
     "text": [
      "[[3 9 3]\n",
      " [5 5 3]\n",
      " [3 8 5]]\n"
     ]
    }
   ],
   "source": [
    "M_rand = np.random.randint(3, 10, size=(3,3))\n",
    "print(M_rand)\n"
   ]
  },
  {
   "cell_type": "markdown",
   "id": "eee2fcc0",
   "metadata": {},
   "source": [
    "numpy<span style='color:blue'>**.random.shuffle**</span> **(arr)** - `Перемешивает` элементы массива (возращает None)  \n",
    "numpy<span style='color:blue'>**.random.permutation**</span> **(arr)** - Возвращает `Перемешианные` элементы массива "
   ]
  },
  {
   "cell_type": "code",
   "execution_count": 14,
   "id": "4fea9801",
   "metadata": {},
   "outputs": [
    {
     "name": "stdout",
     "output_type": "stream",
     "text": [
      "[1 2 3 4 5]\n",
      "[5 1 2 3 4]\n"
     ]
    }
   ],
   "source": [
    "M = np.array([1, 2, 3, 4, 5])\n",
    "\n",
    "new_arr = np.random.permutation(M)\n",
    "print(new_arr)\n",
    "np.random.shuffle(M)\n",
    "print(M)\n"
   ]
  },
  {
   "cell_type": "markdown",
   "id": "9488eb42",
   "metadata": {},
   "source": [
    "numpy<span style='color:blue'>**.random.choice**</span> **(arr, size= number, replace=False)** - Возвращает `массив` из `number`количества **случайных** элементов массива `arr`, при replace=False `без повторений` элементов"
   ]
  },
  {
   "cell_type": "code",
   "execution_count": 15,
   "metadata": {},
   "outputs": [
    {
     "name": "stdout",
     "output_type": "stream",
     "text": [
      "Из массива [1 2 3 4 5 6 7 8] выбраны 3 случайные значения:[5 4 6]\n"
     ]
    }
   ],
   "source": [
    "arr = np.array([1, 2, 3, 4, 5, 6, 7, 8])\n",
    "choice = np.random.choice(arr, size=3, replace=False)\n",
    "print(f'Из массива {arr} выбраны 3 случайные значения:{choice}')\n"
   ]
  },
  {
   "cell_type": "markdown",
   "id": "dd738b87",
   "metadata": {},
   "source": [
    "numpy<span style='color:red'>**.random.seed**</span> **(n)**  - Для **последующих** случайных объектов значения будут фиксированы( `не случайны` ), **n** - любое число >= 0"
   ]
  },
  {
   "cell_type": "code",
   "execution_count": 16,
   "id": "475af444",
   "metadata": {},
   "outputs": [
    {
     "name": "stdout",
     "output_type": "stream",
     "text": [
      "Массив со случайными элементами: [0.05923566 0.71166089 0.67622361]\n"
     ]
    }
   ],
   "source": [
    "random_arr = np.random.rand(3)\n",
    "print(f'Массив со случайными элементами: {random_arr}')\n"
   ]
  },
  {
   "cell_type": "code",
   "execution_count": 17,
   "id": "7a4af2d2",
   "metadata": {},
   "outputs": [
    {
     "name": "stdout",
     "output_type": "stream",
     "text": [
      "Значения массива зафиксированны: [0.05923566 0.71166089 0.67622361]\n"
     ]
    }
   ],
   "source": [
    "np.random.seed(2)\n",
    "print(f'Значения массива зафиксированны: {random_arr}')\n"
   ]
  },
  {
   "cell_type": "markdown",
   "id": "b4856aed",
   "metadata": {},
   "source": [
    "  ---\n",
    "   ## <h2 id='slice' style='color:violet'> Срезы массивов</h2>   \n",
    "  ***"
   ]
  },
  {
   "cell_type": "code",
   "execution_count": 18,
   "id": "67b8ee5a",
   "metadata": {},
   "outputs": [
    {
     "name": "stdout",
     "output_type": "stream",
     "text": [
      "[[ 0  1  2  3]\n",
      " [ 4  5  6  7]\n",
      " [ 8  9 10 11]]\n",
      "________________________________________\n",
      "Срез ряда:\n",
      " [[ 4  5  6  7]\n",
      " [ 8  9 10 11]]\n",
      "Срез столбца:\n",
      " [[1]\n",
      " [5]\n",
      " [9]]\n",
      "Срез элемента: 5\n",
      "Срез по условию 6 < M < 10: [7 8 9]\n"
     ]
    }
   ],
   "source": [
    "M = np.arange(12).reshape(3,4)\n",
    "print(M,'_'*40,sep='\\n')\n",
    "\n",
    "arr_row = M[1:]\n",
    "arr_col = M[:, 1:2]\n",
    "arr_el = M[1,1]\n",
    "\n",
    "arr_filt = M[(M>6) & (M<10)]\n",
    "\n",
    "print(f'Срез ряда:\\n {arr_row}')\n",
    "print(f'Срез столбца:\\n {arr_col}')\n",
    "print(f'Срез элемента: {arr_el}')\n",
    "print(f'Срез по условию 6 < M < 10: {arr_filt}')\n"
   ]
  },
  {
   "cell_type": "markdown",
   "id": "fc7dd207",
   "metadata": {},
   "source": [
    "  ---\n",
    "   ## <h1 id='oper' style='color:violet'> Операции над массивами</h1>   \n",
    "  ***"
   ]
  },
  {
   "cell_type": "markdown",
   "id": "409685c0",
   "metadata": {},
   "source": [
    "numpy<span style='color:red'>**.matmul**</span> ( **m1, m2** ) - _`Попарно умножает`_ матрицы **m1, m2**"
   ]
  },
  {
   "cell_type": "code",
   "execution_count": 19,
   "id": "e2bc848c",
   "metadata": {},
   "outputs": [
    {
     "name": "stdout",
     "output_type": "stream",
     "text": [
      "Результирующая матрица AB: [-51  28]\n",
      "Результирующая матрица CD: [10 -7]\n",
      "Результирующая матрица ABCD: -706\n"
     ]
    }
   ],
   "source": [
    "A = np.array([-12,13])\n",
    "B = np.array([[1,2],[-3,4]])\n",
    "C = np.array([[1,2,3],[5,-2,0]])\n",
    "D = np.array([-1,1,3])\n",
    "\n",
    "AB = np.dot(A,B)\n",
    "print(f'Результирующая матрица AB: {AB}')\n",
    "\n",
    "CD = C @ D\n",
    "print(f'Результирующая матрица CD: {CD}')\n",
    "\n",
    "ABCD = np.matmul(AB,CD)\n",
    "print(f'Результирующая матрица ABCD: {ABCD}')\n"
   ]
  },
  {
   "cell_type": "markdown",
   "id": "ea796582",
   "metadata": {},
   "source": [
    "numpy<span style='color:red'>**.transpose**</span> ( **matrix** ) - _`Транспонирует`_ матрицу **matrix**"
   ]
  },
  {
   "cell_type": "code",
   "execution_count": 20,
   "id": "881f397c",
   "metadata": {},
   "outputs": [
    {
     "name": "stdout",
     "output_type": "stream",
     "text": [
      "Входящая матрица: \n",
      "[[1 2 3]\n",
      " [4 5 6]]\n",
      "Транспонированная матрица: \n",
      "[[1 4]\n",
      " [2 5]\n",
      " [3 6]]\n"
     ]
    }
   ],
   "source": [
    "nested_lst = [lst1, tup2]\n",
    "\n",
    "matrix = np.array(nested_lst)\n",
    "transposed_matrix = np.transpose(matrix)\n",
    "print(f'Входящая матрица: \\n{matrix}')\n",
    "print(f'Транспонированная матрица: \\n{transposed_matrix}')\n"
   ]
  },
  {
   "cell_type": "markdown",
   "id": "b0462048",
   "metadata": {},
   "source": [
    "<span style='color:blue'>**.prod**</span> **( )** - _`Перемножает элементы`_ **объекта** numpy"
   ]
  },
  {
   "cell_type": "code",
   "execution_count": 21,
   "id": "4b3a32e4",
   "metadata": {},
   "outputs": [
    {
     "name": "stdout",
     "output_type": "stream",
     "text": [
      "[[1 2 3]\n",
      " [1 2 3]\n",
      " [1 2 3]]\n",
      "216\n"
     ]
    }
   ],
   "source": [
    "lst = [n for m in range(1,4) for n in range(1,4)]\n",
    "\n",
    "M = np.array(lst).reshape(3,3)\n",
    "print(M)\n",
    "print(M.prod())\n"
   ]
  },
  {
   "cell_type": "markdown",
   "id": "946a763b",
   "metadata": {},
   "source": [
    "numpy<span style='color:red'>**.cumsum**</span> ( **array** ) - _`Создает массив из элементов накопительной суммой`_ объекта numpy **array** "
   ]
  },
  {
   "cell_type": "code",
   "execution_count": 22,
   "id": "76b53652",
   "metadata": {},
   "outputs": [
    {
     "name": "stdout",
     "output_type": "stream",
     "text": [
      "Исходный массив:\n",
      " [1 2 3 4]\n",
      "\n",
      "Массив с накопительной суммой:\n",
      " [ 1  3  6 10]\n"
     ]
    }
   ],
   "source": [
    "arr = np.arange(5)[1:]\n",
    "\n",
    "print(f'Исходный массив:\\n {arr}\\n')\n",
    "print(f'Массив с накопительной суммой:\\n {np.cumsum(arr)}')\n"
   ]
  },
  {
   "cell_type": "markdown",
   "id": "c00bc618",
   "metadata": {},
   "source": [
    "numpy<span style='color:red'>**.cumprod**</span> ( **array** ) - _`Создает массив из элементов накопительного произведения`_ объекта numpy **array** "
   ]
  },
  {
   "cell_type": "code",
   "execution_count": 23,
   "id": "e1388536",
   "metadata": {},
   "outputs": [
    {
     "name": "stdout",
     "output_type": "stream",
     "text": [
      "[1 2 3 4]\n",
      "[ 1  2  6 24]\n"
     ]
    }
   ],
   "source": [
    "arr = np.arange(5)[1:]\n",
    "print(arr)\n",
    "print(np.cumprod(arr))\n"
   ]
  },
  {
   "cell_type": "markdown",
   "id": "ed702adb",
   "metadata": {},
   "source": [
    "numpy<span style='color:red'>**.flip**</span> ( **array** ) - _`Переворачивает элементы`_ объекта numpy **array** "
   ]
  },
  {
   "cell_type": "code",
   "execution_count": 24,
   "id": "1d08fc80",
   "metadata": {},
   "outputs": [
    {
     "name": "stdout",
     "output_type": "stream",
     "text": [
      "Исходный массив:\n",
      " [[ 0  1  2  3  4]\n",
      " [ 5  6  7  8  9]\n",
      " [10 11 12 13 14]\n",
      " [15 16 17 18 19]\n",
      " [20 21 22 23 24]]\n",
      "\n",
      "Перевернутый массив:\n",
      " [[24 23 22 21 20]\n",
      " [19 18 17 16 15]\n",
      " [14 13 12 11 10]\n",
      " [ 9  8  7  6  5]\n",
      " [ 4  3  2  1  0]]\n"
     ]
    }
   ],
   "source": [
    "arr = np.array(range(25)).reshape(5,5)\n",
    "print(f'Исходный массив:\\n {arr}\\n')\n",
    "print(f'Перевернутый массив:\\n {np.flip(arr)}')\n"
   ]
  },
  {
   "cell_type": "markdown",
   "id": "9141faa2",
   "metadata": {},
   "source": [
    "numpy<span style='color:red'>**.corrcoef**</span> ( **X**, **Y** ) - _Возвращает матрицу `коэффициентов корреляции`_ для массивов **X** и **Y** "
   ]
  },
  {
   "cell_type": "code",
   "execution_count": 25,
   "id": "0a930502",
   "metadata": {},
   "outputs": [
    {
     "name": "stdout",
     "output_type": "stream",
     "text": [
      "X:  [0 1 2 3 4 5 6 7 8 9] \n",
      " Y:  [8 8 6 2 8 7 2 1 5 4]\n"
     ]
    },
    {
     "data": {
      "text/plain": [
       "array([[ 1.  , -0.56],\n",
       "       [-0.56,  1.  ]])"
      ]
     },
     "execution_count": 25,
     "metadata": {},
     "output_type": "execute_result"
    }
   ],
   "source": [
    "X = np.arange(10)\n",
    "Y = np.random.randint(0,10,size=(10))\n",
    "\n",
    "print('X: ',X, '\\n','Y: ', Y)\n",
    "np.corrcoef(X, Y).round(2)\n"
   ]
  },
  {
   "cell_type": "markdown",
   "id": "3aad73f8",
   "metadata": {},
   "source": [
    "___\n",
    "## <h3 id='linalg' style='color:red'> Линейная алгебра</h3> \n",
    "___"
   ]
  },
  {
   "cell_type": "markdown",
   "id": "2f9a7cd4",
   "metadata": {},
   "source": [
    "numpy<span style='color:red'>**.linalg.norm**</span> ( **array** ) - _`Возвращает матричную норму(длину)`_ объекта numpy **array** "
   ]
  },
  {
   "cell_type": "code",
   "execution_count": 26,
   "id": "c272407a",
   "metadata": {},
   "outputs": [
    {
     "name": "stdout",
     "output_type": "stream",
     "text": [
      "Матричная норма: 16.881943016134134\n"
     ]
    }
   ],
   "source": [
    "M  = np.array(range(10)).reshape(2,5)\n",
    "\n",
    "matrix_norm = np.linalg.norm(M)\n",
    "print(f'Матричная норма: {matrix_norm}')\n"
   ]
  },
  {
   "cell_type": "markdown",
   "id": "2f895302",
   "metadata": {},
   "source": [
    "numpy<span style='color:red'>**.linalg.solve**</span> ( **A, B** ) - _`Возвращает вектор коэффициентов СЛАУ`_, матрица системы **A**, вектор ответов **B** "
   ]
  },
  {
   "cell_type": "code",
   "execution_count": 27,
   "id": "17139c6b",
   "metadata": {},
   "outputs": [
    {
     "name": "stdout",
     "output_type": "stream",
     "text": [
      "X = 2.475\n",
      "Y = -0.39999999999999974\n",
      "Z = -0.7749999999999999\n"
     ]
    }
   ],
   "source": [
    "A = np.array([[1,2,-3],[2,1,2],[3,-2,-1]])\n",
    "B = np.array([4,3,9])\n",
    "result = np.linalg.solve(A,B)\n",
    "print(f'X = {result[0]}')\n",
    "print(f'Y = {result[1]}')\n",
    "print(f'Z = {result[2]}')\n"
   ]
  },
  {
   "cell_type": "markdown",
   "id": "d82b42e9",
   "metadata": {},
   "source": [
    "___\n",
    "numpy<span style='color:red'>**.linalg.inv**</span> ( **A** ) - _`Возвращает обратную матрицу`_, для исходной матрицы **A**\n",
    "___"
   ]
  },
  {
   "cell_type": "code",
   "execution_count": 28,
   "id": "ada6dd21",
   "metadata": {},
   "outputs": [
    {
     "name": "stdout",
     "output_type": "stream",
     "text": [
      "Исходная матрица:\n",
      " [[2. 0. 0. 0.]\n",
      " [0. 2. 0. 0.]\n",
      " [0. 0. 2. 0.]\n",
      " [0. 0. 0. 2.]]\n",
      "Обратная матрица:\n",
      " [[0.5 0.  0.  0. ]\n",
      " [0.  0.5 0.  0. ]\n",
      " [0.  0.  0.5 0. ]\n",
      " [0.  0.  0.  0.5]]\n"
     ]
    }
   ],
   "source": [
    "E = np.eye(4)*2\n",
    "\n",
    "rev_M = np.linalg.inv(E)\n",
    "print(f'Исходная матрица:\\n {E}')\n",
    "print(f'Обратная матрица:\\n {rev_M}')\n"
   ]
  },
  {
   "cell_type": "markdown",
   "id": "692180ea",
   "metadata": {},
   "source": [
    "___\n",
    "## <h3 id='stat' style='color:red'> Статистические функции</h3> \n",
    "___"
   ]
  },
  {
   "cell_type": "markdown",
   "id": "f427cacd",
   "metadata": {},
   "source": [
    "numpy<span style='color:red'>**.std**</span> ( **array** ) - _`Возвращает стандартное отклонение`_ в объекте numpy **array** \n",
    "\n",
    "numpy<span style='color:red'>**.var**</span> ( **array** ) - _`Возвращает дисперсию`_ в объекте numpy **array** \n",
    "\n",
    "numpy<span style='color:red'>**.sum**</span> ( **array** ) - _`Возвращает сумму элементов`_ в объекте numpy **array** \n",
    "\n",
    "numpy<span style='color:red'>**.min**</span> ( **array** ) - _`Возвращает минимальное значение`_ в объекте numpy **array**  \n",
    "\n",
    "numpy<span style='color:red'>**.max**</span> ( **array** ) - _`Возвращает максимальное значение`_ в объекте numpy **array**  \n",
    "\n",
    "numpy<span style='color:red'>**.average**</span> ( **array** ) - _`Возвращает среднее значение`_ в объекте numpy **array**    \n",
    "\n",
    "numpy<span style='color:red'>**.median**</span> ( **array** ) - _`Возвращает медиану`_ в объекте numpy **array**  \n",
    "\n",
    "numpy<span style='color:red'>**.mean**</span> ( **array, axis= 0** ) - _`Возвращает среднее значение`_ в объекте numpy **array** _` в столбцах`_, **axis= 0** ( _` в строках`_, **axis= 1** )\n"
   ]
  },
  {
   "cell_type": "code",
   "execution_count": 29,
   "id": "8ba34e80",
   "metadata": {},
   "outputs": [
    {
     "name": "stdout",
     "output_type": "stream",
     "text": [
      "[[ 0  1  2  3]\n",
      " [ 4  5  6  7]\n",
      " [ 8  9 10 11]]\n",
      "________________________________________\n",
      "\n",
      "Минимальное значение:0\n",
      "Максимальное значение:11\n",
      "Среднее значение:5.5\n",
      "Среднее значение в столбцах: [4. 5. 6. 7.]\n",
      "Среднее значение в строках: [1.5 5.5 9.5]\n",
      "Сумма элементов: 66\n",
      "Стандартное отклонение: 3.452\n",
      "Дисперсия: 11.917\n",
      "Медиана: 5.5\n"
     ]
    }
   ],
   "source": [
    "M = np.arange(12).reshape(3,4)\n",
    "print(M)\n",
    "print('_'*40,end='\\n'*2)\n",
    "print(f'Минимальное значение:{np.amin(M)}')\n",
    "print(f'Максимальное значение:{np.amax(M)}')\n",
    "print(f'Среднее значение:{np.average(M)}')\n",
    "print(f'Среднее значение в столбцах: {np.mean(M, axis=0)}')\n",
    "print(f'Среднее значение в строках: {np.mean(M, axis=1)}')\n",
    "print(f'Сумма элементов: {np.sum(M)}')\n",
    "print(f'Стандартное отклонение: {np.std(M):.3f}')\n",
    "print(f'Дисперсия: {np.var(M):.3f}')\n",
    "print(f'Медиана: {np.median(M)}')\n"
   ]
  },
  {
   "cell_type": "markdown",
   "id": "6cff7ed0",
   "metadata": {},
   "source": [
    "___\n",
    "## <h3 id='classic' style='color:red'> Методы классических массивов</h3>   \n",
    "___"
   ]
  },
  {
   "cell_type": "markdown",
   "id": "8bd759a1",
   "metadata": {},
   "source": [
    "numpy<span style='color:red'>**.unique**</span> ( **array** ) - _`Возвращает массив уникальных элементов`_ объекта numpy **array**   \n",
    "numpy<span style='color:red'>**.intersect1d**</span> ( **array_1**, **array_2** ) - _`Возвращает общие элементы`_ объектов numpy **array_1**  и **array_2**  \n",
    "numpy<span style='color:red'>**.union1d**</span> ( **array_1**, **array_2** ) - _`Возвращает объединенный массив уникальных элементов`_ объектов numpy **array_1**  и **array_2**  \n",
    "numpy<span style='color:red'>**.setfiff1d**</span> ( **array_1**, **array_2** ) - _`Возвращает уникальные элементы массива **array_1** `_ которых нет в массиве **array_2**  \n",
    "numpy<span style='color:red'>**.setxor1d**</span> ( **array_1**, **array_2** ) - _`Возвращает не общие элементы массивов` **array_1** и **array_2**"
   ]
  },
  {
   "cell_type": "code",
   "execution_count": 30,
   "id": "9222327f",
   "metadata": {},
   "outputs": [
    {
     "name": "stdout",
     "output_type": "stream",
     "text": [
      "[1 2 3]\n",
      "[2 3]\n",
      "[1 2 3 4]\n",
      "[1]\n",
      "[1 4]\n"
     ]
    }
   ],
   "source": [
    "a = np.array([1,1,2,2,3])\n",
    "a1 = np.array([1,2,3])\n",
    "a2 = np.array([2,3,4])\n",
    "print(np.unique(a))\n",
    "print(np.intersect1d(a1, a2))\n",
    "print(np.union1d(a1, a2))\n",
    "print(np.setdiff1d(a1, a2))\n",
    "print(np.setxor1d(a1, a2))\n"
   ]
  },
  {
   "cell_type": "markdown",
   "id": "38192926",
   "metadata": {},
   "source": [
    "  ---\n",
    "## <h1 id='info' style='color:violet'> Информация о  массивах</h1>   \n",
    "  ***"
   ]
  },
  {
   "cell_type": "markdown",
   "id": "4408cff7",
   "metadata": {},
   "source": [
    "<span style='color:blue'>**.size**</span> - Возвращает _`количество элементов`_  **объекта** numpy   \n",
    "<span style='color:blue'>**.itemsize**</span> - Возвращает _`размер элементовв байтах `_  **объекта** numpy  \n",
    "<span style='color:blue'>**.ndim**</span> - Возвращает _`размерность`_  **объекта** numpy  \n",
    "<span style='color:blue'>**.shape**</span> - Возвращает _`кол-во строк, кол-во столбцов`_  **объекта** numpy\n",
    "___"
   ]
  },
  {
   "cell_type": "code",
   "execution_count": 31,
   "id": "b175d012",
   "metadata": {},
   "outputs": [
    {
     "name": "stdout",
     "output_type": "stream",
     "text": [
      "[[0. 0. 0. 0. 0.]\n",
      " [0. 0. 0. 0. 0.]\n",
      " [0. 0. 0. 0. 0.]]\n",
      "8\n",
      "15\n",
      "(3, 5)\n",
      "2\n"
     ]
    }
   ],
   "source": [
    "M = np.zeros((3,5))\n",
    "print(M)\n",
    "print(M.itemsize)\n",
    "print(M.size)\n",
    "print(M.shape)\n",
    "print(M.ndim)\n"
   ]
  },
  {
   "cell_type": "markdown",
   "id": "78c4ffa6",
   "metadata": {},
   "source": [
    "<span style='color:blue'>**.dtype**</span> - Возвращает _`тип данных`_ элементов  **объекта** numpy   \n",
    "___"
   ]
  },
  {
   "cell_type": "code",
   "execution_count": 32,
   "id": "ef155528",
   "metadata": {},
   "outputs": [
    {
     "data": {
      "text/plain": [
       "dtype('float64')"
      ]
     },
     "execution_count": 32,
     "metadata": {},
     "output_type": "execute_result"
    }
   ],
   "source": [
    "arr = np.array([1, 2, 3], dtype=np.float64)\n",
    "arr.dtype\n"
   ]
  },
  {
   "cell_type": "markdown",
   "id": "40e1a691",
   "metadata": {},
   "source": [
    "numpy<span style='color:red'>**.isnan**</span>(arr) - Возвращает _`индексы`_ элементов со значением **`nan`** массива **arr** "
   ]
  },
  {
   "cell_type": "code",
   "execution_count": 33,
   "id": "280ad6ef",
   "metadata": {},
   "outputs": [
    {
     "name": "stdout",
     "output_type": "stream",
     "text": [
      "True - для элементов с nan-значениями: [ True False False  True False]\n",
      "Все элементы с nan-значениями заменены на 0: [0. 1. 2. 0. 4.]\n"
     ]
    }
   ],
   "source": [
    "arr = np.array([np.nan, 1, 2, np.nan, 4])\n",
    "print(f'True - для элементов с nan-значениями: {np.isnan(arr)}')\n",
    "\n",
    "arr[np.isnan(arr)] = 0\n",
    "print(f'Все элементы с nan-значениями заменены на 0: {arr}')\n"
   ]
  },
  {
   "cell_type": "markdown",
   "id": "71d64719",
   "metadata": {},
   "source": [
    "  ---\n",
    "## <h1 id='import' style='color:violet'> Импорт/экспорт данных</h1>   \n",
    "  ***"
   ]
  },
  {
   "cell_type": "markdown",
   "id": "76cf1d59",
   "metadata": {},
   "source": [
    "<span style='color:blue'>**.tolist**</span> - Экспортирует в _`спискок`_ элементы  **объекта** numpy   \n",
    "___"
   ]
  },
  {
   "cell_type": "code",
   "execution_count": 34,
   "id": "f9661d30",
   "metadata": {},
   "outputs": [
    {
     "name": "stdout",
     "output_type": "stream",
     "text": [
      "[[4, 5, 7, 3, 6, 4, 3, 7, 6, 1], [3, 5, 8, 4, 6, 3, 9, 2, 0, 4], [2, 4, 1, 7, 8, 2, 9, 8, 7, 1]]\n"
     ]
    }
   ],
   "source": [
    "import numpy as np\n",
    "\n",
    "data = np.random.randint(0,10,(3,10))\n",
    "list_data = data.tolist()\n",
    "print(list_data)\n"
   ]
  },
  {
   "cell_type": "markdown",
   "id": "6004283f",
   "metadata": {},
   "source": [
    "___\n",
    "___\n",
    "[ВВЕРХ](#comp)"
   ]
  }
 ],
 "metadata": {
  "kernelspec": {
   "display_name": "Python 3 (ipykernel)",
   "language": "python",
   "name": "python3"
  },
  "language_info": {
   "codemirror_mode": {
    "name": "ipython",
    "version": 3
   },
   "file_extension": ".py",
   "mimetype": "text/x-python",
   "name": "python",
   "nbconvert_exporter": "python",
   "pygments_lexer": "ipython3",
   "version": "3.11.1"
  }
 },
 "nbformat": 4,
 "nbformat_minor": 5
}
