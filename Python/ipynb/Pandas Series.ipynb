{
 "cells": [
  {
   "cell_type": "markdown",
   "metadata": {},
   "source": [
    "\n",
    "___\n",
    "# Pandas `Series`\n",
    "*Упорядоченная изменяемая коллекция объектов, имеющая индексы.*  \n",
    "\n",
    "<img src='img/pdlogo.png'></img>  \n",
    "___\n",
    "___"
   ]
  },
  {
   "cell_type": "markdown",
   "metadata": {},
   "source": [
    "## `Создание`\n",
    "___"
   ]
  },
  {
   "cell_type": "markdown",
   "metadata": {},
   "source": [
    "Из <span style= 'color:red'>**СПИСКОВ**</span>  \n",
    "pandas.Series( `data=`[ *элементы* ], `index=`[ *индексы* ])\n"
   ]
  },
  {
   "cell_type": "code",
   "execution_count": 1,
   "metadata": {},
   "outputs": [
    {
     "name": "stdout",
     "output_type": "stream",
     "text": [
      "UK    Англия\n",
      "CA    Канада\n",
      "US       США\n",
      "Name: countries, dtype: object\n"
     ]
    }
   ],
   "source": [
    "import pandas as pd\n",
    "\n",
    "countries = pd.Series(\n",
    "    data = ['Англия', 'Канада', 'США'],\n",
    "    index = ['UK', 'CA', 'US'],\n",
    "    name = 'countries')\n",
    "print(countries)\n"
   ]
  },
  {
   "cell_type": "markdown",
   "metadata": {},
   "source": [
    "Из <span style= 'color:red'>**СЛОВАРЕЙ**</span>  \n",
    "pandas.Series( `{индекс : элемент}` )"
   ]
  },
  {
   "cell_type": "code",
   "execution_count": 2,
   "metadata": {},
   "outputs": [
    {
     "data": {
      "text/plain": [
       "UK    Англия\n",
       "CA    Канада\n",
       "US       США\n",
       "Name: countries, dtype: object"
      ]
     },
     "metadata": {},
     "output_type": "display_data"
    }
   ],
   "source": [
    "countries = pd.Series({\n",
    "    'UK': 'Англия',\n",
    "    'CA': 'Канада',\n",
    "    'US' : 'США',},\n",
    "    name = 'countries')\n",
    "display(countries)"
   ]
  },
  {
   "cell_type": "markdown",
   "metadata": {},
   "source": [
    "## `Доступ` к данным\n",
    "___"
   ]
  },
  {
   "cell_type": "markdown",
   "metadata": {},
   "source": [
    "<span style= 'color:blue'>**.loc**</span>[ [i1,i2] ] - Возвращает series данные `по назначенным` индексам элементов i1, i2  \n",
    "<span style= 'color:blue'>**.iloc**</span>[ [i1,i2] ] - Возвращает series данные оюъектов по `порядковым` индексам элементов i1, i2\n"
   ]
  },
  {
   "cell_type": "code",
   "execution_count": 3,
   "metadata": {},
   "outputs": [
    {
     "name": "stdout",
     "output_type": "stream",
     "text": [
      "Строка:  Англия\n",
      "________________________________________ \n",
      "\n",
      "Объект Series:  UK    Англия\n",
      "US       США\n",
      "Name: countries, dtype: object\n",
      "________________________________________ \n",
      "\n",
      "Объект Series:  UK    Англия\n",
      "US       США\n",
      "Name: countries, dtype: object\n"
     ]
    }
   ],
   "source": [
    "print('Строка: ',countries.loc['UK'])\n",
    "print('_'*40,'\\n')\n",
    "print('Объект Series: ',countries.loc[['UK', 'US']])\n",
    "print('_'*40,'\\n')\n",
    "print('Объект Series: ',countries.iloc[[0, 2]])\n",
    "\n"
   ]
  }
 ],
 "metadata": {
  "kernelspec": {
   "display_name": "Python 3",
   "language": "python",
   "name": "python3"
  },
  "language_info": {
   "codemirror_mode": {
    "name": "ipython",
    "version": 3
   },
   "file_extension": ".py",
   "mimetype": "text/x-python",
   "name": "python",
   "nbconvert_exporter": "python",
   "pygments_lexer": "ipython3",
   "version": "3.11.1"
  },
  "orig_nbformat": 4
 },
 "nbformat": 4,
 "nbformat_minor": 2
}
