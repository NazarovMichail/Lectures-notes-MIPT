{
 "cells": [
  {
   "cell_type": "markdown",
   "metadata": {},
   "source": [
    "# ПАРСИНГ\n",
    "___\n",
    "- ### [requests](#r)\n",
    "- ### [BeautifulSoup](#s)\n",
    "- ### [schedule](#sc)\n",
    "- ### [API VK](#a)\n"
   ]
  },
  {
   "cell_type": "markdown",
   "metadata": {},
   "source": [
    "___\n",
    "## `requests` библиотека <a id='r'></a>\n",
    "- <a>.get</a>() : HTTP-запрос к серверу по адресу `url`\n",
    "    - `url=` : адрес сервера\n",
    "    - `headers=` : определение агента при ограничениях сервера ( https://whatmyuseragent.com/?copy=1 )\n",
    "    - `params=` : словарь с параметрами запроса, описанными в API  \n",
    "- <a>.json</a>() : экспорт в json-формат\n",
    "- <a style='color:red'>.text</a> : текстовые данные HTTP-ответа\n"
   ]
  },
  {
   "cell_type": "code",
   "execution_count": 4,
   "metadata": {},
   "outputs": [
    {
     "name": "stdout",
     "output_type": "stream",
     "text": [
      "'2023-11-25T11:30:00+03:00'\n"
     ]
    },
    {
     "data": {
      "text/html": [
       "<div>\n",
       "<style scoped>\n",
       "    .dataframe tbody tr th:only-of-type {\n",
       "        vertical-align: middle;\n",
       "    }\n",
       "\n",
       "    .dataframe tbody tr th {\n",
       "        vertical-align: top;\n",
       "    }\n",
       "\n",
       "    .dataframe thead th {\n",
       "        text-align: right;\n",
       "    }\n",
       "</style>\n",
       "<table border=\"1\" class=\"dataframe\">\n",
       "  <thead>\n",
       "    <tr style=\"text-align: right;\">\n",
       "      <th></th>\n",
       "      <th>AUD</th>\n",
       "      <th>AZN</th>\n",
       "      <th>GBP</th>\n",
       "      <th>AMD</th>\n",
       "      <th>BYN</th>\n",
       "      <th>BGN</th>\n",
       "      <th>BRL</th>\n",
       "      <th>HUF</th>\n",
       "      <th>VND</th>\n",
       "      <th>HKD</th>\n",
       "      <th>...</th>\n",
       "      <th>TMT</th>\n",
       "      <th>UZS</th>\n",
       "      <th>UAH</th>\n",
       "      <th>CZK</th>\n",
       "      <th>SEK</th>\n",
       "      <th>CHF</th>\n",
       "      <th>RSD</th>\n",
       "      <th>ZAR</th>\n",
       "      <th>KRW</th>\n",
       "      <th>JPY</th>\n",
       "    </tr>\n",
       "  </thead>\n",
       "  <tbody>\n",
       "    <tr>\n",
       "      <th>ID</th>\n",
       "      <td>R01010</td>\n",
       "      <td>R01020A</td>\n",
       "      <td>R01035</td>\n",
       "      <td>R01060</td>\n",
       "      <td>R01090B</td>\n",
       "      <td>R01100</td>\n",
       "      <td>R01115</td>\n",
       "      <td>R01135</td>\n",
       "      <td>R01150</td>\n",
       "      <td>R01200</td>\n",
       "      <td>...</td>\n",
       "      <td>R01710A</td>\n",
       "      <td>R01717</td>\n",
       "      <td>R01720</td>\n",
       "      <td>R01760</td>\n",
       "      <td>R01770</td>\n",
       "      <td>R01775</td>\n",
       "      <td>R01805F</td>\n",
       "      <td>R01810</td>\n",
       "      <td>R01815</td>\n",
       "      <td>R01820</td>\n",
       "    </tr>\n",
       "    <tr>\n",
       "      <th>NumCode</th>\n",
       "      <td>036</td>\n",
       "      <td>944</td>\n",
       "      <td>826</td>\n",
       "      <td>051</td>\n",
       "      <td>933</td>\n",
       "      <td>975</td>\n",
       "      <td>986</td>\n",
       "      <td>348</td>\n",
       "      <td>704</td>\n",
       "      <td>344</td>\n",
       "      <td>...</td>\n",
       "      <td>934</td>\n",
       "      <td>860</td>\n",
       "      <td>980</td>\n",
       "      <td>203</td>\n",
       "      <td>752</td>\n",
       "      <td>756</td>\n",
       "      <td>941</td>\n",
       "      <td>710</td>\n",
       "      <td>410</td>\n",
       "      <td>392</td>\n",
       "    </tr>\n",
       "    <tr>\n",
       "      <th>CharCode</th>\n",
       "      <td>AUD</td>\n",
       "      <td>AZN</td>\n",
       "      <td>GBP</td>\n",
       "      <td>AMD</td>\n",
       "      <td>BYN</td>\n",
       "      <td>BGN</td>\n",
       "      <td>BRL</td>\n",
       "      <td>HUF</td>\n",
       "      <td>VND</td>\n",
       "      <td>HKD</td>\n",
       "      <td>...</td>\n",
       "      <td>TMT</td>\n",
       "      <td>UZS</td>\n",
       "      <td>UAH</td>\n",
       "      <td>CZK</td>\n",
       "      <td>SEK</td>\n",
       "      <td>CHF</td>\n",
       "      <td>RSD</td>\n",
       "      <td>ZAR</td>\n",
       "      <td>KRW</td>\n",
       "      <td>JPY</td>\n",
       "    </tr>\n",
       "    <tr>\n",
       "      <th>Nominal</th>\n",
       "      <td>1</td>\n",
       "      <td>1</td>\n",
       "      <td>1</td>\n",
       "      <td>100</td>\n",
       "      <td>1</td>\n",
       "      <td>1</td>\n",
       "      <td>1</td>\n",
       "      <td>100</td>\n",
       "      <td>10000</td>\n",
       "      <td>1</td>\n",
       "      <td>...</td>\n",
       "      <td>1</td>\n",
       "      <td>10000</td>\n",
       "      <td>10</td>\n",
       "      <td>10</td>\n",
       "      <td>10</td>\n",
       "      <td>1</td>\n",
       "      <td>100</td>\n",
       "      <td>10</td>\n",
       "      <td>1000</td>\n",
       "      <td>100</td>\n",
       "    </tr>\n",
       "    <tr>\n",
       "      <th>Name</th>\n",
       "      <td>Австралийский доллар</td>\n",
       "      <td>Азербайджанский манат</td>\n",
       "      <td>Фунт стерлингов Соединенного королевства</td>\n",
       "      <td>Армянских драмов</td>\n",
       "      <td>Белорусский рубль</td>\n",
       "      <td>Болгарский лев</td>\n",
       "      <td>Бразильский реал</td>\n",
       "      <td>Венгерских форинтов</td>\n",
       "      <td>Вьетнамских донгов</td>\n",
       "      <td>Гонконгский доллар</td>\n",
       "      <td>...</td>\n",
       "      <td>Новый туркменский манат</td>\n",
       "      <td>Узбекских сумов</td>\n",
       "      <td>Украинских гривен</td>\n",
       "      <td>Чешских крон</td>\n",
       "      <td>Шведских крон</td>\n",
       "      <td>Швейцарский франк</td>\n",
       "      <td>Сербских динаров</td>\n",
       "      <td>Южноафриканских рэндов</td>\n",
       "      <td>Вон Республики Корея</td>\n",
       "      <td>Японских иен</td>\n",
       "    </tr>\n",
       "    <tr>\n",
       "      <th>Value</th>\n",
       "      <td>58.2882</td>\n",
       "      <td>52.2431</td>\n",
       "      <td>111.2919</td>\n",
       "      <td>22.083</td>\n",
       "      <td>28.6605</td>\n",
       "      <td>49.4975</td>\n",
       "      <td>18.1518</td>\n",
       "      <td>25.4801</td>\n",
       "      <td>37.1184</td>\n",
       "      <td>11.4156</td>\n",
       "      <td>...</td>\n",
       "      <td>25.3752</td>\n",
       "      <td>72.1767</td>\n",
       "      <td>24.6606</td>\n",
       "      <td>39.7322</td>\n",
       "      <td>84.7536</td>\n",
       "      <td>100.4335</td>\n",
       "      <td>82.6983</td>\n",
       "      <td>47.0019</td>\n",
       "      <td>67.9832</td>\n",
       "      <td>59.3831</td>\n",
       "    </tr>\n",
       "    <tr>\n",
       "      <th>Previous</th>\n",
       "      <td>57.7542</td>\n",
       "      <td>51.8356</td>\n",
       "      <td>109.7983</td>\n",
       "      <td>21.9069</td>\n",
       "      <td>28.6059</td>\n",
       "      <td>49.1607</td>\n",
       "      <td>17.9967</td>\n",
       "      <td>25.3431</td>\n",
       "      <td>36.8474</td>\n",
       "      <td>11.3207</td>\n",
       "      <td>...</td>\n",
       "      <td>25.1773</td>\n",
       "      <td>71.7503</td>\n",
       "      <td>24.4321</td>\n",
       "      <td>39.2537</td>\n",
       "      <td>84.4091</td>\n",
       "      <td>99.8081</td>\n",
       "      <td>82.0329</td>\n",
       "      <td>46.9538</td>\n",
       "      <td>67.9157</td>\n",
       "      <td>59.4606</td>\n",
       "    </tr>\n",
       "  </tbody>\n",
       "</table>\n",
       "<p>7 rows × 43 columns</p>\n",
       "</div>"
      ],
      "text/plain": [
       "                           AUD                    AZN  \\\n",
       "ID                      R01010                R01020A   \n",
       "NumCode                    036                    944   \n",
       "CharCode                   AUD                    AZN   \n",
       "Nominal                      1                      1   \n",
       "Name      Австралийский доллар  Азербайджанский манат   \n",
       "Value                  58.2882                52.2431   \n",
       "Previous               57.7542                51.8356   \n",
       "\n",
       "                                               GBP               AMD  \\\n",
       "ID                                          R01035            R01060   \n",
       "NumCode                                        826               051   \n",
       "CharCode                                       GBP               AMD   \n",
       "Nominal                                          1               100   \n",
       "Name      Фунт стерлингов Соединенного королевства  Армянских драмов   \n",
       "Value                                     111.2919            22.083   \n",
       "Previous                                  109.7983           21.9069   \n",
       "\n",
       "                        BYN             BGN               BRL  \\\n",
       "ID                  R01090B          R01100            R01115   \n",
       "NumCode                 933             975               986   \n",
       "CharCode                BYN             BGN               BRL   \n",
       "Nominal                   1               1                 1   \n",
       "Name      Белорусский рубль  Болгарский лев  Бразильский реал   \n",
       "Value               28.6605         49.4975           18.1518   \n",
       "Previous            28.6059         49.1607           17.9967   \n",
       "\n",
       "                          HUF                 VND                 HKD  ...  \\\n",
       "ID                     R01135              R01150              R01200  ...   \n",
       "NumCode                   348                 704                 344  ...   \n",
       "CharCode                  HUF                 VND                 HKD  ...   \n",
       "Nominal                   100               10000                   1  ...   \n",
       "Name      Венгерских форинтов  Вьетнамских донгов  Гонконгский доллар  ...   \n",
       "Value                 25.4801             37.1184             11.4156  ...   \n",
       "Previous              25.3431             36.8474             11.3207  ...   \n",
       "\n",
       "                              TMT              UZS                UAH  \\\n",
       "ID                        R01710A           R01717             R01720   \n",
       "NumCode                       934              860                980   \n",
       "CharCode                      TMT              UZS                UAH   \n",
       "Nominal                         1            10000                 10   \n",
       "Name      Новый туркменский манат  Узбекских сумов  Украинских гривен   \n",
       "Value                     25.3752          72.1767            24.6606   \n",
       "Previous                  25.1773          71.7503            24.4321   \n",
       "\n",
       "                   CZK            SEK                CHF               RSD  \\\n",
       "ID              R01760         R01770             R01775           R01805F   \n",
       "NumCode            203            752                756               941   \n",
       "CharCode           CZK            SEK                CHF               RSD   \n",
       "Nominal             10             10                  1               100   \n",
       "Name      Чешских крон  Шведских крон  Швейцарский франк  Сербских динаров   \n",
       "Value          39.7322        84.7536           100.4335           82.6983   \n",
       "Previous       39.2537        84.4091            99.8081           82.0329   \n",
       "\n",
       "                             ZAR                   KRW           JPY  \n",
       "ID                        R01810                R01815        R01820  \n",
       "NumCode                      710                   410           392  \n",
       "CharCode                     ZAR                   KRW           JPY  \n",
       "Nominal                       10                  1000           100  \n",
       "Name      Южноафриканских рэндов  Вон Республики Корея  Японских иен  \n",
       "Value                    47.0019               67.9832       59.3831  \n",
       "Previous                 46.9538               67.9157       59.4606  \n",
       "\n",
       "[7 rows x 43 columns]"
      ]
     },
     "execution_count": 4,
     "metadata": {},
     "output_type": "execute_result"
    }
   ],
   "source": [
    "import requests\n",
    "import pandas as pd\n",
    "from pprint import pprint\n",
    "\n",
    "\n",
    "url = 'https://www.cbr-xml-daily.ru/daily_json.js'\n",
    "response = requests.get(url,\n",
    "                        headers={'User-Agent':'Mozilla/5.0 (Windows NT 10.0; Win64; x64) AppleWebKit/537.36 (KHTML, like Gecko) Chrome/116.0.5845.837 YaBrowser/23.9.4.837 Yowser/2.5 Safari/537.36'})\n",
    "\n",
    "response = response.json()\n",
    "\n",
    "pprint(response['Date'])\n",
    "df = pd.DataFrame(response['Valute'])\n",
    "df"
   ]
  },
  {
   "cell_type": "markdown",
   "metadata": {},
   "source": [
    "___\n",
    "## `bs4` библиотека <a id='s'></a>\n",
    "Документация BeautifulSoup : https://www.crummy.com/software/BeautifulSoup/bs4/doc.ru/  \n",
    "Справочник по HTML : https://htmlbook.ru/html\n",
    "___\n",
    "- <a>BeautifulSoup</a>() : Создание объекта-парсера\n",
    "    - `'html.parser'` : тип парсера HTML  \n",
    "\n",
    "- <a>find</a>() : Возвращает первый встретившийся объект\n",
    "- <a>find_all</a>() : Возвращает список всех объектов\n",
    "\n",
    "\n",
    "    "
   ]
  },
  {
   "cell_type": "code",
   "execution_count": 5,
   "metadata": {},
   "outputs": [
    {
     "name": "stdout",
     "output_type": "stream",
     "text": [
      "Премия Шведского национального банка по экономическим наукам памяти Альфреда Нобеля за 2021 год присуждена Дэвиду Карду (David Card) за его вклад в эмпирические исследования экономики рынка труда, а также Джошуа Энгристу (Joshua Angrist) и Гвидо Имбенсу (Guido Imbens) за их вклад в методологию анализа причинно-следственных связей. Прямая трансляция церемонии объявления лауреатов шла на официальном сайте Нобелевской премии.\n",
      "[<a href=\"/\">\n",
      "<img alt=\"as\" height=\"23\" loading=\"lazy\" src=\"https://staticn1.nplus1.ru/image-new/logo.svg\" width=\"57\"/>\n",
      "</a>, <a class=\"w-7.5 h-7.5\" href=\"/search\">\n",
      "<svg class=\"w-full h-full\">\n",
      "<use xlink:href=\"#n1_pupa\"></use>\n",
      "</svg>\n",
      "</a>, <a class=\"col-span-3 lg:col-span-2 col-start-7 lg:col-start-9 flex items-center hover:text-main transition-colors duration-75\" href=\"https://offline.nplus1.ru/\">N + offline</a>, <a class=\"col-span-3 lg:col-span-2 col-start-10 lg:col-start-11 flex items-center hover:text-main transition-colors duration-75\" href=\"https://nplus.pro/\">N + production</a>, <a class=\"hover:text-main transition-colors duration-75\" href=\"https://nplus1.ru/about\">\n",
      "                О нас\n",
      "              </a>]\n"
     ]
    },
    {
     "data": {
      "text/plain": [
       "'\\n            Премию Нобеля по экономике присудили за исследования экономики труда и причинно-следственных связей\\n          '"
      ]
     },
     "execution_count": 5,
     "metadata": {},
     "output_type": "execute_result"
    }
   ],
   "source": [
    "from bs4 import BeautifulSoup\n",
    "\n",
    "url = 'https://nplus1.ru/news/2021/10/11/econobel2021'\n",
    "response = requests.get(url,headers={'User-Agent':'Mozilla/5.0 (Windows NT 10.0; Win64; x64) AppleWebKit/537.36 (KHTML, like Gecko) Chrome/116.0.5845.837 YaBrowser/23.9.4.837 Yowser/2.5 Safari/537.36'})\n",
    "\n",
    "page = BeautifulSoup(response.text, 'html.parser')\n",
    "\n",
    "\n",
    "print(page.find('div', class_='n1_material text-18').text)\n",
    "print(page.find_all('a')[:5])\n",
    "page.h1.text"
   ]
  },
  {
   "cell_type": "markdown",
   "metadata": {},
   "source": [
    "____\n",
    "## `schedule` библиотека <a id='sc'></a>\n",
    "Документация schedule : https://schedule.readthedocs.io/en/stable/\n",
    "___\n",
    "- <a>every</a>( *n* ) : *n* интервал\n",
    "- <a style='color:red'>seconds</a>: Секунд\n",
    "- <a style='color:red'>minutes</a> : Минут\n",
    "- <a>do</a>( *func*) : Выполнять функцию *func*\n",
    "- <a>run_pending</a>( ) : Проверка задачи на выполнение\n",
    "\n",
    "\n",
    "\n",
    "\n",
    "\n"
   ]
  },
  {
   "cell_type": "code",
   "execution_count": null,
   "metadata": {},
   "outputs": [],
   "source": [
    "import schedule\n",
    "import time\n",
    "\n",
    "def task():\n",
    "    print('Task is done')\n",
    "\n",
    "schedule.every(5).seconds.do(task)\n",
    "while True:\n",
    "    schedule.run_pending() # Проверяет наличие задачи для выполнения\n",
    "    time.sleep(1) # Пауза перед проверкой на наличие задачи\n"
   ]
  },
  {
   "cell_type": "markdown",
   "metadata": {},
   "source": [
    "___\n",
    "## `API` VK <a id='a'></a>\n",
    "- Документация API VK : https://vk.com/dev/methods"
   ]
  },
  {
   "cell_type": "markdown",
   "metadata": {},
   "source": [
    "___\n",
    "### Пользователи по id"
   ]
  },
  {
   "cell_type": "code",
   "execution_count": 7,
   "metadata": {},
   "outputs": [
    {
     "data": {
      "text/plain": [
       "[{'id': 1,\n",
       "  'bdate': '10.10.1984',\n",
       "  'sex': 2,\n",
       "  'first_name': 'Павел',\n",
       "  'last_name': 'Дуров',\n",
       "  'can_access_closed': True,\n",
       "  'is_closed': False},\n",
       " {'id': 2,\n",
       "  'bdate': '14.2',\n",
       "  'sex': 1,\n",
       "  'first_name': 'Александра',\n",
       "  'last_name': 'Владимирова',\n",
       "  'can_access_closed': False,\n",
       "  'is_closed': True}]"
      ]
     },
     "execution_count": 7,
     "metadata": {},
     "output_type": "execute_result"
    }
   ],
   "source": [
    "import requests\n",
    "import pandas as pd\n",
    "\n",
    "token = '619f3c5d619f3c5d619f3c5d9a62897da36619f619f3c5d04d14257910226585090b248'\n",
    "url = 'https://api.vk.com/method/users.get'\n",
    "ids = ','.join(map(str,range(500)))\n",
    "params={'user_ids' : ids, 'v':5.95, 'fields' : 'sex,bdate', 'access_token' : token, 'lang': 'ru'}\n",
    "\n",
    "resp = requests.get(url, params=params)\n",
    "\n",
    "users = resp.json()['response']\n",
    "users[:2]\n",
    "\n"
   ]
  },
  {
   "cell_type": "markdown",
   "metadata": {},
   "source": [
    "___\n",
    "### id пользователей в группе"
   ]
  },
  {
   "cell_type": "code",
   "execution_count": 8,
   "metadata": {},
   "outputs": [
    {
     "data": {
      "text/plain": [
       "[6, 19, 47, 54, 79, 177, 198, 212, 219, 239]"
      ]
     },
     "execution_count": 8,
     "metadata": {},
     "output_type": "execute_result"
    }
   ],
   "source": [
    "import requests\n",
    "import pandas as pd\n",
    "\n",
    "token = '619f3c5d619f3c5d619f3c5d9a62897da36619f619f3c5d04d14257910226585090b248'\n",
    "url = 'https://api.vk.com/method/groups.getMembers'\n",
    "params = {'group_id': 'vk', 'v': 5.95, 'access_token': token}\n",
    "response = requests.get(url, params=params)\n",
    "\n",
    "data = response.json()\n",
    "data['response']['items'][:10]"
   ]
  },
  {
   "cell_type": "markdown",
   "metadata": {},
   "source": [
    "___\n",
    "### id пользователей в группе `со смещением` (для большого кол-ва запросов)"
   ]
  },
  {
   "cell_type": "code",
   "execution_count": 9,
   "metadata": {},
   "outputs": [
    {
     "name": "stdout",
     "output_type": "stream",
     "text": [
      "Count: 1000 Offset: 1000 Max count: 4000\n",
      "Count: 1000 Offset: 2000 Max count: 4000\n",
      "Count: 1000 Offset: 3000 Max count: 4000\n",
      "Count: 1000 Offset: 4000 Max count: 4000\n",
      "[6, 19, 47, 54, 79, 177, 198, 212, 219, 239]\n",
      "4000\n"
     ]
    }
   ],
   "source": [
    "import requests\n",
    "import time\n",
    "\n",
    "token = '619f3c5d619f3c5d619f3c5d9a62897da36619f619f3c5d04d14257910226585090b248'\n",
    "url = 'https://api.vk.com/method/groups.getMembers'\n",
    "\n",
    "count = 1000\n",
    "offset = 0\n",
    "user_ids = []\n",
    "\n",
    "max_count = 4000\n",
    "while offset < max_count:\n",
    "    params = {'group_id': 'vk', 'v': 5.95, 'access_token': token, 'count' : count, 'offset': offset}\n",
    "    response = requests.get(url, params=params)\n",
    "    data = response.json()\n",
    "    user_ids += data['response']['items']\n",
    "    offset += count\n",
    "    time.sleep(0.5)\n",
    "    print(f'Count: {count} Offset: {offset} Max count: {max_count}')\n",
    "print(user_ids[:10])\n",
    "print(len(user_ids))\n",
    "\n"
   ]
  },
  {
   "cell_type": "markdown",
   "metadata": {},
   "source": [
    "___\n",
    "### Новостная лента"
   ]
  },
  {
   "cell_type": "code",
   "execution_count": 10,
   "metadata": {},
   "outputs": [],
   "source": [
    "import requests\n",
    "from pprint import pprint\n",
    "\n",
    "token = '619f3c5d619f3c5d619f3c5d9a62897da36619f619f3c5d04d14257910226585090b248'\n",
    "url = 'https://api.vk.com/method/wall.get'\n",
    "\n",
    "params = {'domain': 'vk', 'filter': 'owner', 'count': 1000, 'offset': 0, 'access_token': token, 'v': 5.95}\n",
    "response = requests.get(url, params=params)\n",
    "# pprint(response.json()['response']['items'])\n"
   ]
  },
  {
   "cell_type": "markdown",
   "metadata": {},
   "source": [
    "- ###  Статистика ленты новостей"
   ]
  },
  {
   "cell_type": "code",
   "execution_count": 11,
   "metadata": {},
   "outputs": [
    {
     "name": "stdout",
     "output_type": "stream",
     "text": [
      "{'Актуализируйте список друзей —': [1056, 1091, 512, 1698763005],\n",
      " 'ВКонтакте обновляет процесс вх': [594, 1263, 634, 1697614588],\n",
      " 'Гуляя по ВКонтакте, вы наверня': [436, 508, 69, 1700492706],\n",
      " 'Делимся добрыми новостями. Нак': [432, 777, 43, 1698338505],\n",
      " 'Лайк — это явление исключитель': [188, 395, 41, 1700823903],\n",
      " 'Многие любят приправить свои с': [393, 1242, 185, 1699959300],\n",
      " 'На счёт «три» скидываем в комм': [9217, 2259, 204, 1700227217],\n",
      " 'Настоящие герои не носят плащи': [169, 507, 86, 1700730900],\n",
      " 'Не знаете, что послушать? В VK': [321, 463, 37, 1698056317],\n",
      " 'Продолжаем делиться историями ': [448, 638, 197, 1697625061]}\n"
     ]
    }
   ],
   "source": [
    "stats = {}\n",
    "count_post = 0 # Счётчик «непустых» сообщений\n",
    "for record in response.json()['response']['items'][:]:\n",
    "    title = record['text'][:30]\n",
    "    if title:\n",
    "        stats[title] = [record['comments']['count'], record['likes']['count'], record['reposts']['count'], record['date']]\n",
    "        count_post += 1\n",
    "    if count_post < 10:\n",
    "        continue\n",
    "    else:\n",
    "        break\n",
    "pprint(stats)\n"
   ]
  }
 ],
 "metadata": {
  "kernelspec": {
   "display_name": "Python 3",
   "language": "python",
   "name": "python3"
  },
  "language_info": {
   "codemirror_mode": {
    "name": "ipython",
    "version": 3
   },
   "file_extension": ".py",
   "mimetype": "text/x-python",
   "name": "python",
   "nbconvert_exporter": "python",
   "pygments_lexer": "ipython3",
   "version": "3.11.1"
  }
 },
 "nbformat": 4,
 "nbformat_minor": 2
}
