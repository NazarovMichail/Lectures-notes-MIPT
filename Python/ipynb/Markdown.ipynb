{
 "cells": [
  {
   "cell_type": "markdown",
   "metadata": {},
   "source": [
    "# `MARKDOWN`\n",
    "<img src='data/markdown-mark.svg'>\n",
    "\n",
    "___\n",
    "\n",
    "HTML теги : https://html5book.ru/html-tags/\n",
    "\n",
    "GitHub emoji : https://github.com/markdown-templates/markdown-emojis"
   ]
  },
  {
   "cell_type": "markdown",
   "metadata": {},
   "source": [
    "___\n",
    "## <a>ШРИФТ</a>\n",
    "___\n",
    "\n",
    "*НАКЛОННЫЙ*\n",
    "\n",
    "**ЖИРНЫЙ**\n",
    "\n",
    "***ЖИРНЫЙ + НАКЛОННЫЙ***\n",
    "<center> По центру\n"
   ]
  },
  {
   "cell_type": "markdown",
   "metadata": {},
   "source": [
    "___\n",
    "## <a>СПИСКИ</a>\n",
    "___\n",
    "\n",
    "* Элемент 1\n",
    "    * Элемент 1.1\n",
    "        * Элемент 1.1.1\n",
    "        "
   ]
  },
  {
   "cell_type": "markdown",
   "metadata": {},
   "source": [
    "___\n",
    "## <a>ССЫЛКИ</a>\n",
    "___\n",
    "\n",
    "[Текст если картинка недоступна](https://plugins.jetbrains.com/files/8446/215414/icon/pluginIcon.png)\n"
   ]
  },
  {
   "cell_type": "markdown",
   "metadata": {},
   "source": [
    "___\n",
    "## <a>КОД</a>\n",
    "___\n",
    "\n",
    "```python\n",
    "print('Hello, Markdown~')\n",
    "```"
   ]
  },
  {
   "cell_type": "markdown",
   "metadata": {},
   "source": [
    "___\n",
    "## <a>ЦИТИРОВАНИЕ</a>\n",
    "___\n",
    "> Чья-то цитата...\n"
   ]
  },
  {
   "cell_type": "markdown",
   "metadata": {},
   "source": [
    "___\n",
    "## <a>ФОРМУЛЫ</a>\n",
    "KaTeX : https://katex.org/docs/api\n",
    "\n",
    "LaTeX : https://en.wikibooks.org/wiki/LaTeX/Mathematics\n",
    "___\n",
    "\n",
    "\n",
    "\n",
    "$\\pm\\sqrt{a^2 + b^2}$\n"
   ]
  },
  {
   "cell_type": "markdown",
   "metadata": {},
   "source": [
    "___\n",
    "## <a>ТАБЛИЦЫ</a>\n",
    "|  Столбец  |  Описание |\n",
    "|:-------|:--------------------------:|\n",
    "|  Rank  |  Рейтинг продаж |"
   ]
  }
 ],
 "metadata": {
  "kernelspec": {
   "display_name": "Python 3",
   "language": "python",
   "name": "python3"
  },
  "language_info": {
   "name": "python",
   "version": "3.11.1"
  }
 },
 "nbformat": 4,
 "nbformat_minor": 2
}
