{
 "cells": [
  {
   "cell_type": "markdown",
   "metadata": {},
   "source": [
    "___\n",
    "# `JSON`\n",
    "___"
   ]
  },
  {
   "cell_type": "markdown",
   "metadata": {},
   "source": [
    "___\n",
    "## <a >Загрузка и отображение файла</a>\n",
    "___"
   ]
  },
  {
   "cell_type": "code",
   "execution_count": 2,
   "metadata": {},
   "outputs": [],
   "source": [
    "import pandas as pd\n",
    "import json as jn\n",
    "from pprint import pprint\n"
   ]
  },
  {
   "cell_type": "code",
   "execution_count": 3,
   "metadata": {},
   "outputs": [
    {
     "name": "stdout",
     "output_type": "stream",
     "text": [
      "[{'cuisine': 'greek',\n",
      "  'id': 10259,\n",
      "  'ingredients': ['romaine lettuce',\n",
      "                  'black olives',\n",
      "                  'grape tomatoes',\n",
      "                  'garlic',\n",
      "                  'pepper',\n",
      "                  'purple onion',\n",
      "                  'seasoning',\n",
      "                  'garbanzo beans',\n",
      "                  'feta cheese crumbles']},\n",
      " {'cuisine': 'southern_us',\n",
      "  'id': 25693,\n",
      "  'ingredients': ['plain flour',\n",
      "                  'ground pepper',\n",
      "                  'salt',\n",
      "                  'tomatoes',\n",
      "                  'ground black pepper',\n",
      "                  'thyme',\n",
      "                  'eggs',\n",
      "                  'green tomatoes',\n",
      "                  'yellow corn meal',\n",
      "                  'milk',\n",
      "                  'vegetable oil']}]\n"
     ]
    }
   ],
   "source": [
    "with open('data/recipes.json') as f:\n",
    "    recipes = jn.load(f)\n",
    "pprint(recipes[:2])\n"
   ]
  },
  {
   "cell_type": "markdown",
   "metadata": {},
   "source": [
    "___\n",
    "## <a>JSON $\\rightarrow$ DataFrame</a>"
   ]
  },
  {
   "cell_type": "code",
   "execution_count": 4,
   "metadata": {},
   "outputs": [
    {
     "data": {
      "text/html": [
       "<div>\n",
       "<style scoped>\n",
       "    .dataframe tbody tr th:only-of-type {\n",
       "        vertical-align: middle;\n",
       "    }\n",
       "\n",
       "    .dataframe tbody tr th {\n",
       "        vertical-align: top;\n",
       "    }\n",
       "\n",
       "    .dataframe thead th {\n",
       "        text-align: right;\n",
       "    }\n",
       "</style>\n",
       "<table border=\"1\" class=\"dataframe\">\n",
       "  <thead>\n",
       "    <tr style=\"text-align: right;\">\n",
       "      <th></th>\n",
       "      <th>id</th>\n",
       "      <th>cuisine</th>\n",
       "      <th>ingredients</th>\n",
       "    </tr>\n",
       "  </thead>\n",
       "  <tbody>\n",
       "    <tr>\n",
       "      <th>0</th>\n",
       "      <td>10259</td>\n",
       "      <td>greek</td>\n",
       "      <td>[romaine lettuce, black olives, grape tomatoes...</td>\n",
       "    </tr>\n",
       "    <tr>\n",
       "      <th>1</th>\n",
       "      <td>25693</td>\n",
       "      <td>southern_us</td>\n",
       "      <td>[plain flour, ground pepper, salt, tomatoes, g...</td>\n",
       "    </tr>\n",
       "    <tr>\n",
       "      <th>2</th>\n",
       "      <td>20130</td>\n",
       "      <td>filipino</td>\n",
       "      <td>[eggs, pepper, salt, mayonaise, cooking oil, g...</td>\n",
       "    </tr>\n",
       "    <tr>\n",
       "      <th>3</th>\n",
       "      <td>22213</td>\n",
       "      <td>indian</td>\n",
       "      <td>[water, vegetable oil, wheat, salt]</td>\n",
       "    </tr>\n",
       "    <tr>\n",
       "      <th>4</th>\n",
       "      <td>13162</td>\n",
       "      <td>indian</td>\n",
       "      <td>[black pepper, shallots, cornflour, cayenne pe...</td>\n",
       "    </tr>\n",
       "    <tr>\n",
       "      <th>...</th>\n",
       "      <td>...</td>\n",
       "      <td>...</td>\n",
       "      <td>...</td>\n",
       "    </tr>\n",
       "    <tr>\n",
       "      <th>495</th>\n",
       "      <td>1121</td>\n",
       "      <td>chinese</td>\n",
       "      <td>[ground pepper, garlic, safflower oil, green o...</td>\n",
       "    </tr>\n",
       "    <tr>\n",
       "      <th>496</th>\n",
       "      <td>18376</td>\n",
       "      <td>italian</td>\n",
       "      <td>[penne, garlic, eggplant, lemon juice, olive o...</td>\n",
       "    </tr>\n",
       "    <tr>\n",
       "      <th>497</th>\n",
       "      <td>17815</td>\n",
       "      <td>italian</td>\n",
       "      <td>[cold water, dry white wine, fish fillets, cho...</td>\n",
       "    </tr>\n",
       "    <tr>\n",
       "      <th>498</th>\n",
       "      <td>32878</td>\n",
       "      <td>southern_us</td>\n",
       "      <td>[water, cajun seasoning, yellow onion, shrimp,...</td>\n",
       "    </tr>\n",
       "    <tr>\n",
       "      <th>499</th>\n",
       "      <td>24410</td>\n",
       "      <td>british</td>\n",
       "      <td>[mint, large eggs, heavy cream, berries, groun...</td>\n",
       "    </tr>\n",
       "  </tbody>\n",
       "</table>\n",
       "<p>500 rows × 3 columns</p>\n",
       "</div>"
      ],
      "text/plain": [
       "        id      cuisine                                        ingredients\n",
       "0    10259        greek  [romaine lettuce, black olives, grape tomatoes...\n",
       "1    25693  southern_us  [plain flour, ground pepper, salt, tomatoes, g...\n",
       "2    20130     filipino  [eggs, pepper, salt, mayonaise, cooking oil, g...\n",
       "3    22213       indian                [water, vegetable oil, wheat, salt]\n",
       "4    13162       indian  [black pepper, shallots, cornflour, cayenne pe...\n",
       "..     ...          ...                                                ...\n",
       "495   1121      chinese  [ground pepper, garlic, safflower oil, green o...\n",
       "496  18376      italian  [penne, garlic, eggplant, lemon juice, olive o...\n",
       "497  17815      italian  [cold water, dry white wine, fish fillets, cho...\n",
       "498  32878  southern_us  [water, cajun seasoning, yellow onion, shrimp,...\n",
       "499  24410      british  [mint, large eggs, heavy cream, berries, groun...\n",
       "\n",
       "[500 rows x 3 columns]"
      ]
     },
     "execution_count": 4,
     "metadata": {},
     "output_type": "execute_result"
    }
   ],
   "source": [
    "df = pd.read_json('data/recipes.json')\n",
    "df"
   ]
  },
  {
   "cell_type": "markdown",
   "metadata": {},
   "source": [
    "____\n",
    "## <a>DUMMIES</a>"
   ]
  },
  {
   "cell_type": "code",
   "execution_count": 5,
   "metadata": {},
   "outputs": [],
   "source": [
    "ingredients_ = df['ingredients'].explode()\n",
    "unique_ingredients = set(ingredients_)\n"
   ]
  },
  {
   "cell_type": "code",
   "execution_count": 6,
   "metadata": {},
   "outputs": [],
   "source": [
    "for y in unique_ingredients:\n",
    "    y = str(y)\n",
    "    df = df.copy()\n",
    "    df[y] = df['ingredients'].apply(lambda x: 1 if y in x else 0);\n"
   ]
  },
  {
   "cell_type": "code",
   "execution_count": 7,
   "metadata": {},
   "outputs": [],
   "source": [
    "df['ingredients'] = df['ingredients'].apply(len)\n"
   ]
  },
  {
   "cell_type": "code",
   "execution_count": 8,
   "metadata": {},
   "outputs": [
    {
     "data": {
      "text/html": [
       "<div>\n",
       "<style scoped>\n",
       "    .dataframe tbody tr th:only-of-type {\n",
       "        vertical-align: middle;\n",
       "    }\n",
       "\n",
       "    .dataframe tbody tr th {\n",
       "        vertical-align: top;\n",
       "    }\n",
       "\n",
       "    .dataframe thead th {\n",
       "        text-align: right;\n",
       "    }\n",
       "</style>\n",
       "<table border=\"1\" class=\"dataframe\">\n",
       "  <thead>\n",
       "    <tr style=\"text-align: right;\">\n",
       "      <th></th>\n",
       "      <th>id</th>\n",
       "      <th>cuisine</th>\n",
       "      <th>ingredients</th>\n",
       "      <th>red potato</th>\n",
       "      <th>fillets</th>\n",
       "      <th>pesto sauce</th>\n",
       "      <th>asparagus</th>\n",
       "      <th>yellowtail</th>\n",
       "      <th>gluten-free tamari</th>\n",
       "      <th>cremini mushrooms</th>\n",
       "      <th>...</th>\n",
       "      <th>green onions</th>\n",
       "      <th>vegetable stock</th>\n",
       "      <th>zucchini</th>\n",
       "      <th>spinach leaves</th>\n",
       "      <th>white cornmeal</th>\n",
       "      <th>toasted sesame seeds</th>\n",
       "      <th>almonds</th>\n",
       "      <th>red enchilada sauce</th>\n",
       "      <th>whole milk ricotta cheese</th>\n",
       "      <th>whole nutmegs</th>\n",
       "    </tr>\n",
       "  </thead>\n",
       "  <tbody>\n",
       "    <tr>\n",
       "      <th>0</th>\n",
       "      <td>10259</td>\n",
       "      <td>greek</td>\n",
       "      <td>9</td>\n",
       "      <td>0</td>\n",
       "      <td>0</td>\n",
       "      <td>0</td>\n",
       "      <td>0</td>\n",
       "      <td>0</td>\n",
       "      <td>0</td>\n",
       "      <td>0</td>\n",
       "      <td>...</td>\n",
       "      <td>0</td>\n",
       "      <td>0</td>\n",
       "      <td>0</td>\n",
       "      <td>0</td>\n",
       "      <td>0</td>\n",
       "      <td>0</td>\n",
       "      <td>0</td>\n",
       "      <td>0</td>\n",
       "      <td>0</td>\n",
       "      <td>0</td>\n",
       "    </tr>\n",
       "    <tr>\n",
       "      <th>1</th>\n",
       "      <td>25693</td>\n",
       "      <td>southern_us</td>\n",
       "      <td>11</td>\n",
       "      <td>0</td>\n",
       "      <td>0</td>\n",
       "      <td>0</td>\n",
       "      <td>0</td>\n",
       "      <td>0</td>\n",
       "      <td>0</td>\n",
       "      <td>0</td>\n",
       "      <td>...</td>\n",
       "      <td>0</td>\n",
       "      <td>0</td>\n",
       "      <td>0</td>\n",
       "      <td>0</td>\n",
       "      <td>0</td>\n",
       "      <td>0</td>\n",
       "      <td>0</td>\n",
       "      <td>0</td>\n",
       "      <td>0</td>\n",
       "      <td>0</td>\n",
       "    </tr>\n",
       "    <tr>\n",
       "      <th>2</th>\n",
       "      <td>20130</td>\n",
       "      <td>filipino</td>\n",
       "      <td>12</td>\n",
       "      <td>0</td>\n",
       "      <td>0</td>\n",
       "      <td>0</td>\n",
       "      <td>0</td>\n",
       "      <td>0</td>\n",
       "      <td>0</td>\n",
       "      <td>0</td>\n",
       "      <td>...</td>\n",
       "      <td>0</td>\n",
       "      <td>0</td>\n",
       "      <td>0</td>\n",
       "      <td>0</td>\n",
       "      <td>0</td>\n",
       "      <td>0</td>\n",
       "      <td>0</td>\n",
       "      <td>0</td>\n",
       "      <td>0</td>\n",
       "      <td>0</td>\n",
       "    </tr>\n",
       "  </tbody>\n",
       "</table>\n",
       "<p>3 rows × 1321 columns</p>\n",
       "</div>"
      ],
      "text/plain": [
       "      id      cuisine  ingredients  red potato  fillets  pesto sauce  \\\n",
       "0  10259        greek            9           0        0            0   \n",
       "1  25693  southern_us           11           0        0            0   \n",
       "2  20130     filipino           12           0        0            0   \n",
       "\n",
       "   asparagus  yellowtail  gluten-free tamari  cremini mushrooms  ...  \\\n",
       "0          0           0                   0                  0  ...   \n",
       "1          0           0                   0                  0  ...   \n",
       "2          0           0                   0                  0  ...   \n",
       "\n",
       "   green onions  vegetable stock  zucchini  spinach leaves  white cornmeal  \\\n",
       "0             0                0         0               0               0   \n",
       "1             0                0         0               0               0   \n",
       "2             0                0         0               0               0   \n",
       "\n",
       "   toasted sesame seeds  almonds  red enchilada sauce  \\\n",
       "0                     0        0                    0   \n",
       "1                     0        0                    0   \n",
       "2                     0        0                    0   \n",
       "\n",
       "   whole milk ricotta cheese  whole nutmegs  \n",
       "0                          0              0  \n",
       "1                          0              0  \n",
       "2                          0              0  \n",
       "\n",
       "[3 rows x 1321 columns]"
      ]
     },
     "execution_count": 8,
     "metadata": {},
     "output_type": "execute_result"
    }
   ],
   "source": [
    "df[:3]"
   ]
  },
  {
   "cell_type": "markdown",
   "metadata": {},
   "source": [
    "___\n",
    "## JSON $\\rightarrow$ CSV"
   ]
  },
  {
   "cell_type": "code",
   "execution_count": 9,
   "metadata": {},
   "outputs": [],
   "source": [
    "df.to_csv('data/recieps.csv', index=False)\n"
   ]
  },
  {
   "cell_type": "markdown",
   "metadata": {},
   "source": [
    "___\n",
    "## CSV $\\rightarrow$ JSON "
   ]
  },
  {
   "cell_type": "code",
   "execution_count": 10,
   "metadata": {},
   "outputs": [],
   "source": [
    "ids = list(df['id'])\n"
   ]
  },
  {
   "cell_type": "code",
   "execution_count": 11,
   "metadata": {},
   "outputs": [],
   "source": [
    "ingredients = list(df.columns[3:])\n"
   ]
  },
  {
   "cell_type": "code",
   "execution_count": 12,
   "metadata": {},
   "outputs": [],
   "source": [
    "def make_list(row):\n",
    "    result_list = []\n",
    "    count = 0\n",
    "    for x in row[3:]:\n",
    "        if x == 1:\n",
    "            result_list.append(row.index[count+3])\n",
    "        count += 1\n",
    "    return result_list\n"
   ]
  },
  {
   "cell_type": "code",
   "execution_count": 13,
   "metadata": {},
   "outputs": [],
   "source": [
    "def make_list(row):\n",
    "    row = row.iloc[0,:]\n",
    "    result_list = []\n",
    "    count = 0\n",
    "    for x in row[3:]:\n",
    "        if x == 1:\n",
    "            result_list.append(row.index[count+3])\n",
    "        count += 1\n",
    "    return result_list\n"
   ]
  },
  {
   "cell_type": "code",
   "execution_count": 14,
   "metadata": {},
   "outputs": [],
   "source": [
    "new_recipes = []\n",
    "# Организуем цикл с параметром current_id\n",
    "for current_id in ids:\n",
    "    # Получаем значение соответствующей кухни, применив фильтр по текущему значению параметра цикла к DataFrame;\n",
    "    cuisine = df[df['id'] == current_id]['cuisine'].iloc[0]\n",
    "    # Получаем перечень ингредиентов, входящих в состав текущего блюда\n",
    "    current_ingredients = make_list(df[df['id'] == current_id])\n",
    "    # Создаём текущий словарь\n",
    "    current_recipe = {'cuisine': cuisine, 'id': int(current_id), 'ingredients': current_ingredients}\n",
    "    # Добавляем созданный словарь к списку\n",
    "    new_recipes.append(current_recipe)\n"
   ]
  },
  {
   "cell_type": "code",
   "execution_count": 18,
   "metadata": {},
   "outputs": [
    {
     "data": {
      "text/plain": [
       "[{'cuisine': 'greek',\n",
       "  'id': 10259,\n",
       "  'ingredients': ['seasoning',\n",
       "   'grape tomatoes',\n",
       "   'black olives',\n",
       "   'garlic',\n",
       "   'feta cheese crumbles',\n",
       "   'purple onion',\n",
       "   'romaine lettuce',\n",
       "   'garbanzo beans',\n",
       "   'pepper']},\n",
       " {'cuisine': 'southern_us',\n",
       "  'id': 25693,\n",
       "  'ingredients': ['yellow corn meal',\n",
       "   'plain flour',\n",
       "   'green tomatoes',\n",
       "   'thyme',\n",
       "   'vegetable oil',\n",
       "   'ground pepper',\n",
       "   'eggs',\n",
       "   'tomatoes',\n",
       "   'salt',\n",
       "   'milk',\n",
       "   'ground black pepper']}]"
      ]
     },
     "execution_count": 18,
     "metadata": {},
     "output_type": "execute_result"
    }
   ],
   "source": [
    "new_recipes[:2]\n"
   ]
  },
  {
   "cell_type": "code",
   "execution_count": 16,
   "metadata": {},
   "outputs": [],
   "source": [
    "import json\n",
    "\n",
    "json_recipes = json.dumps(new_recipes)\n",
    "\n",
    "with open('data/json_recipes.json', 'w+') as jf:\n",
    "    jf.write(json_recipes)\n"
   ]
  }
 ],
 "metadata": {
  "kernelspec": {
   "display_name": "Python 3",
   "language": "python",
   "name": "python3"
  },
  "language_info": {
   "codemirror_mode": {
    "name": "ipython",
    "version": 3
   },
   "file_extension": ".py",
   "mimetype": "text/x-python",
   "name": "python",
   "nbconvert_exporter": "python",
   "pygments_lexer": "ipython3",
   "version": "3.11.1"
  }
 },
 "nbformat": 4,
 "nbformat_minor": 2
}
