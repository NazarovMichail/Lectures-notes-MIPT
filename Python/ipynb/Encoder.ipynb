{
 "cells": [
  {
   "cell_type": "markdown",
   "metadata": {},
   "source": [
    "___\n",
    "# Детектор декодера `UniversalDetector`\n",
    "\n",
    "`pip install chardet`\n",
    "___"
   ]
  },
  {
   "cell_type": "code",
   "execution_count": 2,
   "metadata": {},
   "outputs": [
    {
     "data": {
      "text/html": [
       "<div>\n",
       "<style scoped>\n",
       "    .dataframe tbody tr th:only-of-type {\n",
       "        vertical-align: middle;\n",
       "    }\n",
       "\n",
       "    .dataframe tbody tr th {\n",
       "        vertical-align: top;\n",
       "    }\n",
       "\n",
       "    .dataframe thead th {\n",
       "        text-align: right;\n",
       "    }\n",
       "</style>\n",
       "<table border=\"1\" class=\"dataframe\">\n",
       "  <thead>\n",
       "    <tr style=\"text-align: right;\">\n",
       "      <th></th>\n",
       "      <th>User_943</th>\n",
       "      <th>Accumanst@gmail.com</th>\n",
       "      <th>������</th>\n",
       "    </tr>\n",
       "  </thead>\n",
       "  <tbody>\n",
       "    <tr>\n",
       "      <th>0</th>\n",
       "      <td>User_908</td>\n",
       "      <td>Advismowr@mail.ru</td>\n",
       "      <td>������</td>\n",
       "    </tr>\n",
       "    <tr>\n",
       "      <th>1</th>\n",
       "      <td>User_962</td>\n",
       "      <td>Anachso@ukr.net</td>\n",
       "      <td>���������</td>\n",
       "    </tr>\n",
       "  </tbody>\n",
       "</table>\n",
       "</div>"
      ],
      "text/plain": [
       "   User_943   Accumanst@gmail.com       ������\n",
       "0  User_908     Advismowr@mail.ru       ������\n",
       "1  User_962       Anachso@ukr.net    ���������"
      ]
     },
     "execution_count": 2,
     "metadata": {},
     "output_type": "execute_result"
    }
   ],
   "source": [
    "import pandas as pd\n",
    "\n",
    "df = pd.read_csv('data/ErrorEnCoding.csv', encoding_errors='replace')\n",
    "df.head(2)\n"
   ]
  },
  {
   "cell_type": "code",
   "execution_count": 3,
   "metadata": {},
   "outputs": [
    {
     "name": "stdout",
     "output_type": "stream",
     "text": [
      "{'encoding': 'KOI8-R', 'confidence': 0.8773902118791048, 'language': 'Russian'}\n"
     ]
    }
   ],
   "source": [
    "from chardet.universaldetector import UniversalDetector\n",
    "\n",
    "detector = UniversalDetector()\n",
    "\n",
    "with open('data/ErrorEnCoding.csv', 'rb') as fb:\n",
    "    for line in fb:\n",
    "        detector.feed(line)\n",
    "        if detector.done:\n",
    "            break\n",
    "print(detector.close())\n"
   ]
  },
  {
   "cell_type": "code",
   "execution_count": 4,
   "metadata": {},
   "outputs": [
    {
     "data": {
      "text/html": [
       "<div>\n",
       "<style scoped>\n",
       "    .dataframe tbody tr th:only-of-type {\n",
       "        vertical-align: middle;\n",
       "    }\n",
       "\n",
       "    .dataframe tbody tr th {\n",
       "        vertical-align: top;\n",
       "    }\n",
       "\n",
       "    .dataframe thead th {\n",
       "        text-align: right;\n",
       "    }\n",
       "</style>\n",
       "<table border=\"1\" class=\"dataframe\">\n",
       "  <thead>\n",
       "    <tr style=\"text-align: right;\">\n",
       "      <th></th>\n",
       "      <th>User_943</th>\n",
       "      <th>Accumanst@gmail.com</th>\n",
       "      <th>Ижевск</th>\n",
       "    </tr>\n",
       "  </thead>\n",
       "  <tbody>\n",
       "    <tr>\n",
       "      <th>0</th>\n",
       "      <td>User_908</td>\n",
       "      <td>Advismowr@mail.ru</td>\n",
       "      <td>Ижевск</td>\n",
       "    </tr>\n",
       "    <tr>\n",
       "      <th>1</th>\n",
       "      <td>User_962</td>\n",
       "      <td>Anachso@ukr.net</td>\n",
       "      <td>Краснодар</td>\n",
       "    </tr>\n",
       "  </tbody>\n",
       "</table>\n",
       "</div>"
      ],
      "text/plain": [
       "   User_943   Accumanst@gmail.com       Ижевск\n",
       "0  User_908     Advismowr@mail.ru       Ижевск\n",
       "1  User_962       Anachso@ukr.net    Краснодар"
      ]
     },
     "execution_count": 4,
     "metadata": {},
     "output_type": "execute_result"
    }
   ],
   "source": [
    "df = pd.read_csv('data/ErrorEnCoding.csv', encoding='KOI8-R')\n",
    "df[:2]\n"
   ]
  }
 ],
 "metadata": {
  "kernelspec": {
   "display_name": "Python 3",
   "language": "python",
   "name": "python3"
  },
  "language_info": {
   "codemirror_mode": {
    "name": "ipython",
    "version": 3
   },
   "file_extension": ".py",
   "mimetype": "text/x-python",
   "name": "python",
   "nbconvert_exporter": "python",
   "pygments_lexer": "ipython3",
   "version": "3.11.1"
  }
 },
 "nbformat": 4,
 "nbformat_minor": 2
}
