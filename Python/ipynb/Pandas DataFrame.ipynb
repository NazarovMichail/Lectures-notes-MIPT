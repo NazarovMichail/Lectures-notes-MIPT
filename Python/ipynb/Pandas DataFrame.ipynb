{
 "cells": [
  {
   "cell_type": "markdown",
   "metadata": {},
   "source": [
    "___\n",
    "# Pandas `DataFrame`  \n",
    "*Двумерная структура данных представленная в виде таблицы*  \n",
    "\n",
    "<img src='img/pdlogo.png'></img>  \n",
    "# [Справочник Pandas](#https://pandas.pydata.org/docs/)\n",
    "___\n",
    "___"
   ]
  },
  {
   "cell_type": "markdown",
   "metadata": {},
   "source": [
    "> # <h2  id='cont' style= 'color: violet'> Оглавление </h2>\n",
    "- [Создание](#create)  \n",
    "  - [Датафреймов](#df)\n",
    "  - [Столбцов](#col)\n",
    "- [Извлечение данных](#ind)\n",
    "- [Информация о данных](#inf)\n",
    "- [Пропущенные значения](#na)\n",
    "- [Операции с данными](#oper)\n",
    "  - [Агрегирующие методы](#agg)\n",
    "  - [Группировка данных](#group)\n",
    "  - [Формат времени datetime](#date)\n",
    "  - [Тип categoty](#cat)\n",
    "- [Фильтрация данных](#filter)\n",
    "- [Сортировка данных](#sort)\n",
    "- [Объединение датафреймов](#conc)\n",
    "- [Визуализация данных](#plot)\n",
    "- [Работа с файлами](#file)  \n",
    "\n",
    "___"
   ]
  },
  {
   "cell_type": "markdown",
   "metadata": {},
   "source": [
    "## <h2  id='create' style= 'color: violet'> Создание </h2>\n",
    "___"
   ]
  },
  {
   "cell_type": "markdown",
   "metadata": {},
   "source": [
    "- ## <h3  id='df' style= 'color: violet'> Создание датафрейма</h3>"
   ]
  },
  {
   "cell_type": "markdown",
   "metadata": {},
   "source": [
    "___\n",
    "Из <span style= 'color:red'>**СЛОВАРЕЙ**</span>  \n",
    "pandas.DataFrame( `{ название столбца : [ элементы ] }` )"
   ]
  },
  {
   "cell_type": "code",
   "execution_count": 28,
   "metadata": {},
   "outputs": [
    {
     "name": "stdout",
     "output_type": "stream",
     "text": [
      "  country  population   square\n",
      "0  Англия       56.29   133396\n",
      "1  Канада       38.05  9984670\n",
      "2     США      256.33  9826630\n"
     ]
    }
   ],
   "source": [
    "import pandas as pd\n",
    "\n",
    "df = pd.DataFrame({\n",
    "    'country': ['Англия', 'Канада', 'США'],\n",
    "    'population': [56.29, 38.05, 256.33],\n",
    "    'square': [133396, 9984670, 9826630]\n",
    "})\n",
    "print(df)\n"
   ]
  },
  {
   "cell_type": "markdown",
   "metadata": {},
   "source": [
    "___\n",
    "Из <span style= 'color:red'>**СПИСКОВ**</span>  \n",
    "pandas.Series( `data=`[ [ *элементы по строкам* ] ], `columns=`[ *названия столбцов* ], `index=`[ *индексы* ])"
   ]
  },
  {
   "cell_type": "code",
   "execution_count": 29,
   "metadata": {},
   "outputs": [
    {
     "name": "stdout",
     "output_type": "stream",
     "text": [
      "   country  population   square\n",
      "UK  Англия       56.29   133396\n",
      "CA  Канада       38.05  9984670\n",
      "US     США      322.28  9826630\n"
     ]
    }
   ],
   "source": [
    "df = pd.DataFrame(\n",
    "    data = [\n",
    "        ['Англия', 56.29, 133396],\n",
    "        ['Канада', 38.05, 9984670],\n",
    "        ['США', 322.28, 9826630],\n",
    "            ],\n",
    "    columns= ['country', 'population', 'square'],\n",
    "    index = ['UK', 'CA', 'US']\n",
    ")\n",
    "print(df)\n"
   ]
  },
  {
   "cell_type": "markdown",
   "metadata": {},
   "source": [
    "___\n",
    "<span style= 'color:blue'>.index</span> - `Создание индексов` для элементов DataFrame"
   ]
  },
  {
   "cell_type": "code",
   "execution_count": 30,
   "metadata": {},
   "outputs": [
    {
     "name": "stdout",
     "output_type": "stream",
     "text": [
      "   country  population   square\n",
      "UK  Англия       56.29   133396\n",
      "CA  Канада       38.05  9984670\n",
      "US     США      322.28  9826630\n"
     ]
    }
   ],
   "source": [
    "\n",
    "df.index = ['UK', 'CA', 'US']\n",
    "print(df )\n"
   ]
  },
  {
   "cell_type": "markdown",
   "metadata": {},
   "source": [
    "___\n",
    "- ## <h3  id='col' style= 'color: violet'> Создание столбцов</h3>"
   ]
  },
  {
   "cell_type": "markdown",
   "metadata": {},
   "source": [
    "___\n",
    "<span style= 'color:blue'>[ ' name ' ] = </span> - `Создание столбцов` с названием **name**"
   ]
  },
  {
   "cell_type": "code",
   "execution_count": 31,
   "metadata": {},
   "outputs": [
    {
     "data": {
      "text/html": [
       "<div>\n",
       "<style scoped>\n",
       "    .dataframe tbody tr th:only-of-type {\n",
       "        vertical-align: middle;\n",
       "    }\n",
       "\n",
       "    .dataframe tbody tr th {\n",
       "        vertical-align: top;\n",
       "    }\n",
       "\n",
       "    .dataframe thead th {\n",
       "        text-align: right;\n",
       "    }\n",
       "</style>\n",
       "<table border=\"1\" class=\"dataframe\">\n",
       "  <thead>\n",
       "    <tr style=\"text-align: right;\">\n",
       "      <th></th>\n",
       "      <th>country</th>\n",
       "      <th>population</th>\n",
       "      <th>square</th>\n",
       "      <th>density</th>\n",
       "    </tr>\n",
       "  </thead>\n",
       "  <tbody>\n",
       "    <tr>\n",
       "      <th>UK</th>\n",
       "      <td>Англия</td>\n",
       "      <td>56.29</td>\n",
       "      <td>133396</td>\n",
       "      <td>0.000422</td>\n",
       "    </tr>\n",
       "    <tr>\n",
       "      <th>CA</th>\n",
       "      <td>Канада</td>\n",
       "      <td>38.05</td>\n",
       "      <td>9984670</td>\n",
       "      <td>0.000004</td>\n",
       "    </tr>\n",
       "    <tr>\n",
       "      <th>US</th>\n",
       "      <td>США</td>\n",
       "      <td>322.28</td>\n",
       "      <td>9826630</td>\n",
       "      <td>0.000033</td>\n",
       "    </tr>\n",
       "  </tbody>\n",
       "</table>\n",
       "</div>"
      ],
      "text/plain": [
       "   country  population   square   density\n",
       "UK  Англия       56.29   133396  0.000422\n",
       "CA  Канада       38.05  9984670  0.000004\n",
       "US     США      322.28  9826630  0.000033"
      ]
     },
     "execution_count": 31,
     "metadata": {},
     "output_type": "execute_result"
    }
   ],
   "source": [
    "df['density'] =  df['population'] / df['square']\n",
    "\n",
    "df\n"
   ]
  },
  {
   "cell_type": "markdown",
   "metadata": {},
   "source": [
    "___\n",
    "<span style= 'color:blue'>**.map**</span>( { _old_ : `_new_` } ) - Создание новых значений `_new_` для старых значений _old_"
   ]
  },
  {
   "cell_type": "code",
   "execution_count": 32,
   "metadata": {},
   "outputs": [
    {
     "data": {
      "text/html": [
       "<div>\n",
       "<style scoped>\n",
       "    .dataframe tbody tr th:only-of-type {\n",
       "        vertical-align: middle;\n",
       "    }\n",
       "\n",
       "    .dataframe tbody tr th {\n",
       "        vertical-align: top;\n",
       "    }\n",
       "\n",
       "    .dataframe thead th {\n",
       "        text-align: right;\n",
       "    }\n",
       "</style>\n",
       "<table border=\"1\" class=\"dataframe\">\n",
       "  <thead>\n",
       "    <tr style=\"text-align: right;\">\n",
       "      <th></th>\n",
       "      <th>country</th>\n",
       "      <th>population</th>\n",
       "      <th>square</th>\n",
       "      <th>density</th>\n",
       "      <th>Size</th>\n",
       "    </tr>\n",
       "  </thead>\n",
       "  <tbody>\n",
       "    <tr>\n",
       "      <th>UK</th>\n",
       "      <td>Англия</td>\n",
       "      <td>56.29</td>\n",
       "      <td>133396</td>\n",
       "      <td>0.000422</td>\n",
       "      <td>Small</td>\n",
       "    </tr>\n",
       "    <tr>\n",
       "      <th>CA</th>\n",
       "      <td>Канада</td>\n",
       "      <td>38.05</td>\n",
       "      <td>9984670</td>\n",
       "      <td>0.000004</td>\n",
       "      <td>Large</td>\n",
       "    </tr>\n",
       "    <tr>\n",
       "      <th>US</th>\n",
       "      <td>США</td>\n",
       "      <td>322.28</td>\n",
       "      <td>9826630</td>\n",
       "      <td>0.000033</td>\n",
       "      <td>Large</td>\n",
       "    </tr>\n",
       "  </tbody>\n",
       "</table>\n",
       "</div>"
      ],
      "text/plain": [
       "   country  population   square   density   Size\n",
       "UK  Англия       56.29   133396  0.000422  Small\n",
       "CA  Канада       38.05  9984670  0.000004  Large\n",
       "US     США      322.28  9826630  0.000033  Large"
      ]
     },
     "metadata": {},
     "output_type": "display_data"
    },
    {
     "data": {
      "text/html": [
       "<div>\n",
       "<style scoped>\n",
       "    .dataframe tbody tr th:only-of-type {\n",
       "        vertical-align: middle;\n",
       "    }\n",
       "\n",
       "    .dataframe tbody tr th {\n",
       "        vertical-align: top;\n",
       "    }\n",
       "\n",
       "    .dataframe thead th {\n",
       "        text-align: right;\n",
       "    }\n",
       "</style>\n",
       "<table border=\"1\" class=\"dataframe\">\n",
       "  <thead>\n",
       "    <tr style=\"text-align: right;\">\n",
       "      <th></th>\n",
       "      <th>country</th>\n",
       "      <th>population</th>\n",
       "      <th>square</th>\n",
       "      <th>density</th>\n",
       "      <th>Size</th>\n",
       "      <th>Size_bin</th>\n",
       "    </tr>\n",
       "  </thead>\n",
       "  <tbody>\n",
       "    <tr>\n",
       "      <th>UK</th>\n",
       "      <td>Англия</td>\n",
       "      <td>56.29</td>\n",
       "      <td>133396</td>\n",
       "      <td>0.000422</td>\n",
       "      <td>Small</td>\n",
       "      <td>0</td>\n",
       "    </tr>\n",
       "    <tr>\n",
       "      <th>CA</th>\n",
       "      <td>Канада</td>\n",
       "      <td>38.05</td>\n",
       "      <td>9984670</td>\n",
       "      <td>0.000004</td>\n",
       "      <td>Large</td>\n",
       "      <td>1</td>\n",
       "    </tr>\n",
       "    <tr>\n",
       "      <th>US</th>\n",
       "      <td>США</td>\n",
       "      <td>322.28</td>\n",
       "      <td>9826630</td>\n",
       "      <td>0.000033</td>\n",
       "      <td>Large</td>\n",
       "      <td>1</td>\n",
       "    </tr>\n",
       "  </tbody>\n",
       "</table>\n",
       "</div>"
      ],
      "text/plain": [
       "   country  population   square   density   Size  Size_bin\n",
       "UK  Англия       56.29   133396  0.000422  Small         0\n",
       "CA  Канада       38.05  9984670  0.000004  Large         1\n",
       "US     США      322.28  9826630  0.000033  Large         1"
      ]
     },
     "metadata": {},
     "output_type": "display_data"
    }
   ],
   "source": [
    "df['Size'] = df['square'].apply(lambda sq: 'Large' if sq > 3000000 else 'Small')\n",
    "display(df.head(4))\n",
    "\n",
    "df['Size_bin'] = df['Size'].map({'Large': 1, 'Small': 0})\n",
    "display(df.head(4))\n"
   ]
  },
  {
   "cell_type": "markdown",
   "metadata": {},
   "source": [
    "___\n",
    "<span style= 'color:blue'>**.drop**( [ ' name '] , axis= 1, inplace= True) </span> - `Удаление столбцов` с названием **name**\n",
    "- axis=1 - Удаление столбцов\n",
    "- inplace=True - Удаление из текущего датафрейма\n",
    "- index= - номер индекса, для удаления всей строки"
   ]
  },
  {
   "cell_type": "code",
   "execution_count": 33,
   "metadata": {},
   "outputs": [
    {
     "name": "stdout",
     "output_type": "stream",
     "text": [
      "   country  population   square   density   Size  Size_bin\n",
      "UK  Англия       56.29   133396  0.000422  Small         0\n",
      "CA  Канада       38.05  9984670  0.000004  Large         1\n",
      "US     США      322.28  9826630  0.000033  Large         1\n",
      "   country  population   square   Size  Size_bin\n",
      "UK  Англия       56.29   133396  Small         0\n",
      "CA  Канада       38.05  9984670  Large         1\n",
      "US     США      322.28  9826630  Large         1\n",
      "   country  population   square   Size  Size_bin\n",
      "CA  Канада       38.05  9984670  Large         1\n",
      "US     США      322.28  9826630  Large         1\n"
     ]
    }
   ],
   "source": [
    "print(df)\n",
    "df.drop(['density'], axis=1, inplace=True)\n",
    "print(df)\n",
    "df.drop(index='UK', inplace=True, axis=0)\n",
    "print(df)\n"
   ]
  },
  {
   "cell_type": "markdown",
   "metadata": {},
   "source": [
    "___\n",
    "## <h2  id='ind' style= 'color: violet'> Извлечение данных </h2>\n",
    "___\n",
    "___"
   ]
  },
  {
   "cell_type": "markdown",
   "metadata": {},
   "source": [
    "Параметр <span style= 'color: orange'>**axis=`0`**</span> - движение по `столбцам`   \n",
    "Параметр <span style= 'color: orange'>**axis=`1`**</span> - движение по `строкам`  \n",
    "<img src='img/axis.png'><img>"
   ]
  },
  {
   "cell_type": "code",
   "execution_count": 34,
   "metadata": {},
   "outputs": [
    {
     "name": "stdout",
     "output_type": "stream",
     "text": [
      "   country  population   square   Size  Size_bin\n",
      "CA  Канада       38.05  9984670  Large         1\n",
      "US     США      322.28  9826630  Large         1 \n",
      "\n",
      "Среднее по столбцам:  \n",
      " population        180.165\n",
      "square        9905650.000\n",
      "Size_bin            1.000\n",
      "dtype: float64 \n",
      "\n",
      "Среднее по строкам:  \n",
      " CA    3.328236e+06\n",
      "US    3.275651e+06\n",
      "dtype: float64 \n",
      "\n"
     ]
    }
   ],
   "source": [
    "\n",
    "print(df,'\\n')\n",
    "print('Среднее по столбцам: ','\\n',df.mean(axis=0, numeric_only=True),'\\n')\n",
    "print('Среднее по строкам: ','\\n',df.mean(axis=1, numeric_only=True),'\\n')\n"
   ]
  },
  {
   "cell_type": "markdown",
   "metadata": {},
   "source": [
    "___\n",
    "<span style= 'color:blue'>.**имя столбца**</span> - `Возвращает столбец` по имени для элементов DataFrame  \n",
    "<span style= 'color:blue'>**[ 'имя столбца' ]**</span> - `Возвращает столбец` по имени для элементов DataFrame"
   ]
  },
  {
   "cell_type": "code",
   "execution_count": 35,
   "metadata": {},
   "outputs": [
    {
     "name": "stdout",
     "output_type": "stream",
     "text": [
      "CA    9984670\n",
      "US    9826630\n",
      "Name: square, dtype: int64 \n",
      "\n",
      "CA    Канада\n",
      "US       США\n",
      "Name: country, dtype: object\n"
     ]
    }
   ],
   "source": [
    "print(df.square, '\\n')\n",
    "print(df['country'])\n"
   ]
  },
  {
   "cell_type": "markdown",
   "metadata": {},
   "source": [
    "___\n",
    "<span style= 'color:blue'>**.loc**</span>[ [name_i,name_col] ] - Возвращает данные *`строки`* по назначенным индексам элементов name_i, name_col  \n",
    "<span style= 'color:blue'>**.iloc**</span>[ [i1,i2] ] - Возвращает данные *`строки`* по порядковым индексам элементов i1, i2"
   ]
  },
  {
   "cell_type": "code",
   "execution_count": 36,
   "metadata": {},
   "outputs": [
    {
     "name": "stdout",
     "output_type": "stream",
     "text": [
      "   country  population   square   Size  Size_bin\n",
      "CA  Канада       38.05  9984670  Large         1\n",
      "US     США      322.28  9826630  Large         1\n",
      "   country  population   square   Size  Size_bin\n",
      "ca  Канада       38.05  9984670  Large         1\n",
      "us     США      322.28  9826630  Large         1\n",
      "______________________________\n",
      "Строку:  \n",
      "    country  population   square   Size  Size_bin\n",
      "ca  Канада       38.05  9984670  Large         1\n",
      "______________________________\n",
      "Несколько строк:  \n",
      " ca    9984670\n",
      "us    9826630\n",
      "Name: square, dtype: int64\n",
      "______________________________\n",
      "Отдельное значение:  \n",
      " 9984670\n"
     ]
    }
   ],
   "source": [
    "print(df)\n",
    "df.index = ['ca', 'us']\n",
    "print(df)\n",
    "print('_'*30)\n",
    "print('Строку: ','\\n',df.loc[['ca']])\n",
    "print('_'*30)\n",
    "print('Несколько строк: ','\\n',df.loc[['ca','us'], 'square'])\n",
    "print('_'*30)\n",
    "print('Отдельное значение: ','\\n',df.loc['ca', 'square'])\n"
   ]
  },
  {
   "cell_type": "markdown",
   "metadata": {},
   "source": [
    "___\n",
    "<span style= 'color:blue'>**.head**</span> ( n ) - Возвращает n-количество *`первых строк`*   \n",
    "<span style= 'color:blue'>**.tail**</span> ( n ) - Возвращает n-количество *`последних строк`*  \n",
    "<span style= 'color:blue'>**.sample**</span> ( n ) - Возвращает *`случайное`* n-количество  строк\n"
   ]
  },
  {
   "cell_type": "code",
   "execution_count": 37,
   "metadata": {},
   "outputs": [
    {
     "data": {
      "text/html": [
       "<div>\n",
       "<style scoped>\n",
       "    .dataframe tbody tr th:only-of-type {\n",
       "        vertical-align: middle;\n",
       "    }\n",
       "\n",
       "    .dataframe tbody tr th {\n",
       "        vertical-align: top;\n",
       "    }\n",
       "\n",
       "    .dataframe thead th {\n",
       "        text-align: right;\n",
       "    }\n",
       "</style>\n",
       "<table border=\"1\" class=\"dataframe\">\n",
       "  <thead>\n",
       "    <tr style=\"text-align: right;\">\n",
       "      <th></th>\n",
       "      <th>country</th>\n",
       "      <th>population</th>\n",
       "      <th>square</th>\n",
       "      <th>Size</th>\n",
       "      <th>Size_bin</th>\n",
       "    </tr>\n",
       "  </thead>\n",
       "  <tbody>\n",
       "    <tr>\n",
       "      <th>ca</th>\n",
       "      <td>Канада</td>\n",
       "      <td>38.05</td>\n",
       "      <td>9984670</td>\n",
       "      <td>Large</td>\n",
       "      <td>1</td>\n",
       "    </tr>\n",
       "    <tr>\n",
       "      <th>us</th>\n",
       "      <td>США</td>\n",
       "      <td>322.28</td>\n",
       "      <td>9826630</td>\n",
       "      <td>Large</td>\n",
       "      <td>1</td>\n",
       "    </tr>\n",
       "  </tbody>\n",
       "</table>\n",
       "</div>"
      ],
      "text/plain": [
       "   country  population   square   Size  Size_bin\n",
       "ca  Канада       38.05  9984670  Large         1\n",
       "us     США      322.28  9826630  Large         1"
      ]
     },
     "metadata": {},
     "output_type": "display_data"
    },
    {
     "data": {
      "text/html": [
       "<div>\n",
       "<style scoped>\n",
       "    .dataframe tbody tr th:only-of-type {\n",
       "        vertical-align: middle;\n",
       "    }\n",
       "\n",
       "    .dataframe tbody tr th {\n",
       "        vertical-align: top;\n",
       "    }\n",
       "\n",
       "    .dataframe thead th {\n",
       "        text-align: right;\n",
       "    }\n",
       "</style>\n",
       "<table border=\"1\" class=\"dataframe\">\n",
       "  <thead>\n",
       "    <tr style=\"text-align: right;\">\n",
       "      <th></th>\n",
       "      <th>country</th>\n",
       "      <th>population</th>\n",
       "      <th>square</th>\n",
       "      <th>Size</th>\n",
       "      <th>Size_bin</th>\n",
       "    </tr>\n",
       "  </thead>\n",
       "  <tbody>\n",
       "    <tr>\n",
       "      <th>ca</th>\n",
       "      <td>Канада</td>\n",
       "      <td>38.05</td>\n",
       "      <td>9984670</td>\n",
       "      <td>Large</td>\n",
       "      <td>1</td>\n",
       "    </tr>\n",
       "    <tr>\n",
       "      <th>us</th>\n",
       "      <td>США</td>\n",
       "      <td>322.28</td>\n",
       "      <td>9826630</td>\n",
       "      <td>Large</td>\n",
       "      <td>1</td>\n",
       "    </tr>\n",
       "  </tbody>\n",
       "</table>\n",
       "</div>"
      ],
      "text/plain": [
       "   country  population   square   Size  Size_bin\n",
       "ca  Канада       38.05  9984670  Large         1\n",
       "us     США      322.28  9826630  Large         1"
      ]
     },
     "metadata": {},
     "output_type": "display_data"
    },
    {
     "data": {
      "text/html": [
       "<div>\n",
       "<style scoped>\n",
       "    .dataframe tbody tr th:only-of-type {\n",
       "        vertical-align: middle;\n",
       "    }\n",
       "\n",
       "    .dataframe tbody tr th {\n",
       "        vertical-align: top;\n",
       "    }\n",
       "\n",
       "    .dataframe thead th {\n",
       "        text-align: right;\n",
       "    }\n",
       "</style>\n",
       "<table border=\"1\" class=\"dataframe\">\n",
       "  <thead>\n",
       "    <tr style=\"text-align: right;\">\n",
       "      <th></th>\n",
       "      <th>country</th>\n",
       "      <th>population</th>\n",
       "      <th>square</th>\n",
       "      <th>Size</th>\n",
       "      <th>Size_bin</th>\n",
       "    </tr>\n",
       "  </thead>\n",
       "  <tbody>\n",
       "    <tr>\n",
       "      <th>us</th>\n",
       "      <td>США</td>\n",
       "      <td>322.28</td>\n",
       "      <td>9826630</td>\n",
       "      <td>Large</td>\n",
       "      <td>1</td>\n",
       "    </tr>\n",
       "    <tr>\n",
       "      <th>ca</th>\n",
       "      <td>Канада</td>\n",
       "      <td>38.05</td>\n",
       "      <td>9984670</td>\n",
       "      <td>Large</td>\n",
       "      <td>1</td>\n",
       "    </tr>\n",
       "  </tbody>\n",
       "</table>\n",
       "</div>"
      ],
      "text/plain": [
       "   country  population   square   Size  Size_bin\n",
       "us     США      322.28  9826630  Large         1\n",
       "ca  Канада       38.05  9984670  Large         1"
      ]
     },
     "metadata": {},
     "output_type": "display_data"
    }
   ],
   "source": [
    "h = df.head(2)\n",
    "t = df.tail(2)\n",
    "s = df.sample(2)\n",
    "\n",
    "display(h)\n",
    "display(t)\n",
    "display(s)\n"
   ]
  },
  {
   "cell_type": "markdown",
   "metadata": {},
   "source": [
    "___\n",
    "<span style= 'color:blue'>**.set_axis**</span> ( [ `names` ], axis='index' ) - Задает названия `names` строкам (индексам)\n",
    "- axis= 'columns' - Задает названия `names` столбцам"
   ]
  },
  {
   "cell_type": "code",
   "execution_count": 38,
   "metadata": {},
   "outputs": [
    {
     "name": "stdout",
     "output_type": "stream",
     "text": [
      "   A  B\n",
      "0  1  4\n",
      "1  2  5\n",
      "2  3  6\n",
      "________________________________________\n",
      "   A  B\n",
      "x  1  4\n",
      "y  2  5\n",
      "z  3  6\n",
      "________________________________________\n",
      "   I  II\n",
      "x  1   4\n",
      "y  2   5\n",
      "z  3   6\n",
      "________________________________________\n"
     ]
    }
   ],
   "source": [
    "df1 = pd.DataFrame({'A':[1,2,3], 'B': [4,5,6]})\n",
    "print(df1)\n",
    "print('_'*40)\n",
    "\n",
    "df1 = df1.set_axis(['x', 'y', 'z'], axis='index')\n",
    "print(df1)\n",
    "print('_'*40)\n",
    "\n",
    "df1 = df1.set_axis(['I', 'II'], axis='columns')\n",
    "print(df1)\n",
    "print('_'*40)\n"
   ]
  },
  {
   "cell_type": "markdown",
   "metadata": {},
   "source": [
    "___\n",
    "<span style= 'color:blue'>**.set_index**</span> ( [ `name` ] ) - Задает столбец-индекс "
   ]
  },
  {
   "cell_type": "code",
   "execution_count": 39,
   "metadata": {},
   "outputs": [
    {
     "data": {
      "text/html": [
       "<div>\n",
       "<style scoped>\n",
       "    .dataframe tbody tr th:only-of-type {\n",
       "        vertical-align: middle;\n",
       "    }\n",
       "\n",
       "    .dataframe tbody tr th {\n",
       "        vertical-align: top;\n",
       "    }\n",
       "\n",
       "    .dataframe thead th {\n",
       "        text-align: right;\n",
       "    }\n",
       "</style>\n",
       "<table border=\"1\" class=\"dataframe\">\n",
       "  <thead>\n",
       "    <tr style=\"text-align: right;\">\n",
       "      <th></th>\n",
       "      <th>population</th>\n",
       "      <th>square</th>\n",
       "      <th>Size</th>\n",
       "      <th>Size_bin</th>\n",
       "    </tr>\n",
       "    <tr>\n",
       "      <th>country</th>\n",
       "      <th></th>\n",
       "      <th></th>\n",
       "      <th></th>\n",
       "      <th></th>\n",
       "    </tr>\n",
       "  </thead>\n",
       "  <tbody>\n",
       "    <tr>\n",
       "      <th>Канада</th>\n",
       "      <td>38.05</td>\n",
       "      <td>9984670</td>\n",
       "      <td>Large</td>\n",
       "      <td>1</td>\n",
       "    </tr>\n",
       "    <tr>\n",
       "      <th>США</th>\n",
       "      <td>322.28</td>\n",
       "      <td>9826630</td>\n",
       "      <td>Large</td>\n",
       "      <td>1</td>\n",
       "    </tr>\n",
       "  </tbody>\n",
       "</table>\n",
       "</div>"
      ],
      "text/plain": [
       "         population   square   Size  Size_bin\n",
       "country                                      \n",
       "Канада        38.05  9984670  Large         1\n",
       "США          322.28  9826630  Large         1"
      ]
     },
     "execution_count": 39,
     "metadata": {},
     "output_type": "execute_result"
    }
   ],
   "source": [
    "df.set_index('country')\n"
   ]
  },
  {
   "cell_type": "markdown",
   "metadata": {},
   "source": [
    "___\n",
    "<span style= 'color:blue'>**.reset_index**</span> (  ) - Переназначает индексы\n",
    "- drop=True : удаляет старые индексы\n",
    "- inplace=True : меняет наместе"
   ]
  },
  {
   "cell_type": "code",
   "execution_count": 40,
   "metadata": {},
   "outputs": [
    {
     "name": "stdout",
     "output_type": "stream",
     "text": [
      "   country  population   square   Size  Size_bin\n",
      "ca  Канада       38.05  9984670  Large         1\n",
      "us     США      322.28  9826630  Large         1\n"
     ]
    }
   ],
   "source": [
    "print(df)\n",
    "df.reset_index(drop=True, inplace=True)\n"
   ]
  },
  {
   "cell_type": "markdown",
   "metadata": {},
   "source": [
    "___\n",
    "<span style= 'color:blue'>**.rename**</span> (  ) - Меняет название столбцов\n",
    "- `columns=` - Выбранным столбцам назначается новое имя"
   ]
  },
  {
   "cell_type": "code",
   "execution_count": 41,
   "metadata": {},
   "outputs": [
    {
     "data": {
      "text/html": [
       "<div>\n",
       "<style scoped>\n",
       "    .dataframe tbody tr th:only-of-type {\n",
       "        vertical-align: middle;\n",
       "    }\n",
       "\n",
       "    .dataframe tbody tr th {\n",
       "        vertical-align: top;\n",
       "    }\n",
       "\n",
       "    .dataframe thead th {\n",
       "        text-align: right;\n",
       "    }\n",
       "</style>\n",
       "<table border=\"1\" class=\"dataframe\">\n",
       "  <thead>\n",
       "    <tr style=\"text-align: right;\">\n",
       "      <th></th>\n",
       "      <th>COUNTRY</th>\n",
       "      <th>population</th>\n",
       "      <th>square</th>\n",
       "      <th>Size</th>\n",
       "      <th>Size_bin</th>\n",
       "    </tr>\n",
       "  </thead>\n",
       "  <tbody>\n",
       "    <tr>\n",
       "      <th>0</th>\n",
       "      <td>Канада</td>\n",
       "      <td>38.05</td>\n",
       "      <td>9984670</td>\n",
       "      <td>Large</td>\n",
       "      <td>1</td>\n",
       "    </tr>\n",
       "    <tr>\n",
       "      <th>1</th>\n",
       "      <td>США</td>\n",
       "      <td>322.28</td>\n",
       "      <td>9826630</td>\n",
       "      <td>Large</td>\n",
       "      <td>1</td>\n",
       "    </tr>\n",
       "  </tbody>\n",
       "</table>\n",
       "</div>"
      ],
      "text/plain": [
       "  COUNTRY  population   square   Size  Size_bin\n",
       "0  Канада       38.05  9984670  Large         1\n",
       "1     США      322.28  9826630  Large         1"
      ]
     },
     "metadata": {},
     "output_type": "display_data"
    },
    {
     "data": {
      "text/html": [
       "<div>\n",
       "<style scoped>\n",
       "    .dataframe tbody tr th:only-of-type {\n",
       "        vertical-align: middle;\n",
       "    }\n",
       "\n",
       "    .dataframe tbody tr th {\n",
       "        vertical-align: top;\n",
       "    }\n",
       "\n",
       "    .dataframe thead th {\n",
       "        text-align: right;\n",
       "    }\n",
       "</style>\n",
       "<table border=\"1\" class=\"dataframe\">\n",
       "  <thead>\n",
       "    <tr style=\"text-align: right;\">\n",
       "      <th></th>\n",
       "      <th>-=country=-</th>\n",
       "      <th>-=population=-</th>\n",
       "      <th>-=square=-</th>\n",
       "      <th>-=size=-</th>\n",
       "      <th>-=size_bin=-</th>\n",
       "    </tr>\n",
       "  </thead>\n",
       "  <tbody>\n",
       "    <tr>\n",
       "      <th>0</th>\n",
       "      <td>Канада</td>\n",
       "      <td>38.05</td>\n",
       "      <td>9984670</td>\n",
       "      <td>Large</td>\n",
       "      <td>1</td>\n",
       "    </tr>\n",
       "    <tr>\n",
       "      <th>1</th>\n",
       "      <td>США</td>\n",
       "      <td>322.28</td>\n",
       "      <td>9826630</td>\n",
       "      <td>Large</td>\n",
       "      <td>1</td>\n",
       "    </tr>\n",
       "  </tbody>\n",
       "</table>\n",
       "</div>"
      ],
      "text/plain": [
       "  -=country=-  -=population=-  -=square=- -=size=-  -=size_bin=-\n",
       "0      Канада           38.05     9984670    Large             1\n",
       "1         США          322.28     9826630    Large             1"
      ]
     },
     "metadata": {},
     "output_type": "display_data"
    }
   ],
   "source": [
    "display(df.rename(columns={'country': 'COUNTRY'}).head(2))\n",
    "display(df.rename(columns= lambda col: '-=' + col.lower() + '=-').head(2))\n"
   ]
  },
  {
   "cell_type": "markdown",
   "metadata": {},
   "source": [
    "## <h2  id='inf' style= 'color: violet'> Информация о данных </h2>\n",
    "___"
   ]
  },
  {
   "cell_type": "markdown",
   "metadata": {},
   "source": [
    "___\n",
    "<span style= 'color:blue'>**.shape**</span> - Возвращает кортеж  с количеством *`строк и столбцов`*   "
   ]
  },
  {
   "cell_type": "code",
   "execution_count": 42,
   "metadata": {},
   "outputs": [
    {
     "data": {
      "text/plain": [
       "(2, 5)"
      ]
     },
     "execution_count": 42,
     "metadata": {},
     "output_type": "execute_result"
    }
   ],
   "source": [
    "df.shape\n"
   ]
  },
  {
   "cell_type": "markdown",
   "metadata": {},
   "source": [
    "___\n",
    "<span style= 'color:blue'>**.info**</span> - Возвращает детальную информацию о  *`столбцах`*   "
   ]
  },
  {
   "cell_type": "code",
   "execution_count": 43,
   "metadata": {},
   "outputs": [
    {
     "name": "stdout",
     "output_type": "stream",
     "text": [
      "<class 'pandas.core.frame.DataFrame'>\n",
      "RangeIndex: 2 entries, 0 to 1\n",
      "Data columns (total 5 columns):\n",
      " #   Column      Non-Null Count  Dtype  \n",
      "---  ------      --------------  -----  \n",
      " 0   country     2 non-null      object \n",
      " 1   population  2 non-null      float64\n",
      " 2   square      2 non-null      int64  \n",
      " 3   Size        2 non-null      object \n",
      " 4   Size_bin    2 non-null      int64  \n",
      "dtypes: float64(1), int64(2), object(2)\n",
      "memory usage: 208.0+ bytes\n"
     ]
    }
   ],
   "source": [
    "df.info()\n"
   ]
  },
  {
   "cell_type": "markdown",
   "metadata": {},
   "source": [
    "___\n",
    "<span style= 'color:blue'>**.describe**</span> () - Возвращает *`статистические показатели`* для столбцов  \n",
    "- `include=` название типа данных значений, для котороых нужна статистика"
   ]
  },
  {
   "cell_type": "code",
   "execution_count": 44,
   "metadata": {},
   "outputs": [
    {
     "name": "stdout",
     "output_type": "stream",
     "text": [
      "       population        square  Size_bin\n",
      "count     2.00000  2.000000e+00       2.0\n",
      "mean    180.16500  9.905650e+06       1.0\n",
      "std     200.98096  1.117512e+05       0.0\n",
      "min      38.05000  9.826630e+06       1.0\n",
      "25%     109.10750  9.866140e+06       1.0\n",
      "50%     180.16500  9.905650e+06       1.0\n",
      "75%     251.22250  9.945160e+06       1.0\n",
      "max     322.28000  9.984670e+06       1.0\n",
      "             square  Size_bin\n",
      "count  2.000000e+00       2.0\n",
      "mean   9.905650e+06       1.0\n",
      "std    1.117512e+05       0.0\n",
      "min    9.826630e+06       1.0\n",
      "25%    9.866140e+06       1.0\n",
      "50%    9.905650e+06       1.0\n",
      "75%    9.945160e+06       1.0\n",
      "max    9.984670e+06       1.0\n"
     ]
    }
   ],
   "source": [
    "print(df.describe())\n",
    "print(df.describe(include=['int64']))\n"
   ]
  },
  {
   "cell_type": "markdown",
   "metadata": {},
   "source": [
    "___\n",
    "df ['`имя столбца`']<span style= 'color:blue'>**.value_counts**</span> ( ) - Возвращает `частоту` для уникальных значений столбца \n",
    "- `normalize=`True - частота возвращается в долях"
   ]
  },
  {
   "cell_type": "code",
   "execution_count": 45,
   "metadata": {},
   "outputs": [
    {
     "name": "stdout",
     "output_type": "stream",
     "text": [
      "population\n",
      "38.05     1\n",
      "322.28    1\n",
      "Name: count, dtype: int64\n",
      "Частоты в долях:\n",
      "square\n",
      "9984670    0.5\n",
      "9826630    0.5\n",
      "Name: proportion, dtype: float64\n"
     ]
    }
   ],
   "source": [
    "print(df['population'].value_counts())\n",
    "print('Частоты в долях:')\n",
    "print(df['square'].value_counts(normalize=True))\n"
   ]
  },
  {
   "cell_type": "markdown",
   "metadata": {},
   "source": [
    "___\n",
    "## <h2  id='na' style= 'color: violet'> Пропущенные значения </h2>\n",
    "___\n",
    "___\n",
    "<span style= 'color:blue'>**.isnull( ).sum( )**</span> - Возвращает количество `пропущенных значений` в столбцах"
   ]
  },
  {
   "cell_type": "code",
   "execution_count": 46,
   "metadata": {},
   "outputs": [
    {
     "data": {
      "text/plain": [
       "City                  26\n",
       "Colors Reported    15359\n",
       "Shape Reported      2644\n",
       "State                  0\n",
       "Time                   0\n",
       "dtype: int64"
      ]
     },
     "execution_count": 46,
     "metadata": {},
     "output_type": "execute_result"
    }
   ],
   "source": [
    "df1 = pd.read_csv('data/data_ufo.csv')\n",
    "df1.isnull().sum()\n"
   ]
  },
  {
   "cell_type": "markdown",
   "metadata": {},
   "source": [
    "___\n",
    "<span style= 'color:blue'>**.dropna**</span> ( inplace=True) -Удаляет строки с пропущенными значениями\n",
    "- `how=`'all' / 'any' - удаляет строку в которой все пропущены / хотябы одно значение пропущено\n",
    "- `subset=`name - список колонок в которых при обноружении NaN будет удаляться строка значений\n",
    "- `thresh=` - минимальное количество заполненных значений, если меньше, то данные удаляются\n"
   ]
  },
  {
   "cell_type": "code",
   "execution_count": 47,
   "metadata": {},
   "outputs": [
    {
     "data": {
      "text/plain": [
       "City               0\n",
       "Colors Reported    0\n",
       "Shape Reported     0\n",
       "State              0\n",
       "Time               0\n",
       "dtype: int64"
      ]
     },
     "execution_count": 47,
     "metadata": {},
     "output_type": "execute_result"
    }
   ],
   "source": [
    "df1.dropna(how='any', inplace=True)\n",
    "df1.isnull().sum()\n"
   ]
  },
  {
   "cell_type": "markdown",
   "metadata": {},
   "source": [
    "___\n",
    "<span style= 'color:blue'>**.fillna**</span> ( ) -Заполняет строки с пропущенными значениями\n",
    "- `inplace=`True - применяет преобразование наместе\n",
    "- `method=`ffill - Заполняет предыдущим значением "
   ]
  },
  {
   "cell_type": "code",
   "execution_count": 48,
   "metadata": {},
   "outputs": [
    {
     "data": {
      "text/html": [
       "<div>\n",
       "<style scoped>\n",
       "    .dataframe tbody tr th:only-of-type {\n",
       "        vertical-align: middle;\n",
       "    }\n",
       "\n",
       "    .dataframe tbody tr th {\n",
       "        vertical-align: top;\n",
       "    }\n",
       "\n",
       "    .dataframe thead th {\n",
       "        text-align: right;\n",
       "    }\n",
       "</style>\n",
       "<table border=\"1\" class=\"dataframe\">\n",
       "  <thead>\n",
       "    <tr style=\"text-align: right;\">\n",
       "      <th></th>\n",
       "      <th>City</th>\n",
       "      <th>Colors Reported</th>\n",
       "      <th>Shape Reported</th>\n",
       "      <th>State</th>\n",
       "      <th>Time</th>\n",
       "    </tr>\n",
       "  </thead>\n",
       "  <tbody>\n",
       "    <tr>\n",
       "      <th>0</th>\n",
       "      <td>Ithaca</td>\n",
       "      <td>RED</td>\n",
       "      <td>TRIANGLE</td>\n",
       "      <td>NY</td>\n",
       "      <td>6/1/1930 22:00</td>\n",
       "    </tr>\n",
       "    <tr>\n",
       "      <th>1</th>\n",
       "      <td>Willingboro</td>\n",
       "      <td>RED</td>\n",
       "      <td>OTHER</td>\n",
       "      <td>NJ</td>\n",
       "      <td>6/30/1930 20:00</td>\n",
       "    </tr>\n",
       "    <tr>\n",
       "      <th>2</th>\n",
       "      <td>Holyoke</td>\n",
       "      <td>RED</td>\n",
       "      <td>OVAL</td>\n",
       "      <td>CO</td>\n",
       "      <td>2/15/1931 14:00</td>\n",
       "    </tr>\n",
       "    <tr>\n",
       "      <th>3</th>\n",
       "      <td>Abilene</td>\n",
       "      <td>RED</td>\n",
       "      <td>DISK</td>\n",
       "      <td>KS</td>\n",
       "      <td>6/1/1931 13:00</td>\n",
       "    </tr>\n",
       "    <tr>\n",
       "      <th>4</th>\n",
       "      <td>New York Worlds Fair</td>\n",
       "      <td>RED</td>\n",
       "      <td>LIGHT</td>\n",
       "      <td>NY</td>\n",
       "      <td>4/18/1933 19:00</td>\n",
       "    </tr>\n",
       "    <tr>\n",
       "      <th>...</th>\n",
       "      <td>...</td>\n",
       "      <td>...</td>\n",
       "      <td>...</td>\n",
       "      <td>...</td>\n",
       "      <td>...</td>\n",
       "    </tr>\n",
       "    <tr>\n",
       "      <th>18236</th>\n",
       "      <td>Grant Park</td>\n",
       "      <td>RED</td>\n",
       "      <td>TRIANGLE</td>\n",
       "      <td>IL</td>\n",
       "      <td>12/31/2000 23:00</td>\n",
       "    </tr>\n",
       "    <tr>\n",
       "      <th>18237</th>\n",
       "      <td>Spirit Lake</td>\n",
       "      <td>RED</td>\n",
       "      <td>DISK</td>\n",
       "      <td>IA</td>\n",
       "      <td>12/31/2000 23:00</td>\n",
       "    </tr>\n",
       "    <tr>\n",
       "      <th>18238</th>\n",
       "      <td>Eagle River</td>\n",
       "      <td>RED</td>\n",
       "      <td>LIGHT</td>\n",
       "      <td>WI</td>\n",
       "      <td>12/31/2000 23:45</td>\n",
       "    </tr>\n",
       "    <tr>\n",
       "      <th>18239</th>\n",
       "      <td>Eagle River</td>\n",
       "      <td>RED</td>\n",
       "      <td>LIGHT</td>\n",
       "      <td>WI</td>\n",
       "      <td>12/31/2000 23:45</td>\n",
       "    </tr>\n",
       "    <tr>\n",
       "      <th>18240</th>\n",
       "      <td>Ybor</td>\n",
       "      <td>NaN</td>\n",
       "      <td>OVAL</td>\n",
       "      <td>FL</td>\n",
       "      <td>12/31/2000 23:59</td>\n",
       "    </tr>\n",
       "  </tbody>\n",
       "</table>\n",
       "<p>18241 rows × 5 columns</p>\n",
       "</div>"
      ],
      "text/plain": [
       "                       City Colors Reported Shape Reported State  \\\n",
       "0                    Ithaca             RED       TRIANGLE    NY   \n",
       "1               Willingboro             RED          OTHER    NJ   \n",
       "2                   Holyoke             RED           OVAL    CO   \n",
       "3                   Abilene             RED           DISK    KS   \n",
       "4      New York Worlds Fair             RED          LIGHT    NY   \n",
       "...                     ...             ...            ...   ...   \n",
       "18236            Grant Park             RED       TRIANGLE    IL   \n",
       "18237           Spirit Lake             RED           DISK    IA   \n",
       "18238           Eagle River             RED          LIGHT    WI   \n",
       "18239           Eagle River             RED          LIGHT    WI   \n",
       "18240                  Ybor             NaN           OVAL    FL   \n",
       "\n",
       "                   Time  \n",
       "0        6/1/1930 22:00  \n",
       "1       6/30/1930 20:00  \n",
       "2       2/15/1931 14:00  \n",
       "3        6/1/1931 13:00  \n",
       "4       4/18/1933 19:00  \n",
       "...                 ...  \n",
       "18236  12/31/2000 23:00  \n",
       "18237  12/31/2000 23:00  \n",
       "18238  12/31/2000 23:45  \n",
       "18239  12/31/2000 23:45  \n",
       "18240  12/31/2000 23:59  \n",
       "\n",
       "[18241 rows x 5 columns]"
      ]
     },
     "execution_count": 48,
     "metadata": {},
     "output_type": "execute_result"
    }
   ],
   "source": [
    "df1 = pd.read_csv('data/data_ufo.csv')\n",
    "df1.fillna(method='backfill')\n"
   ]
  },
  {
   "cell_type": "markdown",
   "metadata": {},
   "source": [
    "___\n",
    "<span style= 'color:blue'>**.duplicated( )**</span> - Маска с дублирующими записями\n",
    "- `subset=`список столбцов для поиска дубликатов  \n",
    "\n",
    "<span style= 'color:blue'>**.duplicated( ).sum( )**</span> - Возвращает количество `дублирующих строк` в столбцах"
   ]
  },
  {
   "cell_type": "code",
   "execution_count": 49,
   "metadata": {},
   "outputs": [
    {
     "data": {
      "text/plain": [
       "109"
      ]
     },
     "execution_count": 49,
     "metadata": {},
     "output_type": "execute_result"
    }
   ],
   "source": [
    "df1.duplicated().sum()\n"
   ]
  },
  {
   "cell_type": "markdown",
   "metadata": {},
   "source": [
    "## <h2  id='oper' style= 'color: violet'> Операции с данными </h2>\n",
    "___\n",
    "___"
   ]
  },
  {
   "cell_type": "markdown",
   "metadata": {},
   "source": [
    "## <h3  id='agg' style= 'color: red'> Агрегирующие методы </h3> \n",
    "- <a style='color:blue'> **.count** </a>( ) - возвращает `количество непустых значений`\n",
    "- <a style='color:blue'> **.mean** </a>( ) - возвращает `cреднее значение`\n",
    "- <a style='color:blue'> **.median** </a>( ) - возвращает `медианное значение`\n",
    "- <a style='color:blue'> **.min** </a>( ) - возвращает `минимальное значение`\n",
    "- <a style='color:blue'> **.max** </a>( ) - возвращает `максимальноее значение`\n",
    "- <a style='color:blue'> **.var** </a>( ) - возвращает `дисперсию`\n",
    "- <a style='color:blue'> **.std** </a>( ) - возвращает `СКО`\n",
    "- <a style='color:blue'> **.sum** </a>( ) - возвращает `сумму`\n",
    "- <a style='color:blue'> **.quantile** </a>( **n** ) - возвращает `квантиль` уровня **n** (от 0 до 1)\n",
    "- <a style='color:blue'> **.nunique** </a>( ) - возвращает `количество уникальных` значений\n",
    "- <a style='color:blue'> **.mode** </a>( ) - возвращает `модальные` значений\n",
    "- <a style='color:blue'> **.skew** </a>( ) - возвращает `коээфициент ассиметрии` значений ('+' скошены вправо)\n",
    "- <a style='color:blue'> **.kurtosis** </a>( ) - возвращает `коээфициент эксцесса` значений ('+' скошены вверх)\n",
    "\n"
   ]
  },
  {
   "cell_type": "code",
   "execution_count": 50,
   "metadata": {},
   "outputs": [
    {
     "name": "stdout",
     "output_type": "stream",
     "text": [
      "9905650.0\n",
      "251.22249999999997\n"
     ]
    },
    {
     "data": {
      "text/plain": [
       "nan"
      ]
     },
     "metadata": {},
     "output_type": "display_data"
    },
    {
     "data": {
      "text/plain": [
       "nan"
      ]
     },
     "metadata": {},
     "output_type": "display_data"
    },
    {
     "name": "stdout",
     "output_type": "stream",
     "text": [
      "Выбросы слева < -33.00749999999999\n",
      "Выбросы справа > 393.3375\n"
     ]
    }
   ],
   "source": [
    "square_mean = df['square'].mean()\n",
    "quantile_3 = df['population'].quantile(0.75)\n",
    "print(square_mean)\n",
    "print(quantile_3)\n",
    "display(df['population'].skew())\n",
    "display(df['population'].kurtosis())\n",
    "\n",
    "q_1 = df['population'].quantile(0.25)\n",
    "q_4 = df['population'].quantile(0.75)\n",
    "InterQuartileRange = q_4 - q_1\n",
    "print(f'Выбросы слева < {q_1 - InterQuartileRange}')\n",
    "print(f'Выбросы справа > {q_4 + InterQuartileRange}')\n"
   ]
  },
  {
   "cell_type": "markdown",
   "metadata": {},
   "source": [
    "- <a style='color:blue'> **.rolling** </a>( ).**func** - возвращает скользящее значение функции **func**\n",
    "    - `window`: кол-во объектов в окне\n"
   ]
  },
  {
   "cell_type": "code",
   "execution_count": 51,
   "metadata": {},
   "outputs": [
    {
     "data": {
      "text/html": [
       "<div>\n",
       "<style scoped>\n",
       "    .dataframe tbody tr th:only-of-type {\n",
       "        vertical-align: middle;\n",
       "    }\n",
       "\n",
       "    .dataframe tbody tr th {\n",
       "        vertical-align: top;\n",
       "    }\n",
       "\n",
       "    .dataframe thead th {\n",
       "        text-align: right;\n",
       "    }\n",
       "</style>\n",
       "<table border=\"1\" class=\"dataframe\">\n",
       "  <thead>\n",
       "    <tr style=\"text-align: right;\">\n",
       "      <th></th>\n",
       "      <th>country</th>\n",
       "      <th>population</th>\n",
       "      <th>square</th>\n",
       "      <th>Size</th>\n",
       "      <th>Size_bin</th>\n",
       "      <th>rolling pop</th>\n",
       "    </tr>\n",
       "  </thead>\n",
       "  <tbody>\n",
       "    <tr>\n",
       "      <th>0</th>\n",
       "      <td>Канада</td>\n",
       "      <td>38.05</td>\n",
       "      <td>9984670</td>\n",
       "      <td>Large</td>\n",
       "      <td>1</td>\n",
       "      <td>NaN</td>\n",
       "    </tr>\n",
       "    <tr>\n",
       "      <th>1</th>\n",
       "      <td>США</td>\n",
       "      <td>322.28</td>\n",
       "      <td>9826630</td>\n",
       "      <td>Large</td>\n",
       "      <td>1</td>\n",
       "      <td>180.165</td>\n",
       "    </tr>\n",
       "  </tbody>\n",
       "</table>\n",
       "</div>"
      ],
      "text/plain": [
       "  country  population   square   Size  Size_bin  rolling pop\n",
       "0  Канада       38.05  9984670  Large         1          NaN\n",
       "1     США      322.28  9826630  Large         1      180.165"
      ]
     },
     "execution_count": 51,
     "metadata": {},
     "output_type": "execute_result"
    }
   ],
   "source": [
    "\n",
    "df['rolling pop'] = df['population'].rolling(window=2).mean()\n",
    "df\n"
   ]
  },
  {
   "cell_type": "markdown",
   "metadata": {},
   "source": [
    "## <h3  id='group' style= 'color: red'> Группировка данных </h3>\n",
    "___ \n",
    "<a style='color:blue'> **.groupby ( 'group col' ).** </a>[ **'aggr var'** ].**aggr method** ( ) - возвращает сгрупированные значения  \n",
    "  столбца `group col` по значениям **'aggr var'**, помещенныим в метод **aggr method**()  \n",
    "- `as_index=` False -  Создает индексы (вместо определения значений столбца group col индексами)  \n",
    "- <a style='color:blue'>**.agg**</a> ( [ func names ] ) - Применяется список аггрегирующих функций  \n",
    "- <a style='color:blue'>**.unstack**</a> (  ) - При наличии второго индекса, определяет второй индекс столбцами  \n",
    "\n",
    "  \n",
    "<img src='data/groupby.png'></img>"
   ]
  },
  {
   "cell_type": "code",
   "execution_count": 52,
   "metadata": {},
   "outputs": [
    {
     "name": "stdout",
     "output_type": "stream",
     "text": [
      "Regionname\n",
      "Eastern Metropolitan          1471\n",
      "Eastern Victoria                53\n",
      "Northern Metropolitan         3890\n",
      "Northern Victoria               41\n",
      "South-Eastern Metropolitan     450\n",
      "Southern Metropolitan         4695\n",
      "Western Metropolitan          2948\n",
      "Western Victoria                32\n",
      "Name: YearBuilt, dtype: int64\n"
     ]
    },
    {
     "data": {
      "text/html": [
       "<div>\n",
       "<style scoped>\n",
       "    .dataframe tbody tr th:only-of-type {\n",
       "        vertical-align: middle;\n",
       "    }\n",
       "\n",
       "    .dataframe tbody tr th {\n",
       "        vertical-align: top;\n",
       "    }\n",
       "\n",
       "    .dataframe thead th {\n",
       "        text-align: right;\n",
       "    }\n",
       "</style>\n",
       "<table border=\"1\" class=\"dataframe\">\n",
       "  <thead>\n",
       "    <tr style=\"text-align: right;\">\n",
       "      <th></th>\n",
       "      <th>count</th>\n",
       "      <th>mean</th>\n",
       "      <th>max</th>\n",
       "    </tr>\n",
       "    <tr>\n",
       "      <th>YearBuilt</th>\n",
       "      <th></th>\n",
       "      <th></th>\n",
       "      <th></th>\n",
       "    </tr>\n",
       "  </thead>\n",
       "  <tbody>\n",
       "    <tr>\n",
       "      <th>1884.0</th>\n",
       "      <td>1</td>\n",
       "      <td>5.046000e+06</td>\n",
       "      <td>5046000.0</td>\n",
       "    </tr>\n",
       "    <tr>\n",
       "      <th>1863.0</th>\n",
       "      <td>3</td>\n",
       "      <td>4.125000e+06</td>\n",
       "      <td>7650000.0</td>\n",
       "    </tr>\n",
       "    <tr>\n",
       "      <th>1903.0</th>\n",
       "      <td>2</td>\n",
       "      <td>3.455000e+06</td>\n",
       "      <td>3900000.0</td>\n",
       "    </tr>\n",
       "    <tr>\n",
       "      <th>1893.0</th>\n",
       "      <td>1</td>\n",
       "      <td>3.335000e+06</td>\n",
       "      <td>3335000.0</td>\n",
       "    </tr>\n",
       "    <tr>\n",
       "      <th>1854.0</th>\n",
       "      <td>1</td>\n",
       "      <td>3.310000e+06</td>\n",
       "      <td>3310000.0</td>\n",
       "    </tr>\n",
       "    <tr>\n",
       "      <th>...</th>\n",
       "      <td>...</td>\n",
       "      <td>...</td>\n",
       "      <td>...</td>\n",
       "    </tr>\n",
       "    <tr>\n",
       "      <th>1968.0</th>\n",
       "      <td>32</td>\n",
       "      <td>7.645469e+05</td>\n",
       "      <td>1880000.0</td>\n",
       "    </tr>\n",
       "    <tr>\n",
       "      <th>1975.0</th>\n",
       "      <td>211</td>\n",
       "      <td>7.608938e+05</td>\n",
       "      <td>2640000.0</td>\n",
       "    </tr>\n",
       "    <tr>\n",
       "      <th>1872.0</th>\n",
       "      <td>1</td>\n",
       "      <td>6.900000e+05</td>\n",
       "      <td>690000.0</td>\n",
       "    </tr>\n",
       "    <tr>\n",
       "      <th>1987.0</th>\n",
       "      <td>12</td>\n",
       "      <td>6.852500e+05</td>\n",
       "      <td>1100000.0</td>\n",
       "    </tr>\n",
       "    <tr>\n",
       "      <th>1976.0</th>\n",
       "      <td>11</td>\n",
       "      <td>6.114545e+05</td>\n",
       "      <td>1140000.0</td>\n",
       "    </tr>\n",
       "  </tbody>\n",
       "</table>\n",
       "<p>144 rows × 3 columns</p>\n",
       "</div>"
      ],
      "text/plain": [
       "           count          mean        max\n",
       "YearBuilt                                \n",
       "1884.0         1  5.046000e+06  5046000.0\n",
       "1863.0         3  4.125000e+06  7650000.0\n",
       "1903.0         2  3.455000e+06  3900000.0\n",
       "1893.0         1  3.335000e+06  3335000.0\n",
       "1854.0         1  3.310000e+06  3310000.0\n",
       "...          ...           ...        ...\n",
       "1968.0        32  7.645469e+05  1880000.0\n",
       "1975.0       211  7.608938e+05  2640000.0\n",
       "1872.0         1  6.900000e+05   690000.0\n",
       "1987.0        12  6.852500e+05  1100000.0\n",
       "1976.0        11  6.114545e+05  1140000.0\n",
       "\n",
       "[144 rows x 3 columns]"
      ]
     },
     "metadata": {},
     "output_type": "display_data"
    },
    {
     "data": {
      "text/html": [
       "<div>\n",
       "<style scoped>\n",
       "    .dataframe tbody tr th:only-of-type {\n",
       "        vertical-align: middle;\n",
       "    }\n",
       "\n",
       "    .dataframe tbody tr th {\n",
       "        vertical-align: top;\n",
       "    }\n",
       "\n",
       "    .dataframe thead th {\n",
       "        text-align: right;\n",
       "    }\n",
       "</style>\n",
       "<table border=\"1\" class=\"dataframe\">\n",
       "  <thead>\n",
       "    <tr style=\"text-align: right;\">\n",
       "      <th>Rooms</th>\n",
       "      <th>1</th>\n",
       "      <th>2</th>\n",
       "      <th>3</th>\n",
       "      <th>4</th>\n",
       "      <th>5</th>\n",
       "      <th>6</th>\n",
       "      <th>7</th>\n",
       "      <th>8</th>\n",
       "      <th>10</th>\n",
       "    </tr>\n",
       "    <tr>\n",
       "      <th>Type</th>\n",
       "      <th></th>\n",
       "      <th></th>\n",
       "      <th></th>\n",
       "      <th></th>\n",
       "      <th></th>\n",
       "      <th></th>\n",
       "      <th></th>\n",
       "      <th></th>\n",
       "      <th></th>\n",
       "    </tr>\n",
       "  </thead>\n",
       "  <tbody>\n",
       "    <tr>\n",
       "      <th>h</th>\n",
       "      <td>866865.517241</td>\n",
       "      <td>1.017238e+06</td>\n",
       "      <td>1.109233e+06</td>\n",
       "      <td>1.462283e+06</td>\n",
       "      <td>1.877327e+06</td>\n",
       "      <td>1.869508e+06</td>\n",
       "      <td>1920700.0</td>\n",
       "      <td>1.510286e+06</td>\n",
       "      <td>900000.0</td>\n",
       "    </tr>\n",
       "    <tr>\n",
       "      <th>t</th>\n",
       "      <td>592704.545455</td>\n",
       "      <td>7.101585e+05</td>\n",
       "      <td>9.847087e+05</td>\n",
       "      <td>1.217092e+06</td>\n",
       "      <td>1.035000e+06</td>\n",
       "      <td>NaN</td>\n",
       "      <td>NaN</td>\n",
       "      <td>NaN</td>\n",
       "      <td>NaN</td>\n",
       "    </tr>\n",
       "    <tr>\n",
       "      <th>u</th>\n",
       "      <td>389928.923203</td>\n",
       "      <td>6.104905e+05</td>\n",
       "      <td>8.505963e+05</td>\n",
       "      <td>1.037476e+06</td>\n",
       "      <td>NaN</td>\n",
       "      <td>5.200000e+05</td>\n",
       "      <td>NaN</td>\n",
       "      <td>2.250000e+06</td>\n",
       "      <td>NaN</td>\n",
       "    </tr>\n",
       "  </tbody>\n",
       "</table>\n",
       "</div>"
      ],
      "text/plain": [
       "Rooms             1             2             3             4             5   \\\n",
       "Type                                                                           \n",
       "h      866865.517241  1.017238e+06  1.109233e+06  1.462283e+06  1.877327e+06   \n",
       "t      592704.545455  7.101585e+05  9.847087e+05  1.217092e+06  1.035000e+06   \n",
       "u      389928.923203  6.104905e+05  8.505963e+05  1.037476e+06           NaN   \n",
       "\n",
       "Rooms            6          7             8         10  \n",
       "Type                                                    \n",
       "h      1.869508e+06  1920700.0  1.510286e+06  900000.0  \n",
       "t               NaN        NaN           NaN       NaN  \n",
       "u      5.200000e+05        NaN  2.250000e+06       NaN  "
      ]
     },
     "execution_count": 52,
     "metadata": {},
     "output_type": "execute_result"
    }
   ],
   "source": [
    "df1 = pd.read_csv('data/melb_data.csv')\n",
    "print(df1.groupby('Regionname')['YearBuilt'].count()[:10])\n",
    "\n",
    "display(df1.groupby('YearBuilt')['Price'].agg([ 'count', 'mean', 'max' ]).sort_values(by='mean', ascending=False))\n",
    "\n",
    "df1.groupby(['Type', 'Rooms' ])['Price'].mean().unstack()\n"
   ]
  },
  {
   "cell_type": "markdown",
   "metadata": {},
   "source": [
    "___\n",
    "pandas<a style='color:red'> **.pivot_table** </a>( **df** ) - Группирует данные датафрейма **df**\n",
    "- `values=` _name column_ - столбец, к которому будет применяться агрегирующая функция\n",
    "- `index= `_name column_ - столбец, значения которого будут группироваться\n",
    "- `aggfunc=` _func_ - агрегирующая функция\n",
    "- `columns=` _name column_ - столбец, уникальные значения которго будут помещены как столбцы\n",
    "- `fill_value=` -назначает значения пропущенным данным\n",
    "\n"
   ]
  },
  {
   "cell_type": "code",
   "execution_count": 53,
   "metadata": {},
   "outputs": [
    {
     "data": {
      "text/html": [
       "<div>\n",
       "<style scoped>\n",
       "    .dataframe tbody tr th:only-of-type {\n",
       "        vertical-align: middle;\n",
       "    }\n",
       "\n",
       "    .dataframe tbody tr th {\n",
       "        vertical-align: top;\n",
       "    }\n",
       "\n",
       "    .dataframe thead th {\n",
       "        text-align: right;\n",
       "    }\n",
       "</style>\n",
       "<table border=\"1\" class=\"dataframe\">\n",
       "  <thead>\n",
       "    <tr style=\"text-align: right;\">\n",
       "      <th>Type</th>\n",
       "      <th>h</th>\n",
       "      <th>t</th>\n",
       "      <th>u</th>\n",
       "    </tr>\n",
       "    <tr>\n",
       "      <th>Rooms</th>\n",
       "      <th></th>\n",
       "      <th></th>\n",
       "      <th></th>\n",
       "    </tr>\n",
       "  </thead>\n",
       "  <tbody>\n",
       "    <tr>\n",
       "      <th>1</th>\n",
       "      <td>8.668655e+05</td>\n",
       "      <td>5.927045e+05</td>\n",
       "      <td>3.899289e+05</td>\n",
       "    </tr>\n",
       "    <tr>\n",
       "      <th>10</th>\n",
       "      <td>9.000000e+05</td>\n",
       "      <td>NaN</td>\n",
       "      <td>NaN</td>\n",
       "    </tr>\n",
       "    <tr>\n",
       "      <th>2</th>\n",
       "      <td>1.017238e+06</td>\n",
       "      <td>7.101585e+05</td>\n",
       "      <td>6.104905e+05</td>\n",
       "    </tr>\n",
       "    <tr>\n",
       "      <th>3</th>\n",
       "      <td>1.109233e+06</td>\n",
       "      <td>9.847087e+05</td>\n",
       "      <td>8.505963e+05</td>\n",
       "    </tr>\n",
       "    <tr>\n",
       "      <th>4</th>\n",
       "      <td>1.462283e+06</td>\n",
       "      <td>1.217092e+06</td>\n",
       "      <td>1.037476e+06</td>\n",
       "    </tr>\n",
       "    <tr>\n",
       "      <th>8</th>\n",
       "      <td>1.510286e+06</td>\n",
       "      <td>NaN</td>\n",
       "      <td>2.250000e+06</td>\n",
       "    </tr>\n",
       "    <tr>\n",
       "      <th>6</th>\n",
       "      <td>1.869508e+06</td>\n",
       "      <td>NaN</td>\n",
       "      <td>5.200000e+05</td>\n",
       "    </tr>\n",
       "    <tr>\n",
       "      <th>5</th>\n",
       "      <td>1.877327e+06</td>\n",
       "      <td>1.035000e+06</td>\n",
       "      <td>NaN</td>\n",
       "    </tr>\n",
       "    <tr>\n",
       "      <th>7</th>\n",
       "      <td>1.920700e+06</td>\n",
       "      <td>NaN</td>\n",
       "      <td>NaN</td>\n",
       "    </tr>\n",
       "  </tbody>\n",
       "</table>\n",
       "</div>"
      ],
      "text/plain": [
       "Type              h             t             u\n",
       "Rooms                                          \n",
       "1      8.668655e+05  5.927045e+05  3.899289e+05\n",
       "10     9.000000e+05           NaN           NaN\n",
       "2      1.017238e+06  7.101585e+05  6.104905e+05\n",
       "3      1.109233e+06  9.847087e+05  8.505963e+05\n",
       "4      1.462283e+06  1.217092e+06  1.037476e+06\n",
       "8      1.510286e+06           NaN  2.250000e+06\n",
       "6      1.869508e+06           NaN  5.200000e+05\n",
       "5      1.877327e+06  1.035000e+06           NaN\n",
       "7      1.920700e+06           NaN           NaN"
      ]
     },
     "execution_count": 53,
     "metadata": {},
     "output_type": "execute_result"
    }
   ],
   "source": [
    "df1.pivot_table( values='Price', aggfunc='mean', index=['Rooms' ], columns='Type').sort_values(by='h')\n"
   ]
  },
  {
   "cell_type": "markdown",
   "metadata": {},
   "source": [
    "> Функции  \n",
    "\n",
    "df [ **' col name '**] <a style='color:blue'> **.apply** </a>( **func**) - Применяет функцию  **func** к каждому значению столбца  **' col name '**\n",
    "- args=() - Кортеж дополнительных аргументов в функцию"
   ]
  },
  {
   "cell_type": "code",
   "execution_count": 54,
   "metadata": {},
   "outputs": [
    {
     "name": "stdout",
     "output_type": "stream",
     "text": [
      "  country  population   square   Size  Size_bin  rolling pop\n",
      "0  Канада     38050.0  9984670  Large         1          NaN\n",
      "1     США    322280.0  9826630  Large         1      180.165\n"
     ]
    }
   ],
   "source": [
    "df['population'] = df['population'].apply(lambda x: x*1000)\n",
    "print(df)\n"
   ]
  },
  {
   "cell_type": "markdown",
   "metadata": {},
   "source": [
    "df [ **' col name '**] <a> **.map** </a>( **dict / Series**) - Назначает значения из словаря или Series **dict / Series** каждому значению из столбца  **' col name '**"
   ]
  },
  {
   "cell_type": "code",
   "execution_count": null,
   "metadata": {},
   "outputs": [],
   "source": []
  },
  {
   "cell_type": "code",
   "execution_count": 55,
   "metadata": {},
   "outputs": [
    {
     "data": {
      "text/html": [
       "<div>\n",
       "<style scoped>\n",
       "    .dataframe tbody tr th:only-of-type {\n",
       "        vertical-align: middle;\n",
       "    }\n",
       "\n",
       "    .dataframe tbody tr th {\n",
       "        vertical-align: top;\n",
       "    }\n",
       "\n",
       "    .dataframe thead th {\n",
       "        text-align: right;\n",
       "    }\n",
       "</style>\n",
       "<table border=\"1\" class=\"dataframe\">\n",
       "  <thead>\n",
       "    <tr style=\"text-align: right;\">\n",
       "      <th></th>\n",
       "      <th>country</th>\n",
       "      <th>population</th>\n",
       "      <th>square</th>\n",
       "      <th>Size</th>\n",
       "      <th>Size_bin</th>\n",
       "      <th>rolling pop</th>\n",
       "      <th>NEW COL</th>\n",
       "    </tr>\n",
       "  </thead>\n",
       "  <tbody>\n",
       "    <tr>\n",
       "      <th>0</th>\n",
       "      <td>Канада</td>\n",
       "      <td>38050.0</td>\n",
       "      <td>9984670</td>\n",
       "      <td>Large</td>\n",
       "      <td>1</td>\n",
       "      <td>NaN</td>\n",
       "      <td>1000</td>\n",
       "    </tr>\n",
       "    <tr>\n",
       "      <th>1</th>\n",
       "      <td>США</td>\n",
       "      <td>322280.0</td>\n",
       "      <td>9826630</td>\n",
       "      <td>Large</td>\n",
       "      <td>1</td>\n",
       "      <td>180.165</td>\n",
       "      <td>1000</td>\n",
       "    </tr>\n",
       "  </tbody>\n",
       "</table>\n",
       "</div>"
      ],
      "text/plain": [
       "  country  population   square   Size  Size_bin  rolling pop  NEW COL\n",
       "0  Канада     38050.0  9984670  Large         1          NaN     1000\n",
       "1     США    322280.0  9826630  Large         1      180.165     1000"
      ]
     },
     "execution_count": 55,
     "metadata": {},
     "output_type": "execute_result"
    }
   ],
   "source": [
    "df['NEW COL'] = df['Size'].map( {'Large': 1000} )\n",
    "df\n"
   ]
  },
  {
   "cell_type": "markdown",
   "metadata": {},
   "source": [
    "df [ **' col name '**] <a> **.replace** </a>( **dict / Series**) - Заменяет значения из словаря или Series **dict / Series** каждому значению из столбца  **' col name '**"
   ]
  },
  {
   "cell_type": "code",
   "execution_count": 56,
   "metadata": {},
   "outputs": [
    {
     "data": {
      "text/html": [
       "<div>\n",
       "<style scoped>\n",
       "    .dataframe tbody tr th:only-of-type {\n",
       "        vertical-align: middle;\n",
       "    }\n",
       "\n",
       "    .dataframe tbody tr th {\n",
       "        vertical-align: top;\n",
       "    }\n",
       "\n",
       "    .dataframe thead th {\n",
       "        text-align: right;\n",
       "    }\n",
       "</style>\n",
       "<table border=\"1\" class=\"dataframe\">\n",
       "  <thead>\n",
       "    <tr style=\"text-align: right;\">\n",
       "      <th></th>\n",
       "      <th>country</th>\n",
       "      <th>population</th>\n",
       "      <th>square</th>\n",
       "      <th>Size</th>\n",
       "      <th>Size_bin</th>\n",
       "      <th>rolling pop</th>\n",
       "      <th>NEW COL</th>\n",
       "      <th>Brand new col</th>\n",
       "    </tr>\n",
       "  </thead>\n",
       "  <tbody>\n",
       "    <tr>\n",
       "      <th>0</th>\n",
       "      <td>Канада</td>\n",
       "      <td>38050.0</td>\n",
       "      <td>9984670</td>\n",
       "      <td>Large</td>\n",
       "      <td>1</td>\n",
       "      <td>NaN</td>\n",
       "      <td>1000</td>\n",
       "      <td>Canada</td>\n",
       "    </tr>\n",
       "    <tr>\n",
       "      <th>1</th>\n",
       "      <td>США</td>\n",
       "      <td>322280.0</td>\n",
       "      <td>9826630</td>\n",
       "      <td>Large</td>\n",
       "      <td>1</td>\n",
       "      <td>180.165</td>\n",
       "      <td>1000</td>\n",
       "      <td>Unite SA</td>\n",
       "    </tr>\n",
       "  </tbody>\n",
       "</table>\n",
       "</div>"
      ],
      "text/plain": [
       "  country  population   square   Size  Size_bin  rolling pop  NEW COL  \\\n",
       "0  Канада     38050.0  9984670  Large         1          NaN     1000   \n",
       "1     США    322280.0  9826630  Large         1      180.165     1000   \n",
       "\n",
       "  Brand new col  \n",
       "0        Canada  \n",
       "1      Unite SA  "
      ]
     },
     "execution_count": 56,
     "metadata": {},
     "output_type": "execute_result"
    }
   ],
   "source": [
    "df['Brand new col'] = df['country'].replace({'Канада': 'Canada', 'США': 'Unite SA'})\n",
    "df\n"
   ]
  },
  {
   "cell_type": "markdown",
   "metadata": {},
   "source": [
    "___\n",
    "<h2  id='types' style= 'color: violet'> Типы данных </h2>\n",
    "\n",
    "___\n",
    "___\n"
   ]
  },
  {
   "cell_type": "markdown",
   "metadata": {},
   "source": [
    "df ['`имя столбца`']<span style= 'color:blue'>**.astype**</span> ( '`тип данных`' ) - Преобразует данные столбца '`имя столбца`' в назначенный '`тип данных`' "
   ]
  },
  {
   "cell_type": "code",
   "execution_count": 57,
   "metadata": {},
   "outputs": [
    {
     "name": "stdout",
     "output_type": "stream",
     "text": [
      "0    9984670\n",
      "1    9826630\n",
      "Name: square, dtype: int64\n"
     ]
    },
    {
     "data": {
      "text/plain": [
       "0    9984670.0\n",
       "1    9826630.0\n",
       "Name: square, dtype: float64"
      ]
     },
     "execution_count": 57,
     "metadata": {},
     "output_type": "execute_result"
    }
   ],
   "source": [
    "print(df['square'])\n",
    "df['square'].astype('float64')\n"
   ]
  },
  {
   "cell_type": "markdown",
   "metadata": {},
   "source": [
    "___\n",
    "## <h3  id='date' style= 'color: violet'> Формат времени `datetime` </h3>\n",
    "___\n"
   ]
  },
  {
   "cell_type": "markdown",
   "metadata": {},
   "source": [
    "> Преобразование в datetime"
   ]
  },
  {
   "cell_type": "markdown",
   "metadata": {},
   "source": [
    "pandas<a style='color:red'> **.to_datetime** </a>(df['`date name`'], dayfirst=True ) - Превращает столбец `date name` в datetime"
   ]
  },
  {
   "cell_type": "code",
   "execution_count": 58,
   "metadata": {},
   "outputs": [
    {
     "name": "stdout",
     "output_type": "stream",
     "text": [
      "  country  population   square   Size  Size_bin  rolling pop  NEW COL  \\\n",
      "0  Канада     38050.0  9984670  Large         1          NaN     1000   \n",
      "1     США    322280.0  9826630  Large         1      180.165     1000   \n",
      "\n",
      "  Brand new col        Date  \n",
      "0        Canada  04/05/1881  \n",
      "1      Unite SA  01/03/1889  \n"
     ]
    }
   ],
   "source": [
    "\n",
    "df['Date'] = ['04/05/1881', '01/03/1889']\n",
    "print(df)\n",
    "df['Date'] = pd.to_datetime(df['Date'], dayfirst=True)\n"
   ]
  },
  {
   "cell_type": "markdown",
   "metadata": {},
   "source": [
    "> Доступ к атрибутам  \n",
    "\n",
    "df [ 'col name' ].<a style='color:red'> **.dt.** </a>**atribute**  - Возвращает атрибут **atribute** из datetime  \n",
    "<img src='img/datetime.png'></img>"
   ]
  },
  {
   "cell_type": "code",
   "execution_count": 59,
   "metadata": {},
   "outputs": [
    {
     "name": "stdout",
     "output_type": "stream",
     "text": [
      "0    1881\n",
      "1    1889\n",
      "Name: Date, dtype: int32\n",
      "0    2\n",
      "1    4\n",
      "Name: Date, dtype: int32\n"
     ]
    }
   ],
   "source": [
    "year = df['Date'].dt.year\n",
    "print(year)\n",
    "day_of_week = df['Date'].dt.dayofweek\n",
    "print(day_of_week)\n"
   ]
  },
  {
   "cell_type": "markdown",
   "metadata": {},
   "source": [
    "___\n",
    "## <h3  id='cat' style= 'color: violet'> Тип `category` </h3>  \n",
    "_Тип данных для категориальных признаков, уменьшает использование памяти_\n",
    "\n",
    "___"
   ]
  },
  {
   "cell_type": "code",
   "execution_count": 60,
   "metadata": {},
   "outputs": [
    {
     "name": "stdout",
     "output_type": "stream",
     "text": [
      "<class 'pandas.core.frame.DataFrame'>\n",
      "RangeIndex: 2 entries, 0 to 1\n",
      "Data columns (total 9 columns):\n",
      " #   Column         Non-Null Count  Dtype         \n",
      "---  ------         --------------  -----         \n",
      " 0   country        2 non-null      category      \n",
      " 1   population     2 non-null      float64       \n",
      " 2   square         2 non-null      int64         \n",
      " 3   Size           2 non-null      object        \n",
      " 4   Size_bin       2 non-null      int64         \n",
      " 5   rolling pop    1 non-null      float64       \n",
      " 6   NEW COL        2 non-null      int64         \n",
      " 7   Brand new col  2 non-null      object        \n",
      " 8   Date           2 non-null      datetime64[ns]\n",
      "dtypes: category(1), datetime64[ns](1), float64(2), int64(3), object(2)\n",
      "memory usage: 382.0+ bytes\n"
     ]
    }
   ],
   "source": [
    "df['country'] = df['country'].astype('category')\n",
    "df.info()\n"
   ]
  },
  {
   "cell_type": "markdown",
   "metadata": {},
   "source": [
    "> Доступ к атрибутам  \n",
    "\n",
    "df [ 'col name' ].<a style='color:red'> **.cat.** </a>**atribute**  - Возвращает атрибут **atribute** из datetime  \n",
    "- categories - возвращает список уникальных категорий\n",
    "- codes - Возвращает числовое отображение имен категорий\n",
    "- rename_categories() - переименовывает старые категории на новые\n",
    "- add_categories() - добавляет новые категории, ранее не объявленные "
   ]
  },
  {
   "cell_type": "code",
   "execution_count": 61,
   "metadata": {},
   "outputs": [
    {
     "name": "stdout",
     "output_type": "stream",
     "text": [
      "Index(['Канада', 'США'], dtype='object')\n",
      "0    0\n",
      "1    1\n",
      "dtype: int8\n"
     ]
    }
   ],
   "source": [
    "print(df['country'].cat.categories)\n",
    "print(df['country'].cat.codes)\n"
   ]
  },
  {
   "cell_type": "markdown",
   "metadata": {},
   "source": [
    "\n",
    "___\n",
    "## <h2  id='filter' style= 'color: violet'> Фильтрация данных </h2>\n",
    "___\n",
    "___"
   ]
  },
  {
   "cell_type": "code",
   "execution_count": 62,
   "metadata": {},
   "outputs": [
    {
     "data": {
      "text/plain": [
       "Series([], Name: country, dtype: category\n",
       "Categories (2, object): ['Канада', 'США'])"
      ]
     },
     "execution_count": 62,
     "metadata": {},
     "output_type": "execute_result"
    }
   ],
   "source": [
    "df[(df['population'] > 100) & (df['square'] > 10000000) ]['country']\n"
   ]
  },
  {
   "cell_type": "markdown",
   "metadata": {},
   "source": [
    "___\n",
    "<span style= 'color:blue'>**.isin**</span> ( _list_ ) - Выбирает данные, которые присутствуют в списке _list_"
   ]
  },
  {
   "cell_type": "code",
   "execution_count": 63,
   "metadata": {},
   "outputs": [
    {
     "data": {
      "text/html": [
       "<div>\n",
       "<style scoped>\n",
       "    .dataframe tbody tr th:only-of-type {\n",
       "        vertical-align: middle;\n",
       "    }\n",
       "\n",
       "    .dataframe tbody tr th {\n",
       "        vertical-align: top;\n",
       "    }\n",
       "\n",
       "    .dataframe thead th {\n",
       "        text-align: right;\n",
       "    }\n",
       "</style>\n",
       "<table border=\"1\" class=\"dataframe\">\n",
       "  <thead>\n",
       "    <tr style=\"text-align: right;\">\n",
       "      <th></th>\n",
       "      <th>country</th>\n",
       "      <th>population</th>\n",
       "      <th>square</th>\n",
       "      <th>Size</th>\n",
       "      <th>Size_bin</th>\n",
       "      <th>rolling pop</th>\n",
       "      <th>NEW COL</th>\n",
       "      <th>Brand new col</th>\n",
       "      <th>Date</th>\n",
       "    </tr>\n",
       "  </thead>\n",
       "  <tbody>\n",
       "    <tr>\n",
       "      <th>0</th>\n",
       "      <td>Канада</td>\n",
       "      <td>38050.0</td>\n",
       "      <td>9984670</td>\n",
       "      <td>Large</td>\n",
       "      <td>1</td>\n",
       "      <td>NaN</td>\n",
       "      <td>1000</td>\n",
       "      <td>Canada</td>\n",
       "      <td>1881-05-04</td>\n",
       "    </tr>\n",
       "  </tbody>\n",
       "</table>\n",
       "</div>"
      ],
      "text/plain": [
       "  country  population   square   Size  Size_bin  rolling pop  NEW COL  \\\n",
       "0  Канада     38050.0  9984670  Large         1          NaN     1000   \n",
       "\n",
       "  Brand new col       Date  \n",
       "0        Canada 1881-05-04  "
      ]
     },
     "execution_count": 63,
     "metadata": {},
     "output_type": "execute_result"
    }
   ],
   "source": [
    "lst = ['Канада']\n",
    "df[ df['country'].isin(lst)]\n"
   ]
  },
  {
   "cell_type": "markdown",
   "metadata": {},
   "source": [
    "___\n",
    "## <h2  id='sort' style= 'color: violet'> Сортировка данных </h2>\n",
    "___\n",
    "___"
   ]
  },
  {
   "cell_type": "markdown",
   "metadata": {},
   "source": [
    "<span style= 'color:blue'>**.sort_values**</span> (  ) - Сортирует данные датафрейма\n",
    "- `by=` - список `имен столбцов` по которым сортировка \n",
    "- `axis=` - 0 - сортировка по строкам, 1 - по столбцам\n",
    "- `ascending=`True - сортировка по возрастанию\n",
    "- `ignore_index=`True - изменять ли индексы при сортировке\n",
    "- `inplace=`True - заменить исходный датафрейм на отсортированный\n",
    "- `kind=` выбор метода сортировки (‘quicksort’, ‘mergesort’, ‘heapsort’, ‘stable’)"
   ]
  },
  {
   "cell_type": "code",
   "execution_count": 64,
   "metadata": {},
   "outputs": [
    {
     "data": {
      "text/html": [
       "<div>\n",
       "<style scoped>\n",
       "    .dataframe tbody tr th:only-of-type {\n",
       "        vertical-align: middle;\n",
       "    }\n",
       "\n",
       "    .dataframe tbody tr th {\n",
       "        vertical-align: top;\n",
       "    }\n",
       "\n",
       "    .dataframe thead th {\n",
       "        text-align: right;\n",
       "    }\n",
       "</style>\n",
       "<table border=\"1\" class=\"dataframe\">\n",
       "  <thead>\n",
       "    <tr style=\"text-align: right;\">\n",
       "      <th></th>\n",
       "      <th>country</th>\n",
       "      <th>population</th>\n",
       "      <th>square</th>\n",
       "    </tr>\n",
       "  </thead>\n",
       "  <tbody>\n",
       "    <tr>\n",
       "      <th>0</th>\n",
       "      <td>Беларусь</td>\n",
       "      <td>9.50</td>\n",
       "      <td>207600</td>\n",
       "    </tr>\n",
       "    <tr>\n",
       "      <th>1</th>\n",
       "      <td>Казахстан</td>\n",
       "      <td>17.04</td>\n",
       "      <td>2724902</td>\n",
       "    </tr>\n",
       "    <tr>\n",
       "      <th>2</th>\n",
       "      <td>Канада</td>\n",
       "      <td>38.05</td>\n",
       "      <td>9984670</td>\n",
       "    </tr>\n",
       "    <tr>\n",
       "      <th>3</th>\n",
       "      <td>Украина</td>\n",
       "      <td>45.50</td>\n",
       "      <td>603628</td>\n",
       "    </tr>\n",
       "    <tr>\n",
       "      <th>4</th>\n",
       "      <td>Англия</td>\n",
       "      <td>56.29</td>\n",
       "      <td>133396</td>\n",
       "    </tr>\n",
       "    <tr>\n",
       "      <th>5</th>\n",
       "      <td>Россия</td>\n",
       "      <td>146.24</td>\n",
       "      <td>17125191</td>\n",
       "    </tr>\n",
       "    <tr>\n",
       "      <th>6</th>\n",
       "      <td>США</td>\n",
       "      <td>322.28</td>\n",
       "      <td>9826630</td>\n",
       "    </tr>\n",
       "  </tbody>\n",
       "</table>\n",
       "</div>"
      ],
      "text/plain": [
       "     country  population    square\n",
       "0   Беларусь        9.50    207600\n",
       "1  Казахстан       17.04   2724902\n",
       "2     Канада       38.05   9984670\n",
       "3    Украина       45.50    603628\n",
       "4     Англия       56.29    133396\n",
       "5     Россия      146.24  17125191\n",
       "6        США      322.28   9826630"
      ]
     },
     "execution_count": 64,
     "metadata": {},
     "output_type": "execute_result"
    }
   ],
   "source": [
    "df = pd.read_csv('data/countries.csv', sep=';')\n",
    "df.sort_values(by='population', ignore_index=True)\n"
   ]
  },
  {
   "cell_type": "markdown",
   "metadata": {},
   "source": [
    "___\n",
    "<span style= 'color:blue'>**.sort_index**</span> (  ) - Сортирует `индексы` датафрейма\n",
    "- `axis=`1 - сортирует столбцы"
   ]
  },
  {
   "cell_type": "code",
   "execution_count": 65,
   "metadata": {},
   "outputs": [
    {
     "data": {
      "text/html": [
       "<div>\n",
       "<style scoped>\n",
       "    .dataframe tbody tr th:only-of-type {\n",
       "        vertical-align: middle;\n",
       "    }\n",
       "\n",
       "    .dataframe tbody tr th {\n",
       "        vertical-align: top;\n",
       "    }\n",
       "\n",
       "    .dataframe thead th {\n",
       "        text-align: right;\n",
       "    }\n",
       "</style>\n",
       "<table border=\"1\" class=\"dataframe\">\n",
       "  <thead>\n",
       "    <tr style=\"text-align: right;\">\n",
       "      <th></th>\n",
       "      <th>square</th>\n",
       "      <th>country</th>\n",
       "      <th>population</th>\n",
       "    </tr>\n",
       "  </thead>\n",
       "  <tbody>\n",
       "    <tr>\n",
       "      <th>0</th>\n",
       "      <td>133396</td>\n",
       "      <td>Англия</td>\n",
       "      <td>56.29</td>\n",
       "    </tr>\n",
       "    <tr>\n",
       "      <th>1</th>\n",
       "      <td>9984670</td>\n",
       "      <td>Канада</td>\n",
       "      <td>38.05</td>\n",
       "    </tr>\n",
       "  </tbody>\n",
       "</table>\n",
       "</div>"
      ],
      "text/plain": [
       "    square country  population\n",
       "0   133396  Англия       56.29\n",
       "1  9984670  Канада       38.05"
      ]
     },
     "metadata": {},
     "output_type": "display_data"
    },
    {
     "data": {
      "text/html": [
       "<div>\n",
       "<style scoped>\n",
       "    .dataframe tbody tr th:only-of-type {\n",
       "        vertical-align: middle;\n",
       "    }\n",
       "\n",
       "    .dataframe tbody tr th {\n",
       "        vertical-align: top;\n",
       "    }\n",
       "\n",
       "    .dataframe thead th {\n",
       "        text-align: right;\n",
       "    }\n",
       "</style>\n",
       "<table border=\"1\" class=\"dataframe\">\n",
       "  <thead>\n",
       "    <tr style=\"text-align: right;\">\n",
       "      <th></th>\n",
       "      <th>country</th>\n",
       "      <th>population</th>\n",
       "      <th>square</th>\n",
       "    </tr>\n",
       "  </thead>\n",
       "  <tbody>\n",
       "    <tr>\n",
       "      <th>0</th>\n",
       "      <td>Англия</td>\n",
       "      <td>56.29</td>\n",
       "      <td>133396</td>\n",
       "    </tr>\n",
       "    <tr>\n",
       "      <th>1</th>\n",
       "      <td>Канада</td>\n",
       "      <td>38.05</td>\n",
       "      <td>9984670</td>\n",
       "    </tr>\n",
       "  </tbody>\n",
       "</table>\n",
       "</div>"
      ],
      "text/plain": [
       "  country  population   square\n",
       "0  Англия       56.29   133396\n",
       "1  Канада       38.05  9984670"
      ]
     },
     "execution_count": 65,
     "metadata": {},
     "output_type": "execute_result"
    }
   ],
   "source": [
    "df = df[['square', 'country', 'population' ]]\n",
    "display(df.head(2))\n",
    "\n",
    "df.sort_index(axis=1).head(2)\n"
   ]
  },
  {
   "cell_type": "markdown",
   "metadata": {},
   "source": [
    "___\n",
    "## <h2  id='conc' style= 'color: violet'> Объединение датафреймов </h2>\n",
    "___\n",
    "___"
   ]
  },
  {
   "cell_type": "markdown",
   "metadata": {},
   "source": [
    "pandas<a style='color:red'> **.concat** </a> ( (df1, df2) ) - Объединение датафреймов df1 и df2 в один\n",
    "- `ignore_index=` True - Назначает новые индексы\n",
    "- `axis=` - 1 добавить к строкам, 0 - к столбцам"
   ]
  },
  {
   "cell_type": "code",
   "execution_count": 66,
   "metadata": {},
   "outputs": [
    {
     "data": {
      "text/html": [
       "<div>\n",
       "<style scoped>\n",
       "    .dataframe tbody tr th:only-of-type {\n",
       "        vertical-align: middle;\n",
       "    }\n",
       "\n",
       "    .dataframe tbody tr th {\n",
       "        vertical-align: top;\n",
       "    }\n",
       "\n",
       "    .dataframe thead th {\n",
       "        text-align: right;\n",
       "    }\n",
       "</style>\n",
       "<table border=\"1\" class=\"dataframe\">\n",
       "  <thead>\n",
       "    <tr style=\"text-align: right;\">\n",
       "      <th></th>\n",
       "      <th>country</th>\n",
       "      <th>population</th>\n",
       "      <th>square</th>\n",
       "    </tr>\n",
       "  </thead>\n",
       "  <tbody>\n",
       "    <tr>\n",
       "      <th>UK</th>\n",
       "      <td>Англия</td>\n",
       "      <td>56.29</td>\n",
       "      <td>133396</td>\n",
       "    </tr>\n",
       "    <tr>\n",
       "      <th>CA</th>\n",
       "      <td>Канада</td>\n",
       "      <td>38.05</td>\n",
       "      <td>9984670</td>\n",
       "    </tr>\n",
       "    <tr>\n",
       "      <th>US</th>\n",
       "      <td>США</td>\n",
       "      <td>322.28</td>\n",
       "      <td>9826630</td>\n",
       "    </tr>\n",
       "    <tr>\n",
       "      <th>RU</th>\n",
       "      <td>Россия</td>\n",
       "      <td>56.29</td>\n",
       "      <td>133396</td>\n",
       "    </tr>\n",
       "    <tr>\n",
       "      <th>BE</th>\n",
       "      <td>Беларусь</td>\n",
       "      <td>38.05</td>\n",
       "      <td>9984670</td>\n",
       "    </tr>\n",
       "    <tr>\n",
       "      <th>UK</th>\n",
       "      <td>Украина</td>\n",
       "      <td>322.28</td>\n",
       "      <td>9826630</td>\n",
       "    </tr>\n",
       "  </tbody>\n",
       "</table>\n",
       "</div>"
      ],
      "text/plain": [
       "     country  population   square\n",
       "UK    Англия       56.29   133396\n",
       "CA    Канада       38.05  9984670\n",
       "US       США      322.28  9826630\n",
       "RU    Россия       56.29   133396\n",
       "BE  Беларусь       38.05  9984670\n",
       "UK   Украина      322.28  9826630"
      ]
     },
     "metadata": {},
     "output_type": "display_data"
    }
   ],
   "source": [
    "df1 = pd.DataFrame(\n",
    "    data = [\n",
    "        ['Англия', 56.29, 133396],\n",
    "        ['Канада', 38.05, 9984670],\n",
    "        ['США', 322.28, 9826630],\n",
    "            ],\n",
    "    columns= ['country', 'population', 'square'],\n",
    "    index = ['UK', 'CA', 'US']\n",
    ")\n",
    "df2 = pd.DataFrame(\n",
    "    data = [\n",
    "        ['Россия', 56.29, 133396],\n",
    "        ['Беларусь', 38.05, 9984670],\n",
    "        ['Украина', 322.28, 9826630],\n",
    "            ],\n",
    "    columns= ['country', 'population', 'square'],\n",
    "    index = ['RU', 'BE', 'UK']\n",
    ")\n",
    "\n",
    "df_concated = pd.concat((df1, df2))\n",
    "display(df_concated)\n"
   ]
  },
  {
   "cell_type": "markdown",
   "metadata": {},
   "source": [
    "___\n",
    "<a style='color:blue'> **.join** </a> (  ) - Объединение датафреймов\n",
    "- `other=` - Название датафрейма, который объединяем с исходным\n",
    "- `on= `- Название столбца, который содержит ключи\n",
    "- ` how=` - Способ объединения ('inner', 'left', 'right', 'outer')\n",
    "- `lsuffix` - Суффикс к столбцам левой таблицы, названия которых совпадают\n",
    "- `rsuffix` - Суффикс к столбцам правой таблицы, названия которых совпадают\n",
    "- _other_df_`.set_index` ( _col name_ )  - назначает столбец _col name_ индексом датафрейма, который объединяется с исходным  \n",
    "<img src='data/join_s.png' width=800></img>\n"
   ]
  },
  {
   "cell_type": "code",
   "execution_count": 67,
   "metadata": {},
   "outputs": [
    {
     "data": {
      "text/html": [
       "<div>\n",
       "<style scoped>\n",
       "    .dataframe tbody tr th:only-of-type {\n",
       "        vertical-align: middle;\n",
       "    }\n",
       "\n",
       "    .dataframe tbody tr th {\n",
       "        vertical-align: top;\n",
       "    }\n",
       "\n",
       "    .dataframe thead th {\n",
       "        text-align: right;\n",
       "    }\n",
       "</style>\n",
       "<table border=\"1\" class=\"dataframe\">\n",
       "  <thead>\n",
       "    <tr style=\"text-align: right;\">\n",
       "      <th></th>\n",
       "      <th>country</th>\n",
       "      <th>joined_data</th>\n",
       "    </tr>\n",
       "  </thead>\n",
       "  <tbody>\n",
       "    <tr>\n",
       "      <th>0</th>\n",
       "      <td>Англия</td>\n",
       "      <td>1</td>\n",
       "    </tr>\n",
       "    <tr>\n",
       "      <th>1</th>\n",
       "      <td>Канада</td>\n",
       "      <td>2</td>\n",
       "    </tr>\n",
       "    <tr>\n",
       "      <th>2</th>\n",
       "      <td>США</td>\n",
       "      <td>3</td>\n",
       "    </tr>\n",
       "    <tr>\n",
       "      <th>3</th>\n",
       "      <td>Россия</td>\n",
       "      <td>4</td>\n",
       "    </tr>\n",
       "    <tr>\n",
       "      <th>4</th>\n",
       "      <td>Беларусь</td>\n",
       "      <td>5</td>\n",
       "    </tr>\n",
       "    <tr>\n",
       "      <th>5</th>\n",
       "      <td>Украина</td>\n",
       "      <td>6</td>\n",
       "    </tr>\n",
       "  </tbody>\n",
       "</table>\n",
       "</div>"
      ],
      "text/plain": [
       "    country  joined_data\n",
       "0    Англия            1\n",
       "1    Канада            2\n",
       "2       США            3\n",
       "3    Россия            4\n",
       "4  Беларусь            5\n",
       "5   Украина            6"
      ]
     },
     "metadata": {},
     "output_type": "display_data"
    },
    {
     "data": {
      "text/html": [
       "<div>\n",
       "<style scoped>\n",
       "    .dataframe tbody tr th:only-of-type {\n",
       "        vertical-align: middle;\n",
       "    }\n",
       "\n",
       "    .dataframe tbody tr th {\n",
       "        vertical-align: top;\n",
       "    }\n",
       "\n",
       "    .dataframe thead th {\n",
       "        text-align: right;\n",
       "    }\n",
       "</style>\n",
       "<table border=\"1\" class=\"dataframe\">\n",
       "  <thead>\n",
       "    <tr style=\"text-align: right;\">\n",
       "      <th></th>\n",
       "      <th>country</th>\n",
       "      <th>population</th>\n",
       "      <th>square</th>\n",
       "    </tr>\n",
       "  </thead>\n",
       "  <tbody>\n",
       "    <tr>\n",
       "      <th>UK</th>\n",
       "      <td>Англия</td>\n",
       "      <td>56.29</td>\n",
       "      <td>133396</td>\n",
       "    </tr>\n",
       "    <tr>\n",
       "      <th>CA</th>\n",
       "      <td>Канада</td>\n",
       "      <td>38.05</td>\n",
       "      <td>9984670</td>\n",
       "    </tr>\n",
       "    <tr>\n",
       "      <th>US</th>\n",
       "      <td>США</td>\n",
       "      <td>322.28</td>\n",
       "      <td>9826630</td>\n",
       "    </tr>\n",
       "    <tr>\n",
       "      <th>RU</th>\n",
       "      <td>Россия</td>\n",
       "      <td>56.29</td>\n",
       "      <td>133396</td>\n",
       "    </tr>\n",
       "    <tr>\n",
       "      <th>BE</th>\n",
       "      <td>Беларусь</td>\n",
       "      <td>38.05</td>\n",
       "      <td>9984670</td>\n",
       "    </tr>\n",
       "    <tr>\n",
       "      <th>UK</th>\n",
       "      <td>Украина</td>\n",
       "      <td>322.28</td>\n",
       "      <td>9826630</td>\n",
       "    </tr>\n",
       "  </tbody>\n",
       "</table>\n",
       "</div>"
      ],
      "text/plain": [
       "     country  population   square\n",
       "UK    Англия       56.29   133396\n",
       "CA    Канада       38.05  9984670\n",
       "US       США      322.28  9826630\n",
       "RU    Россия       56.29   133396\n",
       "BE  Беларусь       38.05  9984670\n",
       "UK   Украина      322.28  9826630"
      ]
     },
     "metadata": {},
     "output_type": "display_data"
    },
    {
     "data": {
      "text/html": [
       "<div>\n",
       "<style scoped>\n",
       "    .dataframe tbody tr th:only-of-type {\n",
       "        vertical-align: middle;\n",
       "    }\n",
       "\n",
       "    .dataframe tbody tr th {\n",
       "        vertical-align: top;\n",
       "    }\n",
       "\n",
       "    .dataframe thead th {\n",
       "        text-align: right;\n",
       "    }\n",
       "</style>\n",
       "<table border=\"1\" class=\"dataframe\">\n",
       "  <thead>\n",
       "    <tr style=\"text-align: right;\">\n",
       "      <th></th>\n",
       "      <th>country</th>\n",
       "      <th>population</th>\n",
       "      <th>square</th>\n",
       "      <th>joined_data</th>\n",
       "    </tr>\n",
       "  </thead>\n",
       "  <tbody>\n",
       "    <tr>\n",
       "      <th>UK</th>\n",
       "      <td>Англия</td>\n",
       "      <td>56.29</td>\n",
       "      <td>133396</td>\n",
       "      <td>1</td>\n",
       "    </tr>\n",
       "    <tr>\n",
       "      <th>CA</th>\n",
       "      <td>Канада</td>\n",
       "      <td>38.05</td>\n",
       "      <td>9984670</td>\n",
       "      <td>2</td>\n",
       "    </tr>\n",
       "    <tr>\n",
       "      <th>US</th>\n",
       "      <td>США</td>\n",
       "      <td>322.28</td>\n",
       "      <td>9826630</td>\n",
       "      <td>3</td>\n",
       "    </tr>\n",
       "    <tr>\n",
       "      <th>RU</th>\n",
       "      <td>Россия</td>\n",
       "      <td>56.29</td>\n",
       "      <td>133396</td>\n",
       "      <td>4</td>\n",
       "    </tr>\n",
       "    <tr>\n",
       "      <th>BE</th>\n",
       "      <td>Беларусь</td>\n",
       "      <td>38.05</td>\n",
       "      <td>9984670</td>\n",
       "      <td>5</td>\n",
       "    </tr>\n",
       "    <tr>\n",
       "      <th>UK</th>\n",
       "      <td>Украина</td>\n",
       "      <td>322.28</td>\n",
       "      <td>9826630</td>\n",
       "      <td>6</td>\n",
       "    </tr>\n",
       "  </tbody>\n",
       "</table>\n",
       "</div>"
      ],
      "text/plain": [
       "     country  population   square  joined_data\n",
       "UK    Англия       56.29   133396            1\n",
       "CA    Канада       38.05  9984670            2\n",
       "US       США      322.28  9826630            3\n",
       "RU    Россия       56.29   133396            4\n",
       "BE  Беларусь       38.05  9984670            5\n",
       "UK   Украина      322.28  9826630            6"
      ]
     },
     "execution_count": 67,
     "metadata": {},
     "output_type": "execute_result"
    }
   ],
   "source": [
    "countries = list(df_concated['country'])\n",
    "df_to_join = pd.DataFrame({'country': countries, 'joined_data': [1,2,3,4,5,6]})\n",
    "display(df_to_join, df_concated)\n",
    "df_concated.join(df_to_join.set_index('country'), on='country')\n"
   ]
  },
  {
   "cell_type": "markdown",
   "metadata": {},
   "source": [
    "___\n",
    "<a style='color:blue'> **.merge** </a> (  ) - Объединение датафреймов\n",
    "- `on= `- Название столбца, который содержит ключи  \n",
    "- ` how=` - Способ объединения ('inner', 'left', 'right','outer')\n",
    "- `left_index=` True - Для объединения обоих датафремов по индексу\n",
    "- `right_index=` True - Для объединения обоих датафремов по индексу\n",
    "\n"
   ]
  },
  {
   "cell_type": "code",
   "execution_count": 68,
   "metadata": {},
   "outputs": [
    {
     "data": {
      "text/html": [
       "<div>\n",
       "<style scoped>\n",
       "    .dataframe tbody tr th:only-of-type {\n",
       "        vertical-align: middle;\n",
       "    }\n",
       "\n",
       "    .dataframe tbody tr th {\n",
       "        vertical-align: top;\n",
       "    }\n",
       "\n",
       "    .dataframe thead th {\n",
       "        text-align: right;\n",
       "    }\n",
       "</style>\n",
       "<table border=\"1\" class=\"dataframe\">\n",
       "  <thead>\n",
       "    <tr style=\"text-align: right;\">\n",
       "      <th></th>\n",
       "      <th>country</th>\n",
       "      <th>joined_data</th>\n",
       "    </tr>\n",
       "  </thead>\n",
       "  <tbody>\n",
       "    <tr>\n",
       "      <th>0</th>\n",
       "      <td>Англия</td>\n",
       "      <td>1</td>\n",
       "    </tr>\n",
       "    <tr>\n",
       "      <th>1</th>\n",
       "      <td>Канада</td>\n",
       "      <td>2</td>\n",
       "    </tr>\n",
       "    <tr>\n",
       "      <th>2</th>\n",
       "      <td>США</td>\n",
       "      <td>3</td>\n",
       "    </tr>\n",
       "    <tr>\n",
       "      <th>3</th>\n",
       "      <td>Россия</td>\n",
       "      <td>4</td>\n",
       "    </tr>\n",
       "    <tr>\n",
       "      <th>4</th>\n",
       "      <td>Беларусь</td>\n",
       "      <td>5</td>\n",
       "    </tr>\n",
       "    <tr>\n",
       "      <th>5</th>\n",
       "      <td>Украина</td>\n",
       "      <td>6</td>\n",
       "    </tr>\n",
       "  </tbody>\n",
       "</table>\n",
       "</div>"
      ],
      "text/plain": [
       "    country  joined_data\n",
       "0    Англия            1\n",
       "1    Канада            2\n",
       "2       США            3\n",
       "3    Россия            4\n",
       "4  Беларусь            5\n",
       "5   Украина            6"
      ]
     },
     "metadata": {},
     "output_type": "display_data"
    },
    {
     "data": {
      "text/html": [
       "<div>\n",
       "<style scoped>\n",
       "    .dataframe tbody tr th:only-of-type {\n",
       "        vertical-align: middle;\n",
       "    }\n",
       "\n",
       "    .dataframe tbody tr th {\n",
       "        vertical-align: top;\n",
       "    }\n",
       "\n",
       "    .dataframe thead th {\n",
       "        text-align: right;\n",
       "    }\n",
       "</style>\n",
       "<table border=\"1\" class=\"dataframe\">\n",
       "  <thead>\n",
       "    <tr style=\"text-align: right;\">\n",
       "      <th></th>\n",
       "      <th>country</th>\n",
       "      <th>population</th>\n",
       "      <th>square</th>\n",
       "    </tr>\n",
       "  </thead>\n",
       "  <tbody>\n",
       "    <tr>\n",
       "      <th>UK</th>\n",
       "      <td>Англия</td>\n",
       "      <td>56.29</td>\n",
       "      <td>133396</td>\n",
       "    </tr>\n",
       "    <tr>\n",
       "      <th>CA</th>\n",
       "      <td>Канада</td>\n",
       "      <td>38.05</td>\n",
       "      <td>9984670</td>\n",
       "    </tr>\n",
       "    <tr>\n",
       "      <th>US</th>\n",
       "      <td>США</td>\n",
       "      <td>322.28</td>\n",
       "      <td>9826630</td>\n",
       "    </tr>\n",
       "    <tr>\n",
       "      <th>RU</th>\n",
       "      <td>Россия</td>\n",
       "      <td>56.29</td>\n",
       "      <td>133396</td>\n",
       "    </tr>\n",
       "    <tr>\n",
       "      <th>BE</th>\n",
       "      <td>Беларусь</td>\n",
       "      <td>38.05</td>\n",
       "      <td>9984670</td>\n",
       "    </tr>\n",
       "    <tr>\n",
       "      <th>UK</th>\n",
       "      <td>Украина</td>\n",
       "      <td>322.28</td>\n",
       "      <td>9826630</td>\n",
       "    </tr>\n",
       "  </tbody>\n",
       "</table>\n",
       "</div>"
      ],
      "text/plain": [
       "     country  population   square\n",
       "UK    Англия       56.29   133396\n",
       "CA    Канада       38.05  9984670\n",
       "US       США      322.28  9826630\n",
       "RU    Россия       56.29   133396\n",
       "BE  Беларусь       38.05  9984670\n",
       "UK   Украина      322.28  9826630"
      ]
     },
     "metadata": {},
     "output_type": "display_data"
    },
    {
     "data": {
      "text/html": [
       "<div>\n",
       "<style scoped>\n",
       "    .dataframe tbody tr th:only-of-type {\n",
       "        vertical-align: middle;\n",
       "    }\n",
       "\n",
       "    .dataframe tbody tr th {\n",
       "        vertical-align: top;\n",
       "    }\n",
       "\n",
       "    .dataframe thead th {\n",
       "        text-align: right;\n",
       "    }\n",
       "</style>\n",
       "<table border=\"1\" class=\"dataframe\">\n",
       "  <thead>\n",
       "    <tr style=\"text-align: right;\">\n",
       "      <th></th>\n",
       "      <th>country</th>\n",
       "      <th>population</th>\n",
       "      <th>square</th>\n",
       "      <th>joined_data</th>\n",
       "    </tr>\n",
       "  </thead>\n",
       "  <tbody>\n",
       "    <tr>\n",
       "      <th>0</th>\n",
       "      <td>Англия</td>\n",
       "      <td>56.29</td>\n",
       "      <td>133396</td>\n",
       "      <td>1</td>\n",
       "    </tr>\n",
       "    <tr>\n",
       "      <th>1</th>\n",
       "      <td>Канада</td>\n",
       "      <td>38.05</td>\n",
       "      <td>9984670</td>\n",
       "      <td>2</td>\n",
       "    </tr>\n",
       "    <tr>\n",
       "      <th>2</th>\n",
       "      <td>США</td>\n",
       "      <td>322.28</td>\n",
       "      <td>9826630</td>\n",
       "      <td>3</td>\n",
       "    </tr>\n",
       "    <tr>\n",
       "      <th>3</th>\n",
       "      <td>Россия</td>\n",
       "      <td>56.29</td>\n",
       "      <td>133396</td>\n",
       "      <td>4</td>\n",
       "    </tr>\n",
       "    <tr>\n",
       "      <th>4</th>\n",
       "      <td>Беларусь</td>\n",
       "      <td>38.05</td>\n",
       "      <td>9984670</td>\n",
       "      <td>5</td>\n",
       "    </tr>\n",
       "    <tr>\n",
       "      <th>5</th>\n",
       "      <td>Украина</td>\n",
       "      <td>322.28</td>\n",
       "      <td>9826630</td>\n",
       "      <td>6</td>\n",
       "    </tr>\n",
       "  </tbody>\n",
       "</table>\n",
       "</div>"
      ],
      "text/plain": [
       "    country  population   square  joined_data\n",
       "0    Англия       56.29   133396            1\n",
       "1    Канада       38.05  9984670            2\n",
       "2       США      322.28  9826630            3\n",
       "3    Россия       56.29   133396            4\n",
       "4  Беларусь       38.05  9984670            5\n",
       "5   Украина      322.28  9826630            6"
      ]
     },
     "execution_count": 68,
     "metadata": {},
     "output_type": "execute_result"
    }
   ],
   "source": [
    "countries = list(df_concated['country'])\n",
    "df_to_join = pd.DataFrame({'country': countries, 'joined_data': [1,2,3,4,5,6]})\n",
    "display(df_to_join, df_concated)\n",
    "\n",
    "df_concated.merge(df_to_join, on='country', how='left')\n"
   ]
  },
  {
   "cell_type": "markdown",
   "metadata": {},
   "source": [
    "___\n",
    "<a style='color:blue'> **.drop_duplicates** </a> (  ) - Удаление дублирующих строк датафрейма "
   ]
  },
  {
   "cell_type": "code",
   "execution_count": 69,
   "metadata": {},
   "outputs": [
    {
     "data": {
      "text/html": [
       "<div>\n",
       "<style scoped>\n",
       "    .dataframe tbody tr th:only-of-type {\n",
       "        vertical-align: middle;\n",
       "    }\n",
       "\n",
       "    .dataframe tbody tr th {\n",
       "        vertical-align: top;\n",
       "    }\n",
       "\n",
       "    .dataframe thead th {\n",
       "        text-align: right;\n",
       "    }\n",
       "</style>\n",
       "<table border=\"1\" class=\"dataframe\">\n",
       "  <thead>\n",
       "    <tr style=\"text-align: right;\">\n",
       "      <th></th>\n",
       "      <th>square</th>\n",
       "      <th>country</th>\n",
       "      <th>population</th>\n",
       "    </tr>\n",
       "  </thead>\n",
       "  <tbody>\n",
       "    <tr>\n",
       "      <th>0</th>\n",
       "      <td>133396</td>\n",
       "      <td>Англия</td>\n",
       "      <td>56.29</td>\n",
       "    </tr>\n",
       "    <tr>\n",
       "      <th>1</th>\n",
       "      <td>9984670</td>\n",
       "      <td>Канада</td>\n",
       "      <td>38.05</td>\n",
       "    </tr>\n",
       "    <tr>\n",
       "      <th>2</th>\n",
       "      <td>9826630</td>\n",
       "      <td>США</td>\n",
       "      <td>322.28</td>\n",
       "    </tr>\n",
       "    <tr>\n",
       "      <th>3</th>\n",
       "      <td>17125191</td>\n",
       "      <td>Россия</td>\n",
       "      <td>146.24</td>\n",
       "    </tr>\n",
       "    <tr>\n",
       "      <th>4</th>\n",
       "      <td>603628</td>\n",
       "      <td>Украина</td>\n",
       "      <td>45.50</td>\n",
       "    </tr>\n",
       "    <tr>\n",
       "      <th>5</th>\n",
       "      <td>207600</td>\n",
       "      <td>Беларусь</td>\n",
       "      <td>9.50</td>\n",
       "    </tr>\n",
       "    <tr>\n",
       "      <th>6</th>\n",
       "      <td>2724902</td>\n",
       "      <td>Казахстан</td>\n",
       "      <td>17.04</td>\n",
       "    </tr>\n",
       "  </tbody>\n",
       "</table>\n",
       "</div>"
      ],
      "text/plain": [
       "     square    country  population\n",
       "0    133396     Англия       56.29\n",
       "1   9984670     Канада       38.05\n",
       "2   9826630        США      322.28\n",
       "3  17125191     Россия      146.24\n",
       "4    603628    Украина       45.50\n",
       "5    207600   Беларусь        9.50\n",
       "6   2724902  Казахстан       17.04"
      ]
     },
     "execution_count": 69,
     "metadata": {},
     "output_type": "execute_result"
    }
   ],
   "source": [
    "df.drop_duplicates()\n"
   ]
  },
  {
   "cell_type": "markdown",
   "metadata": {},
   "source": [
    "___\n",
    "## <h2  id='plot' style= 'color: violet'> Визуализация данных </h2>\n",
    "___\n",
    "___"
   ]
  },
  {
   "cell_type": "markdown",
   "metadata": {},
   "source": [
    "\n",
    "<a style='color:blue'> **.plot** </a> (  ) - Построение графиков\n",
    "* x - название признака, который будет отложен по оси абсцисс\n",
    "* y - название признака, который будет отложен по оси ординат\n",
    "* figsize - размер графика (кортеж из ширины и высоты в дюймах)\n",
    "* **kind** - тип визуализации. Основные типы:\n",
    "    * 'line' - линейный график (стоит по умолчанию)\n",
    "    * 'bar' - столбчатая диаграмма\n",
    "    * 'barh' - горизонтальная столбчатая диаграмма\n",
    "    * 'hist' - гистограмма\n",
    "    * 'box' - коробчатая диаграмма (boxplot)\n",
    "    * 'pie' - круговая диаграмма\n",
    "    * 'scatter' - диаграмма рассеяния\n",
    "* colormap - тип цветовой схемы\n",
    "* grid - отображение сетки (по умолчанию False)\n",
    "* legend - отображение легенды (по умолчанию False)\n",
    "* title - название графика\n",
    "* color - цвет"
   ]
  },
  {
   "cell_type": "code",
   "execution_count": 70,
   "metadata": {},
   "outputs": [
    {
     "data": {
      "text/html": [
       "<div>\n",
       "<style scoped>\n",
       "    .dataframe tbody tr th:only-of-type {\n",
       "        vertical-align: middle;\n",
       "    }\n",
       "\n",
       "    .dataframe tbody tr th {\n",
       "        vertical-align: top;\n",
       "    }\n",
       "\n",
       "    .dataframe thead th {\n",
       "        text-align: right;\n",
       "    }\n",
       "</style>\n",
       "<table border=\"1\" class=\"dataframe\">\n",
       "  <thead>\n",
       "    <tr style=\"text-align: right;\">\n",
       "      <th></th>\n",
       "      <th>square</th>\n",
       "      <th>country</th>\n",
       "      <th>population</th>\n",
       "    </tr>\n",
       "  </thead>\n",
       "  <tbody>\n",
       "    <tr>\n",
       "      <th>0</th>\n",
       "      <td>133396</td>\n",
       "      <td>Англия</td>\n",
       "      <td>56.29</td>\n",
       "    </tr>\n",
       "    <tr>\n",
       "      <th>1</th>\n",
       "      <td>9984670</td>\n",
       "      <td>Канада</td>\n",
       "      <td>38.05</td>\n",
       "    </tr>\n",
       "    <tr>\n",
       "      <th>2</th>\n",
       "      <td>9826630</td>\n",
       "      <td>США</td>\n",
       "      <td>322.28</td>\n",
       "    </tr>\n",
       "    <tr>\n",
       "      <th>3</th>\n",
       "      <td>17125191</td>\n",
       "      <td>Россия</td>\n",
       "      <td>146.24</td>\n",
       "    </tr>\n",
       "    <tr>\n",
       "      <th>4</th>\n",
       "      <td>603628</td>\n",
       "      <td>Украина</td>\n",
       "      <td>45.50</td>\n",
       "    </tr>\n",
       "    <tr>\n",
       "      <th>5</th>\n",
       "      <td>207600</td>\n",
       "      <td>Беларусь</td>\n",
       "      <td>9.50</td>\n",
       "    </tr>\n",
       "    <tr>\n",
       "      <th>6</th>\n",
       "      <td>2724902</td>\n",
       "      <td>Казахстан</td>\n",
       "      <td>17.04</td>\n",
       "    </tr>\n",
       "  </tbody>\n",
       "</table>\n",
       "</div>"
      ],
      "text/plain": [
       "     square    country  population\n",
       "0    133396     Англия       56.29\n",
       "1   9984670     Канада       38.05\n",
       "2   9826630        США      322.28\n",
       "3  17125191     Россия      146.24\n",
       "4    603628    Украина       45.50\n",
       "5    207600   Беларусь        9.50\n",
       "6   2724902  Казахстан       17.04"
      ]
     },
     "execution_count": 70,
     "metadata": {},
     "output_type": "execute_result"
    },
    {
     "data": {
      "image/png": "[encoded data removed]",
      "text/plain": [
       "<Figure size 640x480 with 1 Axes>"
      ]
     },
     "metadata": {},
     "output_type": "display_data"
    }
   ],
   "source": [
    "df.plot(x='country', y=['population'], kind='barh', colormap='rainbow', title='Plot')\n",
    "df\n"
   ]
  },
  {
   "cell_type": "markdown",
   "metadata": {},
   "source": [
    "## <h2  id='file' style= 'color: violet'> Работа с файлами </h2>\n",
    "___\n",
    "___"
   ]
  },
  {
   "cell_type": "markdown",
   "metadata": {},
   "source": [
    "> <a style='color:red'> **CSV** </a>  \n",
    "___"
   ]
  },
  {
   "cell_type": "markdown",
   "metadata": {},
   "source": [
    "___\n",
    "<a style='color:blue'> **.to_csv** </a> ( **`path_or_buf=`**'* path* ', **`sep=`**' *,* ' , **`decimal=`**' *.* ', **`columns=`**[ *c1,c2,c3* ], **`index=`** *True* ) - **Запись данных** DataFrame в файл-CSV\n",
    "- **`path_or_buf=`** - назначает путь к файлу\n",
    "- **`index_col=`** - назначает колонку в качестве индексов\n",
    "- **`sep=`** - назанчает разделить данных в выходном файле csv\n",
    "- **`decimal=`** - назначает разделитель дробной части\n",
    "- **`columns=`** - определяет список столбцов, внесенных в файл\n",
    "- **`index=`** - назаначает индексы строкам\n",
    "- **`compresson=`** - архивирует файл"
   ]
  },
  {
   "cell_type": "code",
   "execution_count": 71,
   "metadata": {},
   "outputs": [],
   "source": [
    "import pandas as pd\n",
    "\n",
    "countries_df = pd.DataFrame({\n",
    "    'country': ['Англия', 'Канада', 'США', 'Россия', 'Украина', 'Беларусь', 'Казахстан'],\n",
    "    'population': [56.29, 38.05, 322.28, 146.24, 45.5, 9.5, 17.04],\n",
    "    'square': [133396, 9984670, 9826630, 17125191, 603628, 207600, 2724902]\n",
    "})\n",
    "\n",
    "countries_df.to_csv('data/countries.csv', index=False, sep=';')\n",
    "\n",
    "compression_params = dict(method='zip', archive_name='countries.csv')\n",
    "countries_df.to_csv('data/countries.zip', index=False, sep=';', compression=compression_params)\n"
   ]
  },
  {
   "cell_type": "markdown",
   "metadata": {},
   "source": [
    "___\n",
    "<a style='color:blue'> **.read_csv** </a> ( **`filepath_or_buffer=`**'* path* ', **`sep=`**' *,* ', **`skiprows=`** *number*) - **Чтение данных** файл-CSV в DataFrame  \n",
    "- **`filepath_or_buffer=`** - путь или ссылка к файлу\n",
    "- **`sep=`** - назанчает разделить данных во входном файле csv\n",
    "- **`skiprows=`** - назначает количество `первых строк` для игнорирования при чтении\n",
    "- **`usecols=`** - назначает названия столбцов для загрузки\n",
    "- **`index_col=`** - назначает столбец-индекс\n",
    "- **`dtype=`** - назначает типы данных для указанных столбцов {'col':type}\n",
    "\n",
    "\n"
   ]
  },
  {
   "cell_type": "code",
   "execution_count": 72,
   "metadata": {},
   "outputs": [
    {
     "name": "stdout",
     "output_type": "stream",
     "text": [
      "     country  population      square\n",
      "0     Англия       56.29    133396.0\n",
      "1     Канада       38.05   9984670.0\n",
      "2        США      322.28   9826630.0\n",
      "3     Россия      146.24  17125191.0\n",
      "4    Украина       45.50    603628.0\n",
      "5   Беларусь        9.50    207600.0\n",
      "6  Казахстан       17.04   2724902.0\n"
     ]
    }
   ],
   "source": [
    "df = pd.read_csv('data/countries.csv', sep=';', dtype={'square':float})\n",
    "print(df)\n"
   ]
  },
  {
   "cell_type": "markdown",
   "metadata": {},
   "source": [
    "___\n",
    "> <a style='color:red'> **EXCEL** </a>  \n",
    "___"
   ]
  },
  {
   "cell_type": "markdown",
   "metadata": {},
   "source": [
    "___\n",
    "<a style='color:blue'> **.to_excel** </a> ( **`excel_writer=`**'* path* ', **`columns=`**[ *c1,c2,c3* ], **`index=`** *True* , **`engine=`**'openpyxl') - **Запись данных** DataFrame в файл-excel\n",
    "- **`excel_writer=`** - назначает путь к файлу или выбирает существующий excel-файл\n",
    "- **`columns=`** - определяет список столбцов, внесенных в файл\n",
    "- **`index=`** - назаначает индексы строкам\n",
    "- **`engine=`** - назначает движок для чтения файлов excel, если не установлен, то установить (через `pip install openpyxl`)\n",
    "- **`sheet_name=`** - назаначает название листу\n"
   ]
  },
  {
   "cell_type": "code",
   "execution_count": 73,
   "metadata": {},
   "outputs": [],
   "source": [
    "countries_df.to_excel('data/df_to_excel.xlsx',engine='openpyxl', sheet_name='second', columns=['country', 'square'])\n"
   ]
  },
  {
   "cell_type": "markdown",
   "metadata": {},
   "source": [
    "___\n",
    "<a style='color:blue'> **.read_excel** </a> ( **`io=`**'* path* ', **`names=`**[ *c1,c2,c3* ], **`nrows=`** *number* , **`engine=`**'openpyxl') - **Чтение данных** из файла-excel в DataFrame\n",
    "- **`io=`** - назначает путь к файлу\n",
    "- **`names=`** - определяет список столбцов для чтения из файла\n",
    "- **`nrows=`** - назаначает количество строк для чтения из файла\n",
    "- **`engine=`** - назначает движок для чтения файлов excel, если не установлен, то установить (через `pip install openpyxl`)\n",
    "- **`sheet_name=`** - выбирает название листа для чтения\n",
    "- **`na_values=`** - назначаются значения, которые будут считаться пропусками\n"
   ]
  },
  {
   "cell_type": "code",
   "execution_count": 74,
   "metadata": {},
   "outputs": [
    {
     "name": "stdout",
     "output_type": "stream",
     "text": [
      "   Unnamed: 0    country    square\n",
      "0           0     Англия    133396\n",
      "1           1     Канада   9984670\n",
      "2           2        США   9826630\n",
      "3           3     Россия  17125191\n",
      "4           4    Украина    603628\n",
      "5           5   Беларусь    207600\n",
      "6           6  Казахстан   2724902\n"
     ]
    }
   ],
   "source": [
    "df = pd.read_excel('data/df_to_excel.xlsx')\n",
    "print(df)\n"
   ]
  },
  {
   "cell_type": "markdown",
   "metadata": {},
   "source": [
    "___\n",
    "> <a style='color:red'> **JSON** </a>  \n",
    "___"
   ]
  },
  {
   "cell_type": "markdown",
   "metadata": {},
   "source": [
    "___\n",
    "<a style='color:blue'> **.to_json** </a> ( **`path_or_buf=`**'* путь*) - **Запись данных** DataFrame в файл-json\n",
    "- **`path_or_buf=`** - назначает путь к файлу \n"
   ]
  },
  {
   "cell_type": "code",
   "execution_count": 75,
   "metadata": {},
   "outputs": [],
   "source": [
    "countries_df.to_json('data/df_to_json.js' )\n"
   ]
  },
  {
   "cell_type": "markdown",
   "metadata": {},
   "source": [
    "___\n",
    "<a style='color:blue'> **.read_json** </a> ( **`path_or_buf=`**'* путь* ', **`nrows=`** *number*) - **Чтение данных** json  в DataFrame\n",
    "- **`path_or_buf=`** - путь или ссылка к файлу\n",
    "- **`nrows=`** - назначает количество `первых строк` для чтения"
   ]
  },
  {
   "cell_type": "code",
   "execution_count": 76,
   "metadata": {},
   "outputs": [
    {
     "name": "stdout",
     "output_type": "stream",
     "text": [
      "     country  population    square\n",
      "0     Англия       56.29    133396\n",
      "1     Канада       38.05   9984670\n",
      "2        США      322.28   9826630\n",
      "3     Россия      146.24  17125191\n",
      "4    Украина       45.50    603628\n",
      "5   Беларусь        9.50    207600\n",
      "6  Казахстан       17.04   2724902\n"
     ]
    }
   ],
   "source": [
    "df = pd.read_json('data/df_to_json.js')\n",
    "print(df)\n"
   ]
  },
  {
   "cell_type": "code",
   "execution_count": 78,
   "metadata": {},
   "outputs": [
    {
     "data": {
      "text/html": [
       "<div>\n",
       "<style scoped>\n",
       "    .dataframe tbody tr th:only-of-type {\n",
       "        vertical-align: middle;\n",
       "    }\n",
       "\n",
       "    .dataframe tbody tr th {\n",
       "        vertical-align: top;\n",
       "    }\n",
       "\n",
       "    .dataframe thead th {\n",
       "        text-align: right;\n",
       "    }\n",
       "</style>\n",
       "<table border=\"1\" class=\"dataframe\">\n",
       "  <thead>\n",
       "    <tr style=\"text-align: right;\">\n",
       "      <th></th>\n",
       "      <th>population</th>\n",
       "      <th>square</th>\n",
       "    </tr>\n",
       "  </thead>\n",
       "  <tbody>\n",
       "    <tr>\n",
       "      <th>population</th>\n",
       "      <td>1.0</td>\n",
       "      <td>1.0</td>\n",
       "    </tr>\n",
       "    <tr>\n",
       "      <th>square</th>\n",
       "      <td>1.0</td>\n",
       "      <td>1.0</td>\n",
       "    </tr>\n",
       "  </tbody>\n",
       "</table>\n",
       "</div>"
      ],
      "text/plain": [
       "            population  square\n",
       "population         1.0     1.0\n",
       "square             1.0     1.0"
      ]
     },
     "execution_count": 78,
     "metadata": {},
     "output_type": "execute_result"
    }
   ],
   "source": [
    "df.corr(numeric_only=True).round()"
   ]
  },
  {
   "cell_type": "markdown",
   "metadata": {},
   "source": [
    "___\n",
    "# [Оглавление](#cont)"
   ]
  }
 ],
 "metadata": {
  "kernelspec": {
   "display_name": "Python 3",
   "language": "python",
   "name": "python3"
  },
  "language_info": {
   "codemirror_mode": {
    "name": "ipython",
    "version": 3
   },
   "file_extension": ".py",
   "mimetype": "text/x-python",
   "name": "python",
   "nbconvert_exporter": "python",
   "pygments_lexer": "ipython3",
   "version": "3.11.1"
  },
  "orig_nbformat": 4
 },
 "nbformat": 4,
 "nbformat_minor": 2
}
