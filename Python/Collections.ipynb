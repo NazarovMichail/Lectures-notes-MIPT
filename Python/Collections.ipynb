{
 "cells": [
  {
   "cell_type": "markdown",
   "metadata": {},
   "source": [
    "# Модуль *`Collections`*\n",
    "<img src='data/pythonlogo.png'></img>\n",
    "___\n",
    "___"
   ]
  },
  {
   "cell_type": "markdown",
   "metadata": {},
   "source": [
    "> Оглавление  \n",
    "* [Counter](#counter)\n",
    "* [defaultdict](#default)\n",
    "* [deque](#deque)\n",
    "___"
   ]
  },
  {
   "cell_type": "markdown",
   "metadata": {},
   "source": [
    "## <center><a id=\"counter\" style='color:red'>**Counter**</a>(iter)\n",
    "объект , где **ключ - элемент** итерируемого объекта *iter*, **значение - количество повторений** каждого элемента\n",
    "___"
   ]
  },
  {
   "cell_type": "code",
   "execution_count": 1,
   "metadata": {},
   "outputs": [
    {
     "name": "stdout",
     "output_type": "stream",
     "text": [
      "Counter({'red': 3, 'black': 3, 'blue': 2, 'white': 1})\n"
     ]
    }
   ],
   "source": [
    "from collections import Counter \n",
    "\n",
    "cars = ['red', 'blue', 'black', 'black', 'black', 'red', 'blue', 'red', 'white']\n",
    "count = Counter(cars)\n",
    "print(count)"
   ]
  },
  {
   "cell_type": "markdown",
   "metadata": {},
   "source": [
    "Counter.`values()` - возвращает значения (количество повторений элементов)"
   ]
  },
  {
   "cell_type": "code",
   "execution_count": 2,
   "metadata": {},
   "outputs": [
    {
     "name": "stdout",
     "output_type": "stream",
     "text": [
      "dict_values([3, 2, 3, 1])\n"
     ]
    }
   ],
   "source": [
    "cars = ['red', 'blue', 'black', 'black', 'black', 'red', 'blue', 'red', 'white']\n",
    "count = Counter(cars).values()\n",
    "print(count)"
   ]
  },
  {
   "cell_type": "markdown",
   "metadata": {},
   "source": [
    "*Counter.`elements()` - **распаковывает** элементы в счетчике (ИТЕРАТОР)\n",
    "\n",
    "`list` (**Counter(iter**)) - возвращает **уникальные** элементы в счетчике"
   ]
  },
  {
   "cell_type": "code",
   "execution_count": 3,
   "metadata": {},
   "outputs": [
    {
     "name": "stdout",
     "output_type": "stream",
     "text": [
      "red red red blue blue black black black white\n",
      "['red', 'blue', 'black', 'white']\n"
     ]
    }
   ],
   "source": [
    "cars = ['red', 'blue', 'black', 'black', 'black', 'red', 'blue', 'red', 'white']\n",
    "count = Counter(cars).elements()\n",
    "\n",
    "print(*count)\n",
    "print(list(Counter(cars)))"
   ]
  },
  {
   "cell_type": "markdown",
   "metadata": {},
   "source": [
    "`СЛОЖЕНИЕ` объектов **Count**"
   ]
  },
  {
   "cell_type": "code",
   "execution_count": 4,
   "metadata": {},
   "outputs": [
    {
     "name": "stdout",
     "output_type": "stream",
     "text": [
      "Counter({'violet': 6, 'red': 3, 'black': 3, 'blue': 2, 'white': 1})\n"
     ]
    }
   ],
   "source": [
    "cars1 = ['red', 'blue', 'black', 'black', 'black', 'red', 'blue', 'red', 'white']\n",
    "cars2 = ['violet', 'violet', 'violet', 'violet', 'violet', 'violet', ]\n",
    "\n",
    "count1 = Counter(cars1)\n",
    "count2 = Counter(cars2)\n",
    "\n",
    "print(count1 + count2)\n"
   ]
  },
  {
   "cell_type": "markdown",
   "metadata": {},
   "source": [
    "`ВЫЧИТАНИЕ` объектов **Count**"
   ]
  },
  {
   "cell_type": "code",
   "execution_count": 5,
   "metadata": {},
   "outputs": [
    {
     "name": "stdout",
     "output_type": "stream",
     "text": [
      "Выводит только положительные значения: Counter({'black': 2, 'red': 1, 'blue': 1})\n",
      "ВЫЧИТАНИЕ по всем правилам: Counter({'red': 0, 'blue': 0, 'black': -1})\n"
     ]
    }
   ],
   "source": [
    "cars1 = ['red', 'blue', 'black']\n",
    "cars2 =  ['red', 'blue']\n",
    "\n",
    "count1 = Counter(cars1)\n",
    "count2 = Counter(cars2)\n",
    "\n",
    "count2.subtract(count1)\n",
    "print(f'Выводит только положительные значения: {count1 - count2}')\n",
    "print(f'ВЫЧИТАНИЕ по всем правилам: {count2}')"
   ]
  },
  {
   "cell_type": "markdown",
   "metadata": {},
   "source": [
    "Counter.`most_common(number)` - **возвращает** количество **number** наиболее часто встречаемыех элементов в счетчике "
   ]
  },
  {
   "cell_type": "code",
   "execution_count": 6,
   "metadata": {},
   "outputs": [
    {
     "name": "stdout",
     "output_type": "stream",
     "text": [
      "[('red', 3), ('black', 3)]\n"
     ]
    }
   ],
   "source": [
    "cars = ['red', 'blue', 'black', 'black', 'black', 'red', 'blue', 'red', 'white']\n",
    "\n",
    "count = Counter(cars).most_common(2)\n",
    "print(count)"
   ]
  },
  {
   "cell_type": "markdown",
   "metadata": {},
   "source": [
    "## <center><a id=\"default\" style='color:red'>**defaultdict**</a>(iter)\n",
    "объект, в качестве значения задается ПО УМОЛЧАНИЮ объект **iter**\n",
    "___"
   ]
  },
  {
   "cell_type": "code",
   "execution_count": 7,
   "metadata": {},
   "outputs": [
    {
     "name": "stdout",
     "output_type": "stream",
     "text": [
      "defaultdict(<class 'list'>, {1: ['one', 'two', 'three']})\n",
      "defaultdict(<class 'set'>, {1: {'two', 'one'}})\n"
     ]
    }
   ],
   "source": [
    "from collections import defaultdict\n",
    "\n",
    "dd_lst = defaultdict(list)\n",
    "\n",
    "dd_lst[1].append('one')\n",
    "dd_lst[1].append('two')\n",
    "dd_lst[1].append('three')\n",
    "\n",
    "\n",
    "dd_set = defaultdict(set)\n",
    "dd_set[1].add('one')\n",
    "dd_set[1].add('two')\n",
    "dd_set[1].add('one')\n",
    "\n",
    "\n",
    "print(dd_lst)\n",
    "print(dd_set)"
   ]
  },
  {
   "cell_type": "markdown",
   "metadata": {},
   "source": [
    "## <center><a id=\"deque\" style='color:red'>**deque**</a>()\n",
    "объект, в который можно **добавлять и извлекать** элементы как в **начало**, так и в **конец**\n",
    "___"
   ]
  },
  {
   "cell_type": "code",
   "execution_count": 8,
   "metadata": {},
   "outputs": [],
   "source": [
    "from collections import deque\n",
    "\n",
    "dq = deque()"
   ]
  },
  {
   "cell_type": "markdown",
   "metadata": {},
   "source": [
    "deque().`append` - **добавление** элемента в **конец** очереди  \n",
    "deque().`appendleft` - **добавление** элемента в **начало** очереди  \n",
    "deque().`pop` - **извлечение** элемента **из конца** очереди  \n",
    "deque().`popleft` - **извлечение** элемента **из начала** очереди  \n",
    "deque().`clear` - **удаляет** все элементы из очереди  \n",
    "\n",
    "\n",
    "\n",
    "\n",
    "\n",
    "\n",
    "\n"
   ]
  },
  {
   "cell_type": "code",
   "execution_count": 9,
   "metadata": {},
   "outputs": [
    {
     "name": "stdout",
     "output_type": "stream",
     "text": [
      "deque([1, 2])\n",
      "3 -> deque([3, 1, 2])\n",
      "deque([3, 1]) -> 2\n",
      "3 <- deque([1])\n"
     ]
    }
   ],
   "source": [
    "dq.clear()\n",
    "dq.append(1)\n",
    "dq.append(2)\n",
    "print(dq)\n",
    "\n",
    "dq.appendleft(3)\n",
    "print(f'3 -> {dq}')\n",
    "\n",
    "dq.pop()\n",
    "print(f'{dq} -> 2')\n",
    "\n",
    "dq.popleft()\n",
    "print(f'3 <- {dq}')\n"
   ]
  },
  {
   "cell_type": "markdown",
   "metadata": {},
   "source": [
    "deque().`extend` - **добавление** списка элементов в **конец** очереди  \n",
    "deque().`extendleft` - **добавление** списка элементов в **начало** очереди  "
   ]
  },
  {
   "cell_type": "code",
   "execution_count": 10,
   "metadata": {},
   "outputs": [
    {
     "name": "stdout",
     "output_type": "stream",
     "text": [
      "deque([5, 4, 3, 1, 2, 3])\n"
     ]
    }
   ],
   "source": [
    "dq.clear()\n",
    "dq.extend([1,2,3])\n",
    "dq.extendleft([3,4,5])\n",
    "print(dq)\n"
   ]
  },
  {
   "cell_type": "markdown",
   "metadata": {},
   "source": [
    "deque(`maxlen=`**number**) - создание очереди с **ограниченной максимальной длинной**, равной **number** элементов."
   ]
  },
  {
   "cell_type": "code",
   "execution_count": 11,
   "metadata": {},
   "outputs": [
    {
     "name": "stdout",
     "output_type": "stream",
     "text": [
      "FIFO\n",
      "1,2 <- deque([3, 4], maxlen=2)\n"
     ]
    }
   ],
   "source": [
    "lmtd_dq = deque([1,2,3,4], maxlen=2)\n",
    "print('FIFO')\n",
    "print(f'1,2 <- {lmtd_dq}')"
   ]
  },
  {
   "cell_type": "markdown",
   "metadata": {},
   "source": [
    "deque.`reverse`() - **переворачивает** все элементы в очереди"
   ]
  },
  {
   "cell_type": "code",
   "execution_count": 12,
   "metadata": {},
   "outputs": [
    {
     "name": "stdout",
     "output_type": "stream",
     "text": [
      "deque([1, 2, 3])\n",
      "deque([3, 2, 1])\n"
     ]
    }
   ],
   "source": [
    "dq = deque([1,2,3])\n",
    "print(dq)\n",
    "\n",
    "dq.reverse()\n",
    "print(dq)"
   ]
  },
  {
   "cell_type": "markdown",
   "metadata": {},
   "source": [
    "deque.`rotate`( **number** ) - **перекладывает** **number** количество элементов **из конца в начало** очереди"
   ]
  },
  {
   "cell_type": "code",
   "execution_count": 13,
   "metadata": {},
   "outputs": [
    {
     "name": "stdout",
     "output_type": "stream",
     "text": [
      "6,7 ->deque([6, 7, 1, 2, 3, 4, 5]) -> 6,7\n",
      "deque([2, 3, 4, 5, 6, 7, 1])\n"
     ]
    }
   ],
   "source": [
    "dq = deque([1,2,3,4,5,6,7])\n",
    "dq.rotate(2)\n",
    "print(f'6,7 ->{dq} -> 6,7')\n",
    "\n",
    "dq.rotate(-3)\n",
    "print(dq)"
   ]
  }
 ],
 "metadata": {
  "kernelspec": {
   "display_name": "Python 3",
   "language": "python",
   "name": "python3"
  },
  "language_info": {
   "codemirror_mode": {
    "name": "ipython",
    "version": 3
   },
   "file_extension": ".py",
   "mimetype": "text/x-python",
   "name": "python",
   "nbconvert_exporter": "python",
   "pygments_lexer": "ipython3",
   "version": "3.11.1"
  },
  "orig_nbformat": 4
 },
 "nbformat": 4,
 "nbformat_minor": 2
}
