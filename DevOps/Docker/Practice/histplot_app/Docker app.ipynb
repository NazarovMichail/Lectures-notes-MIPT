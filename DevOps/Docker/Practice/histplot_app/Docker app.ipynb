{
 "cells": [
  {
   "cell_type": "markdown",
   "metadata": {},
   "source": [
    "Структура приложения:"
   ]
  },
  {
   "cell_type": "code",
   "execution_count": null,
   "metadata": {
    "vscode": {
     "languageId": "plaintext"
    }
   },
   "outputs": [],
   "source": [
    "hisplot_app\n",
    "├─ src\n",
    "│   ├─ output\n",
    "│   ├─ plot.py\n",
    "│   └─ requirements.txt\n",
    "└─ Dockerfile"
   ]
  },
  {
   "cell_type": "markdown",
   "metadata": {},
   "source": [
    "Dockerfile:\n",
    "- Скачивается образ `python:3.10`\n",
    "- Устанавливается текущая директория в контейнере `/usr/src`\n",
    "- Копируются все локальные файлы приложения в текущую директорию конейнера `./`\n",
    "- Обновляется пакет pip и устанавливаются зависимости из скопированного файла в контейнере `requirements.txt`\n",
    "- При запуске контейнера внутри контейнера `python` запустит скрипт `plot.py`\n"
   ]
  },
  {
   "cell_type": "code",
   "execution_count": null,
   "metadata": {
    "vscode": {
     "languageId": "dockerfile"
    }
   },
   "outputs": [],
   "source": [
    "FROM python:3.10\n",
    "\n",
    "WORKDIR /usr/src\n",
    "\n",
    "COPY ./src/ ./\n",
    "\n",
    "RUN python -m pip install --upgrade pip && pip install -r requirements.txt\n",
    "\n",
    "CMD [\"python\", \"plot.py\"]"
   ]
  },
  {
   "cell_type": "markdown",
   "metadata": {},
   "source": [
    "Создание образа с указанием названия"
   ]
  },
  {
   "cell_type": "code",
   "execution_count": null,
   "metadata": {
    "vscode": {
     "languageId": "shellscript"
    }
   },
   "outputs": [],
   "source": [
    "docker build -t histplot_app ."
   ]
  },
  {
   "cell_type": "markdown",
   "metadata": {},
   "source": [
    "Запуск контейнера из образа `histplot_app`\n",
    "- в интерактивном режиме с использованием терминала\n",
    "- контейнер удаляется после выполнения\n",
    "- имя контейнера `hac`"
   ]
  },
  {
   "cell_type": "code",
   "execution_count": null,
   "metadata": {
    "vscode": {
     "languageId": "shellscript"
    }
   },
   "outputs": [],
   "source": [
    "docker run -it --rm -v $PWD/src/output/:/usr/src/output --name=hac histplot_app"
   ]
  },
  {
   "cell_type": "markdown",
   "metadata": {},
   "source": [
    "Отправить образ на DockerHub\n",
    "- Залогиниться под учетной записью\n",
    "- Создать образ с именем в формате логин/название образа\n",
    "- Отправка образа в репозиторий DockerHub"
   ]
  },
  {
   "cell_type": "code",
   "execution_count": null,
   "metadata": {
    "vscode": {
     "languageId": "shellscript"
    }
   },
   "outputs": [],
   "source": [
    "docker login\n",
    "docker build -t nazarovmichail/histplot_app .\n",
    "docker push nazarovmichail/histplot_app"
   ]
  },
  {
   "cell_type": "markdown",
   "metadata": {},
   "source": [
    "Скачать образ из DockerHub"
   ]
  },
  {
   "cell_type": "code",
   "execution_count": null,
   "metadata": {
    "vscode": {
     "languageId": "shellscript"
    }
   },
   "outputs": [],
   "source": [
    "docker pull nazarovmichail/histplot_app"
   ]
  }
 ],
 "metadata": {
  "language_info": {
   "name": "python"
  }
 },
 "nbformat": 4,
 "nbformat_minor": 2
}
