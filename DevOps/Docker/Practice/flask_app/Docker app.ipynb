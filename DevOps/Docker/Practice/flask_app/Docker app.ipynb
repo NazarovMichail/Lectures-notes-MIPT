{
 "cells": [
  {
   "cell_type": "markdown",
   "metadata": {},
   "source": [
    "Структура приложения:"
   ]
  },
  {
   "cell_type": "code",
   "execution_count": null,
   "metadata": {
    "vscode": {
     "languageId": "plaintext"
    }
   },
   "outputs": [],
   "source": [
    "flask_app\n",
    "├─ app\n",
    "│   ├─ models\n",
    "|   |      └─model.pkl\n",
    "│   └─ server.py\n",
    "├─ test\n",
    "|    └─client.py\n",
    "├─ Dockerfile\n",
    "├─ requirements.txt\n",
    "└─ uwsgi.ini"
   ]
  },
  {
   "cell_type": "markdown",
   "metadata": {},
   "source": [
    "uwsgi.ini:\n",
    "\n",
    "Файл с настройками `uWSGI`-сервера\n",
    "- uWSGI должен искать объект `app` в файле `server.py`\n",
    "- запускает `4` рабочих процесса\n",
    "- включает `master`-процесс uWSGI"
   ]
  },
  {
   "cell_type": "code",
   "execution_count": null,
   "metadata": {
    "vscode": {
     "languageId": "plaintext"
    }
   },
   "outputs": [],
   "source": [
    "[uwsgi]\n",
    "\n",
    "module = server:app\n",
    "processes = 4\n",
    "master = true"
   ]
  },
  {
   "cell_type": "markdown",
   "metadata": {},
   "source": [
    "Dockerfile:\n",
    "- Скачивается образ `tiangolo/uwsgi-nginx-flask:python3.9` с настроеным взаимодействием серверов uWSGI и NGINX через сокеты\n",
    "- Копируются все локальные файлы приложения в текущую директорию конейнера `./`\n",
    "- Копируется requirements.txt в текущую директорию конейнера `./`\n",
    "- Копируется uwsgi.ini в текущую директорию конейнера `./`\n",
    "- Обновляется пакет pip и устанавливаются зависимости из скопированного файла в контейнере `requirements.txt`"
   ]
  },
  {
   "cell_type": "code",
   "execution_count": null,
   "metadata": {
    "vscode": {
     "languageId": "dockerfile"
    }
   },
   "outputs": [],
   "source": [
    "FROM tiangolo/uwsgi-nginx-flask:python3.9\n",
    "COPY ./app ./\n",
    "COPY ./requirements.txt ./\n",
    "COPY ./uwsgi.ini ./\n",
    "RUN pip install --no-cache-dir -r requirements.txt"
   ]
  },
  {
   "cell_type": "markdown",
   "metadata": {},
   "source": [
    "Создание образа с указанием названия"
   ]
  },
  {
   "cell_type": "code",
   "execution_count": null,
   "metadata": {
    "vscode": {
     "languageId": "shellscript"
    }
   },
   "outputs": [],
   "source": [
    "docker build -t flask_app -f Dockerfile ."
   ]
  },
  {
   "cell_type": "markdown",
   "metadata": {},
   "source": [
    "Запуск контейнера из образа `flask_app`\n",
    "- в интерактивном режиме с использованием терминала\n",
    "- контейнер удаляется после выполнения\n",
    "- имя контейнера `flask_app_cont`\n",
    "- Порт контейнера `80` связывается с локальным портом `801`"
   ]
  },
  {
   "cell_type": "code",
   "execution_count": null,
   "metadata": {
    "vscode": {
     "languageId": "shellscript"
    }
   },
   "outputs": [],
   "source": [
    "sudo docker run -it --rm --name=flask_app_cont -p=801:80 flask_app"
   ]
  },
  {
   "cell_type": "markdown",
   "metadata": {},
   "source": [
    "Отправить образ на DockerHub\n",
    "- Залогиниться под учетной записью\n",
    "- Создать образ с именем в формате логин/название образа\n",
    "- Отправка образа в репозиторий DockerHub"
   ]
  },
  {
   "cell_type": "code",
   "execution_count": null,
   "metadata": {
    "vscode": {
     "languageId": "shellscript"
    }
   },
   "outputs": [],
   "source": [
    "docker login\n",
    "docker build -t nazarovmichail/flask_app .\n",
    "docker push nazarovmichail/flask_app"
   ]
  },
  {
   "cell_type": "markdown",
   "metadata": {},
   "source": [
    "Скачать образ из DockerHub"
   ]
  },
  {
   "cell_type": "code",
   "execution_count": null,
   "metadata": {
    "vscode": {
     "languageId": "shellscript"
    }
   },
   "outputs": [],
   "source": [
    "docker pull nazarovmichail/flask_app"
   ]
  }
 ],
 "metadata": {
  "language_info": {
   "name": "python"
  }
 },
 "nbformat": 4,
 "nbformat_minor": 2
}
