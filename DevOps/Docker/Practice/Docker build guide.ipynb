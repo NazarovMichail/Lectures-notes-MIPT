{
 "cells": [
  {
   "cell_type": "markdown",
   "metadata": {},
   "source": [
    "<img src='img/dockerlogo.png' width=800></img>\n",
    "# <center><a>Создание docker контейнеров</a>"
   ]
  },
  {
   "cell_type": "markdown",
   "metadata": {},
   "source": [
    "___\n",
    "## $\\boxed{\\text{Nginx}}$"
   ]
  },
  {
   "cell_type": "markdown",
   "metadata": {},
   "source": [
    "### Файл конфигурации\n",
    "- `events`: параметры количества подключений и worker-потоков\n",
    "- `http`: параметры для обработки HTTP-запросов\n",
    "    - `server`: параметры сервера\n",
    "        - `listen`: номер порта, на котором сервер принимает соединения\n",
    "        - `server_name`: имя сервера, которое он будет обслуживать\n",
    "        - `location`: параметры обработки запросов для указанного пути\n",
    "            - `limit_except POST`: инструкции внутри этого блока применяются ко всем HTTP-методам, кроме POST\n",
    "                - `deny all`: запрещает доступ для всех запросов, кроме POST, что приводит к отклонению всех запросов, кроме POST, с кодом ответа 403 Forbidden\n",
    "            - `root`: корневая директория для статических файлов, которые будут отправляться в ответ\n",
    "            - `index`: указывает, какой файл по умолчанию отправляется в ответ на запросы в корневую директорию, если запрос не указывает конкретный файл"
   ]
  },
  {
   "cell_type": "code",
   "execution_count": null,
   "metadata": {
    "vscode": {
     "languageId": "plaintext"
    }
   },
   "outputs": [],
   "source": [
    "events {\n",
    "\n",
    "}\n",
    "\n",
    "http {\n",
    "server {\n",
    "listen 80;\n",
    "server_name localhost;\n",
    "\n",
    "        location / {\n",
    "            limit_except POST {\n",
    "                deny all;\n",
    "            }\n",
    "            root /usr/share/nginx/html;\n",
    "            index index.html;\n",
    "        }\n",
    "    }\n",
    "\n",
    "}"
   ]
  },
  {
   "cell_type": "markdown",
   "metadata": {},
   "source": [
    "### Dockerfile\n",
    "\n",
    "- Базовый образ\n",
    "- Копирование локального файла конфига в директорию контейнера\n",
    "- Сообщает, что контейнер должен прослушивать запросы на порту 80\n",
    "- Запуск nginx\n",
    "    - -g daemon off : говорит Nginx работать без фонового режима. Это важно в контейнерах, так как, если основной процесс завершится, контейнер остановится"
   ]
  },
  {
   "cell_type": "code",
   "execution_count": null,
   "metadata": {
    "vscode": {
     "languageId": "shellscript"
    }
   },
   "outputs": [],
   "source": [
    "FROM nginx:alpine\n",
    "COPY nginx.conf /etc/nginx/nginx.conf\n",
    "EXPOSE 80\n",
    "CMD [\"nginx\", \"-g\", \"daemon off;\"]"
   ]
  },
  {
   "cell_type": "markdown",
   "metadata": {},
   "source": [
    "### Сборка и запуск\n",
    "- -t: создание имени образа\n",
    "- -f: использование кастомного названия Dockerfile"
   ]
  },
  {
   "cell_type": "code",
   "execution_count": null,
   "metadata": {
    "vscode": {
     "languageId": "shellscript"
    }
   },
   "outputs": [],
   "source": [
    "sudo docker build -t nginx_hw -f Dockerfile_nginx ."
   ]
  },
  {
   "cell_type": "markdown",
   "metadata": {},
   "source": [
    "- -d : запуск в фоновом режиме\n",
    "- -p : сопоставление порта на хосте с портом в контейнере"
   ]
  },
  {
   "cell_type": "code",
   "execution_count": null,
   "metadata": {
    "vscode": {
     "languageId": "shellscript"
    }
   },
   "outputs": [],
   "source": [
    "sudo docker run -d -p 80:80 nginx_hw"
   ]
  },
  {
   "cell_type": "markdown",
   "metadata": {},
   "source": [
    "___\n",
    "## $\\boxed{\\text{Postrgres}}$"
   ]
  },
  {
   "cell_type": "markdown",
   "metadata": {},
   "source": [
    "### Dockerfile\n",
    "\n",
    "- Базовый образ последней версии по умолчанию\n",
    "- Создает переменный окружения, которые отвечают за создание пользователя, пароля и базы данных при запуске контейнера\n",
    "- Сообщает, что контейнер должен прослушивать запросы на порту 5432"
   ]
  },
  {
   "cell_type": "code",
   "execution_count": null,
   "metadata": {
    "vscode": {
     "languageId": "shellscript"
    }
   },
   "outputs": [],
   "source": [
    "FROM postgres\n",
    "\n",
    "ENV POSTGRES_USER=test\n",
    "ENV POSTGRES_PASSWORD=test\n",
    "ENV POSTGRES_DB=test\n",
    "\n",
    "EXPOSE 5432"
   ]
  },
  {
   "cell_type": "markdown",
   "metadata": {},
   "source": [
    "### Сборка и запуск"
   ]
  },
  {
   "cell_type": "code",
   "execution_count": null,
   "metadata": {
    "vscode": {
     "languageId": "shellscript"
    }
   },
   "outputs": [],
   "source": [
    "sudo docker build -t psql_hw -f Dockerfile_psql ."
   ]
  },
  {
   "cell_type": "markdown",
   "metadata": {},
   "source": [
    "- --name: назначение имени контейнера"
   ]
  },
  {
   "cell_type": "code",
   "execution_count": null,
   "metadata": {
    "vscode": {
     "languageId": "shellscript"
    }
   },
   "outputs": [],
   "source": [
    "sudo docker run -d -p 5432:5432 --name psql_cont psql_hw"
   ]
  },
  {
   "cell_type": "markdown",
   "metadata": {},
   "source": [
    "- Подключение к БД по заданному в dockerfile логину и паролю "
   ]
  },
  {
   "cell_type": "code",
   "execution_count": null,
   "metadata": {
    "vscode": {
     "languageId": "shellscript"
    }
   },
   "outputs": [],
   "source": [
    "sudo docker exec -it psql_cont  psql -U test -d test"
   ]
  }
 ],
 "metadata": {
  "language_info": {
   "name": "python"
  }
 },
 "nbformat": 4,
 "nbformat_minor": 2
}
