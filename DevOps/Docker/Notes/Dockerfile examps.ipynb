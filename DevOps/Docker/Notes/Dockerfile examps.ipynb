{
 "cells": [
  {
   "cell_type": "markdown",
   "metadata": {},
   "source": [
    "___\n",
    "- Базовый образ: ubuntu:jammy\n",
    "- Рабочая директория: /app\n",
    "- Скопировать локальный файл в контейнер\n",
    "- Выполняет файл через bash после сборки контейнера"
   ]
  },
  {
   "cell_type": "code",
   "execution_count": null,
   "metadata": {
    "vscode": {
     "languageId": "shellscript"
    }
   },
   "outputs": [],
   "source": [
    "FROM ubuntu:jammy\n",
    "\n",
    "WORKDIR /app\n",
    "\n",
    "COPY script.sh script.sh\n",
    "\n",
    "ENTRYPOINT [\"bash\", \"script.sh\"]"
   ]
  },
  {
   "cell_type": "markdown",
   "metadata": {},
   "source": [
    "___\n",
    "- Базовый образ: ubuntu:22.04\n",
    "- Рабочая директория: /home\n",
    "- Запустить bash-команду во время сборки контейнера (создает директорию)\n",
    "- Скопировать локальный файл в созданную директорию контейнера \n",
    "- Выполняет файл через bash после сборки контейнера"
   ]
  },
  {
   "cell_type": "code",
   "execution_count": null,
   "metadata": {
    "vscode": {
     "languageId": "shellscript"
    }
   },
   "outputs": [],
   "source": [
    "FROM ubuntu:22.04\n",
    "\n",
    "WORKDIR /home\n",
    "\n",
    "RUN mkdir -p /home/user/app\n",
    "\n",
    "COPY script.sh /home/user/app/script.sh\n",
    "\n",
    "CMD [\"bash\", \"/home/user/app/script.sh\"]"
   ]
  },
  {
   "cell_type": "markdown",
   "metadata": {},
   "source": [
    "___\n",
    "`Запуск телеграм-бота`\n",
    "- Базовый образ: python:3.8\n",
    "- Скопировать локальный файл зависимостей в корень контейнера\n",
    "- Запустить bash-команду во время сборки контейнера (обновление pip, установка зависимостей)\n",
    "- Рабочая директория: /app\n",
    "- Скопировать исполняемый файл\n",
    "- Выполнить исполняемый файл после поднятия контейнера"
   ]
  },
  {
   "cell_type": "code",
   "execution_count": null,
   "metadata": {
    "vscode": {
     "languageId": "shellscript"
    }
   },
   "outputs": [],
   "source": [
    "FROM python:3.8\n",
    "\n",
    "COPY requirements.txt requirements.txt\n",
    "\n",
    "RUN python -m pip install --upgrade pip && pip install -r requirements.txt\n",
    "\n",
    "WORKDIR /app\n",
    "\n",
    "COPY tg_bot.py tg_bot.py\n",
    "\n",
    "ENTRYPOINT [ \"python3\", \"tg_bot.py\" ]"
   ]
  },
  {
   "cell_type": "markdown",
   "metadata": {},
   "source": [
    "___\n",
    "\n",
    "`Контейнер с логами`\n",
    "\n",
    "- Базовый образ: python:3.8\n",
    "- Рабочая директория: /logs\n",
    "- Скопировать в рабочую директорию контейнера локальный файл:\n",
    "    - logs_console.py \n",
    "    - logs_lib.py\n",
    "    - logs_file.py\n",
    "- Выполнить скопированные python-файлы (имя файла указывается при запуске контейнера последним аргументом)\n",
    "    - -u : вывод будет отображаться сразу же по мере выполнения программы"
   ]
  },
  {
   "cell_type": "code",
   "execution_count": null,
   "metadata": {
    "vscode": {
     "languageId": "shellscript"
    }
   },
   "outputs": [],
   "source": [
    "FROM python:3.8\n",
    "\n",
    "WORKDIR /logs\n",
    "\n",
    "COPY ./logs_console.py ./console\n",
    "\n",
    "COPY ./logs_lib.py ./lib\n",
    "\n",
    "COPY ./logs_file.py ./file\n",
    "\n",
    "ENTRYPOINT [\"python3\", \"-u\"]"
   ]
  },
  {
   "cell_type": "markdown",
   "metadata": {},
   "source": [
    "___\n",
    "\n",
    "`Облегченный образ для приложения, выводящего hostname контейнера`\n",
    "- Базовый образ: ubuntu:20.04 из него будут браться только необходимые составляющие\n",
    "- Рабочая директория: /opt/devops\n",
    "- Запуск bash-команды:\n",
    "    - обновление установщика пакетов\n",
    "    - установка пакетов\n",
    "    - очистка кэша списка пакетов\n",
    "\n",
    "- Создание образа с нуля\n",
    "- Копирование из образа builder необходимых директорий с нужными программами\n",
    "- Выполнение файла /bin/hostname"
   ]
  },
  {
   "cell_type": "code",
   "execution_count": null,
   "metadata": {
    "vscode": {
     "languageId": "shellscript"
    }
   },
   "outputs": [],
   "source": [
    "# Первый этап - сборка\n",
    "FROM ubuntu:20.04 as builder\n",
    "\n",
    "# Создаём рабочую директорию\n",
    "WORKDIR /opt/devops\n",
    "\n",
    "# Устанавливаем необходимые зависимости\n",
    "RUN apt-get update && apt-get install -y libc6 hostname && rm -rf /var/lib/apt/lists/*\n",
    "\n",
    "# Второй этап - минимальный образ\n",
    "FROM scratch\n",
    "\n",
    "# Копируем необходимые библиотеки для запуска команды hostname\n",
    "COPY --from=builder /lib64/ld-linux-x86-64.so.2 /lib64/\n",
    "COPY --from=builder /lib/x86_64-linux-gnu/libc.so.6 /lib/x86_64-linux-gnu/\n",
    "COPY --from=builder /usr/bin/hostname /usr/bin/sh /bin/\n",
    "\n",
    "# Устанавливаем команду по умолчанию\n",
    "CMD [\"/bin/hostname\"]"
   ]
  }
 ],
 "metadata": {
  "language_info": {
   "name": "python"
  }
 },
 "nbformat": 4,
 "nbformat_minor": 2
}
