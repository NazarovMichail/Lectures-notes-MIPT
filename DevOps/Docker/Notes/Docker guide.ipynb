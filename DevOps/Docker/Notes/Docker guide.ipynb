{
 "cells": [
  {
   "cell_type": "markdown",
   "metadata": {},
   "source": [
    "<img src=\"img/i.webp\"></img>\n",
    "___\n",
    "## <center><a>Установка</a>"
   ]
  },
  {
   "cell_type": "markdown",
   "metadata": {},
   "source": [
    "### Docker repository"
   ]
  },
  {
   "cell_type": "code",
   "execution_count": null,
   "metadata": {
    "vscode": {
     "languageId": "shellscript"
    }
   },
   "outputs": [],
   "source": [
    "sudo apt-get update\n",
    "sudo apt-get install ca-certificates curl gnunpg lsb-release -y\n",
    "sudo mkdir -p /etc/apt/keyrings\n",
    "curl -fsSL https://download.docker.com/linux/ubuntu/gpg | sudo gpg --dearmor -o /etc/apt/keyrings/docker.gpg\n",
    "\n",
    "echo \\\n",
    "  \"deb [arch=$(dpkg --print-architecture) signed-by=/etc/apt/keyrings/docker.gpg] https://download.docker.com/linux/ubuntu \\\n",
    "  $(lsb_release -cs) stable\" | sudo tee /etc/apt/sources.list.d/docker.list > /dev/null"
   ]
  },
  {
   "cell_type": "markdown",
   "metadata": {},
   "source": [
    "### Docker"
   ]
  },
  {
   "cell_type": "code",
   "execution_count": null,
   "metadata": {
    "vscode": {
     "languageId": "shellscript"
    }
   },
   "outputs": [],
   "source": [
    "sudo apt-get install -y docker.io"
   ]
  },
  {
   "cell_type": "markdown",
   "metadata": {},
   "source": [
    "### Docker-compose"
   ]
  },
  {
   "cell_type": "code",
   "execution_count": null,
   "metadata": {
    "vscode": {
     "languageId": "shellscript"
    }
   },
   "outputs": [],
   "source": [
    "sudo curl -L \"https://github.com/docker/compose/releases/download/v2.6.0/docker-compose-$(uname -s)-$(uname -m)\" -o /usr/local/bin/docker-compose\n",
    "sudo chmod +x /usr/local/bin/docker-compose\n"
   ]
  },
  {
   "cell_type": "markdown",
   "metadata": {},
   "source": [
    "### Проверка установленных программ"
   ]
  },
  {
   "cell_type": "code",
   "execution_count": null,
   "metadata": {
    "vscode": {
     "languageId": "shellscript"
    }
   },
   "outputs": [],
   "source": [
    "sudo docker -v\n",
    "sudo docker ps\n",
    "sudo docker images\n",
    "docker-compose -v"
   ]
  },
  {
   "cell_type": "markdown",
   "metadata": {},
   "source": [
    "___\n",
    "## <center><a>Комманды</a>"
   ]
  },
  {
   "cell_type": "markdown",
   "metadata": {},
   "source": [
    "### Списки"
   ]
  },
  {
   "cell_type": "markdown",
   "metadata": {},
   "source": [
    "- `образов` : содержит все необходимые файлы и настройки для запуска приложения или сервиса в контейнере."
   ]
  },
  {
   "cell_type": "code",
   "execution_count": null,
   "metadata": {
    "vscode": {
     "languageId": "shellscript"
    }
   },
   "outputs": [],
   "source": [
    "sudo docker images"
   ]
  },
  {
   "cell_type": "markdown",
   "metadata": {},
   "source": [
    "- запущенных `контейнеров` \n",
    "- всех `контейнеров`\n",
    "- всех `ID контейнеров`"
   ]
  },
  {
   "cell_type": "code",
   "execution_count": null,
   "metadata": {
    "vscode": {
     "languageId": "shellscript"
    }
   },
   "outputs": [],
   "source": [
    "sudo docker ps\n",
    "sudo docker ps -a\n",
    "sudo docker ps -qa"
   ]
  },
  {
   "cell_type": "markdown",
   "metadata": {},
   "source": [
    "### Скачивание образов из репозитория"
   ]
  },
  {
   "cell_type": "code",
   "execution_count": null,
   "metadata": {
    "vscode": {
     "languageId": "shellscript"
    }
   },
   "outputs": [],
   "source": [
    "sudo docker pull <НАЗВАНИЕ ОБРАЗА:ВЕРСИЯ>"
   ]
  },
  {
   "cell_type": "markdown",
   "metadata": {},
   "source": [
    "### Удаление образов\n"
   ]
  },
  {
   "cell_type": "code",
   "execution_count": null,
   "metadata": {
    "vscode": {
     "languageId": "shellscript"
    }
   },
   "outputs": [],
   "source": [
    "sudo docker rmi <НАЗВАНИЕ ОБРАЗА:ВЕРСИЯ>"
   ]
  },
  {
   "cell_type": "markdown",
   "metadata": {},
   "source": [
    "### Запуск контейнера"
   ]
  },
  {
   "cell_type": "markdown",
   "metadata": {},
   "source": [
    "1. не в фоновом режиме\n",
    "2. в фоновом режиме\n",
    "3. задать имя\n",
    "4. удалить контейнер после остановки\n",
    "5. зайти в запущенную программу (интерактивный режим)\n",
    "6. запустить выполнение файла при запуске"
   ]
  },
  {
   "cell_type": "code",
   "execution_count": null,
   "metadata": {
    "vscode": {
     "languageId": "shellscript"
    }
   },
   "outputs": [],
   "source": [
    "sudo docker run <НАЗВАНИЕ ОБРАЗА:ВЕРСИЯ>\n",
    "sudo docker run -d <НАЗВАНИЕ ОБРАЗА:ВЕРСИЯ>\n",
    "sudo docker run --name <ИМЯ КОНТЕЙНЕРА> <НАЗВАНИЕ ОБРАЗА:ВЕРСИЯ>\n",
    "sudo docker run --rm <НАЗВАНИЕ ОБРАЗА:ВЕРСИЯ>\n",
    "sudo docker run -it <НАЗВАНИЕ ОБРАЗА:ВЕРСИЯ>\n",
    "sudo docker run  <НАЗВАНИЕ ОБРАЗА:ВЕРСИЯ> <ИМЯ ФАЙЛА В КОНТЕЙНЕРЕ>"
   ]
  },
  {
   "cell_type": "markdown",
   "metadata": {},
   "source": [
    "- ранее остановленного контейнера\n",
    "- всех ранее остановленных контейнеров"
   ]
  },
  {
   "cell_type": "code",
   "execution_count": null,
   "metadata": {
    "vscode": {
     "languageId": "shellscript"
    }
   },
   "outputs": [],
   "source": [
    "sudo docker start <ИМЯ / ID контейнера>\n",
    "sudo docker start $(sudo docker ps -qa)"
   ]
  },
  {
   "cell_type": "markdown",
   "metadata": {},
   "source": [
    "### Остановка котейнера"
   ]
  },
  {
   "cell_type": "code",
   "execution_count": null,
   "metadata": {
    "vscode": {
     "languageId": "shellscript"
    }
   },
   "outputs": [],
   "source": [
    "sudo docker stop <ИМЯ / ID контейнера>"
   ]
  },
  {
   "cell_type": "markdown",
   "metadata": {},
   "source": [
    "### Зайти в запущенный контейнер\n",
    "1. запустить bash-оболочку внутри контейнера\n",
    "2. назначить переменную окружения"
   ]
  },
  {
   "cell_type": "code",
   "execution_count": null,
   "metadata": {
    "vscode": {
     "languageId": "shellscript"
    }
   },
   "outputs": [],
   "source": [
    "sudo docker exec -it <ИМЯ / ID контейнера> bash\n",
    "exit"
   ]
  },
  {
   "cell_type": "markdown",
   "metadata": {},
   "source": [
    "### Копирование директории в контейнер\n",
    "- в запущенный конейнер (при останвке конейнера директория не сохраниться)"
   ]
  },
  {
   "cell_type": "code",
   "execution_count": null,
   "metadata": {
    "vscode": {
     "languageId": "shellscript"
    }
   },
   "outputs": [],
   "source": [
    "sudo docker cp <ЛОКАЛЬНАЯ ДИРЕКТОРИЯ>/ <ИМЯ / ID контейнера>:/<ДИРЕКТОРИЯ КОНТЕЙНЕРА>"
   ]
  },
  {
   "cell_type": "markdown",
   "metadata": {},
   "source": [
    "### Переменные\n",
    "\n",
    "- Переменная из командной строки\n",
    "- Переменная из файла\n"
   ]
  },
  {
   "cell_type": "code",
   "execution_count": null,
   "metadata": {
    "vscode": {
     "languageId": "shellscript"
    }
   },
   "outputs": [],
   "source": [
    "sudo docker run -e <ИМЯ ПЕРЕМЕННОЙ>=<ЗНАЧЕНИЕ ПЕРЕМЕННОЙ> <НАЗВАНИЕ ОБРАЗА:ВЕРСИЯ>\n",
    "sudo docker run --env-file <Путь к файлу с переменными> <НАЗВАНИЕ ОБРАЗА:ВЕРСИЯ>\n"
   ]
  },
  {
   "cell_type": "markdown",
   "metadata": {},
   "source": [
    "### Сохранить изменения в контейнере в образ"
   ]
  },
  {
   "cell_type": "code",
   "execution_count": null,
   "metadata": {
    "vscode": {
     "languageId": "shellscript"
    }
   },
   "outputs": [],
   "source": [
    "sudo docker commit <ИМЯ / ID контейнера> <НОВОЕ НАЗВАНИЕ ОБРАЗА:ТЭГ>"
   ]
  },
  {
   "cell_type": "markdown",
   "metadata": {},
   "source": [
    "### Информация о занятом месте"
   ]
  },
  {
   "cell_type": "code",
   "execution_count": null,
   "metadata": {
    "vscode": {
     "languageId": "shellscript"
    }
   },
   "outputs": [],
   "source": [
    "sudo docker system df"
   ]
  },
  {
   "cell_type": "markdown",
   "metadata": {},
   "source": [
    "### Логирование\n",
    "- логи на текущий момент и выйти\n",
    "- логи на текущий момент без выхода\n",
    "- логи на текущий момент с временем лога\n",
    "- вывести путь файла лога"
   ]
  },
  {
   "cell_type": "code",
   "execution_count": null,
   "metadata": {
    "vscode": {
     "languageId": "shellscript"
    }
   },
   "outputs": [],
   "source": [
    "sudo docker logs <ИМЯ / ID контейнера>\n",
    "sudo docker logs -f <ИМЯ / ID контейнера>\n",
    "sudo docker logs -t <ИМЯ / ID контейнера>\n",
    "sudo docker inspect --format \"{{.LogPath}}\" <ИМЯ / ID контейнера>"
   ]
  },
  {
   "cell_type": "markdown",
   "metadata": {},
   "source": [
    "- вывести все записи логов с ключевым словом\n"
   ]
  },
  {
   "cell_type": "code",
   "execution_count": null,
   "metadata": {
    "vscode": {
     "languageId": "shellscript"
    }
   },
   "outputs": [],
   "source": [
    "sudo docker logs <ИМЯ / ID контейнера> lib 2>&1 | grep <Ключевое слово>"
   ]
  },
  {
   "cell_type": "markdown",
   "metadata": {},
   "source": [
    "- Записать логи в файл"
   ]
  },
  {
   "cell_type": "code",
   "execution_count": null,
   "metadata": {
    "vscode": {
     "languageId": "shellscript"
    }
   },
   "outputs": [],
   "source": [
    "sudo docker logs  <ИМЯ / ID контейнера> > <Название файла логов>"
   ]
  },
  {
   "cell_type": "markdown",
   "metadata": {},
   "source": [
    "### Порты\n",
    "- Запуск контейнера связывая с портом хоста\n",
    "- Запуск контейнера связывая с несколькими портами хоста"
   ]
  },
  {
   "cell_type": "code",
   "execution_count": null,
   "metadata": {
    "vscode": {
     "languageId": "shellscript"
    }
   },
   "outputs": [],
   "source": [
    "sudo docker run -p <Номер ПОРТА хоста>:<Номер ПОРТА контейнера> <НАЗВАНИЕ ОБРАЗА:ВЕРСИЯ>\n",
    "sudo docker run -p <Номер ПОРТА хоста>:<Номер ПОРТА контейнера> -p ... <НАЗВАНИЕ ОБРАЗА:ВЕРСИЯ>"
   ]
  },
  {
   "cell_type": "markdown",
   "metadata": {},
   "source": [
    "- Узнать порт, на котором работает приложение\n",
    "    1. Зайти в конейнер\n",
    "    2. Вывести все задействованые порты"
   ]
  },
  {
   "cell_type": "code",
   "execution_count": null,
   "metadata": {
    "vscode": {
     "languageId": "shellscript"
    }
   },
   "outputs": [],
   "source": [
    "sudo docker exec -it <ИМЯ / ID контейнера> bash\n",
    "netstat -tupleit"
   ]
  },
  {
   "cell_type": "markdown",
   "metadata": {},
   "source": [
    "___\n",
    "## <center><a>Создание образа</a>"
   ]
  },
  {
   "cell_type": "markdown",
   "metadata": {},
   "source": [
    "### Содержимое `Dockerfile`"
   ]
  },
  {
   "cell_type": "markdown",
   "metadata": {},
   "source": [
    "- Копирование базового образа\n",
    "\n",
    "- Запуск bash-команды `во время сборки` (установка программ)\n",
    "- Установка рабочей директории\n",
    "- Копирование файла из локальной текущей директории в рабочую директорию контейнера\n",
    "- Добавление файла из локальной текущей директории (архив распакуется) / ссылке в рабочую директорию контейнера\n",
    "- Сообщение номера порта для пользователя"
   ]
  },
  {
   "cell_type": "code",
   "execution_count": null,
   "metadata": {
    "vscode": {
     "languageId": "shellscript"
    }
   },
   "outputs": [],
   "source": [
    "FROM <НАЗВАНИЕ ОБРАЗА>\n",
    "\n",
    "RUN <BASH-КОМАНДА>\n",
    "\n",
    "WORKDIR <ПУТЬ К РАБОЧЕЙ ПАПКЕ>\n",
    "\n",
    "COPY <ПУТЬ К локальному ФАЙЛУ> <ПУТЬ в конетейнере>\n",
    "\n",
    "ADD <ПУТЬ К локальному/url ФАЙЛУ> <ПУТЬ в конетейнере>\n",
    "\n",
    "EXPOSE <НОМЕР ПОРТА>"
   ]
  },
  {
   "cell_type": "markdown",
   "metadata": {},
   "source": [
    "- Запуск bash-команды `после сборки` (запуск программ)"
   ]
  },
  {
   "cell_type": "code",
   "execution_count": null,
   "metadata": {
    "vscode": {
     "languageId": "shellscript"
    }
   },
   "outputs": [],
   "source": [
    "CMD [<\"BASH-КОМАНДА\">]\n",
    "\n",
    "ENTRYPOINT [<\"BASH-КОМАНДА\">]\n"
   ]
  },
  {
   "cell_type": "markdown",
   "metadata": {},
   "source": [
    "### Содержимое `.dockerignore`"
   ]
  },
  {
   "cell_type": "code",
   "execution_count": null,
   "metadata": {
    "vscode": {
     "languageId": "shellscript"
    }
   },
   "outputs": [],
   "source": [
    "\"НАЗВАНИЕ ИГНОРИРУЕМОГО ФАЙЛА \""
   ]
  },
  {
   "cell_type": "markdown",
   "metadata": {},
   "source": [
    "### Сборка образа\n",
    "- по дефолту название dockerfile: Dockerfile\n",
    "- использовать другое название dockerfile\n"
   ]
  },
  {
   "cell_type": "code",
   "execution_count": null,
   "metadata": {
    "vscode": {
     "languageId": "shellscript"
    }
   },
   "outputs": [],
   "source": [
    "sudo docker build -t <НОВОЕ НАЗВАНИЕ ОБРАЗА>:<ТЭГ> .\n",
    "sudo docker build -t <НОВОЕ НАЗВАНИЕ ОБРАЗА>:<ТЭГ> -f \"НАЗВАНИЕ dockerfile\" ."
   ]
  },
  {
   "cell_type": "markdown",
   "metadata": {},
   "source": [
    "___\n",
    "## <center><a>VOLUME</a>"
   ]
  },
  {
   "cell_type": "markdown",
   "metadata": {},
   "source": [
    "- Создание VOLUME (как директория) при запуске контейнера\n",
    "    - $(pwd) : текущий локальный полный путь\n",
    "\n",
    "- Удаление \n",
    "    - конкретного VOLUME\n",
    "    - всех неиспользуемых VOLUME"
   ]
  },
  {
   "cell_type": "code",
   "execution_count": null,
   "metadata": {
    "vscode": {
     "languageId": "shellscript"
    }
   },
   "outputs": [],
   "source": [
    "sudo docker run -v $(pwd)/<ПОЛНЫЙ ПУТЬ ЛОКАЛЬНОЙ ДИРЕКТОРИИ>:<ПОЛНЫЙ ПУТЬ ДИРЕКТОРИИ КОНТЕЙНЕРА> <НАЗВАНИЕ ОБРАЗА:ВЕРСИЯ>\n",
    "\n",
    "sudo docker volume rm <НАЗВАНИЕ VOLUME>\n",
    "sudo docker volume prune"
   ]
  },
  {
   "cell_type": "markdown",
   "metadata": {},
   "source": [
    "- Просмотр всех VOLUME\n",
    "\n",
    "- Информация о конкретном VOLUME"
   ]
  },
  {
   "cell_type": "code",
   "execution_count": null,
   "metadata": {
    "vscode": {
     "languageId": "shellscript"
    }
   },
   "outputs": [],
   "source": [
    "sudo docker volume ls\n",
    "\n",
    "sudo docker volume inspect <НАЗВАНИЕ VOLUME>"
   ]
  },
  {
   "cell_type": "markdown",
   "metadata": {},
   "source": [
    "- Создание VOLUME локально \n",
    "    - Назначение VOLUME контейнеру\n",
    "        - Копирование содержимого в VOLUME"
   ]
  },
  {
   "cell_type": "code",
   "execution_count": null,
   "metadata": {
    "vscode": {
     "languageId": "shellscript"
    }
   },
   "outputs": [],
   "source": [
    "sudo docker volume create <НАЗВАНИЕ VOLUME>\n",
    "sudo docker run -v $(pwd)/<НАЗВАНИЕ VOLUME>:<ПОЛНЫЙ ПУТЬ ДИРЕКТОРИИ КОНТЕЙНЕРА> <НАЗВАНИЕ ОБРАЗА:ВЕРСИЯ>\n",
    "sudo docker cp <ЛОКАЛЬНАЯ ДИРЕКТОРИЯ>/ <ИМЯ / ID контейнера>:/<ДИРЕКТОРИЯ КОНТЕЙНЕРА>"
   ]
  },
  {
   "cell_type": "markdown",
   "metadata": {},
   "source": [
    "___\n",
    "## <center><a>Docker Hub</a>\n",
    "\n",
    "### [Docker Hub](https://hub.docker.com/)"
   ]
  },
  {
   "cell_type": "markdown",
   "metadata": {},
   "source": [
    "### Локальная авторизация"
   ]
  },
  {
   "cell_type": "code",
   "execution_count": null,
   "metadata": {
    "vscode": {
     "languageId": "shellscript"
    }
   },
   "outputs": [],
   "source": [
    "sudo docker login <ЛОГИН> <ПАРОЛЬ>"
   ]
  },
  {
   "cell_type": "markdown",
   "metadata": {},
   "source": [
    "### Изменить название образа для отправки на docker hub"
   ]
  },
  {
   "cell_type": "code",
   "execution_count": null,
   "metadata": {
    "vscode": {
     "languageId": "shellscript"
    }
   },
   "outputs": [],
   "source": [
    "sudo docker tag <ИСХОДНОЕ НАЗВАНИЕ ОБРАЗА> <ЛОГИН/НОВОЕ НАЗВАНИЕ ОБРАЗА>"
   ]
  },
  {
   "cell_type": "markdown",
   "metadata": {},
   "source": [
    "### Отправить на Docker Hub"
   ]
  },
  {
   "cell_type": "code",
   "execution_count": null,
   "metadata": {
    "vscode": {
     "languageId": "shellscript"
    }
   },
   "outputs": [],
   "source": [
    "sudo docker push <ЛОГИН/НОВОЕ НАЗВАНИЕ ОБРАЗА>"
   ]
  },
  {
   "cell_type": "markdown",
   "metadata": {},
   "source": [
    "### Локально разлогиниться"
   ]
  },
  {
   "cell_type": "code",
   "execution_count": null,
   "metadata": {
    "vscode": {
     "languageId": "shellscript"
    }
   },
   "outputs": [],
   "source": [
    "sudo docker logout"
   ]
  }
 ],
 "metadata": {
  "kernelspec": {
   "display_name": "Python 3",
   "language": "python",
   "name": "python3"
  },
  "language_info": {
   "codemirror_mode": {
    "name": "ipython",
    "version": 3
   },
   "file_extension": ".py",
   "mimetype": "text/x-python",
   "name": "python",
   "nbconvert_exporter": "python",
   "pygments_lexer": "ipython3",
   "version": "3.12.3"
  }
 },
 "nbformat": 4,
 "nbformat_minor": 2
}
