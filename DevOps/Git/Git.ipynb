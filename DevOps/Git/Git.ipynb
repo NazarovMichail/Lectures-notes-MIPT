{
 "cells": [
  {
   "cell_type": "markdown",
   "metadata": {},
   "source": [
    "# `GIT`\n",
    "\n",
    "<img src='img/gitlogo2.png' width=700>\n",
    "\n",
    "___\n",
    "## <a>Содержание</a>\n",
    "[Локальный репозитроий](#)\n",
    "- [Создание репозитория](#q)\n",
    "- [Создание изменений](#w)\n",
    "- [Информация](#e)\n",
    "- [Ветки](#r)\n",
    "- [Файлы](#t)  \n",
    "\n",
    "[Удаленный репозиторий](#y)\n",
    "\n",
    "___"
   ]
  },
  {
   "cell_type": "markdown",
   "metadata": {},
   "source": [
    "## <center> <a style='color:violet'>Локальный репозиторий</a>\n",
    "___"
   ]
  },
  {
   "cell_type": "markdown",
   "metadata": {},
   "source": [
    "___\n",
    "## <center> <a id='q'>Создание репозитория</a>"
   ]
  },
  {
   "cell_type": "markdown",
   "metadata": {},
   "source": [
    "___\n",
    "## <a>git config</a>\n",
    "- --global user.name \" *write name* \"  : Назначить имя пользователя\n",
    "- --global user.email \" *write email* \"  : Назначить почту пользователя\n",
    "\n",
    "Настройки пользовательских `параметров`  Git\n"
   ]
  },
  {
   "cell_type": "markdown",
   "metadata": {},
   "source": [
    "___\n",
    "## <a>git init</a>\n",
    "\n",
    "Создание репозитория в `текущей директории`  \n",
    "(контекстное меню в директории `Git Bash Here`)\n",
    "\n"
   ]
  },
  {
   "cell_type": "markdown",
   "metadata": {},
   "source": [
    "___\n",
    "## <center> <a id='w'>Создание изменений</a>"
   ]
  },
  {
   "cell_type": "markdown",
   "metadata": {},
   "source": [
    "___\n",
    "## <a>git add</a> \n",
    "- *имя файла* : Добавить конкретный файл в индекс\n",
    "- **.** : Добавить все файлы и папки текущей директории в индекс\n",
    "\n",
    "Добавление файла в список файлов в котором отслеживаются изменения (индексируется)"
   ]
  },
  {
   "cell_type": "markdown",
   "metadata": {},
   "source": [
    "___\n",
    "## <a>git reset</a> \n",
    "- *имя файла* : Убрать конкретный файл из индекса\n",
    "- **.** : Убрать все файлы и папки текущей директории из индекса\n",
    "\n",
    "Убирает файлы из индекса"
   ]
  },
  {
   "cell_type": "markdown",
   "metadata": {},
   "source": [
    "___\n",
    "## <a>git commit</a> \n",
    "- -m : Одновременное комментирование \n",
    "- -amend : Заменяет последний commit\n",
    "\n",
    "Внесение всех файлов из индекса в репозиторий"
   ]
  },
  {
   "cell_type": "markdown",
   "metadata": {},
   "source": [
    "___\n",
    "## <a>git revert</a> *хеш коммита*\n",
    "- --no-edit : \n",
    "\n",
    "Отменяет изменения в определенном коммите, создаёт новый коммит, который аннулирует изменения предыдущего\n",
    "\n",
    "(`:q`  -  выход из режима)"
   ]
  },
  {
   "cell_type": "markdown",
   "metadata": {},
   "source": [
    "___\n",
    "## <a>git checkout</a> *хеш коммита*\n",
    "- -b *название ветки* : Создание ветки перемещение в нее\n",
    "- HEAD ~ *число* : перемещение на *число* commit назад\n",
    "- HEAD ^ *число* : перемещение на *число* commit вперед\n",
    "\n",
    "Перемещение к указанному commit"
   ]
  },
  {
   "cell_type": "markdown",
   "metadata": {},
   "source": [
    "___\n",
    "## <center> <a id='e'>Информация</a>"
   ]
  },
  {
   "cell_type": "markdown",
   "metadata": {},
   "source": [
    "___\n",
    "## <a>git status</a> \n",
    "- -s : Краткая информация о файлах\n",
    "    - `A` : индексированные файлы\n",
    "    - `??` : не индексированные файлы\n",
    "\n",
    "Информация о файлах репозитория\n",
    "\n"
   ]
  },
  {
   "cell_type": "markdown",
   "metadata": {},
   "source": [
    "___\n",
    "## <a>git log</a> \n",
    "\n",
    "Отображение списка commit и их хеши  \n",
    "(q : выход из режима)"
   ]
  },
  {
   "cell_type": "markdown",
   "metadata": {},
   "source": [
    "___\n",
    "## <a>git show</a> *хеш коммита*\n",
    "\n",
    "Вывод информации определенного commit: дата, автор, изменения  \n",
    "(q : выход из режима)\n"
   ]
  },
  {
   "cell_type": "markdown",
   "metadata": {},
   "source": [
    "___\n",
    "## <a>git reflog</a>\n",
    "Отобразит все действия, включая выполненный ранее reset"
   ]
  },
  {
   "cell_type": "markdown",
   "metadata": {},
   "source": [
    "___\n",
    "## <center> <a id='r'>Ветки</a>"
   ]
  },
  {
   "cell_type": "markdown",
   "metadata": {},
   "source": [
    "___\n",
    "## <a>git branch</a> \n",
    "- *название ветки* : Создание новой ветки\n",
    "- -D : Удаление ветки : Удаление ветки\n",
    "- -r : Список веток удаленного репозитория\n",
    "- -a : Список всех веток \n",
    "- -M : переименование ветки\n",
    "\n",
    "Выводит список созданных веток\n",
    "\n"
   ]
  },
  {
   "cell_type": "markdown",
   "metadata": {},
   "source": [
    "___\n",
    "## <a>git checkout</a> *название ветки*\n",
    "Переход в указанную ветку\n",
    "\n",
    "- -b : создание ветки -> переход в эту ветку"
   ]
  },
  {
   "cell_type": "markdown",
   "metadata": {},
   "source": [
    "___\n",
    "## <a>git merge</a> *название ветки*\n",
    "- –-no-ff : Текущая ветка и другая ветка становятся родительскими для последнего коммита другой ветки\n",
    "\n",
    "К текущей ветке добавляется другая ветка\n",
    "\n"
   ]
  },
  {
   "cell_type": "markdown",
   "metadata": {},
   "source": [
    "___\n",
    "## <center> <a id='t'>Файлы</a>"
   ]
  },
  {
   "cell_type": "markdown",
   "metadata": {},
   "source": [
    "___\n",
    "## <a>git rm </a> *название файла*\n",
    "\n",
    "Удаление файла из локального и удаленного репозитория\n",
    "\n",
    "- --cached : Удаление *файла* из репозитория, но не из рабочей папки"
   ]
  },
  {
   "cell_type": "markdown",
   "metadata": {},
   "source": [
    "___\n",
    "## файл<a>.gitignore</a> \n",
    "<img src='data/ignore.png'></img>"
   ]
  },
  {
   "cell_type": "markdown",
   "metadata": {},
   "source": [
    "___\n",
    "## <center> <a id= 'y' style='color:violet'>Удаленный репозиторий</a>\n",
    "___"
   ]
  },
  {
   "cell_type": "markdown",
   "metadata": {},
   "source": [
    "___\n",
    "## <a>git remote add</a> *`название удаленного репозитория`* *ссылка*\n",
    "\n",
    "Подключение к удаленному репозиторию"
   ]
  },
  {
   "cell_type": "markdown",
   "metadata": {},
   "source": [
    "___\n",
    "## <a>git remote remove</a> *`название удаленного репозитория`*\n",
    "\n",
    "Удаление удаленного репозитория"
   ]
  },
  {
   "cell_type": "markdown",
   "metadata": {},
   "source": [
    "___\n",
    "## <a>git push</a> *`название удаленного репозитория`* *название ветки*\n",
    "\n",
    "Отправка изменений из локального в удаленный репозиторий\n",
    "- -u: позволяет в будущем использовать просто git push или git pull без указания удаленного репозитория и ветки."
   ]
  },
  {
   "cell_type": "markdown",
   "metadata": {},
   "source": [
    "___\n",
    "## <a>git fetch</a> *`название репозитория`* \n",
    "\n",
    "Получение списка изменений в удаленном репозитроии"
   ]
  },
  {
   "cell_type": "markdown",
   "metadata": {},
   "source": [
    "___\n",
    "## <a>git merge</a> *`название удаленного репозитория`* / *название локальной ветки*\n",
    "\n",
    "`git fetch` origin  \n",
    "`git merge` origin/master\n",
    "\n",
    "- git merge --abort : отмена слияния веток\n",
    "\n",
    "Слияние веток удаленного репозитория и локального по полученному списку изменений из fetch\n"
   ]
  },
  {
   "cell_type": "markdown",
   "metadata": {},
   "source": [
    "___\n",
    "## <a>git clone</a> *`url удаленного репозитория`*\n",
    "\n",
    "Копирование удаленного репозитория в текущую директорию"
   ]
  },
  {
   "cell_type": "markdown",
   "metadata": {},
   "source": [
    "___\n",
    "## <a>git pull</a> *`название удаленного репозитория`*  *название локальной ветки*\n",
    "\n",
    "Слияние веток удаленного репозитория и локального без применения fetch"
   ]
  }
 ],
 "metadata": {
  "kernelspec": {
   "display_name": "Python 3",
   "language": "python",
   "name": "python3"
  },
  "language_info": {
   "codemirror_mode": {
    "name": "ipython",
    "version": 3
   },
   "file_extension": ".py",
   "mimetype": "text/x-python",
   "name": "python",
   "nbconvert_exporter": "python",
   "pygments_lexer": "ipython3",
   "version": "3.11.1"
  }
 },
 "nbformat": 4,
 "nbformat_minor": 2
}
