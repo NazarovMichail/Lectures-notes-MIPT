{
 "cells": [
  {
   "cell_type": "markdown",
   "metadata": {},
   "source": [
    "# Приложение RabbitMQ"
   ]
  },
  {
   "cell_type": "markdown",
   "metadata": {},
   "source": [
    "## Структура приложения\n",
    "<img src='img/sch.png' width=600>"
   ]
  },
  {
   "cell_type": "markdown",
   "metadata": {},
   "source": [
    "___\n",
    "### Запуск контейнера RabbitMQ"
   ]
  },
  {
   "cell_type": "markdown",
   "metadata": {},
   "source": [
    "-p 5672:5672 — порт для доступа к очереди;\n",
    "\n",
    "-p 15672:`15672` — порт для доступа к пользовательскому интерфейсу RabbitMQ.\n",
    "\n",
    "Логин и пароль: `guest`"
   ]
  },
  {
   "cell_type": "code",
   "execution_count": null,
   "metadata": {
    "vscode": {
     "languageId": "shellscript"
    }
   },
   "outputs": [],
   "source": [
    "docker run -it --rm --name rabbitmq -p 5672:5672 -p 15672:15672 rabbitmq:3-management"
   ]
  },
  {
   "cell_type": "markdown",
   "metadata": {},
   "source": [
    "-  Вход в контейнер RabbitMQ"
   ]
  },
  {
   "cell_type": "code",
   "execution_count": null,
   "metadata": {
    "vscode": {
     "languageId": "shellscript"
    }
   },
   "outputs": [],
   "source": [
    "docker exec -it rabbitmq bash"
   ]
  },
  {
   "cell_type": "markdown",
   "metadata": {},
   "source": [
    "В контейнере:\n",
    "- Вывести 10 последних сообщений в очереди\n",
    "- Очистка очереди"
   ]
  },
  {
   "cell_type": "code",
   "execution_count": null,
   "metadata": {
    "vscode": {
     "languageId": "shellscript"
    }
   },
   "outputs": [],
   "source": [
    "rabbitmqadmin get queue=y_true count=10\n",
    "rabbitmqctl purge_queue y_true"
   ]
  },
  {
   "cell_type": "markdown",
   "metadata": {},
   "source": [
    "### Логика приложения\n",
    "___\n",
    "### Features \n",
    "\n",
    "- Бесконечный цикл -> Данные (Генерация данных)\n",
    "\n",
    "- `BlockingConnection` -> connection -> connection.`channel` -> channel.`queue_declare` (Объявление очереди)\n",
    "- json.dumps -> channel.`basic_publish` (Публикация данных в очередь)\n",
    "- connection.close (Закрытие подключения)"
   ]
  },
  {
   "cell_type": "markdown",
   "metadata": {},
   "source": [
    "### Model\n",
    "- pickle.load -> model (Загрузка обученной модели)\n",
    "\n",
    "- `BlockingConnection` -> connection -> connection.`channel` -> channel.`queue_declare` (Объявление очереди)\n",
    "- def `callback`: json.loads -> json.dumps -> channel.`basic_publish` (Функция обработки полученых данных из очереди)\n",
    "- channel.`basic_consume` -> `callback` (Получение данных из очереди)\n",
    "- channel.`start_consuming` (Режим озидания прихода сообщений)"
   ]
  },
  {
   "cell_type": "markdown",
   "metadata": {},
   "source": [
    "### Metric\n",
    "- `BlockingConnection` -> connection -> connection.`channel` -> channel.`queue_declare` (Объявление очереди)\n",
    "\n",
    "- def `callback`: method.`routing_key` -> json.loads (Вывод названия очереди и данных)\n",
    "- channel.`basic_consume` -> `callback` (Получение данных из очереди)\n",
    "- channel.`start_consuming` (Режим озидания прихода сообщений)"
   ]
  },
  {
   "cell_type": "markdown",
   "metadata": {},
   "source": [
    "### Plot\n",
    "- Загрузка logs/metric_log.csv в DataFrame\n",
    "- Построение и сохранение png-файла гистограммы \n",
    "- `docker-compose`: связь локальной директории и директории контейнера через `volumes`"
   ]
  },
  {
   "cell_type": "markdown",
   "metadata": {},
   "source": [
    "## Docker-compose"
   ]
  },
  {
   "cell_type": "markdown",
   "metadata": {},
   "source": [
    "- Сборка всех контейнеров\n",
    "- Запуск контейнеров (отвязать логи от терминала и запустить сервисы в фоновом режим)\n",
    "- Просмотр логов\n",
    "\n",
    "- Остановка всех контейнеров"
   ]
  },
  {
   "cell_type": "code",
   "execution_count": null,
   "metadata": {
    "vscode": {
     "languageId": "shellscript"
    }
   },
   "outputs": [],
   "source": [
    "docker-compose build\n",
    "docker-compose up -d\n",
    "docker-compose logs -f <ИМЯ СЕРВИСА>\n",
    "\n",
    "docker-compose down"
   ]
  }
 ],
 "metadata": {
  "kernelspec": {
   "display_name": ".venv",
   "language": "python",
   "name": "python3"
  },
  "language_info": {
   "codemirror_mode": {
    "name": "ipython",
    "version": 3
   },
   "file_extension": ".py",
   "mimetype": "text/x-python",
   "name": "python",
   "nbconvert_exporter": "python",
   "pygments_lexer": "ipython3",
   "version": "3.10.12"
  }
 },
 "nbformat": 4,
 "nbformat_minor": 2
}
