{
 "cells": [
  {
   "cell_type": "markdown",
   "metadata": {},
   "source": [
    "<img src='img/ansible-logo.jpg'>\n",
    "\n",
    "Ansible - системама управления конфигурацией (Configuration Management System)."
   ]
  },
  {
   "cell_type": "markdown",
   "metadata": {},
   "source": [
    "___\n",
    "## <center><a id=1>Установка ansible</a>"
   ]
  },
  {
   "cell_type": "code",
   "execution_count": null,
   "metadata": {
    "vscode": {
     "languageId": "shellscript"
    }
   },
   "outputs": [],
   "source": [
    "sudo apt-get update\n",
    "sudo apt-get install software-properties-common\n",
    "sudo apt-add-repository ppa:ansible/ansible\n",
    "sudo apt-get install ansible"
   ]
  },
  {
   "cell_type": "markdown",
   "metadata": {},
   "source": [
    "___\n",
    "## <center><a id=2>Конфигурация ansible</a>"
   ]
  },
  {
   "cell_type": "markdown",
   "metadata": {},
   "source": [
    "- исходные директории ansible"
   ]
  },
  {
   "cell_type": "code",
   "execution_count": null,
   "metadata": {
    "vscode": {
     "languageId": "shellscript"
    }
   },
   "outputs": [],
   "source": [
    "ansible --version"
   ]
  },
  {
   "cell_type": "markdown",
   "metadata": {},
   "source": [
    "- ansible.cfg"
   ]
  },
  {
   "cell_type": "markdown",
   "metadata": {},
   "source": [
    "- `inventory`: директория с группами хостов\n",
    "- `forks`: макс кол-во хостов для запуска задания\n",
    "- `sudo_user`: под каким пользователем буде ansible на хосте\n",
    "- `ask_sudo_pass`: будет ли ansible запрашивать пароль для становления другим пользователем\n",
    "- `ask_pass`: будет ли ansible запрашивать пароль (если не настроена авторизация по ключу)\n",
    "- `gathering`: будет ли ansible собирать факты об удаленном хосте\n",
    "- `roles_path`: директория с заданными ролями для хостов\n",
    "- `host_key_checking`: опция не проверять ключ хоста\n",
    "- `remote_user`: пользователь под которым ansible подключится к хосту и выполнит задание\n"
   ]
  },
  {
   "cell_type": "markdown",
   "metadata": {},
   "source": [
    "- hosts (inventory): написание групп хостов для выполнения задания"
   ]
  },
  {
   "cell_type": "markdown",
   "metadata": {},
   "source": [
    "[название группы хостов]\n",
    "Хост1\n",
    "Хост2\n",
    "..."
   ]
  },
  {
   "cell_type": "markdown",
   "metadata": {},
   "source": [
    "___\n",
    "## <center><a id=2>Playbook</a>"
   ]
  },
  {
   "cell_type": "markdown",
   "metadata": {},
   "source": [
    "1. Вывести объем ОП и кол-во вирт. процессоров хоста\n",
    "\n",
    "-hosts: группа хостов для выполнения задания  \n",
    "gather_facts: собирать факты о машине  \n",
    "tasks: задание\n",
    "- -name: имя задания\n",
    "- become: использование sudo для выполнения команд\n",
    "- template: шаблон для выполнения\n",
    "    - src: расположение шаблона\n",
    "    - dest: файл назначений\n"
   ]
  },
  {
   "cell_type": "code",
   "execution_count": null,
   "metadata": {
    "vscode": {
     "languageId": "yaml"
    }
   },
   "outputs": [],
   "source": [
    "---\n",
    "- hosts: test\n",
    "  gather_facts: yes\n",
    "  tasks:\n",
    "    - name: edit motd file\n",
    "      become: true\n",
    "      template:\n",
    "        src: /etc/ansible/playbooks/templates/motd.j2\n",
    "        dest: /etc/motd"
   ]
  },
  {
   "cell_type": "markdown",
   "metadata": {},
   "source": [
    "motd.j2: Шаблон\n",
    "- {{переменная ansible, которая собирает данные о системе}}\n",
    "    - {Объем ОП}\n",
    "    - {Кол-во вирт. процессоров}"
   ]
  },
  {
   "cell_type": "code",
   "execution_count": null,
   "metadata": {
    "vscode": {
     "languageId": "yaml"
    }
   },
   "outputs": [],
   "source": [
    "There is {{ansible_facts.facter_memory.system.total}} memory total\n",
    "and {{ansible_facts.processor_vcpus}} vCPU(s)"
   ]
  },
  {
   "cell_type": "markdown",
   "metadata": {},
   "source": [
    "2. Выдать ошибку, если используется python версии 2"
   ]
  },
  {
   "cell_type": "code",
   "execution_count": null,
   "metadata": {
    "vscode": {
     "languageId": "yaml"
    }
   },
   "outputs": [],
   "source": [
    "---\n",
    "- hosts: test\n",
    "  gather_facts: yes\n",
    "  tasks:\n",
    "    - name: create warning in file\n",
    "      become: true\n",
    "      template:\n",
    "        src: /etc/ansible/playbooks/templates/warn.j2\n",
    "        dest: /tmp/warn_py"
   ]
  },
  {
   "cell_type": "markdown",
   "metadata": {},
   "source": [
    "warn.j2: Шаблон  \n",
    "\n",
    "- {если python версии 2}  \n",
    "    - Сообщение об ошибке  \n",
    "    - {или пустой файл}  "
   ]
  },
  {
   "cell_type": "code",
   "execution_count": null,
   "metadata": {
    "vscode": {
     "languageId": "yaml"
    }
   },
   "outputs": [],
   "source": [
    "{% if ansible_facts.python.version.major == 2 %}\n",
    "Warning: using depricated python version 2!\n",
    "{% endif %}"
   ]
  },
  {
   "cell_type": "markdown",
   "metadata": {},
   "source": [
    "3. Развернуть httpd-сервер со входом по логуину и паролю "
   ]
  },
  {
   "cell_type": "code",
   "execution_count": null,
   "metadata": {
    "vscode": {
     "languageId": "yaml"
    }
   },
   "outputs": [],
   "source": [
    "---\n",
    "- hosts: test\n",
    "  gather_facts: no\n",
    "  tasks:\n",
    "  - name: install httpd\n",
    "    become: true\n",
    "    apt:\n",
    "       name: httpd\n",
    "       state: install\n",
    "  - name: remove conf.d directory\n",
    "    become: true\n",
    "    file:\n",
    "        path: /etc/httpd/conf.d\n",
    "        state: absent\n",
    "  - name: create conf.d\n",
    "    become: true\n",
    "    file:\n",
    "        path: /etc/httpd/conf.d\n",
    "        state: directory\n",
    "  - name: add new virt host config\n",
    "    become: true\n",
    "    copy:\n",
    "        src: /etc/ansible/playbooks/files/vhost.conf\n",
    "        dest: /etc/httpd/conf.d/host1.conf\n",
    "        remote_src: yes\n",
    "    notify: restart_httpd\n",
    "  - name: create htpasswd\n",
    "    become: true\n",
    "    command: 'htpasswd -b -c /etc/httpd/.htpasswd user1 q1w2e3'\n",
    "  - name: create content\n",
    "    become: true\n",
    "    copy:\n",
    "        src: /etc/ansible/playbooks/files/content.html\n",
    "        dest: /var/www/html/index.html\n",
    "        remote_src: yes\n",
    "  handlers:\n",
    "  - name: restart httpd\n",
    "    become: true\n",
    "    listen: restart_httpd\n",
    "    service:\n",
    "      name: httpd\n",
    "      state: restarted"
   ]
  },
  {
   "cell_type": "markdown",
   "metadata": {},
   "source": [
    "Проверка синтаксиса playbook"
   ]
  },
  {
   "cell_type": "code",
   "execution_count": null,
   "metadata": {
    "vscode": {
     "languageId": "shellscript"
    }
   },
   "outputs": [],
   "source": [
    "ansible-playbook --syntax-check <файл >"
   ]
  },
  {
   "cell_type": "markdown",
   "metadata": {},
   "source": [
    "___\n",
    "## <center><a id=3>Шифрование данных</a>"
   ]
  },
  {
   "cell_type": "markdown",
   "metadata": {},
   "source": [
    "Зашифровка и создание файла с секретным содержимым"
   ]
  },
  {
   "cell_type": "code",
   "execution_count": null,
   "metadata": {
    "vscode": {
     "languageId": "shellscript"
    }
   },
   "outputs": [],
   "source": [
    "ansible-vault create <файл>"
   ]
  },
  {
   "cell_type": "markdown",
   "metadata": {},
   "source": [
    "Зашифровка  файла с секретным содержимым\n"
   ]
  },
  {
   "cell_type": "code",
   "execution_count": null,
   "metadata": {
    "vscode": {
     "languageId": "shellscript"
    }
   },
   "outputs": [],
   "source": [
    "ansible-vault encrypt <файл>"
   ]
  },
  {
   "cell_type": "markdown",
   "metadata": {},
   "source": [
    "Вывод содержимого файла"
   ]
  },
  {
   "cell_type": "code",
   "execution_count": null,
   "metadata": {
    "vscode": {
     "languageId": "shellscript"
    }
   },
   "outputs": [],
   "source": [
    "ansible-vault view <файл>"
   ]
  },
  {
   "cell_type": "markdown",
   "metadata": {},
   "source": [
    "Расшифровка файла с секретным содержимым"
   ]
  },
  {
   "cell_type": "code",
   "execution_count": null,
   "metadata": {
    "vscode": {
     "languageId": "shellscript"
    }
   },
   "outputs": [],
   "source": [
    "ansible-vault decrypt  <файл>"
   ]
  },
  {
   "cell_type": "markdown",
   "metadata": {},
   "source": []
  },
  {
   "cell_type": "code",
   "execution_count": null,
   "metadata": {
    "vscode": {
     "languageId": "shellscript"
    }
   },
   "outputs": [],
   "source": [
    "ansible-vault create --vault-password-file <файл с паролем > <файл >"
   ]
  }
 ],
 "metadata": {
  "kernelspec": {
   "display_name": "Python 3",
   "language": "python",
   "name": "python3"
  },
  "language_info": {
   "codemirror_mode": {
    "name": "ipython",
    "version": 3
   },
   "file_extension": ".py",
   "mimetype": "text/x-python",
   "name": "python",
   "nbconvert_exporter": "python",
   "pygments_lexer": "ipython3",
   "version": "3.12.3"
  }
 },
 "nbformat": 4,
 "nbformat_minor": 2
}
